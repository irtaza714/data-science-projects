{
  "nbformat": 4,
  "nbformat_minor": 0,
  "metadata": {
    "colab": {
      "provenance": [],
      "gpuType": "T4"
    },
    "kernelspec": {
      "name": "python3",
      "display_name": "Python 3"
    },
    "language_info": {
      "name": "python"
    },
    "accelerator": "GPU"
  },
  "cells": [
    {
      "cell_type": "markdown",
      "source": [
        "**Importing necessary libraries**"
      ],
      "metadata": {
        "id": "rA60YLsSmEtg"
      }
    },
    {
      "cell_type": "code",
      "execution_count": 41,
      "metadata": {
        "id": "DPGXtc2vgKJk"
      },
      "outputs": [],
      "source": [
        "!pip install -q catboost\n",
        "from sklearn.ensemble import RandomForestRegressor\n",
        "from sklearn.linear_model import LinearRegression\n",
        "from catboost import CatBoostRegressor\n",
        "from sklearn.ensemble import AdaBoostRegressor, GradientBoostingRegressor, RandomForestRegressor\n",
        "from sklearn.tree import DecisionTreeRegressor\n",
        "from xgboost import XGBRegressor\n",
        "from sklearn.metrics import r2_score, mean_squared_error, mean_absolute_error\n",
        "import numpy as np\n",
        "import pandas as pd\n",
        "from sklearn.model_selection import train_test_split\n",
        "import seaborn as sns\n",
        "import matplotlib.pyplot as plt\n",
        "import warnings\n",
        "warnings.filterwarnings('ignore')"
      ]
    },
    {
      "cell_type": "markdown",
      "source": [
        "**Reading the dataset**"
      ],
      "metadata": {
        "id": "351Q3krHmJPW"
      }
    },
    {
      "cell_type": "code",
      "source": [
        "df = pd.read_csv ('/content/drive/MyDrive/projects/games dataset.csv', encoding ='latin1')\n",
        "df.head(3)"
      ],
      "metadata": {
        "id": "BcMI-gcfgQAc",
        "colab": {
          "base_uri": "https://localhost:8080/",
          "height": 215
        },
        "outputId": "18c7b4cf-5e07-4b33-862f-8929f3c8c54f"
      },
      "execution_count": 42,
      "outputs": [
        {
          "output_type": "execute_result",
          "data": {
            "text/plain": [
              "   game_id   nickname  total_turns  first_five_turns_points  max_points_turn  \\\n",
              "0        1  BetterBot           13                      122               68   \n",
              "1        1      stevy           14                       95               98   \n",
              "2        2  BetterBot           12                      167               85   \n",
              "\n",
              "   min_points_turn  max_min_difference      first time_control_name  \\\n",
              "0                8                  60  BetterBot           regular   \n",
              "1                2                  96  BetterBot           regular   \n",
              "2                8                  77      Super           regular   \n",
              "\n",
              "  game_end_reason  winner           created_at lexicon  initial_time_seconds  \\\n",
              "0        STANDARD       1  2022-08-26 03:38:49   NWL20                  1200   \n",
              "1        STANDARD       1  2022-08-26 03:38:49   NWL20                  1200   \n",
              "2        STANDARD       1  2022-08-10 19:19:59   CSW21                  3600   \n",
              "\n",
              "   increment_seconds rating_mode  max_overtime_minutes  game_duration_seconds  \\\n",
              "0                  0      CASUAL                     1             674.844274   \n",
              "1                  0      CASUAL                     1             674.844274   \n",
              "2                  0       RATED                     1             364.214418   \n",
              "\n",
              "   time_used  \n",
              "0   0.562370  \n",
              "1   0.562370  \n",
              "2   0.101171  "
            ],
            "text/html": [
              "\n",
              "  <div id=\"df-9298aeea-26fe-4e50-9e9e-b1013e0abf88\" class=\"colab-df-container\">\n",
              "    <div>\n",
              "<style scoped>\n",
              "    .dataframe tbody tr th:only-of-type {\n",
              "        vertical-align: middle;\n",
              "    }\n",
              "\n",
              "    .dataframe tbody tr th {\n",
              "        vertical-align: top;\n",
              "    }\n",
              "\n",
              "    .dataframe thead th {\n",
              "        text-align: right;\n",
              "    }\n",
              "</style>\n",
              "<table border=\"1\" class=\"dataframe\">\n",
              "  <thead>\n",
              "    <tr style=\"text-align: right;\">\n",
              "      <th></th>\n",
              "      <th>game_id</th>\n",
              "      <th>nickname</th>\n",
              "      <th>total_turns</th>\n",
              "      <th>first_five_turns_points</th>\n",
              "      <th>max_points_turn</th>\n",
              "      <th>min_points_turn</th>\n",
              "      <th>max_min_difference</th>\n",
              "      <th>first</th>\n",
              "      <th>time_control_name</th>\n",
              "      <th>game_end_reason</th>\n",
              "      <th>winner</th>\n",
              "      <th>created_at</th>\n",
              "      <th>lexicon</th>\n",
              "      <th>initial_time_seconds</th>\n",
              "      <th>increment_seconds</th>\n",
              "      <th>rating_mode</th>\n",
              "      <th>max_overtime_minutes</th>\n",
              "      <th>game_duration_seconds</th>\n",
              "      <th>time_used</th>\n",
              "    </tr>\n",
              "  </thead>\n",
              "  <tbody>\n",
              "    <tr>\n",
              "      <th>0</th>\n",
              "      <td>1</td>\n",
              "      <td>BetterBot</td>\n",
              "      <td>13</td>\n",
              "      <td>122</td>\n",
              "      <td>68</td>\n",
              "      <td>8</td>\n",
              "      <td>60</td>\n",
              "      <td>BetterBot</td>\n",
              "      <td>regular</td>\n",
              "      <td>STANDARD</td>\n",
              "      <td>1</td>\n",
              "      <td>2022-08-26 03:38:49</td>\n",
              "      <td>NWL20</td>\n",
              "      <td>1200</td>\n",
              "      <td>0</td>\n",
              "      <td>CASUAL</td>\n",
              "      <td>1</td>\n",
              "      <td>674.844274</td>\n",
              "      <td>0.562370</td>\n",
              "    </tr>\n",
              "    <tr>\n",
              "      <th>1</th>\n",
              "      <td>1</td>\n",
              "      <td>stevy</td>\n",
              "      <td>14</td>\n",
              "      <td>95</td>\n",
              "      <td>98</td>\n",
              "      <td>2</td>\n",
              "      <td>96</td>\n",
              "      <td>BetterBot</td>\n",
              "      <td>regular</td>\n",
              "      <td>STANDARD</td>\n",
              "      <td>1</td>\n",
              "      <td>2022-08-26 03:38:49</td>\n",
              "      <td>NWL20</td>\n",
              "      <td>1200</td>\n",
              "      <td>0</td>\n",
              "      <td>CASUAL</td>\n",
              "      <td>1</td>\n",
              "      <td>674.844274</td>\n",
              "      <td>0.562370</td>\n",
              "    </tr>\n",
              "    <tr>\n",
              "      <th>2</th>\n",
              "      <td>2</td>\n",
              "      <td>BetterBot</td>\n",
              "      <td>12</td>\n",
              "      <td>167</td>\n",
              "      <td>85</td>\n",
              "      <td>8</td>\n",
              "      <td>77</td>\n",
              "      <td>Super</td>\n",
              "      <td>regular</td>\n",
              "      <td>STANDARD</td>\n",
              "      <td>1</td>\n",
              "      <td>2022-08-10 19:19:59</td>\n",
              "      <td>CSW21</td>\n",
              "      <td>3600</td>\n",
              "      <td>0</td>\n",
              "      <td>RATED</td>\n",
              "      <td>1</td>\n",
              "      <td>364.214418</td>\n",
              "      <td>0.101171</td>\n",
              "    </tr>\n",
              "  </tbody>\n",
              "</table>\n",
              "</div>\n",
              "    <div class=\"colab-df-buttons\">\n",
              "\n",
              "  <div class=\"colab-df-container\">\n",
              "    <button class=\"colab-df-convert\" onclick=\"convertToInteractive('df-9298aeea-26fe-4e50-9e9e-b1013e0abf88')\"\n",
              "            title=\"Convert this dataframe to an interactive table.\"\n",
              "            style=\"display:none;\">\n",
              "\n",
              "  <svg xmlns=\"http://www.w3.org/2000/svg\" height=\"24px\" viewBox=\"0 -960 960 960\">\n",
              "    <path d=\"M120-120v-720h720v720H120Zm60-500h600v-160H180v160Zm220 220h160v-160H400v160Zm0 220h160v-160H400v160ZM180-400h160v-160H180v160Zm440 0h160v-160H620v160ZM180-180h160v-160H180v160Zm440 0h160v-160H620v160Z\"/>\n",
              "  </svg>\n",
              "    </button>\n",
              "\n",
              "  <style>\n",
              "    .colab-df-container {\n",
              "      display:flex;\n",
              "      gap: 12px;\n",
              "    }\n",
              "\n",
              "    .colab-df-convert {\n",
              "      background-color: #E8F0FE;\n",
              "      border: none;\n",
              "      border-radius: 50%;\n",
              "      cursor: pointer;\n",
              "      display: none;\n",
              "      fill: #1967D2;\n",
              "      height: 32px;\n",
              "      padding: 0 0 0 0;\n",
              "      width: 32px;\n",
              "    }\n",
              "\n",
              "    .colab-df-convert:hover {\n",
              "      background-color: #E2EBFA;\n",
              "      box-shadow: 0px 1px 2px rgba(60, 64, 67, 0.3), 0px 1px 3px 1px rgba(60, 64, 67, 0.15);\n",
              "      fill: #174EA6;\n",
              "    }\n",
              "\n",
              "    .colab-df-buttons div {\n",
              "      margin-bottom: 4px;\n",
              "    }\n",
              "\n",
              "    [theme=dark] .colab-df-convert {\n",
              "      background-color: #3B4455;\n",
              "      fill: #D2E3FC;\n",
              "    }\n",
              "\n",
              "    [theme=dark] .colab-df-convert:hover {\n",
              "      background-color: #434B5C;\n",
              "      box-shadow: 0px 1px 3px 1px rgba(0, 0, 0, 0.15);\n",
              "      filter: drop-shadow(0px 1px 2px rgba(0, 0, 0, 0.3));\n",
              "      fill: #FFFFFF;\n",
              "    }\n",
              "  </style>\n",
              "\n",
              "    <script>\n",
              "      const buttonEl =\n",
              "        document.querySelector('#df-9298aeea-26fe-4e50-9e9e-b1013e0abf88 button.colab-df-convert');\n",
              "      buttonEl.style.display =\n",
              "        google.colab.kernel.accessAllowed ? 'block' : 'none';\n",
              "\n",
              "      async function convertToInteractive(key) {\n",
              "        const element = document.querySelector('#df-9298aeea-26fe-4e50-9e9e-b1013e0abf88');\n",
              "        const dataTable =\n",
              "          await google.colab.kernel.invokeFunction('convertToInteractive',\n",
              "                                                    [key], {});\n",
              "        if (!dataTable) return;\n",
              "\n",
              "        const docLinkHtml = 'Like what you see? Visit the ' +\n",
              "          '<a target=\"_blank\" href=https://colab.research.google.com/notebooks/data_table.ipynb>data table notebook</a>'\n",
              "          + ' to learn more about interactive tables.';\n",
              "        element.innerHTML = '';\n",
              "        dataTable['output_type'] = 'display_data';\n",
              "        await google.colab.output.renderOutput(dataTable, element);\n",
              "        const docLink = document.createElement('div');\n",
              "        docLink.innerHTML = docLinkHtml;\n",
              "        element.appendChild(docLink);\n",
              "      }\n",
              "    </script>\n",
              "  </div>\n",
              "\n",
              "\n",
              "<div id=\"df-78430f00-17df-4dde-8d97-7e71b1d6e17a\">\n",
              "  <button class=\"colab-df-quickchart\" onclick=\"quickchart('df-78430f00-17df-4dde-8d97-7e71b1d6e17a')\"\n",
              "            title=\"Suggest charts\"\n",
              "            style=\"display:none;\">\n",
              "\n",
              "<svg xmlns=\"http://www.w3.org/2000/svg\" height=\"24px\"viewBox=\"0 0 24 24\"\n",
              "     width=\"24px\">\n",
              "    <g>\n",
              "        <path d=\"M19 3H5c-1.1 0-2 .9-2 2v14c0 1.1.9 2 2 2h14c1.1 0 2-.9 2-2V5c0-1.1-.9-2-2-2zM9 17H7v-7h2v7zm4 0h-2V7h2v10zm4 0h-2v-4h2v4z\"/>\n",
              "    </g>\n",
              "</svg>\n",
              "  </button>\n",
              "\n",
              "<style>\n",
              "  .colab-df-quickchart {\n",
              "      --bg-color: #E8F0FE;\n",
              "      --fill-color: #1967D2;\n",
              "      --hover-bg-color: #E2EBFA;\n",
              "      --hover-fill-color: #174EA6;\n",
              "      --disabled-fill-color: #AAA;\n",
              "      --disabled-bg-color: #DDD;\n",
              "  }\n",
              "\n",
              "  [theme=dark] .colab-df-quickchart {\n",
              "      --bg-color: #3B4455;\n",
              "      --fill-color: #D2E3FC;\n",
              "      --hover-bg-color: #434B5C;\n",
              "      --hover-fill-color: #FFFFFF;\n",
              "      --disabled-bg-color: #3B4455;\n",
              "      --disabled-fill-color: #666;\n",
              "  }\n",
              "\n",
              "  .colab-df-quickchart {\n",
              "    background-color: var(--bg-color);\n",
              "    border: none;\n",
              "    border-radius: 50%;\n",
              "    cursor: pointer;\n",
              "    display: none;\n",
              "    fill: var(--fill-color);\n",
              "    height: 32px;\n",
              "    padding: 0;\n",
              "    width: 32px;\n",
              "  }\n",
              "\n",
              "  .colab-df-quickchart:hover {\n",
              "    background-color: var(--hover-bg-color);\n",
              "    box-shadow: 0 1px 2px rgba(60, 64, 67, 0.3), 0 1px 3px 1px rgba(60, 64, 67, 0.15);\n",
              "    fill: var(--button-hover-fill-color);\n",
              "  }\n",
              "\n",
              "  .colab-df-quickchart-complete:disabled,\n",
              "  .colab-df-quickchart-complete:disabled:hover {\n",
              "    background-color: var(--disabled-bg-color);\n",
              "    fill: var(--disabled-fill-color);\n",
              "    box-shadow: none;\n",
              "  }\n",
              "\n",
              "  .colab-df-spinner {\n",
              "    border: 2px solid var(--fill-color);\n",
              "    border-color: transparent;\n",
              "    border-bottom-color: var(--fill-color);\n",
              "    animation:\n",
              "      spin 1s steps(1) infinite;\n",
              "  }\n",
              "\n",
              "  @keyframes spin {\n",
              "    0% {\n",
              "      border-color: transparent;\n",
              "      border-bottom-color: var(--fill-color);\n",
              "      border-left-color: var(--fill-color);\n",
              "    }\n",
              "    20% {\n",
              "      border-color: transparent;\n",
              "      border-left-color: var(--fill-color);\n",
              "      border-top-color: var(--fill-color);\n",
              "    }\n",
              "    30% {\n",
              "      border-color: transparent;\n",
              "      border-left-color: var(--fill-color);\n",
              "      border-top-color: var(--fill-color);\n",
              "      border-right-color: var(--fill-color);\n",
              "    }\n",
              "    40% {\n",
              "      border-color: transparent;\n",
              "      border-right-color: var(--fill-color);\n",
              "      border-top-color: var(--fill-color);\n",
              "    }\n",
              "    60% {\n",
              "      border-color: transparent;\n",
              "      border-right-color: var(--fill-color);\n",
              "    }\n",
              "    80% {\n",
              "      border-color: transparent;\n",
              "      border-right-color: var(--fill-color);\n",
              "      border-bottom-color: var(--fill-color);\n",
              "    }\n",
              "    90% {\n",
              "      border-color: transparent;\n",
              "      border-bottom-color: var(--fill-color);\n",
              "    }\n",
              "  }\n",
              "</style>\n",
              "\n",
              "  <script>\n",
              "    async function quickchart(key) {\n",
              "      const quickchartButtonEl =\n",
              "        document.querySelector('#' + key + ' button');\n",
              "      quickchartButtonEl.disabled = true;  // To prevent multiple clicks.\n",
              "      quickchartButtonEl.classList.add('colab-df-spinner');\n",
              "      try {\n",
              "        const charts = await google.colab.kernel.invokeFunction(\n",
              "            'suggestCharts', [key], {});\n",
              "      } catch (error) {\n",
              "        console.error('Error during call to suggestCharts:', error);\n",
              "      }\n",
              "      quickchartButtonEl.classList.remove('colab-df-spinner');\n",
              "      quickchartButtonEl.classList.add('colab-df-quickchart-complete');\n",
              "    }\n",
              "    (() => {\n",
              "      let quickchartButtonEl =\n",
              "        document.querySelector('#df-78430f00-17df-4dde-8d97-7e71b1d6e17a button');\n",
              "      quickchartButtonEl.style.display =\n",
              "        google.colab.kernel.accessAllowed ? 'block' : 'none';\n",
              "    })();\n",
              "  </script>\n",
              "</div>\n",
              "    </div>\n",
              "  </div>\n"
            ]
          },
          "metadata": {},
          "execution_count": 42
        }
      ]
    },
    {
      "cell_type": "markdown",
      "source": [
        "**Checking the data types of columns**"
      ],
      "metadata": {
        "id": "13K7aQCdmRij"
      }
    },
    {
      "cell_type": "code",
      "source": [
        "df.dtypes"
      ],
      "metadata": {
        "colab": {
          "base_uri": "https://localhost:8080/"
        },
        "id": "LHb1zAwqH231",
        "outputId": "577b394e-b837-408b-c3ee-5933e1ae8c49"
      },
      "execution_count": 43,
      "outputs": [
        {
          "output_type": "execute_result",
          "data": {
            "text/plain": [
              "game_id                      int64\n",
              "nickname                    object\n",
              "total_turns                  int64\n",
              "first_five_turns_points      int64\n",
              "max_points_turn              int64\n",
              "min_points_turn              int64\n",
              "max_min_difference           int64\n",
              "first                       object\n",
              "time_control_name           object\n",
              "game_end_reason             object\n",
              "winner                       int64\n",
              "created_at                  object\n",
              "lexicon                     object\n",
              "initial_time_seconds         int64\n",
              "increment_seconds            int64\n",
              "rating_mode                 object\n",
              "max_overtime_minutes         int64\n",
              "game_duration_seconds      float64\n",
              "time_used                  float64\n",
              "dtype: object"
            ]
          },
          "metadata": {},
          "execution_count": 43
        }
      ]
    },
    {
      "cell_type": "markdown",
      "source": [
        "**Checking shape of the dataset**"
      ],
      "metadata": {
        "id": "fLxqKP49iD77"
      }
    },
    {
      "cell_type": "code",
      "source": [
        "df.shape"
      ],
      "metadata": {
        "colab": {
          "base_uri": "https://localhost:8080/"
        },
        "id": "NbtsU32MKBeq",
        "outputId": "66ff6f07-74dd-42ec-bacb-d2c5a261d799"
      },
      "execution_count": 44,
      "outputs": [
        {
          "output_type": "execute_result",
          "data": {
            "text/plain": [
              "(145546, 19)"
            ]
          },
          "metadata": {},
          "execution_count": 44
        }
      ]
    },
    {
      "cell_type": "markdown",
      "source": [
        "**Looking for missing values**"
      ],
      "metadata": {
        "id": "4ZjODZriiIV6"
      }
    },
    {
      "cell_type": "code",
      "source": [
        "df.isnull().sum()"
      ],
      "metadata": {
        "colab": {
          "base_uri": "https://localhost:8080/"
        },
        "id": "4NGvsDI-KDSA",
        "outputId": "99de9087-c859-4063-9468-128c8f1601e8"
      },
      "execution_count": 45,
      "outputs": [
        {
          "output_type": "execute_result",
          "data": {
            "text/plain": [
              "game_id                    0\n",
              "nickname                   0\n",
              "total_turns                0\n",
              "first_five_turns_points    0\n",
              "max_points_turn            0\n",
              "min_points_turn            0\n",
              "max_min_difference         0\n",
              "first                      0\n",
              "time_control_name          0\n",
              "game_end_reason            0\n",
              "winner                     0\n",
              "created_at                 0\n",
              "lexicon                    0\n",
              "initial_time_seconds       0\n",
              "increment_seconds          0\n",
              "rating_mode                0\n",
              "max_overtime_minutes       0\n",
              "game_duration_seconds      0\n",
              "time_used                  0\n",
              "dtype: int64"
            ]
          },
          "metadata": {},
          "execution_count": 45
        }
      ]
    },
    {
      "cell_type": "markdown",
      "source": [
        "**Checking for and removing duplicates**"
      ],
      "metadata": {
        "id": "6Jw7MqpCiM2k"
      }
    },
    {
      "cell_type": "code",
      "source": [
        "print (df.shape)\n",
        "df = df.drop_duplicates()\n",
        "print (df.shape)"
      ],
      "metadata": {
        "id": "CHxaZtcJKHlU",
        "colab": {
          "base_uri": "https://localhost:8080/"
        },
        "outputId": "efe866ad-cd0f-4196-ad54-405ecd780ac3"
      },
      "execution_count": 46,
      "outputs": [
        {
          "output_type": "stream",
          "name": "stdout",
          "text": [
            "(145546, 19)\n",
            "(145546, 19)\n"
          ]
        }
      ]
    },
    {
      "cell_type": "markdown",
      "source": [
        "**There are no duplicates**"
      ],
      "metadata": {
        "id": "VHrtb9N6mk_v"
      }
    },
    {
      "cell_type": "markdown",
      "source": [
        "**Statistical distribution of numerical columns**"
      ],
      "metadata": {
        "id": "RgpqlzU_iVB4"
      }
    },
    {
      "cell_type": "code",
      "source": [
        "df.describe()"
      ],
      "metadata": {
        "colab": {
          "base_uri": "https://localhost:8080/",
          "height": 320
        },
        "id": "qeFe8KcSiZ5B",
        "outputId": "af66eb12-3c80-4708-ec18-e3f29b556cd9"
      },
      "execution_count": 47,
      "outputs": [
        {
          "output_type": "execute_result",
          "data": {
            "text/plain": [
              "             game_id    total_turns  first_five_turns_points  max_points_turn  \\\n",
              "count  145546.000000  145546.000000            145546.000000    145546.000000   \n",
              "mean    36387.000000      13.779135               126.507997        76.016984   \n",
              "std     21007.827737       2.068726                51.864258        18.731645   \n",
              "min         1.000000       9.000000              -120.000000         0.000000   \n",
              "25%     18194.000000      12.000000                89.000000        69.000000   \n",
              "50%     36387.000000      14.000000               122.000000        77.000000   \n",
              "75%     54580.000000      15.000000               159.000000        85.000000   \n",
              "max     72773.000000      50.000000               457.000000       311.000000   \n",
              "\n",
              "       min_points_turn  max_min_difference         winner  \\\n",
              "count    145546.000000       145546.000000  145546.000000   \n",
              "mean          3.101267           72.915717       0.350734   \n",
              "std          15.217119           24.123108       0.484857   \n",
              "min        -221.000000            0.000000      -1.000000   \n",
              "25%           0.000000           62.000000       0.000000   \n",
              "50%           5.000000           71.000000       0.000000   \n",
              "75%          10.000000           81.000000       1.000000   \n",
              "max          43.000000          442.000000       1.000000   \n",
              "\n",
              "       initial_time_seconds  increment_seconds  max_overtime_minutes  \\\n",
              "count         145546.000000      145546.000000         145546.000000   \n",
              "mean            1198.034230           0.228560              2.143707   \n",
              "std              713.182769           2.548011              2.989843   \n",
              "min               15.000000           0.000000              0.000000   \n",
              "25%              900.000000           0.000000              1.000000   \n",
              "50%             1200.000000           0.000000              1.000000   \n",
              "75%             1200.000000           0.000000              1.000000   \n",
              "max             3600.000000          60.000000             10.000000   \n",
              "\n",
              "       game_duration_seconds      time_used  \n",
              "count          145546.000000  145546.000000  \n",
              "mean              484.069347       0.479757  \n",
              "std               333.561982       0.326046  \n",
              "min                 7.962989       0.002212  \n",
              "25%               250.172459       0.255399  \n",
              "50%               399.834150       0.392396  \n",
              "75%               633.424285       0.620039  \n",
              "max              4444.821645       6.156379  "
            ],
            "text/html": [
              "\n",
              "  <div id=\"df-8b20ed4b-0fb1-49f5-9fb1-b0eefb43406a\" class=\"colab-df-container\">\n",
              "    <div>\n",
              "<style scoped>\n",
              "    .dataframe tbody tr th:only-of-type {\n",
              "        vertical-align: middle;\n",
              "    }\n",
              "\n",
              "    .dataframe tbody tr th {\n",
              "        vertical-align: top;\n",
              "    }\n",
              "\n",
              "    .dataframe thead th {\n",
              "        text-align: right;\n",
              "    }\n",
              "</style>\n",
              "<table border=\"1\" class=\"dataframe\">\n",
              "  <thead>\n",
              "    <tr style=\"text-align: right;\">\n",
              "      <th></th>\n",
              "      <th>game_id</th>\n",
              "      <th>total_turns</th>\n",
              "      <th>first_five_turns_points</th>\n",
              "      <th>max_points_turn</th>\n",
              "      <th>min_points_turn</th>\n",
              "      <th>max_min_difference</th>\n",
              "      <th>winner</th>\n",
              "      <th>initial_time_seconds</th>\n",
              "      <th>increment_seconds</th>\n",
              "      <th>max_overtime_minutes</th>\n",
              "      <th>game_duration_seconds</th>\n",
              "      <th>time_used</th>\n",
              "    </tr>\n",
              "  </thead>\n",
              "  <tbody>\n",
              "    <tr>\n",
              "      <th>count</th>\n",
              "      <td>145546.000000</td>\n",
              "      <td>145546.000000</td>\n",
              "      <td>145546.000000</td>\n",
              "      <td>145546.000000</td>\n",
              "      <td>145546.000000</td>\n",
              "      <td>145546.000000</td>\n",
              "      <td>145546.000000</td>\n",
              "      <td>145546.000000</td>\n",
              "      <td>145546.000000</td>\n",
              "      <td>145546.000000</td>\n",
              "      <td>145546.000000</td>\n",
              "      <td>145546.000000</td>\n",
              "    </tr>\n",
              "    <tr>\n",
              "      <th>mean</th>\n",
              "      <td>36387.000000</td>\n",
              "      <td>13.779135</td>\n",
              "      <td>126.507997</td>\n",
              "      <td>76.016984</td>\n",
              "      <td>3.101267</td>\n",
              "      <td>72.915717</td>\n",
              "      <td>0.350734</td>\n",
              "      <td>1198.034230</td>\n",
              "      <td>0.228560</td>\n",
              "      <td>2.143707</td>\n",
              "      <td>484.069347</td>\n",
              "      <td>0.479757</td>\n",
              "    </tr>\n",
              "    <tr>\n",
              "      <th>std</th>\n",
              "      <td>21007.827737</td>\n",
              "      <td>2.068726</td>\n",
              "      <td>51.864258</td>\n",
              "      <td>18.731645</td>\n",
              "      <td>15.217119</td>\n",
              "      <td>24.123108</td>\n",
              "      <td>0.484857</td>\n",
              "      <td>713.182769</td>\n",
              "      <td>2.548011</td>\n",
              "      <td>2.989843</td>\n",
              "      <td>333.561982</td>\n",
              "      <td>0.326046</td>\n",
              "    </tr>\n",
              "    <tr>\n",
              "      <th>min</th>\n",
              "      <td>1.000000</td>\n",
              "      <td>9.000000</td>\n",
              "      <td>-120.000000</td>\n",
              "      <td>0.000000</td>\n",
              "      <td>-221.000000</td>\n",
              "      <td>0.000000</td>\n",
              "      <td>-1.000000</td>\n",
              "      <td>15.000000</td>\n",
              "      <td>0.000000</td>\n",
              "      <td>0.000000</td>\n",
              "      <td>7.962989</td>\n",
              "      <td>0.002212</td>\n",
              "    </tr>\n",
              "    <tr>\n",
              "      <th>25%</th>\n",
              "      <td>18194.000000</td>\n",
              "      <td>12.000000</td>\n",
              "      <td>89.000000</td>\n",
              "      <td>69.000000</td>\n",
              "      <td>0.000000</td>\n",
              "      <td>62.000000</td>\n",
              "      <td>0.000000</td>\n",
              "      <td>900.000000</td>\n",
              "      <td>0.000000</td>\n",
              "      <td>1.000000</td>\n",
              "      <td>250.172459</td>\n",
              "      <td>0.255399</td>\n",
              "    </tr>\n",
              "    <tr>\n",
              "      <th>50%</th>\n",
              "      <td>36387.000000</td>\n",
              "      <td>14.000000</td>\n",
              "      <td>122.000000</td>\n",
              "      <td>77.000000</td>\n",
              "      <td>5.000000</td>\n",
              "      <td>71.000000</td>\n",
              "      <td>0.000000</td>\n",
              "      <td>1200.000000</td>\n",
              "      <td>0.000000</td>\n",
              "      <td>1.000000</td>\n",
              "      <td>399.834150</td>\n",
              "      <td>0.392396</td>\n",
              "    </tr>\n",
              "    <tr>\n",
              "      <th>75%</th>\n",
              "      <td>54580.000000</td>\n",
              "      <td>15.000000</td>\n",
              "      <td>159.000000</td>\n",
              "      <td>85.000000</td>\n",
              "      <td>10.000000</td>\n",
              "      <td>81.000000</td>\n",
              "      <td>1.000000</td>\n",
              "      <td>1200.000000</td>\n",
              "      <td>0.000000</td>\n",
              "      <td>1.000000</td>\n",
              "      <td>633.424285</td>\n",
              "      <td>0.620039</td>\n",
              "    </tr>\n",
              "    <tr>\n",
              "      <th>max</th>\n",
              "      <td>72773.000000</td>\n",
              "      <td>50.000000</td>\n",
              "      <td>457.000000</td>\n",
              "      <td>311.000000</td>\n",
              "      <td>43.000000</td>\n",
              "      <td>442.000000</td>\n",
              "      <td>1.000000</td>\n",
              "      <td>3600.000000</td>\n",
              "      <td>60.000000</td>\n",
              "      <td>10.000000</td>\n",
              "      <td>4444.821645</td>\n",
              "      <td>6.156379</td>\n",
              "    </tr>\n",
              "  </tbody>\n",
              "</table>\n",
              "</div>\n",
              "    <div class=\"colab-df-buttons\">\n",
              "\n",
              "  <div class=\"colab-df-container\">\n",
              "    <button class=\"colab-df-convert\" onclick=\"convertToInteractive('df-8b20ed4b-0fb1-49f5-9fb1-b0eefb43406a')\"\n",
              "            title=\"Convert this dataframe to an interactive table.\"\n",
              "            style=\"display:none;\">\n",
              "\n",
              "  <svg xmlns=\"http://www.w3.org/2000/svg\" height=\"24px\" viewBox=\"0 -960 960 960\">\n",
              "    <path d=\"M120-120v-720h720v720H120Zm60-500h600v-160H180v160Zm220 220h160v-160H400v160Zm0 220h160v-160H400v160ZM180-400h160v-160H180v160Zm440 0h160v-160H620v160ZM180-180h160v-160H180v160Zm440 0h160v-160H620v160Z\"/>\n",
              "  </svg>\n",
              "    </button>\n",
              "\n",
              "  <style>\n",
              "    .colab-df-container {\n",
              "      display:flex;\n",
              "      gap: 12px;\n",
              "    }\n",
              "\n",
              "    .colab-df-convert {\n",
              "      background-color: #E8F0FE;\n",
              "      border: none;\n",
              "      border-radius: 50%;\n",
              "      cursor: pointer;\n",
              "      display: none;\n",
              "      fill: #1967D2;\n",
              "      height: 32px;\n",
              "      padding: 0 0 0 0;\n",
              "      width: 32px;\n",
              "    }\n",
              "\n",
              "    .colab-df-convert:hover {\n",
              "      background-color: #E2EBFA;\n",
              "      box-shadow: 0px 1px 2px rgba(60, 64, 67, 0.3), 0px 1px 3px 1px rgba(60, 64, 67, 0.15);\n",
              "      fill: #174EA6;\n",
              "    }\n",
              "\n",
              "    .colab-df-buttons div {\n",
              "      margin-bottom: 4px;\n",
              "    }\n",
              "\n",
              "    [theme=dark] .colab-df-convert {\n",
              "      background-color: #3B4455;\n",
              "      fill: #D2E3FC;\n",
              "    }\n",
              "\n",
              "    [theme=dark] .colab-df-convert:hover {\n",
              "      background-color: #434B5C;\n",
              "      box-shadow: 0px 1px 3px 1px rgba(0, 0, 0, 0.15);\n",
              "      filter: drop-shadow(0px 1px 2px rgba(0, 0, 0, 0.3));\n",
              "      fill: #FFFFFF;\n",
              "    }\n",
              "  </style>\n",
              "\n",
              "    <script>\n",
              "      const buttonEl =\n",
              "        document.querySelector('#df-8b20ed4b-0fb1-49f5-9fb1-b0eefb43406a button.colab-df-convert');\n",
              "      buttonEl.style.display =\n",
              "        google.colab.kernel.accessAllowed ? 'block' : 'none';\n",
              "\n",
              "      async function convertToInteractive(key) {\n",
              "        const element = document.querySelector('#df-8b20ed4b-0fb1-49f5-9fb1-b0eefb43406a');\n",
              "        const dataTable =\n",
              "          await google.colab.kernel.invokeFunction('convertToInteractive',\n",
              "                                                    [key], {});\n",
              "        if (!dataTable) return;\n",
              "\n",
              "        const docLinkHtml = 'Like what you see? Visit the ' +\n",
              "          '<a target=\"_blank\" href=https://colab.research.google.com/notebooks/data_table.ipynb>data table notebook</a>'\n",
              "          + ' to learn more about interactive tables.';\n",
              "        element.innerHTML = '';\n",
              "        dataTable['output_type'] = 'display_data';\n",
              "        await google.colab.output.renderOutput(dataTable, element);\n",
              "        const docLink = document.createElement('div');\n",
              "        docLink.innerHTML = docLinkHtml;\n",
              "        element.appendChild(docLink);\n",
              "      }\n",
              "    </script>\n",
              "  </div>\n",
              "\n",
              "\n",
              "<div id=\"df-3476d3b6-e34c-4c29-935f-16f3b80244e4\">\n",
              "  <button class=\"colab-df-quickchart\" onclick=\"quickchart('df-3476d3b6-e34c-4c29-935f-16f3b80244e4')\"\n",
              "            title=\"Suggest charts\"\n",
              "            style=\"display:none;\">\n",
              "\n",
              "<svg xmlns=\"http://www.w3.org/2000/svg\" height=\"24px\"viewBox=\"0 0 24 24\"\n",
              "     width=\"24px\">\n",
              "    <g>\n",
              "        <path d=\"M19 3H5c-1.1 0-2 .9-2 2v14c0 1.1.9 2 2 2h14c1.1 0 2-.9 2-2V5c0-1.1-.9-2-2-2zM9 17H7v-7h2v7zm4 0h-2V7h2v10zm4 0h-2v-4h2v4z\"/>\n",
              "    </g>\n",
              "</svg>\n",
              "  </button>\n",
              "\n",
              "<style>\n",
              "  .colab-df-quickchart {\n",
              "      --bg-color: #E8F0FE;\n",
              "      --fill-color: #1967D2;\n",
              "      --hover-bg-color: #E2EBFA;\n",
              "      --hover-fill-color: #174EA6;\n",
              "      --disabled-fill-color: #AAA;\n",
              "      --disabled-bg-color: #DDD;\n",
              "  }\n",
              "\n",
              "  [theme=dark] .colab-df-quickchart {\n",
              "      --bg-color: #3B4455;\n",
              "      --fill-color: #D2E3FC;\n",
              "      --hover-bg-color: #434B5C;\n",
              "      --hover-fill-color: #FFFFFF;\n",
              "      --disabled-bg-color: #3B4455;\n",
              "      --disabled-fill-color: #666;\n",
              "  }\n",
              "\n",
              "  .colab-df-quickchart {\n",
              "    background-color: var(--bg-color);\n",
              "    border: none;\n",
              "    border-radius: 50%;\n",
              "    cursor: pointer;\n",
              "    display: none;\n",
              "    fill: var(--fill-color);\n",
              "    height: 32px;\n",
              "    padding: 0;\n",
              "    width: 32px;\n",
              "  }\n",
              "\n",
              "  .colab-df-quickchart:hover {\n",
              "    background-color: var(--hover-bg-color);\n",
              "    box-shadow: 0 1px 2px rgba(60, 64, 67, 0.3), 0 1px 3px 1px rgba(60, 64, 67, 0.15);\n",
              "    fill: var(--button-hover-fill-color);\n",
              "  }\n",
              "\n",
              "  .colab-df-quickchart-complete:disabled,\n",
              "  .colab-df-quickchart-complete:disabled:hover {\n",
              "    background-color: var(--disabled-bg-color);\n",
              "    fill: var(--disabled-fill-color);\n",
              "    box-shadow: none;\n",
              "  }\n",
              "\n",
              "  .colab-df-spinner {\n",
              "    border: 2px solid var(--fill-color);\n",
              "    border-color: transparent;\n",
              "    border-bottom-color: var(--fill-color);\n",
              "    animation:\n",
              "      spin 1s steps(1) infinite;\n",
              "  }\n",
              "\n",
              "  @keyframes spin {\n",
              "    0% {\n",
              "      border-color: transparent;\n",
              "      border-bottom-color: var(--fill-color);\n",
              "      border-left-color: var(--fill-color);\n",
              "    }\n",
              "    20% {\n",
              "      border-color: transparent;\n",
              "      border-left-color: var(--fill-color);\n",
              "      border-top-color: var(--fill-color);\n",
              "    }\n",
              "    30% {\n",
              "      border-color: transparent;\n",
              "      border-left-color: var(--fill-color);\n",
              "      border-top-color: var(--fill-color);\n",
              "      border-right-color: var(--fill-color);\n",
              "    }\n",
              "    40% {\n",
              "      border-color: transparent;\n",
              "      border-right-color: var(--fill-color);\n",
              "      border-top-color: var(--fill-color);\n",
              "    }\n",
              "    60% {\n",
              "      border-color: transparent;\n",
              "      border-right-color: var(--fill-color);\n",
              "    }\n",
              "    80% {\n",
              "      border-color: transparent;\n",
              "      border-right-color: var(--fill-color);\n",
              "      border-bottom-color: var(--fill-color);\n",
              "    }\n",
              "    90% {\n",
              "      border-color: transparent;\n",
              "      border-bottom-color: var(--fill-color);\n",
              "    }\n",
              "  }\n",
              "</style>\n",
              "\n",
              "  <script>\n",
              "    async function quickchart(key) {\n",
              "      const quickchartButtonEl =\n",
              "        document.querySelector('#' + key + ' button');\n",
              "      quickchartButtonEl.disabled = true;  // To prevent multiple clicks.\n",
              "      quickchartButtonEl.classList.add('colab-df-spinner');\n",
              "      try {\n",
              "        const charts = await google.colab.kernel.invokeFunction(\n",
              "            'suggestCharts', [key], {});\n",
              "      } catch (error) {\n",
              "        console.error('Error during call to suggestCharts:', error);\n",
              "      }\n",
              "      quickchartButtonEl.classList.remove('colab-df-spinner');\n",
              "      quickchartButtonEl.classList.add('colab-df-quickchart-complete');\n",
              "    }\n",
              "    (() => {\n",
              "      let quickchartButtonEl =\n",
              "        document.querySelector('#df-3476d3b6-e34c-4c29-935f-16f3b80244e4 button');\n",
              "      quickchartButtonEl.style.display =\n",
              "        google.colab.kernel.accessAllowed ? 'block' : 'none';\n",
              "    })();\n",
              "  </script>\n",
              "</div>\n",
              "    </div>\n",
              "  </div>\n"
            ]
          },
          "metadata": {},
          "execution_count": 47
        }
      ]
    },
    {
      "cell_type": "markdown",
      "source": [
        "**Looking for uniques items and their quantities in all categorical columns**"
      ],
      "metadata": {
        "id": "qbOb7l6gifzb"
      }
    },
    {
      "cell_type": "code",
      "source": [
        "df.nickname.value_counts()"
      ],
      "metadata": {
        "colab": {
          "base_uri": "https://localhost:8080/"
        },
        "id": "c6dMh_TJhsA1",
        "outputId": "87932528-c893-4918-93e9-c412bfbca4e0"
      },
      "execution_count": 48,
      "outputs": [
        {
          "output_type": "execute_result",
          "data": {
            "text/plain": [
              "STEEBot         24916\n",
              "BetterBot       24244\n",
              "HastyBot        23613\n",
              "BB-8             6576\n",
              "hannahbanana     1884\n",
              "                ...  \n",
              "jopert              1\n",
              "wongelvan           1\n",
              "Thejana123          1\n",
              "ARLONG573           1\n",
              "kacattac            1\n",
              "Name: nickname, Length: 1471, dtype: int64"
            ]
          },
          "metadata": {},
          "execution_count": 48
        }
      ]
    },
    {
      "cell_type": "code",
      "source": [
        "df['first'].value_counts()"
      ],
      "metadata": {
        "colab": {
          "base_uri": "https://localhost:8080/"
        },
        "id": "VsqjZ8qriFs_",
        "outputId": "c81069fa-64a9-4947-837a-3e920c1266af"
      },
      "execution_count": 49,
      "outputs": [
        {
          "output_type": "execute_result",
          "data": {
            "text/plain": [
              "STEEBot         24420\n",
              "BetterBot       24028\n",
              "HastyBot        23264\n",
              "BB-8             6576\n",
              "hannahbanana     2016\n",
              "                ...  \n",
              "Anita_H             2\n",
              "Sokhim1             2\n",
              "jvp                 2\n",
              "Anbu                2\n",
              "kacattac            2\n",
              "Name: first, Length: 1314, dtype: int64"
            ]
          },
          "metadata": {},
          "execution_count": 49
        }
      ]
    },
    {
      "cell_type": "code",
      "source": [
        "df['time_control_name'].value_counts()"
      ],
      "metadata": {
        "colab": {
          "base_uri": "https://localhost:8080/"
        },
        "id": "9JPqCgPjiZkp",
        "outputId": "bcb94daf-117c-4e89-b1df-4c15fafc3620"
      },
      "execution_count": 50,
      "outputs": [
        {
          "output_type": "execute_result",
          "data": {
            "text/plain": [
              "regular       120564\n",
              "rapid          13304\n",
              "blitz           8936\n",
              "ultrablitz      2742\n",
              "Name: time_control_name, dtype: int64"
            ]
          },
          "metadata": {},
          "execution_count": 50
        }
      ]
    },
    {
      "cell_type": "code",
      "source": [
        "df['game_end_reason'].value_counts()"
      ],
      "metadata": {
        "colab": {
          "base_uri": "https://localhost:8080/"
        },
        "id": "-8UpUVujieET",
        "outputId": "d4099e64-3470-4621-c6fc-c2feee9dc004"
      },
      "execution_count": 51,
      "outputs": [
        {
          "output_type": "execute_result",
          "data": {
            "text/plain": [
              "STANDARD              135974\n",
              "RESIGNED                4692\n",
              "TIME                    4404\n",
              "CONSECUTIVE_ZEROES       476\n",
              "Name: game_end_reason, dtype: int64"
            ]
          },
          "metadata": {},
          "execution_count": 51
        }
      ]
    },
    {
      "cell_type": "code",
      "source": [
        "df['lexicon'].value_counts()"
      ],
      "metadata": {
        "colab": {
          "base_uri": "https://localhost:8080/"
        },
        "id": "U9WOIUm7inm7",
        "outputId": "86648be5-b244-48df-df56-a662ef6fbd4c"
      },
      "execution_count": 52,
      "outputs": [
        {
          "output_type": "execute_result",
          "data": {
            "text/plain": [
              "CSW21     89188\n",
              "NWL20     42500\n",
              "ECWL      13850\n",
              "NSWL20        8\n",
              "Name: lexicon, dtype: int64"
            ]
          },
          "metadata": {},
          "execution_count": 52
        }
      ]
    },
    {
      "cell_type": "code",
      "source": [
        "df['rating_mode'].value_counts()"
      ],
      "metadata": {
        "colab": {
          "base_uri": "https://localhost:8080/"
        },
        "id": "QirPYHUrissD",
        "outputId": "88d6fcf0-cf02-4931-b157-217e692266b3"
      },
      "execution_count": 53,
      "outputs": [
        {
          "output_type": "execute_result",
          "data": {
            "text/plain": [
              "RATED     108152\n",
              "CASUAL     37394\n",
              "Name: rating_mode, dtype: int64"
            ]
          },
          "metadata": {},
          "execution_count": 53
        }
      ]
    },
    {
      "cell_type": "code",
      "source": [
        "df['created_at'].value_counts()"
      ],
      "metadata": {
        "colab": {
          "base_uri": "https://localhost:8080/"
        },
        "id": "PEcvQyfTitFo",
        "outputId": "d7b65ae0-8172-48cd-f7f7-6d4db1dd2245"
      },
      "execution_count": 54,
      "outputs": [
        {
          "output_type": "execute_result",
          "data": {
            "text/plain": [
              "2022-09-20 15:59:19    6\n",
              "2022-09-09 14:37:13    6\n",
              "2022-09-03 14:28:52    4\n",
              "2022-08-15 16:20:21    4\n",
              "2022-09-16 07:50:26    4\n",
              "                      ..\n",
              "2022-09-05 00:19:58    2\n",
              "2022-09-07 00:07:05    2\n",
              "2022-09-07 23:42:39    2\n",
              "2022-08-30 16:28:12    2\n",
              "2022-08-27 09:13:08    2\n",
              "Name: created_at, Length: 72194, dtype: int64"
            ]
          },
          "metadata": {},
          "execution_count": 54
        }
      ]
    },
    {
      "cell_type": "markdown",
      "source": [
        "**The column \"created_at\" is a date-time column. Neither it provides any useful information in this case nor we are doing time-series forecasting, so it's better to drop it from the dataset. Furthermore, the column \"game_id\" has all unique entries so it's essentialy sort of like a index column and therefore useless. Dropping both columns from the dataset**"
      ],
      "metadata": {
        "id": "RkXqz8zLiy5Q"
      }
    },
    {
      "cell_type": "code",
      "source": [
        "df = df.drop (['created_at', 'game_id'], axis =1)"
      ],
      "metadata": {
        "id": "9wGVzyNIi_VX"
      },
      "execution_count": 55,
      "outputs": []
    },
    {
      "cell_type": "code",
      "source": [
        "df.head(1)"
      ],
      "metadata": {
        "colab": {
          "base_uri": "https://localhost:8080/",
          "height": 101
        },
        "id": "mubDYZUPjdUN",
        "outputId": "6c4c7c3d-ad0f-4f47-aaef-ca3ac8a5c480"
      },
      "execution_count": 56,
      "outputs": [
        {
          "output_type": "execute_result",
          "data": {
            "text/plain": [
              "    nickname  total_turns  first_five_turns_points  max_points_turn  \\\n",
              "0  BetterBot           13                      122               68   \n",
              "\n",
              "   min_points_turn  max_min_difference      first time_control_name  \\\n",
              "0                8                  60  BetterBot           regular   \n",
              "\n",
              "  game_end_reason  winner lexicon  initial_time_seconds  increment_seconds  \\\n",
              "0        STANDARD       1   NWL20                  1200                  0   \n",
              "\n",
              "  rating_mode  max_overtime_minutes  game_duration_seconds  time_used  \n",
              "0      CASUAL                     1             674.844274    0.56237  "
            ],
            "text/html": [
              "\n",
              "  <div id=\"df-3235f643-58f5-4e9a-b65b-0f9914264e99\" class=\"colab-df-container\">\n",
              "    <div>\n",
              "<style scoped>\n",
              "    .dataframe tbody tr th:only-of-type {\n",
              "        vertical-align: middle;\n",
              "    }\n",
              "\n",
              "    .dataframe tbody tr th {\n",
              "        vertical-align: top;\n",
              "    }\n",
              "\n",
              "    .dataframe thead th {\n",
              "        text-align: right;\n",
              "    }\n",
              "</style>\n",
              "<table border=\"1\" class=\"dataframe\">\n",
              "  <thead>\n",
              "    <tr style=\"text-align: right;\">\n",
              "      <th></th>\n",
              "      <th>nickname</th>\n",
              "      <th>total_turns</th>\n",
              "      <th>first_five_turns_points</th>\n",
              "      <th>max_points_turn</th>\n",
              "      <th>min_points_turn</th>\n",
              "      <th>max_min_difference</th>\n",
              "      <th>first</th>\n",
              "      <th>time_control_name</th>\n",
              "      <th>game_end_reason</th>\n",
              "      <th>winner</th>\n",
              "      <th>lexicon</th>\n",
              "      <th>initial_time_seconds</th>\n",
              "      <th>increment_seconds</th>\n",
              "      <th>rating_mode</th>\n",
              "      <th>max_overtime_minutes</th>\n",
              "      <th>game_duration_seconds</th>\n",
              "      <th>time_used</th>\n",
              "    </tr>\n",
              "  </thead>\n",
              "  <tbody>\n",
              "    <tr>\n",
              "      <th>0</th>\n",
              "      <td>BetterBot</td>\n",
              "      <td>13</td>\n",
              "      <td>122</td>\n",
              "      <td>68</td>\n",
              "      <td>8</td>\n",
              "      <td>60</td>\n",
              "      <td>BetterBot</td>\n",
              "      <td>regular</td>\n",
              "      <td>STANDARD</td>\n",
              "      <td>1</td>\n",
              "      <td>NWL20</td>\n",
              "      <td>1200</td>\n",
              "      <td>0</td>\n",
              "      <td>CASUAL</td>\n",
              "      <td>1</td>\n",
              "      <td>674.844274</td>\n",
              "      <td>0.56237</td>\n",
              "    </tr>\n",
              "  </tbody>\n",
              "</table>\n",
              "</div>\n",
              "    <div class=\"colab-df-buttons\">\n",
              "\n",
              "  <div class=\"colab-df-container\">\n",
              "    <button class=\"colab-df-convert\" onclick=\"convertToInteractive('df-3235f643-58f5-4e9a-b65b-0f9914264e99')\"\n",
              "            title=\"Convert this dataframe to an interactive table.\"\n",
              "            style=\"display:none;\">\n",
              "\n",
              "  <svg xmlns=\"http://www.w3.org/2000/svg\" height=\"24px\" viewBox=\"0 -960 960 960\">\n",
              "    <path d=\"M120-120v-720h720v720H120Zm60-500h600v-160H180v160Zm220 220h160v-160H400v160Zm0 220h160v-160H400v160ZM180-400h160v-160H180v160Zm440 0h160v-160H620v160ZM180-180h160v-160H180v160Zm440 0h160v-160H620v160Z\"/>\n",
              "  </svg>\n",
              "    </button>\n",
              "\n",
              "  <style>\n",
              "    .colab-df-container {\n",
              "      display:flex;\n",
              "      gap: 12px;\n",
              "    }\n",
              "\n",
              "    .colab-df-convert {\n",
              "      background-color: #E8F0FE;\n",
              "      border: none;\n",
              "      border-radius: 50%;\n",
              "      cursor: pointer;\n",
              "      display: none;\n",
              "      fill: #1967D2;\n",
              "      height: 32px;\n",
              "      padding: 0 0 0 0;\n",
              "      width: 32px;\n",
              "    }\n",
              "\n",
              "    .colab-df-convert:hover {\n",
              "      background-color: #E2EBFA;\n",
              "      box-shadow: 0px 1px 2px rgba(60, 64, 67, 0.3), 0px 1px 3px 1px rgba(60, 64, 67, 0.15);\n",
              "      fill: #174EA6;\n",
              "    }\n",
              "\n",
              "    .colab-df-buttons div {\n",
              "      margin-bottom: 4px;\n",
              "    }\n",
              "\n",
              "    [theme=dark] .colab-df-convert {\n",
              "      background-color: #3B4455;\n",
              "      fill: #D2E3FC;\n",
              "    }\n",
              "\n",
              "    [theme=dark] .colab-df-convert:hover {\n",
              "      background-color: #434B5C;\n",
              "      box-shadow: 0px 1px 3px 1px rgba(0, 0, 0, 0.15);\n",
              "      filter: drop-shadow(0px 1px 2px rgba(0, 0, 0, 0.3));\n",
              "      fill: #FFFFFF;\n",
              "    }\n",
              "  </style>\n",
              "\n",
              "    <script>\n",
              "      const buttonEl =\n",
              "        document.querySelector('#df-3235f643-58f5-4e9a-b65b-0f9914264e99 button.colab-df-convert');\n",
              "      buttonEl.style.display =\n",
              "        google.colab.kernel.accessAllowed ? 'block' : 'none';\n",
              "\n",
              "      async function convertToInteractive(key) {\n",
              "        const element = document.querySelector('#df-3235f643-58f5-4e9a-b65b-0f9914264e99');\n",
              "        const dataTable =\n",
              "          await google.colab.kernel.invokeFunction('convertToInteractive',\n",
              "                                                    [key], {});\n",
              "        if (!dataTable) return;\n",
              "\n",
              "        const docLinkHtml = 'Like what you see? Visit the ' +\n",
              "          '<a target=\"_blank\" href=https://colab.research.google.com/notebooks/data_table.ipynb>data table notebook</a>'\n",
              "          + ' to learn more about interactive tables.';\n",
              "        element.innerHTML = '';\n",
              "        dataTable['output_type'] = 'display_data';\n",
              "        await google.colab.output.renderOutput(dataTable, element);\n",
              "        const docLink = document.createElement('div');\n",
              "        docLink.innerHTML = docLinkHtml;\n",
              "        element.appendChild(docLink);\n",
              "      }\n",
              "    </script>\n",
              "  </div>\n",
              "\n",
              "    </div>\n",
              "  </div>\n"
            ]
          },
          "metadata": {},
          "execution_count": 56
        }
      ]
    },
    {
      "cell_type": "code",
      "source": [
        "numeric_features = [feature for feature in df.columns if df[feature].dtype != 'O']\n",
        "categorical_features = [feature for feature in df.columns if df[feature].dtype == 'O']\n",
        "\n",
        "print('We have {} numerical features : {}'.format(len(numeric_features), numeric_features))\n",
        "print('\\nWe have {} categorical features : {}'.format(len(categorical_features), categorical_features))"
      ],
      "metadata": {
        "colab": {
          "base_uri": "https://localhost:8080/"
        },
        "id": "E39LUC7zjb8L",
        "outputId": "dcd3c06d-10b8-4a52-901d-99eda6df6d75"
      },
      "execution_count": 57,
      "outputs": [
        {
          "output_type": "stream",
          "name": "stdout",
          "text": [
            "We have 11 numerical features : ['total_turns', 'first_five_turns_points', 'max_points_turn', 'min_points_turn', 'max_min_difference', 'winner', 'initial_time_seconds', 'increment_seconds', 'max_overtime_minutes', 'game_duration_seconds', 'time_used']\n",
            "\n",
            "We have 6 categorical features : ['nickname', 'first', 'time_control_name', 'game_end_reason', 'lexicon', 'rating_mode']\n"
          ]
        }
      ]
    },
    {
      "cell_type": "code",
      "source": [
        "print(\"Categories in the variable 'nickname':\",end=\" \" )\n",
        "print(df['nickname'].nunique())\n",
        "\n",
        "print(\"Categories in the variable 'first':\",end=\" \")\n",
        "print(df['first'].nunique())\n",
        "\n",
        "print(\"Categories in the variable 'time control name':\",end=\" \" )\n",
        "print(df['time_control_name'].nunique())\n",
        "\n",
        "print(\"Categories in the variable 'game end reason':\",end=\" \" )\n",
        "print(df['game_end_reason'].nunique())\n",
        "\n",
        "print(\"Categories in the variable 'lexicon':\",end=\" \" )\n",
        "print(df['lexicon'].nunique())\n",
        "\n",
        "print(\"Categories in the variable 'rating mode':\",end=\" \" )\n",
        "print(df['rating_mode'].nunique())"
      ],
      "metadata": {
        "colab": {
          "base_uri": "https://localhost:8080/"
        },
        "id": "9f5a9V2-jjd4",
        "outputId": "ad1bd767-4479-4114-fad5-8b41519270ef"
      },
      "execution_count": 58,
      "outputs": [
        {
          "output_type": "stream",
          "name": "stdout",
          "text": [
            "Categories in the variable 'nickname': 1471\n",
            "Categories in the variable 'first': 1314\n",
            "Categories in the variable 'time control name': 4\n",
            "Categories in the variable 'game end reason': 4\n",
            "Categories in the variable 'lexicon': 4\n",
            "Categories in the variable 'rating mode': 2\n"
          ]
        }
      ]
    },
    {
      "cell_type": "markdown",
      "source": [
        "**Since there are a lot of unique categories in the categorical columns therefore one-hot encoding is not suitable in this case.**"
      ],
      "metadata": {
        "id": "JWPr1pVwkOCO"
      }
    },
    {
      "cell_type": "code",
      "source": [
        "df.dtypes"
      ],
      "metadata": {
        "colab": {
          "base_uri": "https://localhost:8080/"
        },
        "id": "BKf8kebnLjYq",
        "outputId": "e475b047-5dce-4f5c-86c5-ff4d06396e7f"
      },
      "execution_count": 59,
      "outputs": [
        {
          "output_type": "execute_result",
          "data": {
            "text/plain": [
              "nickname                    object\n",
              "total_turns                  int64\n",
              "first_five_turns_points      int64\n",
              "max_points_turn              int64\n",
              "min_points_turn              int64\n",
              "max_min_difference           int64\n",
              "first                       object\n",
              "time_control_name           object\n",
              "game_end_reason             object\n",
              "winner                       int64\n",
              "lexicon                     object\n",
              "initial_time_seconds         int64\n",
              "increment_seconds            int64\n",
              "rating_mode                 object\n",
              "max_overtime_minutes         int64\n",
              "game_duration_seconds      float64\n",
              "time_used                  float64\n",
              "dtype: object"
            ]
          },
          "metadata": {},
          "execution_count": 59
        }
      ]
    },
    {
      "cell_type": "markdown",
      "source": [
        "**Using label encoder on categorical columns**"
      ],
      "metadata": {
        "id": "en572T0gkfIX"
      }
    },
    {
      "cell_type": "code",
      "source": [
        "from sklearn.preprocessing import LabelEncoder\n",
        "labelencoder = LabelEncoder ()\n",
        "df.iloc [:, 0] = labelencoder.fit_transform (df.iloc [:,0])\n",
        "df.iloc [:, 6] = labelencoder.fit_transform (df.iloc [:,6])\n",
        "df.iloc [:, 7] = labelencoder.fit_transform (df.iloc [:,7])\n",
        "df.iloc [:, 8] = labelencoder.fit_transform (df.iloc [:,8])\n",
        "df.iloc [:, 10] = labelencoder.fit_transform (df.iloc [:,10])\n",
        "df.iloc [:, 13] = labelencoder.fit_transform (df.iloc [:,13])"
      ],
      "metadata": {
        "id": "A0jOkfUpjC0R"
      },
      "execution_count": 60,
      "outputs": []
    },
    {
      "cell_type": "code",
      "source": [
        "df.head(1)"
      ],
      "metadata": {
        "colab": {
          "base_uri": "https://localhost:8080/",
          "height": 101
        },
        "id": "mVta2gJijEtK",
        "outputId": "d516e1ee-edb6-4ef4-ce87-ef1855012f7b"
      },
      "execution_count": 61,
      "outputs": [
        {
          "output_type": "execute_result",
          "data": {
            "text/plain": [
              "   nickname  total_turns  first_five_turns_points  max_points_turn  \\\n",
              "0       110           13                      122               68   \n",
              "\n",
              "   min_points_turn  max_min_difference  first  time_control_name  \\\n",
              "0                8                  60     92                  2   \n",
              "\n",
              "   game_end_reason  winner  lexicon  initial_time_seconds  increment_seconds  \\\n",
              "0                2       1        3                  1200                  0   \n",
              "\n",
              "   rating_mode  max_overtime_minutes  game_duration_seconds  time_used  \n",
              "0            0                     1             674.844274    0.56237  "
            ],
            "text/html": [
              "\n",
              "  <div id=\"df-9a95102c-c4c6-4eb1-bae4-f860649baecd\" class=\"colab-df-container\">\n",
              "    <div>\n",
              "<style scoped>\n",
              "    .dataframe tbody tr th:only-of-type {\n",
              "        vertical-align: middle;\n",
              "    }\n",
              "\n",
              "    .dataframe tbody tr th {\n",
              "        vertical-align: top;\n",
              "    }\n",
              "\n",
              "    .dataframe thead th {\n",
              "        text-align: right;\n",
              "    }\n",
              "</style>\n",
              "<table border=\"1\" class=\"dataframe\">\n",
              "  <thead>\n",
              "    <tr style=\"text-align: right;\">\n",
              "      <th></th>\n",
              "      <th>nickname</th>\n",
              "      <th>total_turns</th>\n",
              "      <th>first_five_turns_points</th>\n",
              "      <th>max_points_turn</th>\n",
              "      <th>min_points_turn</th>\n",
              "      <th>max_min_difference</th>\n",
              "      <th>first</th>\n",
              "      <th>time_control_name</th>\n",
              "      <th>game_end_reason</th>\n",
              "      <th>winner</th>\n",
              "      <th>lexicon</th>\n",
              "      <th>initial_time_seconds</th>\n",
              "      <th>increment_seconds</th>\n",
              "      <th>rating_mode</th>\n",
              "      <th>max_overtime_minutes</th>\n",
              "      <th>game_duration_seconds</th>\n",
              "      <th>time_used</th>\n",
              "    </tr>\n",
              "  </thead>\n",
              "  <tbody>\n",
              "    <tr>\n",
              "      <th>0</th>\n",
              "      <td>110</td>\n",
              "      <td>13</td>\n",
              "      <td>122</td>\n",
              "      <td>68</td>\n",
              "      <td>8</td>\n",
              "      <td>60</td>\n",
              "      <td>92</td>\n",
              "      <td>2</td>\n",
              "      <td>2</td>\n",
              "      <td>1</td>\n",
              "      <td>3</td>\n",
              "      <td>1200</td>\n",
              "      <td>0</td>\n",
              "      <td>0</td>\n",
              "      <td>1</td>\n",
              "      <td>674.844274</td>\n",
              "      <td>0.56237</td>\n",
              "    </tr>\n",
              "  </tbody>\n",
              "</table>\n",
              "</div>\n",
              "    <div class=\"colab-df-buttons\">\n",
              "\n",
              "  <div class=\"colab-df-container\">\n",
              "    <button class=\"colab-df-convert\" onclick=\"convertToInteractive('df-9a95102c-c4c6-4eb1-bae4-f860649baecd')\"\n",
              "            title=\"Convert this dataframe to an interactive table.\"\n",
              "            style=\"display:none;\">\n",
              "\n",
              "  <svg xmlns=\"http://www.w3.org/2000/svg\" height=\"24px\" viewBox=\"0 -960 960 960\">\n",
              "    <path d=\"M120-120v-720h720v720H120Zm60-500h600v-160H180v160Zm220 220h160v-160H400v160Zm0 220h160v-160H400v160ZM180-400h160v-160H180v160Zm440 0h160v-160H620v160ZM180-180h160v-160H180v160Zm440 0h160v-160H620v160Z\"/>\n",
              "  </svg>\n",
              "    </button>\n",
              "\n",
              "  <style>\n",
              "    .colab-df-container {\n",
              "      display:flex;\n",
              "      gap: 12px;\n",
              "    }\n",
              "\n",
              "    .colab-df-convert {\n",
              "      background-color: #E8F0FE;\n",
              "      border: none;\n",
              "      border-radius: 50%;\n",
              "      cursor: pointer;\n",
              "      display: none;\n",
              "      fill: #1967D2;\n",
              "      height: 32px;\n",
              "      padding: 0 0 0 0;\n",
              "      width: 32px;\n",
              "    }\n",
              "\n",
              "    .colab-df-convert:hover {\n",
              "      background-color: #E2EBFA;\n",
              "      box-shadow: 0px 1px 2px rgba(60, 64, 67, 0.3), 0px 1px 3px 1px rgba(60, 64, 67, 0.15);\n",
              "      fill: #174EA6;\n",
              "    }\n",
              "\n",
              "    .colab-df-buttons div {\n",
              "      margin-bottom: 4px;\n",
              "    }\n",
              "\n",
              "    [theme=dark] .colab-df-convert {\n",
              "      background-color: #3B4455;\n",
              "      fill: #D2E3FC;\n",
              "    }\n",
              "\n",
              "    [theme=dark] .colab-df-convert:hover {\n",
              "      background-color: #434B5C;\n",
              "      box-shadow: 0px 1px 3px 1px rgba(0, 0, 0, 0.15);\n",
              "      filter: drop-shadow(0px 1px 2px rgba(0, 0, 0, 0.3));\n",
              "      fill: #FFFFFF;\n",
              "    }\n",
              "  </style>\n",
              "\n",
              "    <script>\n",
              "      const buttonEl =\n",
              "        document.querySelector('#df-9a95102c-c4c6-4eb1-bae4-f860649baecd button.colab-df-convert');\n",
              "      buttonEl.style.display =\n",
              "        google.colab.kernel.accessAllowed ? 'block' : 'none';\n",
              "\n",
              "      async function convertToInteractive(key) {\n",
              "        const element = document.querySelector('#df-9a95102c-c4c6-4eb1-bae4-f860649baecd');\n",
              "        const dataTable =\n",
              "          await google.colab.kernel.invokeFunction('convertToInteractive',\n",
              "                                                    [key], {});\n",
              "        if (!dataTable) return;\n",
              "\n",
              "        const docLinkHtml = 'Like what you see? Visit the ' +\n",
              "          '<a target=\"_blank\" href=https://colab.research.google.com/notebooks/data_table.ipynb>data table notebook</a>'\n",
              "          + ' to learn more about interactive tables.';\n",
              "        element.innerHTML = '';\n",
              "        dataTable['output_type'] = 'display_data';\n",
              "        await google.colab.output.renderOutput(dataTable, element);\n",
              "        const docLink = document.createElement('div');\n",
              "        docLink.innerHTML = docLinkHtml;\n",
              "        element.appendChild(docLink);\n",
              "      }\n",
              "    </script>\n",
              "  </div>\n",
              "\n",
              "    </div>\n",
              "  </div>\n"
            ]
          },
          "metadata": {},
          "execution_count": 61
        }
      ]
    },
    {
      "cell_type": "markdown",
      "source": [
        "**Plotting box plots**"
      ],
      "metadata": {
        "id": "65TyRm2Nkop-"
      }
    },
    {
      "cell_type": "code",
      "source": [
        "for col in df.columns:\n",
        "    sns.boxplot(x=df[col])\n",
        "    plt.title(col)\n",
        "    plt.grid()\n",
        "    plt.show()"
      ],
      "metadata": {
        "colab": {
          "base_uri": "https://localhost:8080/",
          "height": 1000
        },
        "id": "TYSe3_ePlcHZ",
        "outputId": "ac7c18a3-2134-4e9b-d97c-60efb20244fd"
      },
      "execution_count": 62,
      "outputs": [
        {
          "output_type": "display_data",
          "data": {
            "text/plain": [
              "<Figure size 640x480 with 1 Axes>"
            ],
            "image/png": "[encoded data removed]"
          },
          "metadata": {}
        },
        {
          "output_type": "display_data",
          "data": {
            "text/plain": [
              "<Figure size 640x480 with 1 Axes>"
            ],
            "image/png": "[encoded data removed]"
          },
          "metadata": {}
        },
        {
          "output_type": "display_data",
          "data": {
            "text/plain": [
              "<Figure size 640x480 with 1 Axes>"
            ],
            "image/png": "[encoded data removed]"
          },
          "metadata": {}
        },
        {
          "output_type": "display_data",
          "data": {
            "text/plain": [
              "<Figure size 640x480 with 1 Axes>"
            ],
            "image/png": "[encoded data removed]"
          },
          "metadata": {}
        },
        {
          "output_type": "display_data",
          "data": {
            "text/plain": [
              "<Figure size 640x480 with 1 Axes>"
            ],
            "image/png": "[encoded data removed]"
          },
          "metadata": {}
        },
        {
          "output_type": "display_data",
          "data": {
            "text/plain": [
              "<Figure size 640x480 with 1 Axes>"
            ],
            "image/png": "[encoded data removed]"
          },
          "metadata": {}
        },
        {
          "output_type": "display_data",
          "data": {
            "text/plain": [
              "<Figure size 640x480 with 1 Axes>"
            ],
            "image/png": "[encoded data removed]"
          },
          "metadata": {}
        },
        {
          "output_type": "display_data",
          "data": {
            "text/plain": [
              "<Figure size 640x480 with 1 Axes>"
            ],
            "image/png": "[encoded data removed]"
          },
          "metadata": {}
        },
        {
          "output_type": "display_data",
          "data": {
            "text/plain": [
              "<Figure size 640x480 with 1 Axes>"
            ],
            "image/png": "[encoded data removed]"
          },
          "metadata": {}
        },
        {
          "output_type": "display_data",
          "data": {
            "text/plain": [
              "<Figure size 640x480 with 1 Axes>"
            ],
            "image/png": "[encoded data removed]"
          },
          "metadata": {}
        },
        {
          "output_type": "display_data",
          "data": {
            "text/plain": [
              "<Figure size 640x480 with 1 Axes>"
            ],
            "image/png": "[encoded data removed]"
          },
          "metadata": {}
        },
        {
          "output_type": "display_data",
          "data": {
            "text/plain": [
              "<Figure size 640x480 with 1 Axes>"
            ],
            "image/png": "[encoded data removed]"
          },
          "metadata": {}
        },
        {
          "output_type": "display_data",
          "data": {
            "text/plain": [
              "<Figure size 640x480 with 1 Axes>"
            ],
            "image/png": "[encoded data removed]"
          },
          "metadata": {}
        },
        {
          "output_type": "display_data",
          "data": {
            "text/plain": [
              "<Figure size 640x480 with 1 Axes>"
            ],
            "image/png": "[encoded data removed]"
          },
          "metadata": {}
        },
        {
          "output_type": "display_data",
          "data": {
            "text/plain": [
              "<Figure size 640x480 with 1 Axes>"
            ],
            "image/png": "[encoded data removed]"
          },
          "metadata": {}
        },
        {
          "output_type": "display_data",
          "data": {
            "text/plain": [
              "<Figure size 640x480 with 1 Axes>"
            ],
            "image/png": "[encoded data removed]"
          },
          "metadata": {}
        },
        {
          "output_type": "display_data",
          "data": {
            "text/plain": [
              "<Figure size 640x480 with 1 Axes>"
            ],
            "image/png": "[encoded data removed]"
          },
          "metadata": {}
        }
      ]
    },
    {
      "cell_type": "code",
      "source": [
        "df['increment_seconds'].value_counts()"
      ],
      "metadata": {
        "colab": {
          "base_uri": "https://localhost:8080/"
        },
        "id": "jehm6S8ohXoI",
        "outputId": "e7194cc3-db0f-4ea1-cd43-3c49fc431a68"
      },
      "execution_count": 63,
      "outputs": [
        {
          "output_type": "execute_result",
          "data": {
            "text/plain": [
              "0     141104\n",
              "1       1732\n",
              "5       1138\n",
              "10      1104\n",
              "60       214\n",
              "3        120\n",
              "7         92\n",
              "15        28\n",
              "59         8\n",
              "2          4\n",
              "30         2\n",
              "Name: increment_seconds, dtype: int64"
            ]
          },
          "metadata": {},
          "execution_count": 63
        }
      ]
    },
    {
      "cell_type": "markdown",
      "source": [
        "**The \"increment seconds\" column contains values that occur infrequently. In a standard train-test split, this can lead to uneven data distribution between the two sets. Stratifying based on this column helps maintain equal data distribution, ensuring a more balanced and reliable evaluation of our model.**"
      ],
      "metadata": {
        "id": "fEP7AGkIheVL"
      }
    },
    {
      "cell_type": "code",
      "source": [
        "train_set, test_set = train_test_split(df, test_size=0.2, random_state =0)\n",
        "\n",
        "from sklearn.model_selection import StratifiedShuffleSplit\n",
        "\n",
        "split = StratifiedShuffleSplit(n_splits =1, test_size =0.2, random_state=0)\n",
        "\n",
        "for train_index, test_index in split.split(df, df['increment_seconds']):\n",
        "  strat_train_set = df.loc[train_index]\n",
        "  strat_test_set = df.loc [test_index]"
      ],
      "metadata": {
        "id": "B742sCYQmKDg"
      },
      "execution_count": 64,
      "outputs": []
    },
    {
      "cell_type": "markdown",
      "source": [
        "**Preparing x_train, x_test, y_train and y_test**"
      ],
      "metadata": {
        "id": "0909OcgHkz2c"
      }
    },
    {
      "cell_type": "code",
      "source": [
        "x_train = strat_train_set.drop('time_used', axis=1)\n",
        "y_train = strat_train_set['time_used']\n",
        "\n",
        "x_test = strat_test_set.drop('time_used', axis=1)\n",
        "y_test = strat_test_set['time_used']"
      ],
      "metadata": {
        "id": "Wvsej23emoWu"
      },
      "execution_count": 65,
      "outputs": []
    },
    {
      "cell_type": "code",
      "source": [
        "print (x_train.shape, x_test.shape)"
      ],
      "metadata": {
        "colab": {
          "base_uri": "https://localhost:8080/"
        },
        "id": "cM77Nnmmm3Gk",
        "outputId": "b5794ba8-7ecd-42ba-c469-160d5f33155c"
      },
      "execution_count": 66,
      "outputs": [
        {
          "output_type": "stream",
          "name": "stdout",
          "text": [
            "(116436, 16) (29110, 16)\n"
          ]
        }
      ]
    },
    {
      "cell_type": "markdown",
      "source": [
        "**Random Forest Regressor Results**"
      ],
      "metadata": {
        "id": "fwhueJWsk6An"
      }
    },
    {
      "cell_type": "code",
      "source": [
        "rfr = RandomForestRegressor(n_estimators=10)\n",
        "rfr.fit(x_train, y_train)\n",
        "\n",
        "y_pred_train_rfr = rfr.predict (x_train)\n",
        "y_pred_test_rfr = rfr.predict (x_test)\n",
        "\n",
        "score_train_rfr = r2_score (y_train, y_pred_train_rfr)\n",
        "print (\"R2 score train rfr:\", score_train_rfr)\n",
        "\n",
        "score_test_rfr = r2_score (y_test, y_pred_test_rfr)\n",
        "print (\"R2 score test rfr:\", score_test_rfr)\n",
        "\n",
        "MAE_train_rfr = mean_absolute_error (y_train, y_pred_train_rfr)\n",
        "print ('Mean Absolute Error Train RFR:', MAE_train_rfr)\n",
        "\n",
        "MAE_test_rfr = mean_absolute_error (y_test, y_pred_test_rfr)\n",
        "print ('Mean Absolute Error Test RFR:', MAE_test_rfr)\n",
        "\n",
        "MSE_train_rfr = mean_squared_error (y_train, y_pred_train_rfr)\n",
        "print ('Mean Squared Error Train RFR:', MSE_train_rfr)\n",
        "\n",
        "MSE_test_rfr = mean_squared_error (y_test, y_pred_test_rfr)\n",
        "print ('Mean Squared Error Test RFR:', MSE_test_rfr)\n",
        "\n",
        "RMSE_train_rfr = np.sqrt (mean_squared_error (y_train, y_pred_train_rfr))\n",
        "print ('Root Mean Squared Error Train RFR:', RMSE_train_rfr)\n",
        "\n",
        "RMSE_test_rfr = np.sqrt (mean_squared_error (y_test, y_pred_test_rfr))\n",
        "print ('Root Mean Squared Error Test RFR:', RMSE_test_rfr)"
      ],
      "metadata": {
        "id": "AICTGoM46dNl",
        "colab": {
          "base_uri": "https://localhost:8080/"
        },
        "outputId": "0be117c0-220c-41aa-9a86-4b6f029c0a0e"
      },
      "execution_count": 67,
      "outputs": [
        {
          "output_type": "stream",
          "name": "stdout",
          "text": [
            "R2 score train rfr: 0.9997641346708191\n",
            "R2 score test rfr: 0.99962376194006\n",
            "Mean Absolute Error Train RFR: 0.00017816529210483442\n",
            "Mean Absolute Error Test RFR: 0.00041272651577783893\n",
            "Mean Squared Error Train RFR: 2.50028202529363e-05\n",
            "Mean Squared Error Test RFR: 4.044734023417196e-05\n",
            "Root Mean Squared Error Train RFR: 0.0050002820173402525\n",
            "Root Mean Squared Error Test RFR: 0.00635982234297248\n"
          ]
        }
      ]
    },
    {
      "cell_type": "markdown",
      "source": [
        "**Adaboost Regressor Results**"
      ],
      "metadata": {
        "id": "zIuCLW36k_cE"
      }
    },
    {
      "cell_type": "code",
      "source": [
        "adb = AdaBoostRegressor(n_estimators=10)\n",
        "adb.fit(x_train, y_train)\n",
        "\n",
        "y_pred_train_adb = adb.predict (x_train)\n",
        "y_pred_test_adb = adb.predict (x_test)\n",
        "\n",
        "score_train_adb = r2_score (y_train, y_pred_train_adb)\n",
        "print (\"R2 score train adb:\", score_train_adb)\n",
        "\n",
        "score_test_adb = r2_score (y_test, y_pred_test_adb)\n",
        "print (\"R2 score test adb:\", score_test_adb)\n",
        "\n",
        "MAE_train_adb = mean_absolute_error (y_train, y_pred_train_adb)\n",
        "print ('Mean Absolute Error Train adb:', MAE_train_adb)\n",
        "\n",
        "MAE_test_adb = mean_absolute_error (y_test, y_pred_test_adb)\n",
        "print ('Mean Absolute Error Test adb:', MAE_test_adb)\n",
        "\n",
        "MSE_train_adb = mean_squared_error (y_train, y_pred_train_adb)\n",
        "print ('Mean Squared Error Train adb:', MSE_train_adb)\n",
        "\n",
        "MSE_test_adb = mean_squared_error (y_test, y_pred_test_adb)\n",
        "print ('Mean Squared Error Test adb:', MSE_test_adb)\n",
        "\n",
        "RMSE_train_adb = np.sqrt (mean_squared_error (y_train, y_pred_train_adb))\n",
        "print ('Root Mean Squared Error Train adb:', RMSE_train_adb)\n",
        "\n",
        "RMSE_test_adb = np.sqrt (mean_squared_error (y_test, y_pred_test_adb))\n",
        "print ('Root Mean Squared Error Test adb:', RMSE_test_adb)"
      ],
      "metadata": {
        "id": "37I3UTdxfXbI",
        "colab": {
          "base_uri": "https://localhost:8080/"
        },
        "outputId": "16bb3fe2-36b0-4c03-ef97-1f86a3015af2"
      },
      "execution_count": 68,
      "outputs": [
        {
          "output_type": "stream",
          "name": "stdout",
          "text": [
            "R2 score train adb: 0.7748954909989341\n",
            "R2 score test adb: 0.7760802437120454\n",
            "Mean Absolute Error Train adb: 0.12093623728271581\n",
            "Mean Absolute Error Test adb: 0.1219224230393073\n",
            "Mean Squared Error Train adb: 0.023862123340578766\n",
            "Mean Squared Error Test adb: 0.02407241460147467\n",
            "Root Mean Squared Error Train adb: 0.15447369789248513\n",
            "Root Mean Squared Error Test adb: 0.15515287493783242\n"
          ]
        }
      ]
    },
    {
      "cell_type": "markdown",
      "source": [
        "**Catboost Regressor Results**"
      ],
      "metadata": {
        "id": "Ka7ROVpTlDyb"
      }
    },
    {
      "cell_type": "code",
      "source": [
        "cbr = CatBoostRegressor(n_estimators=10)\n",
        "cbr.fit(x_train, y_train)\n",
        "\n",
        "y_pred_train_cbr = cbr.predict (x_train)\n",
        "y_pred_test_cbr = cbr.predict (x_test)\n",
        "\n",
        "score_train_cbr = r2_score (y_train, y_pred_train_cbr)\n",
        "print (\"R2 score train cbr:\", score_train_cbr)\n",
        "\n",
        "score_test_cbr = r2_score (y_test, y_pred_test_cbr)\n",
        "print (\"R2 score test cbr:\", score_test_cbr)\n",
        "\n",
        "MAE_train_cbr = mean_absolute_error (y_train, y_pred_train_cbr)\n",
        "print ('Mean Absolute Error Train cbr:', MAE_train_cbr)\n",
        "\n",
        "MAE_test_cbr = mean_absolute_error (y_test, y_pred_test_cbr)\n",
        "print ('Mean Absolute Error Test cbr:', MAE_test_cbr)\n",
        "\n",
        "MSE_train_cbr = mean_squared_error (y_train, y_pred_train_cbr)\n",
        "print ('Mean Squared Error Train cbr:', MSE_train_cbr)\n",
        "\n",
        "MSE_test_cbr = mean_squared_error (y_test, y_pred_test_cbr)\n",
        "print ('Mean Squared Error Test cbr:', MSE_test_cbr)\n",
        "\n",
        "RMSE_train_cbr = np.sqrt (mean_squared_error (y_train, y_pred_train_cbr))\n",
        "print ('Root Mean Squared Error Train cbr:', RMSE_train_cbr)\n",
        "\n",
        "RMSE_test_cbr = np.sqrt (mean_squared_error (y_test, y_pred_test_cbr))\n",
        "print ('Root Mean Squared Error Test cbr:', RMSE_test_cbr)"
      ],
      "metadata": {
        "id": "J8fvBOx5ftCT",
        "colab": {
          "base_uri": "https://localhost:8080/"
        },
        "outputId": "adf3ac16-0143-4792-ddc3-b532e6e4f9a6"
      },
      "execution_count": 69,
      "outputs": [
        {
          "output_type": "stream",
          "name": "stdout",
          "text": [
            "Learning rate set to 0.5\n",
            "0:\tlearn: 0.2016256\ttotal: 20.3ms\tremaining: 183ms\n",
            "1:\tlearn: 0.1336190\ttotal: 56.3ms\tremaining: 225ms\n",
            "2:\tlearn: 0.0972464\ttotal: 95.7ms\tremaining: 223ms\n",
            "3:\tlearn: 0.0776689\ttotal: 134ms\tremaining: 201ms\n",
            "4:\tlearn: 0.0662673\ttotal: 178ms\tremaining: 178ms\n",
            "5:\tlearn: 0.0594263\ttotal: 216ms\tremaining: 144ms\n",
            "6:\tlearn: 0.0539863\ttotal: 253ms\tremaining: 108ms\n",
            "7:\tlearn: 0.0489480\ttotal: 291ms\tremaining: 72.8ms\n",
            "8:\tlearn: 0.0462946\ttotal: 328ms\tremaining: 36.5ms\n",
            "9:\tlearn: 0.0435308\ttotal: 363ms\tremaining: 0us\n",
            "R2 score train cbr: 0.9821241021765695\n",
            "R2 score test cbr: 0.9828222552740957\n",
            "Mean Absolute Error Train cbr: 0.028408320271347286\n",
            "Mean Absolute Error Test cbr: 0.028397683757219752\n",
            "Mean Squared Error Train cbr: 0.0018949281850425327\n",
            "Mean Squared Error Test cbr: 0.001846687401840961\n",
            "Root Mean Squared Error Train cbr: 0.04353077285142699\n",
            "Root Mean Squared Error Test cbr: 0.04297310091023175\n"
          ]
        }
      ]
    },
    {
      "cell_type": "markdown",
      "source": [
        "**Gradient Boosting Regressor Results**"
      ],
      "metadata": {
        "id": "ya1IwISzlHkM"
      }
    },
    {
      "cell_type": "code",
      "source": [
        "gbr = GradientBoostingRegressor(n_estimators=10)\n",
        "gbr.fit(x_train, y_train)\n",
        "\n",
        "y_pred_train_gbr = gbr.predict (x_train)\n",
        "y_pred_test_gbr = gbr.predict (x_test)\n",
        "\n",
        "score_train_gbr = r2_score (y_train, y_pred_train_gbr)\n",
        "print (\"R2 score train gbr:\", score_train_gbr)\n",
        "\n",
        "score_test_gbr = r2_score (y_test, y_pred_test_gbr)\n",
        "print (\"R2 score test gbr:\", score_test_gbr)\n",
        "\n",
        "MAE_train_gbr = mean_absolute_error (y_train, y_pred_train_gbr)\n",
        "print ('Mean Absolute Error Train gbr:', MAE_train_gbr)\n",
        "\n",
        "MAE_test_gbr = mean_absolute_error (y_test, y_pred_test_gbr)\n",
        "print ('Mean Absolute Error Test gbr:', MAE_test_gbr)\n",
        "\n",
        "MSE_train_gbr = mean_squared_error (y_train, y_pred_train_gbr)\n",
        "print ('Mean Squared Error Train gbr:', MSE_train_gbr)\n",
        "\n",
        "MSE_test_gbr = mean_squared_error (y_test, y_pred_test_gbr)\n",
        "print ('Mean Squared Error Test gbr:', MSE_test_gbr)\n",
        "\n",
        "RMSE_train_gbr = np.sqrt (mean_squared_error (y_train, y_pred_train_gbr))\n",
        "print ('Root Mean Squared Error Train gbr:', RMSE_train_gbr)\n",
        "\n",
        "RMSE_test_gbr = np.sqrt (mean_squared_error (y_test, y_pred_test_gbr))\n",
        "print ('Root Mean Squared Error Test gbr:', RMSE_test_gbr)"
      ],
      "metadata": {
        "id": "nVrAMf_zgPZF",
        "colab": {
          "base_uri": "https://localhost:8080/"
        },
        "outputId": "ea2a7dfb-9111-4139-fb3a-f2becc2915ee"
      },
      "execution_count": 70,
      "outputs": [
        {
          "output_type": "stream",
          "name": "stdout",
          "text": [
            "R2 score train gbr: 0.7007687871208856\n",
            "R2 score test gbr: 0.7040292840845461\n",
            "Mean Absolute Error Train gbr: 0.1313707284869479\n",
            "Mean Absolute Error Test gbr: 0.13209751482944718\n",
            "Mean Squared Error Train gbr: 0.03171989819643549\n",
            "Mean Squared Error Test gbr: 0.0318182276612068\n",
            "Root Mean Squared Error Train gbr: 0.17810080908416864\n",
            "Root Mean Squared Error Test gbr: 0.17837664550385177\n"
          ]
        }
      ]
    },
    {
      "cell_type": "markdown",
      "source": [
        "**Linear Regression Results**"
      ],
      "metadata": {
        "id": "O124qZuOlLME"
      }
    },
    {
      "cell_type": "code",
      "source": [
        "lr = LinearRegression()\n",
        "lr.fit(x_train, y_train)\n",
        "\n",
        "y_pred_train_lr = lr.predict (x_train)\n",
        "y_pred_test_lr = lr.predict (x_test)\n",
        "\n",
        "score_train_lr = r2_score (y_train, y_pred_train_lr)\n",
        "print (\"R2 score train lr:\", score_train_lr)\n",
        "\n",
        "score_test_lr = r2_score (y_test, y_pred_test_lr)\n",
        "print (\"R2 score test lr:\", score_test_lr)\n",
        "\n",
        "MAE_train_lr = mean_absolute_error (y_train, y_pred_train_lr)\n",
        "print ('Mean Absolute Error Train lr:', MAE_train_lr)\n",
        "\n",
        "MAE_test_lr = mean_absolute_error (y_test, y_pred_test_lr)\n",
        "print ('Mean Absolute Error Test lr:', MAE_test_lr)\n",
        "\n",
        "MSE_train_lr = mean_squared_error (y_train, y_pred_train_lr)\n",
        "print ('Mean Squared Error Train lr:', MSE_train_lr)\n",
        "\n",
        "MSE_test_lr = mean_squared_error (y_test, y_pred_test_lr)\n",
        "print ('Mean Squared Error Test lr:', MSE_test_lr)\n",
        "\n",
        "RMSE_train_lr = np.sqrt (mean_squared_error (y_train, y_pred_train_lr))\n",
        "print ('Root Mean Squared Error Train lr:', RMSE_train_lr)\n",
        "\n",
        "RMSE_test_lr = np.sqrt (mean_squared_error (y_test, y_pred_test_lr))\n",
        "print ('Root Mean Squared Error Test lr:', RMSE_test_lr)"
      ],
      "metadata": {
        "id": "5u71MecfgdIB",
        "colab": {
          "base_uri": "https://localhost:8080/"
        },
        "outputId": "e4482044-fd64-4b1b-ffe9-acd3375ede3b"
      },
      "execution_count": 71,
      "outputs": [
        {
          "output_type": "stream",
          "name": "stdout",
          "text": [
            "R2 score train lr: 0.5251029510280433\n",
            "R2 score test lr: 0.5265659336605318\n",
            "Mean Absolute Error Train lr: 0.13869111889686186\n",
            "Mean Absolute Error Test lr: 0.13968823312281253\n",
            "Mean Squared Error Train lr: 0.050341292615298294\n",
            "Mean Squared Error Test lr: 0.05089636269847445\n",
            "Root Mean Squared Error Train lr: 0.22436865337051495\n",
            "Root Mean Squared Error Test lr: 0.22560222228177287\n"
          ]
        }
      ]
    },
    {
      "cell_type": "markdown",
      "source": [
        "**XGBOOST Regressor Results**"
      ],
      "metadata": {
        "id": "bShztYU9lO7g"
      }
    },
    {
      "cell_type": "code",
      "source": [
        "xgb = XGBRegressor(n_estimators=10)\n",
        "xgb.fit(x_train, y_train)\n",
        "\n",
        "y_pred_train_xgb = xgb.predict (x_train)\n",
        "y_pred_test_xgb = xgb.predict (x_test)\n",
        "\n",
        "score_train_xgb = r2_score (y_train, y_pred_train_xgb)\n",
        "print (\"R2 score train xgb:\", score_train_xgb)\n",
        "\n",
        "score_test_xgb = r2_score (y_test, y_pred_test_xgb)\n",
        "print (\"R2 score test xgb:\", score_test_xgb)\n",
        "\n",
        "MAE_train_xgb = mean_absolute_error (y_train, y_pred_train_xgb)\n",
        "print ('Mean Absolute Error Train xgb:', MAE_train_xgb)\n",
        "\n",
        "MAE_test_xgb = mean_absolute_error (y_test, y_pred_test_xgb)\n",
        "print ('Mean Absolute Error Test xgb:', MAE_test_xgb)\n",
        "\n",
        "MSE_train_xgb = mean_squared_error (y_train, y_pred_train_xgb)\n",
        "print ('Mean Squared Error Train xgb:', MSE_train_xgb)\n",
        "\n",
        "MSE_test_xgb = mean_squared_error (y_test, y_pred_test_xgb)\n",
        "print ('Mean Squared Error Test xgb:', MSE_test_xgb)\n",
        "\n",
        "RMSE_train_xgb = np.sqrt (mean_squared_error (y_train, y_pred_train_xgb))\n",
        "print ('Root Mean Squared Error Train xgb:', RMSE_train_xgb)\n",
        "\n",
        "RMSE_test_xgb = np.sqrt (mean_squared_error (y_test, y_pred_test_xgb))\n",
        "print ('Root Mean Squared Error Test xgb:', RMSE_test_xgb)"
      ],
      "metadata": {
        "id": "BHOMS86CgqNq",
        "colab": {
          "base_uri": "https://localhost:8080/"
        },
        "outputId": "0578326a-0cf5-41d0-b672-ad907a2778fa"
      },
      "execution_count": 72,
      "outputs": [
        {
          "output_type": "stream",
          "name": "stdout",
          "text": [
            "R2 score train xgb: 0.995297680594386\n",
            "R2 score test xgb: 0.9946128028615616\n",
            "Mean Absolute Error Train xgb: 0.014508099114309541\n",
            "Mean Absolute Error Test xgb: 0.01471621587994531\n",
            "Mean Squared Error Train xgb: 0.0004984676945899307\n",
            "Mean Squared Error Test xgb: 0.000579148732591496\n",
            "Root Mean Squared Error Train xgb: 0.02232639009311471\n",
            "Root Mean Squared Error Test xgb: 0.02406550919036404\n"
          ]
        }
      ]
    },
    {
      "cell_type": "markdown",
      "source": [
        "**Decision Tree Regressor Results**"
      ],
      "metadata": {
        "id": "vHIlzgRQlTYh"
      }
    },
    {
      "cell_type": "code",
      "source": [
        "dtr = DecisionTreeRegressor()\n",
        "dtr.fit(x_train, y_train)\n",
        "\n",
        "y_pred_train_dtr = dtr.predict (x_train)\n",
        "y_pred_test_dtr = dtr.predict (x_test)\n",
        "\n",
        "score_train_dtr = r2_score (y_train, y_pred_train_dtr)\n",
        "print (\"R2 score train dtr:\", score_train_dtr)\n",
        "\n",
        "score_test_dtr = r2_score (y_test, y_pred_test_dtr)\n",
        "print (\"R2 score test dtr:\", score_test_dtr)\n",
        "\n",
        "MAE_train_dtr = mean_absolute_error (y_train, y_pred_train_dtr)\n",
        "print ('Mean Absolute Error Train dtr:', MAE_train_dtr)\n",
        "\n",
        "MAE_test_dtr = mean_absolute_error (y_test, y_pred_test_dtr)\n",
        "print ('Mean Absolute Error Test dtr:', MAE_test_dtr)\n",
        "\n",
        "MSE_train_dtr = mean_squared_error (y_train, y_pred_train_dtr)\n",
        "print ('Mean Squared Error Train dtr:', MSE_train_dtr)\n",
        "\n",
        "MSE_test_dtr = mean_squared_error (y_test, y_pred_test_dtr)\n",
        "print ('Mean Squared Error Test dtr:', MSE_test_dtr)\n",
        "\n",
        "RMSE_train_dtr = np.sqrt (mean_squared_error (y_train, y_pred_train_dtr))\n",
        "print ('Root Mean Squared Error Train dtr:', RMSE_train_dtr)\n",
        "\n",
        "RMSE_test_dtr = np.sqrt (mean_squared_error (y_test, y_pred_test_dtr))\n",
        "print ('Root Mean Squared Error Test dtr:', RMSE_test_dtr)"
      ],
      "metadata": {
        "id": "JW1NZJDPg9Im",
        "colab": {
          "base_uri": "https://localhost:8080/"
        },
        "outputId": "47888836-4780-41d1-bb07-988860126eaf"
      },
      "execution_count": 73,
      "outputs": [
        {
          "output_type": "stream",
          "name": "stdout",
          "text": [
            "R2 score train dtr: 1.0\n",
            "R2 score test dtr: 0.9978156716451814\n",
            "Mean Absolute Error Train dtr: 1.3630735478842001e-11\n",
            "Mean Absolute Error Test dtr: 0.0004244531168305361\n",
            "Mean Squared Error Train dtr: 1.5465291646251851e-19\n",
            "Mean Squared Error Test dtr: 0.0002348254511108532\n",
            "Root Mean Squared Error Train dtr: 3.9325935012726463e-10\n",
            "Root Mean Squared Error Test dtr: 0.015324015502173483\n"
          ]
        }
      ]
    },
    {
      "cell_type": "markdown",
      "source": [
        "**Based on above results random forest regressor is giving the best results**"
      ],
      "metadata": {
        "id": "2-ibG7jNnoM5"
      }
    },
    {
      "cell_type": "markdown",
      "source": [
        "**Making predictions**"
      ],
      "metadata": {
        "id": "oN11RWS0lW0x"
      }
    },
    {
      "cell_type": "code",
      "source": [
        "input_data = (770, 11, 118, 76, 0, 76, 260, 2, 2, 0, 0, 900, 0, 1, 1, 564.97283)\n",
        "\n",
        "input_data_as_numpy_array = np.asarray(input_data)\n",
        "\n",
        "input_data_reshaped = input_data_as_numpy_array.reshape(1, -1)\n",
        "\n",
        "prediction = rfr.predict(input_data_reshaped)[0]\n",
        "print('This game will be played for {} hours.'.format(prediction.round(2)))"
      ],
      "metadata": {
        "colab": {
          "base_uri": "https://localhost:8080/"
        },
        "id": "3I12uaBvoIjR",
        "outputId": "afcb2082-d348-4f02-a54a-3a1378d98e42"
      },
      "execution_count": 74,
      "outputs": [
        {
          "output_type": "stream",
          "name": "stdout",
          "text": [
            "This game will be played for 0.63 hours.\n"
          ]
        }
      ]
    },
    {
      "cell_type": "markdown",
      "source": [
        "**Creating the dataset for comparison of actual and predicted time**"
      ],
      "metadata": {
        "id": "pKi_yu5RoVdh"
      }
    },
    {
      "cell_type": "code",
      "source": [
        "comparison_df = pd.DataFrame ({'Actual Time': y_test,\n",
        "                               'Predicted Time': y_pred_test_rfr,\n",
        "                               'Difference': y_test-y_pred_test_rfr})\n",
        "\n",
        "comparison_df.head(5)"
      ],
      "metadata": {
        "colab": {
          "base_uri": "https://localhost:8080/",
          "height": 206
        },
        "id": "ssoNeMaYIZb8",
        "outputId": "fa8c3edf-fd74-4969-ec9e-5b056a3511b6"
      },
      "execution_count": 75,
      "outputs": [
        {
          "output_type": "execute_result",
          "data": {
            "text/plain": [
              "        Actual Time  Predicted Time  Difference\n",
              "130482     0.446519        0.446536   -0.000017\n",
              "94993      0.262474        0.262249    0.000224\n",
              "50202      0.494085        0.494096   -0.000011\n",
              "133089     0.110724        0.110769   -0.000046\n",
              "75751      0.848301        0.848308   -0.000007"
            ],
            "text/html": [
              "\n",
              "  <div id=\"df-9f6d189c-47f1-4e8b-8764-fc8ae8298fa2\" class=\"colab-df-container\">\n",
              "    <div>\n",
              "<style scoped>\n",
              "    .dataframe tbody tr th:only-of-type {\n",
              "        vertical-align: middle;\n",
              "    }\n",
              "\n",
              "    .dataframe tbody tr th {\n",
              "        vertical-align: top;\n",
              "    }\n",
              "\n",
              "    .dataframe thead th {\n",
              "        text-align: right;\n",
              "    }\n",
              "</style>\n",
              "<table border=\"1\" class=\"dataframe\">\n",
              "  <thead>\n",
              "    <tr style=\"text-align: right;\">\n",
              "      <th></th>\n",
              "      <th>Actual Time</th>\n",
              "      <th>Predicted Time</th>\n",
              "      <th>Difference</th>\n",
              "    </tr>\n",
              "  </thead>\n",
              "  <tbody>\n",
              "    <tr>\n",
              "      <th>130482</th>\n",
              "      <td>0.446519</td>\n",
              "      <td>0.446536</td>\n",
              "      <td>-0.000017</td>\n",
              "    </tr>\n",
              "    <tr>\n",
              "      <th>94993</th>\n",
              "      <td>0.262474</td>\n",
              "      <td>0.262249</td>\n",
              "      <td>0.000224</td>\n",
              "    </tr>\n",
              "    <tr>\n",
              "      <th>50202</th>\n",
              "      <td>0.494085</td>\n",
              "      <td>0.494096</td>\n",
              "      <td>-0.000011</td>\n",
              "    </tr>\n",
              "    <tr>\n",
              "      <th>133089</th>\n",
              "      <td>0.110724</td>\n",
              "      <td>0.110769</td>\n",
              "      <td>-0.000046</td>\n",
              "    </tr>\n",
              "    <tr>\n",
              "      <th>75751</th>\n",
              "      <td>0.848301</td>\n",
              "      <td>0.848308</td>\n",
              "      <td>-0.000007</td>\n",
              "    </tr>\n",
              "  </tbody>\n",
              "</table>\n",
              "</div>\n",
              "    <div class=\"colab-df-buttons\">\n",
              "\n",
              "  <div class=\"colab-df-container\">\n",
              "    <button class=\"colab-df-convert\" onclick=\"convertToInteractive('df-9f6d189c-47f1-4e8b-8764-fc8ae8298fa2')\"\n",
              "            title=\"Convert this dataframe to an interactive table.\"\n",
              "            style=\"display:none;\">\n",
              "\n",
              "  <svg xmlns=\"http://www.w3.org/2000/svg\" height=\"24px\" viewBox=\"0 -960 960 960\">\n",
              "    <path d=\"M120-120v-720h720v720H120Zm60-500h600v-160H180v160Zm220 220h160v-160H400v160Zm0 220h160v-160H400v160ZM180-400h160v-160H180v160Zm440 0h160v-160H620v160ZM180-180h160v-160H180v160Zm440 0h160v-160H620v160Z\"/>\n",
              "  </svg>\n",
              "    </button>\n",
              "\n",
              "  <style>\n",
              "    .colab-df-container {\n",
              "      display:flex;\n",
              "      gap: 12px;\n",
              "    }\n",
              "\n",
              "    .colab-df-convert {\n",
              "      background-color: #E8F0FE;\n",
              "      border: none;\n",
              "      border-radius: 50%;\n",
              "      cursor: pointer;\n",
              "      display: none;\n",
              "      fill: #1967D2;\n",
              "      height: 32px;\n",
              "      padding: 0 0 0 0;\n",
              "      width: 32px;\n",
              "    }\n",
              "\n",
              "    .colab-df-convert:hover {\n",
              "      background-color: #E2EBFA;\n",
              "      box-shadow: 0px 1px 2px rgba(60, 64, 67, 0.3), 0px 1px 3px 1px rgba(60, 64, 67, 0.15);\n",
              "      fill: #174EA6;\n",
              "    }\n",
              "\n",
              "    .colab-df-buttons div {\n",
              "      margin-bottom: 4px;\n",
              "    }\n",
              "\n",
              "    [theme=dark] .colab-df-convert {\n",
              "      background-color: #3B4455;\n",
              "      fill: #D2E3FC;\n",
              "    }\n",
              "\n",
              "    [theme=dark] .colab-df-convert:hover {\n",
              "      background-color: #434B5C;\n",
              "      box-shadow: 0px 1px 3px 1px rgba(0, 0, 0, 0.15);\n",
              "      filter: drop-shadow(0px 1px 2px rgba(0, 0, 0, 0.3));\n",
              "      fill: #FFFFFF;\n",
              "    }\n",
              "  </style>\n",
              "\n",
              "    <script>\n",
              "      const buttonEl =\n",
              "        document.querySelector('#df-9f6d189c-47f1-4e8b-8764-fc8ae8298fa2 button.colab-df-convert');\n",
              "      buttonEl.style.display =\n",
              "        google.colab.kernel.accessAllowed ? 'block' : 'none';\n",
              "\n",
              "      async function convertToInteractive(key) {\n",
              "        const element = document.querySelector('#df-9f6d189c-47f1-4e8b-8764-fc8ae8298fa2');\n",
              "        const dataTable =\n",
              "          await google.colab.kernel.invokeFunction('convertToInteractive',\n",
              "                                                    [key], {});\n",
              "        if (!dataTable) return;\n",
              "\n",
              "        const docLinkHtml = 'Like what you see? Visit the ' +\n",
              "          '<a target=\"_blank\" href=https://colab.research.google.com/notebooks/data_table.ipynb>data table notebook</a>'\n",
              "          + ' to learn more about interactive tables.';\n",
              "        element.innerHTML = '';\n",
              "        dataTable['output_type'] = 'display_data';\n",
              "        await google.colab.output.renderOutput(dataTable, element);\n",
              "        const docLink = document.createElement('div');\n",
              "        docLink.innerHTML = docLinkHtml;\n",
              "        element.appendChild(docLink);\n",
              "      }\n",
              "    </script>\n",
              "  </div>\n",
              "\n",
              "\n",
              "<div id=\"df-337bc0dc-926a-431a-bb48-811acc8f1d15\">\n",
              "  <button class=\"colab-df-quickchart\" onclick=\"quickchart('df-337bc0dc-926a-431a-bb48-811acc8f1d15')\"\n",
              "            title=\"Suggest charts\"\n",
              "            style=\"display:none;\">\n",
              "\n",
              "<svg xmlns=\"http://www.w3.org/2000/svg\" height=\"24px\"viewBox=\"0 0 24 24\"\n",
              "     width=\"24px\">\n",
              "    <g>\n",
              "        <path d=\"M19 3H5c-1.1 0-2 .9-2 2v14c0 1.1.9 2 2 2h14c1.1 0 2-.9 2-2V5c0-1.1-.9-2-2-2zM9 17H7v-7h2v7zm4 0h-2V7h2v10zm4 0h-2v-4h2v4z\"/>\n",
              "    </g>\n",
              "</svg>\n",
              "  </button>\n",
              "\n",
              "<style>\n",
              "  .colab-df-quickchart {\n",
              "      --bg-color: #E8F0FE;\n",
              "      --fill-color: #1967D2;\n",
              "      --hover-bg-color: #E2EBFA;\n",
              "      --hover-fill-color: #174EA6;\n",
              "      --disabled-fill-color: #AAA;\n",
              "      --disabled-bg-color: #DDD;\n",
              "  }\n",
              "\n",
              "  [theme=dark] .colab-df-quickchart {\n",
              "      --bg-color: #3B4455;\n",
              "      --fill-color: #D2E3FC;\n",
              "      --hover-bg-color: #434B5C;\n",
              "      --hover-fill-color: #FFFFFF;\n",
              "      --disabled-bg-color: #3B4455;\n",
              "      --disabled-fill-color: #666;\n",
              "  }\n",
              "\n",
              "  .colab-df-quickchart {\n",
              "    background-color: var(--bg-color);\n",
              "    border: none;\n",
              "    border-radius: 50%;\n",
              "    cursor: pointer;\n",
              "    display: none;\n",
              "    fill: var(--fill-color);\n",
              "    height: 32px;\n",
              "    padding: 0;\n",
              "    width: 32px;\n",
              "  }\n",
              "\n",
              "  .colab-df-quickchart:hover {\n",
              "    background-color: var(--hover-bg-color);\n",
              "    box-shadow: 0 1px 2px rgba(60, 64, 67, 0.3), 0 1px 3px 1px rgba(60, 64, 67, 0.15);\n",
              "    fill: var(--button-hover-fill-color);\n",
              "  }\n",
              "\n",
              "  .colab-df-quickchart-complete:disabled,\n",
              "  .colab-df-quickchart-complete:disabled:hover {\n",
              "    background-color: var(--disabled-bg-color);\n",
              "    fill: var(--disabled-fill-color);\n",
              "    box-shadow: none;\n",
              "  }\n",
              "\n",
              "  .colab-df-spinner {\n",
              "    border: 2px solid var(--fill-color);\n",
              "    border-color: transparent;\n",
              "    border-bottom-color: var(--fill-color);\n",
              "    animation:\n",
              "      spin 1s steps(1) infinite;\n",
              "  }\n",
              "\n",
              "  @keyframes spin {\n",
              "    0% {\n",
              "      border-color: transparent;\n",
              "      border-bottom-color: var(--fill-color);\n",
              "      border-left-color: var(--fill-color);\n",
              "    }\n",
              "    20% {\n",
              "      border-color: transparent;\n",
              "      border-left-color: var(--fill-color);\n",
              "      border-top-color: var(--fill-color);\n",
              "    }\n",
              "    30% {\n",
              "      border-color: transparent;\n",
              "      border-left-color: var(--fill-color);\n",
              "      border-top-color: var(--fill-color);\n",
              "      border-right-color: var(--fill-color);\n",
              "    }\n",
              "    40% {\n",
              "      border-color: transparent;\n",
              "      border-right-color: var(--fill-color);\n",
              "      border-top-color: var(--fill-color);\n",
              "    }\n",
              "    60% {\n",
              "      border-color: transparent;\n",
              "      border-right-color: var(--fill-color);\n",
              "    }\n",
              "    80% {\n",
              "      border-color: transparent;\n",
              "      border-right-color: var(--fill-color);\n",
              "      border-bottom-color: var(--fill-color);\n",
              "    }\n",
              "    90% {\n",
              "      border-color: transparent;\n",
              "      border-bottom-color: var(--fill-color);\n",
              "    }\n",
              "  }\n",
              "</style>\n",
              "\n",
              "  <script>\n",
              "    async function quickchart(key) {\n",
              "      const quickchartButtonEl =\n",
              "        document.querySelector('#' + key + ' button');\n",
              "      quickchartButtonEl.disabled = true;  // To prevent multiple clicks.\n",
              "      quickchartButtonEl.classList.add('colab-df-spinner');\n",
              "      try {\n",
              "        const charts = await google.colab.kernel.invokeFunction(\n",
              "            'suggestCharts', [key], {});\n",
              "      } catch (error) {\n",
              "        console.error('Error during call to suggestCharts:', error);\n",
              "      }\n",
              "      quickchartButtonEl.classList.remove('colab-df-spinner');\n",
              "      quickchartButtonEl.classList.add('colab-df-quickchart-complete');\n",
              "    }\n",
              "    (() => {\n",
              "      let quickchartButtonEl =\n",
              "        document.querySelector('#df-337bc0dc-926a-431a-bb48-811acc8f1d15 button');\n",
              "      quickchartButtonEl.style.display =\n",
              "        google.colab.kernel.accessAllowed ? 'block' : 'none';\n",
              "    })();\n",
              "  </script>\n",
              "</div>\n",
              "    </div>\n",
              "  </div>\n"
            ]
          },
          "metadata": {},
          "execution_count": 75
        }
      ]
    },
    {
      "cell_type": "markdown",
      "source": [
        "**Plotting the graph of actual and predicted values**"
      ],
      "metadata": {
        "id": "yG6l3Hqula40"
      }
    },
    {
      "cell_type": "code",
      "source": [
        "plt.figure(figsize =(10,5))\n",
        "plt.scatter(y_test, y_pred_test_rfr)\n",
        "\n",
        "plt.plot([min(y_test), max(y_test)], [min(y_test), max(y_test)], 'k--', lw=4)\n",
        "\n",
        "plt.xlabel('Actual Time')\n",
        "plt.ylabel('Predicted Time')\n",
        "plt.title('Actual Time vs Predicted Time')"
      ],
      "metadata": {
        "id": "nTajMnS0JwtO",
        "colab": {
          "base_uri": "https://localhost:8080/",
          "height": 505
        },
        "outputId": "699ab69a-fef3-4769-c9e1-0328c726c6fc"
      },
      "execution_count": 76,
      "outputs": [
        {
          "output_type": "execute_result",
          "data": {
            "text/plain": [
              "Text(0.5, 1.0, 'Actual Time vs Predicted Time')"
            ]
          },
          "metadata": {},
          "execution_count": 76
        },
        {
          "output_type": "display_data",
          "data": {
            "text/plain": [
              "<Figure size 1000x500 with 1 Axes>"
            ],
            "image/png": "[encoded data removed]"
          },
          "metadata": {}
        }
      ]
    },
    {
      "cell_type": "code",
      "source": [],
      "metadata": {
        "id": "_E1za-FRD-AS"
      },
      "execution_count": 76,
      "outputs": []
    }
  ]
}