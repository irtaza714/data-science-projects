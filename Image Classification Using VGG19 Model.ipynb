{
  "nbformat": 4,
  "nbformat_minor": 0,
  "metadata": {
    "colab": {
      "provenance": [],
      "gpuType": "T4"
    },
    "kernelspec": {
      "name": "python3",
      "display_name": "Python 3"
    },
    "language_info": {
      "name": "python"
    },
    "accelerator": "GPU"
  },
  "cells": [
    {
      "cell_type": "markdown",
      "source": [
        "**Importing necessary libraries**"
      ],
      "metadata": {
        "id": "sSaVvlutZrEG"
      }
    },
    {
      "cell_type": "code",
      "execution_count": null,
      "metadata": {
        "id": "2FrWEYckLPf5"
      },
      "outputs": [],
      "source": [
        "import numpy as np\n",
        "import pandas as pd\n",
        "from PIL import Image\n",
        "import matplotlib.pyplot as plt\n",
        "import matplotlib.image as mpimg\n",
        "from sklearn.model_selection import train_test_split\n",
        "from google.colab.patches import cv2_imshow\n",
        "import os, zipfile, re, cv2, glob\n",
        "import tensorflow as tf\n",
        "from tensorflow.keras.layers import Dense, Dropout, Flatten\n",
        "from tensorflow.keras.models import Sequential, load_model\n",
        "from tensorflow.keras.applications import VGG19\n",
        "import warnings\n",
        "warnings.filterwarnings('ignore')"
      ]
    },
    {
      "cell_type": "markdown",
      "source": [
        "**Resizing images and saving them in drive**"
      ],
      "metadata": {
        "id": "QkzBbanpeL2R"
      }
    },
    {
      "cell_type": "code",
      "source": [
        "original_folder = '/content/drive/MyDrive/projects/folder/glacier/'\n",
        "resized_folder = '/content/drive/MyDrive/projects/folder_resized/'\n",
        "\n",
        "os.makedirs(resized_folder, exist_ok=True)\n",
        "\n",
        "start_index = 0\n",
        "end_index = 999\n",
        "\n",
        "original_folder_name = os.path.basename(os.path.normpath(original_folder))\n",
        "\n",
        "for i, filename in enumerate(os.listdir(original_folder)[start_index:end_index + 1]):\n",
        "    img_path = os.path.join(original_folder, filename)\n",
        "\n",
        "    img = Image.open(img_path)\n",
        "    img = img.resize((224, 224))\n",
        "    img = img.convert('RGB')\n",
        "\n",
        "    base, ext = os.path.splitext(filename)\n",
        "\n",
        "    if not ext:\n",
        "        print(f\"Skipped {filename} - no valid extension\")\n",
        "        continue\n",
        "\n",
        "    new_filename = f\"{original_folder_name}{i + 1}.jpg\"\n",
        "\n",
        "    new_img_path = os.path.join(resized_folder, new_filename)\n",
        "\n",
        "    img.save(new_img_path, format='JPEG')"
      ],
      "metadata": {
        "id": "hnrSDft0eJ6K"
      },
      "execution_count": null,
      "outputs": []
    },
    {
      "cell_type": "markdown",
      "source": [
        "**Counting the number of resized images**"
      ],
      "metadata": {
        "id": "PHjyBDwIaD8N"
      }
    },
    {
      "cell_type": "code",
      "source": [
        "resized_folder = '/content/drive/MyDrive/projects/folder_resized/'\n",
        "\n",
        "path, dirs, files = next(os.walk(resized_folder))\n",
        "file_count = len(files)\n",
        "print('Total number of resized images: ', file_count)"
      ],
      "metadata": {
        "id": "0M-GNGQypIql",
        "colab": {
          "base_uri": "https://localhost:8080/"
        },
        "outputId": "e1136387-fdd6-4b9f-90e3-473f5e26a07e"
      },
      "execution_count": null,
      "outputs": [
        {
          "output_type": "stream",
          "name": "stdout",
          "text": [
            "Total number of resized images:  2000\n"
          ]
        }
      ]
    },
    {
      "cell_type": "markdown",
      "source": [
        "**Printing image names**"
      ],
      "metadata": {
        "id": "SJ3BDDGlaJH_"
      }
    },
    {
      "cell_type": "code",
      "source": [
        "file_names = os.listdir('/content/drive/MyDrive/projects/folder_resized/')\n",
        "print(file_names)"
      ],
      "metadata": {
        "id": "yYS-QmG_pNA0",
        "colab": {
          "base_uri": "https://localhost:8080/"
        },
        "outputId": "bf19e41a-1fec-4b1a-8459-e992403d6d65"
      },
      "execution_count": null,
      "outputs": [
        {
          "output_type": "stream",
          "name": "stdout",
          "text": [
            "['glacier1.jpg', 'glacier2.jpg', 'glacier3.jpg', 'glacier4.jpg', 'glacier5.jpg', 'glacier6.jpg', 'glacier7.jpg', 'glacier8.jpg', 'glacier9.jpg', 'glacier10.jpg', 'glacier11.jpg', 'glacier12.jpg', 'glacier13.jpg', 'glacier14.jpg', 'glacier15.jpg', 'glacier16.jpg', 'glacier17.jpg', 'glacier18.jpg', 'glacier19.jpg', 'glacier20.jpg', 'glacier21.jpg', 'glacier22.jpg', 'glacier23.jpg', 'glacier24.jpg', 'glacier25.jpg', 'glacier26.jpg', 'glacier27.jpg', 'glacier28.jpg', 'glacier29.jpg', 'glacier30.jpg', 'glacier31.jpg', 'glacier32.jpg', 'glacier33.jpg', 'glacier34.jpg', 'glacier35.jpg', 'glacier36.jpg', 'glacier37.jpg', 'glacier38.jpg', 'glacier39.jpg', 'glacier40.jpg', 'glacier41.jpg', 'glacier42.jpg', 'glacier43.jpg', 'glacier44.jpg', 'glacier45.jpg', 'glacier46.jpg', 'glacier47.jpg', 'glacier48.jpg', 'glacier49.jpg', 'glacier50.jpg', 'glacier51.jpg', 'glacier52.jpg', 'glacier53.jpg', 'glacier54.jpg', 'glacier55.jpg', 'glacier56.jpg', 'glacier57.jpg', 'glacier58.jpg', 'glacier59.jpg', 'glacier60.jpg', 'glacier61.jpg', 'glacier62.jpg', 'glacier63.jpg', 'glacier64.jpg', 'glacier65.jpg', 'glacier66.jpg', 'glacier67.jpg', 'glacier68.jpg', 'glacier69.jpg', 'glacier70.jpg', 'glacier71.jpg', 'glacier72.jpg', 'glacier73.jpg', 'glacier74.jpg', 'glacier75.jpg', 'glacier76.jpg', 'glacier77.jpg', 'glacier78.jpg', 'glacier79.jpg', 'glacier80.jpg', 'glacier81.jpg', 'glacier82.jpg', 'glacier83.jpg', 'glacier84.jpg', 'glacier85.jpg', 'glacier86.jpg', 'glacier87.jpg', 'glacier88.jpg', 'glacier89.jpg', 'glacier90.jpg', 'glacier91.jpg', 'glacier92.jpg', 'glacier93.jpg', 'glacier94.jpg', 'glacier95.jpg', 'glacier96.jpg', 'glacier97.jpg', 'glacier98.jpg', 'glacier99.jpg', 'glacier100.jpg', 'glacier101.jpg', 'glacier102.jpg', 'glacier103.jpg', 'glacier104.jpg', 'glacier105.jpg', 'glacier106.jpg', 'glacier107.jpg', 'glacier108.jpg', 'glacier109.jpg', 'glacier110.jpg', 'glacier111.jpg', 'glacier112.jpg', 'glacier113.jpg', 'glacier114.jpg', 'glacier115.jpg', 'glacier116.jpg', 'glacier117.jpg', 'glacier118.jpg', 'glacier119.jpg', 'glacier120.jpg', 'glacier121.jpg', 'glacier122.jpg', 'glacier123.jpg', 'glacier124.jpg', 'glacier125.jpg', 'glacier126.jpg', 'glacier127.jpg', 'glacier128.jpg', 'glacier129.jpg', 'glacier130.jpg', 'glacier131.jpg', 'glacier132.jpg', 'glacier133.jpg', 'glacier134.jpg', 'glacier135.jpg', 'glacier136.jpg', 'glacier137.jpg', 'glacier138.jpg', 'glacier139.jpg', 'glacier140.jpg', 'glacier141.jpg', 'glacier142.jpg', 'glacier143.jpg', 'glacier144.jpg', 'glacier145.jpg', 'glacier146.jpg', 'glacier147.jpg', 'glacier148.jpg', 'glacier149.jpg', 'glacier150.jpg', 'glacier151.jpg', 'glacier152.jpg', 'glacier153.jpg', 'glacier154.jpg', 'glacier155.jpg', 'glacier156.jpg', 'glacier157.jpg', 'glacier158.jpg', 'glacier159.jpg', 'glacier160.jpg', 'glacier161.jpg', 'glacier162.jpg', 'glacier163.jpg', 'glacier164.jpg', 'glacier165.jpg', 'glacier166.jpg', 'glacier167.jpg', 'glacier168.jpg', 'glacier169.jpg', 'glacier170.jpg', 'glacier171.jpg', 'glacier172.jpg', 'glacier173.jpg', 'glacier174.jpg', 'glacier175.jpg', 'glacier176.jpg', 'glacier177.jpg', 'glacier178.jpg', 'glacier179.jpg', 'glacier180.jpg', 'glacier181.jpg', 'glacier182.jpg', 'glacier183.jpg', 'glacier184.jpg', 'glacier185.jpg', 'glacier186.jpg', 'glacier187.jpg', 'glacier188.jpg', 'glacier189.jpg', 'glacier190.jpg', 'glacier191.jpg', 'glacier192.jpg', 'glacier193.jpg', 'glacier194.jpg', 'glacier195.jpg', 'glacier196.jpg', 'glacier197.jpg', 'glacier198.jpg', 'glacier199.jpg', 'glacier200.jpg', 'glacier201.jpg', 'glacier202.jpg', 'glacier203.jpg', 'glacier204.jpg', 'glacier205.jpg', 'glacier206.jpg', 'glacier207.jpg', 'glacier208.jpg', 'glacier209.jpg', 'glacier210.jpg', 'glacier211.jpg', 'glacier212.jpg', 'glacier213.jpg', 'glacier214.jpg', 'glacier215.jpg', 'glacier216.jpg', 'glacier217.jpg', 'glacier218.jpg', 'glacier219.jpg', 'glacier220.jpg', 'glacier221.jpg', 'glacier222.jpg', 'glacier223.jpg', 'glacier224.jpg', 'glacier225.jpg', 'glacier226.jpg', 'glacier227.jpg', 'glacier228.jpg', 'glacier229.jpg', 'glacier230.jpg', 'glacier231.jpg', 'glacier232.jpg', 'glacier233.jpg', 'glacier234.jpg', 'glacier235.jpg', 'glacier236.jpg', 'glacier237.jpg', 'glacier238.jpg', 'glacier239.jpg', 'glacier240.jpg', 'glacier241.jpg', 'glacier242.jpg', 'glacier243.jpg', 'glacier244.jpg', 'glacier245.jpg', 'glacier246.jpg', 'glacier247.jpg', 'glacier248.jpg', 'glacier249.jpg', 'glacier250.jpg', 'glacier251.jpg', 'glacier252.jpg', 'glacier253.jpg', 'glacier254.jpg', 'glacier255.jpg', 'glacier256.jpg', 'glacier257.jpg', 'glacier258.jpg', 'glacier259.jpg', 'glacier260.jpg', 'glacier261.jpg', 'glacier262.jpg', 'glacier263.jpg', 'glacier264.jpg', 'glacier265.jpg', 'glacier266.jpg', 'glacier267.jpg', 'glacier268.jpg', 'glacier269.jpg', 'glacier270.jpg', 'glacier271.jpg', 'glacier272.jpg', 'glacier273.jpg', 'glacier274.jpg', 'glacier275.jpg', 'glacier276.jpg', 'glacier277.jpg', 'glacier278.jpg', 'glacier279.jpg', 'glacier280.jpg', 'glacier281.jpg', 'glacier282.jpg', 'glacier283.jpg', 'glacier284.jpg', 'glacier285.jpg', 'glacier286.jpg', 'glacier287.jpg', 'glacier288.jpg', 'glacier289.jpg', 'glacier290.jpg', 'glacier291.jpg', 'glacier292.jpg', 'glacier293.jpg', 'glacier294.jpg', 'glacier295.jpg', 'glacier296.jpg', 'glacier297.jpg', 'glacier298.jpg', 'glacier299.jpg', 'glacier300.jpg', 'glacier301.jpg', 'glacier302.jpg', 'glacier303.jpg', 'glacier304.jpg', 'glacier305.jpg', 'glacier306.jpg', 'glacier307.jpg', 'glacier308.jpg', 'glacier309.jpg', 'glacier310.jpg', 'glacier311.jpg', 'glacier312.jpg', 'glacier313.jpg', 'glacier314.jpg', 'glacier315.jpg', 'glacier316.jpg', 'glacier317.jpg', 'glacier318.jpg', 'glacier319.jpg', 'glacier320.jpg', 'glacier321.jpg', 'glacier322.jpg', 'glacier323.jpg', 'glacier324.jpg', 'glacier325.jpg', 'glacier326.jpg', 'glacier327.jpg', 'glacier328.jpg', 'glacier329.jpg', 'glacier330.jpg', 'glacier331.jpg', 'glacier332.jpg', 'glacier333.jpg', 'glacier334.jpg', 'glacier335.jpg', 'glacier336.jpg', 'glacier337.jpg', 'glacier338.jpg', 'glacier339.jpg', 'glacier340.jpg', 'glacier341.jpg', 'glacier342.jpg', 'glacier343.jpg', 'glacier344.jpg', 'glacier345.jpg', 'glacier346.jpg', 'glacier347.jpg', 'glacier348.jpg', 'glacier349.jpg', 'glacier350.jpg', 'glacier351.jpg', 'glacier352.jpg', 'glacier353.jpg', 'glacier354.jpg', 'glacier355.jpg', 'glacier356.jpg', 'glacier357.jpg', 'glacier358.jpg', 'glacier359.jpg', 'glacier360.jpg', 'glacier361.jpg', 'glacier362.jpg', 'glacier363.jpg', 'glacier364.jpg', 'glacier365.jpg', 'glacier366.jpg', 'glacier367.jpg', 'glacier368.jpg', 'glacier369.jpg', 'glacier370.jpg', 'glacier371.jpg', 'glacier372.jpg', 'glacier373.jpg', 'glacier374.jpg', 'glacier375.jpg', 'glacier376.jpg', 'glacier377.jpg', 'glacier378.jpg', 'glacier379.jpg', 'glacier380.jpg', 'glacier381.jpg', 'glacier382.jpg', 'glacier383.jpg', 'glacier384.jpg', 'glacier385.jpg', 'glacier386.jpg', 'glacier387.jpg', 'glacier388.jpg', 'glacier389.jpg', 'glacier390.jpg', 'glacier391.jpg', 'glacier392.jpg', 'glacier393.jpg', 'glacier394.jpg', 'glacier395.jpg', 'glacier396.jpg', 'glacier397.jpg', 'glacier398.jpg', 'glacier399.jpg', 'glacier400.jpg', 'glacier401.jpg', 'glacier402.jpg', 'glacier403.jpg', 'glacier404.jpg', 'glacier405.jpg', 'glacier406.jpg', 'glacier407.jpg', 'glacier408.jpg', 'glacier409.jpg', 'glacier410.jpg', 'glacier411.jpg', 'glacier412.jpg', 'glacier413.jpg', 'glacier414.jpg', 'glacier415.jpg', 'glacier416.jpg', 'glacier417.jpg', 'glacier418.jpg', 'glacier419.jpg', 'glacier420.jpg', 'glacier421.jpg', 'glacier422.jpg', 'glacier423.jpg', 'glacier424.jpg', 'glacier425.jpg', 'glacier426.jpg', 'glacier427.jpg', 'glacier428.jpg', 'glacier429.jpg', 'glacier430.jpg', 'glacier431.jpg', 'glacier432.jpg', 'glacier433.jpg', 'glacier434.jpg', 'glacier435.jpg', 'glacier436.jpg', 'glacier437.jpg', 'glacier438.jpg', 'glacier439.jpg', 'glacier440.jpg', 'glacier441.jpg', 'glacier442.jpg', 'glacier443.jpg', 'glacier444.jpg', 'glacier445.jpg', 'glacier446.jpg', 'glacier447.jpg', 'glacier448.jpg', 'glacier449.jpg', 'glacier450.jpg', 'glacier451.jpg', 'glacier452.jpg', 'glacier453.jpg', 'glacier454.jpg', 'glacier455.jpg', 'glacier456.jpg', 'glacier457.jpg', 'glacier458.jpg', 'glacier459.jpg', 'glacier460.jpg', 'glacier461.jpg', 'glacier462.jpg', 'glacier463.jpg', 'glacier464.jpg', 'glacier465.jpg', 'glacier466.jpg', 'glacier467.jpg', 'glacier468.jpg', 'glacier469.jpg', 'glacier470.jpg', 'glacier471.jpg', 'glacier472.jpg', 'glacier473.jpg', 'glacier474.jpg', 'glacier475.jpg', 'glacier476.jpg', 'glacier477.jpg', 'glacier478.jpg', 'glacier479.jpg', 'glacier480.jpg', 'glacier481.jpg', 'glacier482.jpg', 'glacier483.jpg', 'glacier484.jpg', 'glacier485.jpg', 'glacier486.jpg', 'glacier487.jpg', 'glacier488.jpg', 'glacier489.jpg', 'glacier490.jpg', 'glacier491.jpg', 'glacier492.jpg', 'glacier493.jpg', 'glacier494.jpg', 'glacier495.jpg', 'glacier496.jpg', 'glacier497.jpg', 'glacier498.jpg', 'glacier499.jpg', 'glacier500.jpg', 'glacier501.jpg', 'glacier502.jpg', 'glacier503.jpg', 'glacier504.jpg', 'glacier505.jpg', 'glacier506.jpg', 'glacier507.jpg', 'glacier508.jpg', 'glacier509.jpg', 'glacier510.jpg', 'glacier511.jpg', 'glacier512.jpg', 'glacier513.jpg', 'glacier514.jpg', 'glacier515.jpg', 'glacier516.jpg', 'glacier517.jpg', 'glacier518.jpg', 'glacier519.jpg', 'glacier520.jpg', 'glacier521.jpg', 'glacier522.jpg', 'glacier523.jpg', 'glacier524.jpg', 'glacier525.jpg', 'glacier526.jpg', 'glacier527.jpg', 'glacier528.jpg', 'glacier529.jpg', 'glacier530.jpg', 'glacier531.jpg', 'glacier532.jpg', 'glacier533.jpg', 'glacier534.jpg', 'glacier535.jpg', 'glacier536.jpg', 'glacier537.jpg', 'glacier538.jpg', 'glacier539.jpg', 'glacier540.jpg', 'glacier541.jpg', 'glacier542.jpg', 'glacier543.jpg', 'glacier544.jpg', 'glacier545.jpg', 'glacier546.jpg', 'glacier547.jpg', 'glacier548.jpg', 'glacier549.jpg', 'glacier550.jpg', 'glacier551.jpg', 'glacier552.jpg', 'glacier553.jpg', 'glacier554.jpg', 'glacier555.jpg', 'glacier556.jpg', 'glacier557.jpg', 'glacier558.jpg', 'glacier559.jpg', 'glacier560.jpg', 'glacier561.jpg', 'glacier562.jpg', 'glacier563.jpg', 'glacier564.jpg', 'glacier565.jpg', 'glacier566.jpg', 'glacier567.jpg', 'glacier568.jpg', 'glacier569.jpg', 'glacier570.jpg', 'glacier571.jpg', 'glacier572.jpg', 'glacier573.jpg', 'glacier574.jpg', 'glacier575.jpg', 'glacier576.jpg', 'glacier577.jpg', 'glacier578.jpg', 'glacier579.jpg', 'glacier580.jpg', 'glacier581.jpg', 'glacier582.jpg', 'glacier583.jpg', 'glacier584.jpg', 'glacier585.jpg', 'glacier586.jpg', 'glacier587.jpg', 'glacier588.jpg', 'glacier589.jpg', 'glacier590.jpg', 'glacier591.jpg', 'glacier592.jpg', 'glacier593.jpg', 'glacier594.jpg', 'glacier595.jpg', 'glacier596.jpg', 'glacier597.jpg', 'glacier598.jpg', 'glacier599.jpg', 'glacier600.jpg', 'glacier601.jpg', 'glacier602.jpg', 'glacier603.jpg', 'glacier604.jpg', 'glacier605.jpg', 'glacier606.jpg', 'glacier607.jpg', 'glacier608.jpg', 'glacier609.jpg', 'glacier610.jpg', 'glacier611.jpg', 'glacier612.jpg', 'glacier613.jpg', 'glacier614.jpg', 'glacier615.jpg', 'glacier616.jpg', 'glacier617.jpg', 'glacier618.jpg', 'glacier619.jpg', 'glacier620.jpg', 'glacier621.jpg', 'glacier622.jpg', 'glacier623.jpg', 'glacier624.jpg', 'glacier625.jpg', 'glacier626.jpg', 'glacier627.jpg', 'glacier628.jpg', 'glacier629.jpg', 'glacier630.jpg', 'glacier631.jpg', 'glacier632.jpg', 'glacier633.jpg', 'glacier634.jpg', 'glacier635.jpg', 'glacier636.jpg', 'glacier637.jpg', 'glacier638.jpg', 'glacier639.jpg', 'glacier640.jpg', 'glacier641.jpg', 'glacier642.jpg', 'glacier643.jpg', 'glacier644.jpg', 'glacier645.jpg', 'glacier646.jpg', 'glacier647.jpg', 'glacier648.jpg', 'glacier649.jpg', 'glacier650.jpg', 'glacier651.jpg', 'glacier652.jpg', 'glacier653.jpg', 'glacier654.jpg', 'glacier655.jpg', 'glacier656.jpg', 'glacier657.jpg', 'glacier658.jpg', 'glacier659.jpg', 'glacier660.jpg', 'glacier661.jpg', 'glacier662.jpg', 'glacier663.jpg', 'glacier664.jpg', 'glacier665.jpg', 'glacier666.jpg', 'glacier667.jpg', 'glacier668.jpg', 'glacier669.jpg', 'glacier670.jpg', 'glacier671.jpg', 'glacier672.jpg', 'glacier673.jpg', 'glacier674.jpg', 'glacier675.jpg', 'glacier676.jpg', 'glacier677.jpg', 'glacier678.jpg', 'glacier679.jpg', 'glacier680.jpg', 'glacier681.jpg', 'glacier682.jpg', 'glacier683.jpg', 'glacier684.jpg', 'glacier685.jpg', 'glacier686.jpg', 'glacier687.jpg', 'glacier688.jpg', 'glacier689.jpg', 'glacier690.jpg', 'glacier691.jpg', 'glacier692.jpg', 'glacier693.jpg', 'glacier694.jpg', 'glacier695.jpg', 'glacier696.jpg', 'glacier697.jpg', 'glacier698.jpg', 'glacier699.jpg', 'glacier700.jpg', 'glacier701.jpg', 'glacier702.jpg', 'glacier703.jpg', 'glacier704.jpg', 'glacier705.jpg', 'glacier706.jpg', 'glacier707.jpg', 'glacier708.jpg', 'glacier709.jpg', 'glacier710.jpg', 'glacier711.jpg', 'glacier712.jpg', 'glacier713.jpg', 'glacier714.jpg', 'glacier715.jpg', 'glacier716.jpg', 'glacier717.jpg', 'glacier718.jpg', 'glacier719.jpg', 'glacier720.jpg', 'glacier721.jpg', 'glacier722.jpg', 'glacier723.jpg', 'glacier724.jpg', 'glacier725.jpg', 'glacier726.jpg', 'glacier727.jpg', 'glacier728.jpg', 'glacier729.jpg', 'glacier730.jpg', 'glacier731.jpg', 'glacier732.jpg', 'glacier733.jpg', 'glacier734.jpg', 'glacier735.jpg', 'glacier736.jpg', 'glacier737.jpg', 'glacier738.jpg', 'glacier739.jpg', 'glacier740.jpg', 'glacier741.jpg', 'glacier742.jpg', 'glacier743.jpg', 'glacier744.jpg', 'glacier745.jpg', 'glacier746.jpg', 'glacier747.jpg', 'glacier748.jpg', 'glacier749.jpg', 'glacier750.jpg', 'glacier751.jpg', 'glacier752.jpg', 'glacier753.jpg', 'glacier754.jpg', 'glacier755.jpg', 'glacier756.jpg', 'glacier757.jpg', 'glacier758.jpg', 'glacier759.jpg', 'glacier760.jpg', 'glacier761.jpg', 'glacier762.jpg', 'glacier763.jpg', 'glacier764.jpg', 'glacier765.jpg', 'glacier766.jpg', 'glacier767.jpg', 'glacier768.jpg', 'glacier769.jpg', 'glacier770.jpg', 'glacier771.jpg', 'glacier772.jpg', 'glacier773.jpg', 'glacier774.jpg', 'glacier775.jpg', 'glacier776.jpg', 'glacier777.jpg', 'glacier778.jpg', 'glacier779.jpg', 'glacier780.jpg', 'glacier781.jpg', 'glacier782.jpg', 'glacier783.jpg', 'glacier784.jpg', 'glacier785.jpg', 'glacier786.jpg', 'glacier787.jpg', 'glacier788.jpg', 'glacier789.jpg', 'glacier790.jpg', 'glacier791.jpg', 'glacier792.jpg', 'glacier793.jpg', 'glacier794.jpg', 'glacier795.jpg', 'glacier796.jpg', 'glacier797.jpg', 'glacier798.jpg', 'glacier799.jpg', 'glacier800.jpg', 'glacier801.jpg', 'glacier802.jpg', 'glacier803.jpg', 'glacier804.jpg', 'glacier805.jpg', 'glacier806.jpg', 'glacier807.jpg', 'glacier808.jpg', 'glacier809.jpg', 'glacier810.jpg', 'glacier811.jpg', 'glacier812.jpg', 'glacier813.jpg', 'glacier814.jpg', 'glacier815.jpg', 'glacier816.jpg', 'glacier817.jpg', 'glacier818.jpg', 'glacier819.jpg', 'glacier820.jpg', 'glacier821.jpg', 'glacier822.jpg', 'glacier823.jpg', 'glacier824.jpg', 'glacier825.jpg', 'glacier826.jpg', 'glacier827.jpg', 'glacier828.jpg', 'glacier829.jpg', 'glacier830.jpg', 'glacier831.jpg', 'glacier832.jpg', 'glacier833.jpg', 'glacier834.jpg', 'glacier835.jpg', 'glacier836.jpg', 'glacier837.jpg', 'glacier838.jpg', 'glacier839.jpg', 'glacier840.jpg', 'glacier841.jpg', 'glacier842.jpg', 'glacier843.jpg', 'glacier844.jpg', 'glacier845.jpg', 'glacier846.jpg', 'glacier847.jpg', 'glacier848.jpg', 'glacier849.jpg', 'glacier850.jpg', 'glacier851.jpg', 'glacier852.jpg', 'glacier853.jpg', 'glacier854.jpg', 'glacier855.jpg', 'glacier856.jpg', 'glacier857.jpg', 'glacier858.jpg', 'glacier859.jpg', 'glacier860.jpg', 'glacier861.jpg', 'glacier862.jpg', 'glacier863.jpg', 'glacier864.jpg', 'glacier865.jpg', 'glacier866.jpg', 'glacier867.jpg', 'glacier868.jpg', 'glacier869.jpg', 'glacier870.jpg', 'glacier871.jpg', 'glacier872.jpg', 'glacier873.jpg', 'glacier874.jpg', 'glacier875.jpg', 'glacier876.jpg', 'glacier877.jpg', 'glacier878.jpg', 'glacier879.jpg', 'glacier880.jpg', 'glacier881.jpg', 'glacier882.jpg', 'glacier883.jpg', 'glacier884.jpg', 'glacier885.jpg', 'glacier886.jpg', 'glacier887.jpg', 'glacier888.jpg', 'glacier889.jpg', 'glacier890.jpg', 'glacier891.jpg', 'glacier892.jpg', 'glacier893.jpg', 'glacier894.jpg', 'glacier895.jpg', 'glacier896.jpg', 'glacier897.jpg', 'glacier898.jpg', 'glacier899.jpg', 'glacier900.jpg', 'glacier901.jpg', 'glacier902.jpg', 'glacier903.jpg', 'glacier904.jpg', 'glacier905.jpg', 'glacier906.jpg', 'glacier907.jpg', 'glacier908.jpg', 'glacier909.jpg', 'glacier910.jpg', 'glacier911.jpg', 'glacier912.jpg', 'glacier913.jpg', 'glacier914.jpg', 'glacier915.jpg', 'glacier916.jpg', 'glacier917.jpg', 'glacier918.jpg', 'glacier919.jpg', 'glacier920.jpg', 'glacier921.jpg', 'glacier922.jpg', 'glacier923.jpg', 'glacier924.jpg', 'glacier925.jpg', 'glacier926.jpg', 'glacier927.jpg', 'glacier928.jpg', 'glacier929.jpg', 'glacier930.jpg', 'glacier931.jpg', 'glacier932.jpg', 'glacier933.jpg', 'glacier934.jpg', 'glacier935.jpg', 'glacier936.jpg', 'glacier937.jpg', 'glacier938.jpg', 'glacier939.jpg', 'glacier940.jpg', 'glacier941.jpg', 'glacier942.jpg', 'glacier943.jpg', 'glacier944.jpg', 'glacier945.jpg', 'glacier946.jpg', 'glacier947.jpg', 'glacier948.jpg', 'glacier949.jpg', 'glacier950.jpg', 'glacier951.jpg', 'glacier952.jpg', 'glacier953.jpg', 'glacier954.jpg', 'glacier955.jpg', 'glacier956.jpg', 'glacier957.jpg', 'glacier958.jpg', 'glacier959.jpg', 'glacier960.jpg', 'glacier961.jpg', 'glacier962.jpg', 'glacier963.jpg', 'glacier964.jpg', 'glacier965.jpg', 'glacier966.jpg', 'glacier967.jpg', 'glacier968.jpg', 'glacier969.jpg', 'glacier970.jpg', 'glacier971.jpg', 'glacier972.jpg', 'glacier973.jpg', 'glacier974.jpg', 'glacier975.jpg', 'glacier976.jpg', 'glacier977.jpg', 'glacier978.jpg', 'glacier979.jpg', 'glacier980.jpg', 'glacier981.jpg', 'glacier982.jpg', 'glacier983.jpg', 'glacier984.jpg', 'glacier985.jpg', 'glacier986.jpg', 'glacier987.jpg', 'glacier988.jpg', 'glacier989.jpg', 'glacier990.jpg', 'glacier991.jpg', 'glacier992.jpg', 'glacier993.jpg', 'glacier994.jpg', 'glacier995.jpg', 'glacier996.jpg', 'glacier997.jpg', 'glacier998.jpg', 'glacier999.jpg', 'glacier1000.jpg', 'forest1.jpg', 'forest2.jpg', 'forest3.jpg', 'forest4.jpg', 'forest5.jpg', 'forest6.jpg', 'forest7.jpg', 'forest8.jpg', 'forest9.jpg', 'forest10.jpg', 'forest11.jpg', 'forest12.jpg', 'forest13.jpg', 'forest14.jpg', 'forest15.jpg', 'forest16.jpg', 'forest17.jpg', 'forest18.jpg', 'forest19.jpg', 'forest20.jpg', 'forest21.jpg', 'forest22.jpg', 'forest23.jpg', 'forest24.jpg', 'forest25.jpg', 'forest26.jpg', 'forest27.jpg', 'forest28.jpg', 'forest29.jpg', 'forest30.jpg', 'forest31.jpg', 'forest32.jpg', 'forest33.jpg', 'forest34.jpg', 'forest35.jpg', 'forest36.jpg', 'forest37.jpg', 'forest38.jpg', 'forest39.jpg', 'forest40.jpg', 'forest41.jpg', 'forest42.jpg', 'forest43.jpg', 'forest44.jpg', 'forest45.jpg', 'forest46.jpg', 'forest47.jpg', 'forest48.jpg', 'forest49.jpg', 'forest50.jpg', 'forest51.jpg', 'forest52.jpg', 'forest53.jpg', 'forest54.jpg', 'forest55.jpg', 'forest56.jpg', 'forest57.jpg', 'forest58.jpg', 'forest59.jpg', 'forest60.jpg', 'forest61.jpg', 'forest62.jpg', 'forest63.jpg', 'forest64.jpg', 'forest65.jpg', 'forest66.jpg', 'forest67.jpg', 'forest68.jpg', 'forest69.jpg', 'forest70.jpg', 'forest71.jpg', 'forest72.jpg', 'forest73.jpg', 'forest74.jpg', 'forest75.jpg', 'forest76.jpg', 'forest77.jpg', 'forest78.jpg', 'forest79.jpg', 'forest80.jpg', 'forest81.jpg', 'forest82.jpg', 'forest83.jpg', 'forest84.jpg', 'forest85.jpg', 'forest86.jpg', 'forest87.jpg', 'forest88.jpg', 'forest89.jpg', 'forest90.jpg', 'forest91.jpg', 'forest92.jpg', 'forest93.jpg', 'forest94.jpg', 'forest95.jpg', 'forest96.jpg', 'forest97.jpg', 'forest98.jpg', 'forest99.jpg', 'forest100.jpg', 'forest101.jpg', 'forest102.jpg', 'forest103.jpg', 'forest104.jpg', 'forest105.jpg', 'forest106.jpg', 'forest107.jpg', 'forest108.jpg', 'forest109.jpg', 'forest110.jpg', 'forest111.jpg', 'forest112.jpg', 'forest113.jpg', 'forest114.jpg', 'forest115.jpg', 'forest116.jpg', 'forest117.jpg', 'forest118.jpg', 'forest119.jpg', 'forest120.jpg', 'forest121.jpg', 'forest122.jpg', 'forest123.jpg', 'forest124.jpg', 'forest125.jpg', 'forest126.jpg', 'forest127.jpg', 'forest128.jpg', 'forest129.jpg', 'forest130.jpg', 'forest131.jpg', 'forest132.jpg', 'forest133.jpg', 'forest134.jpg', 'forest135.jpg', 'forest136.jpg', 'forest137.jpg', 'forest138.jpg', 'forest139.jpg', 'forest140.jpg', 'forest141.jpg', 'forest142.jpg', 'forest143.jpg', 'forest144.jpg', 'forest145.jpg', 'forest146.jpg', 'forest147.jpg', 'forest148.jpg', 'forest149.jpg', 'forest150.jpg', 'forest151.jpg', 'forest152.jpg', 'forest153.jpg', 'forest154.jpg', 'forest155.jpg', 'forest156.jpg', 'forest157.jpg', 'forest158.jpg', 'forest159.jpg', 'forest160.jpg', 'forest161.jpg', 'forest162.jpg', 'forest163.jpg', 'forest164.jpg', 'forest165.jpg', 'forest166.jpg', 'forest167.jpg', 'forest168.jpg', 'forest169.jpg', 'forest170.jpg', 'forest171.jpg', 'forest172.jpg', 'forest173.jpg', 'forest174.jpg', 'forest175.jpg', 'forest176.jpg', 'forest177.jpg', 'forest178.jpg', 'forest179.jpg', 'forest180.jpg', 'forest181.jpg', 'forest182.jpg', 'forest183.jpg', 'forest184.jpg', 'forest185.jpg', 'forest186.jpg', 'forest187.jpg', 'forest188.jpg', 'forest189.jpg', 'forest190.jpg', 'forest191.jpg', 'forest192.jpg', 'forest193.jpg', 'forest194.jpg', 'forest195.jpg', 'forest196.jpg', 'forest197.jpg', 'forest198.jpg', 'forest199.jpg', 'forest200.jpg', 'forest201.jpg', 'forest202.jpg', 'forest203.jpg', 'forest204.jpg', 'forest205.jpg', 'forest206.jpg', 'forest207.jpg', 'forest208.jpg', 'forest209.jpg', 'forest210.jpg', 'forest211.jpg', 'forest212.jpg', 'forest213.jpg', 'forest214.jpg', 'forest215.jpg', 'forest216.jpg', 'forest217.jpg', 'forest218.jpg', 'forest219.jpg', 'forest220.jpg', 'forest221.jpg', 'forest222.jpg', 'forest223.jpg', 'forest224.jpg', 'forest225.jpg', 'forest226.jpg', 'forest227.jpg', 'forest228.jpg', 'forest229.jpg', 'forest230.jpg', 'forest231.jpg', 'forest232.jpg', 'forest233.jpg', 'forest234.jpg', 'forest235.jpg', 'forest236.jpg', 'forest237.jpg', 'forest238.jpg', 'forest239.jpg', 'forest240.jpg', 'forest241.jpg', 'forest242.jpg', 'forest243.jpg', 'forest244.jpg', 'forest245.jpg', 'forest246.jpg', 'forest247.jpg', 'forest248.jpg', 'forest249.jpg', 'forest250.jpg', 'forest251.jpg', 'forest252.jpg', 'forest253.jpg', 'forest254.jpg', 'forest255.jpg', 'forest256.jpg', 'forest257.jpg', 'forest258.jpg', 'forest259.jpg', 'forest260.jpg', 'forest261.jpg', 'forest262.jpg', 'forest263.jpg', 'forest264.jpg', 'forest265.jpg', 'forest266.jpg', 'forest267.jpg', 'forest268.jpg', 'forest269.jpg', 'forest270.jpg', 'forest271.jpg', 'forest272.jpg', 'forest273.jpg', 'forest274.jpg', 'forest275.jpg', 'forest276.jpg', 'forest277.jpg', 'forest278.jpg', 'forest279.jpg', 'forest280.jpg', 'forest281.jpg', 'forest282.jpg', 'forest283.jpg', 'forest284.jpg', 'forest285.jpg', 'forest286.jpg', 'forest287.jpg', 'forest288.jpg', 'forest289.jpg', 'forest290.jpg', 'forest291.jpg', 'forest292.jpg', 'forest293.jpg', 'forest294.jpg', 'forest295.jpg', 'forest296.jpg', 'forest297.jpg', 'forest298.jpg', 'forest299.jpg', 'forest300.jpg', 'forest301.jpg', 'forest302.jpg', 'forest303.jpg', 'forest304.jpg', 'forest305.jpg', 'forest306.jpg', 'forest307.jpg', 'forest308.jpg', 'forest309.jpg', 'forest310.jpg', 'forest311.jpg', 'forest312.jpg', 'forest313.jpg', 'forest314.jpg', 'forest315.jpg', 'forest316.jpg', 'forest317.jpg', 'forest318.jpg', 'forest319.jpg', 'forest320.jpg', 'forest321.jpg', 'forest322.jpg', 'forest323.jpg', 'forest324.jpg', 'forest325.jpg', 'forest326.jpg', 'forest327.jpg', 'forest328.jpg', 'forest329.jpg', 'forest330.jpg', 'forest331.jpg', 'forest332.jpg', 'forest333.jpg', 'forest334.jpg', 'forest335.jpg', 'forest336.jpg', 'forest337.jpg', 'forest338.jpg', 'forest339.jpg', 'forest340.jpg', 'forest341.jpg', 'forest342.jpg', 'forest343.jpg', 'forest344.jpg', 'forest345.jpg', 'forest346.jpg', 'forest347.jpg', 'forest348.jpg', 'forest349.jpg', 'forest350.jpg', 'forest351.jpg', 'forest352.jpg', 'forest353.jpg', 'forest354.jpg', 'forest355.jpg', 'forest356.jpg', 'forest357.jpg', 'forest358.jpg', 'forest359.jpg', 'forest360.jpg', 'forest361.jpg', 'forest362.jpg', 'forest363.jpg', 'forest364.jpg', 'forest365.jpg', 'forest366.jpg', 'forest367.jpg', 'forest368.jpg', 'forest369.jpg', 'forest370.jpg', 'forest371.jpg', 'forest372.jpg', 'forest373.jpg', 'forest374.jpg', 'forest375.jpg', 'forest376.jpg', 'forest377.jpg', 'forest378.jpg', 'forest379.jpg', 'forest380.jpg', 'forest381.jpg', 'forest382.jpg', 'forest383.jpg', 'forest384.jpg', 'forest385.jpg', 'forest386.jpg', 'forest387.jpg', 'forest388.jpg', 'forest389.jpg', 'forest390.jpg', 'forest391.jpg', 'forest392.jpg', 'forest393.jpg', 'forest394.jpg', 'forest395.jpg', 'forest396.jpg', 'forest397.jpg', 'forest398.jpg', 'forest399.jpg', 'forest400.jpg', 'forest401.jpg', 'forest402.jpg', 'forest403.jpg', 'forest404.jpg', 'forest405.jpg', 'forest406.jpg', 'forest407.jpg', 'forest408.jpg', 'forest409.jpg', 'forest410.jpg', 'forest411.jpg', 'forest412.jpg', 'forest413.jpg', 'forest414.jpg', 'forest415.jpg', 'forest416.jpg', 'forest417.jpg', 'forest418.jpg', 'forest419.jpg', 'forest420.jpg', 'forest421.jpg', 'forest422.jpg', 'forest423.jpg', 'forest424.jpg', 'forest425.jpg', 'forest426.jpg', 'forest427.jpg', 'forest428.jpg', 'forest429.jpg', 'forest430.jpg', 'forest431.jpg', 'forest432.jpg', 'forest433.jpg', 'forest434.jpg', 'forest435.jpg', 'forest436.jpg', 'forest437.jpg', 'forest438.jpg', 'forest439.jpg', 'forest440.jpg', 'forest441.jpg', 'forest442.jpg', 'forest443.jpg', 'forest444.jpg', 'forest445.jpg', 'forest446.jpg', 'forest447.jpg', 'forest448.jpg', 'forest449.jpg', 'forest450.jpg', 'forest451.jpg', 'forest452.jpg', 'forest453.jpg', 'forest454.jpg', 'forest455.jpg', 'forest456.jpg', 'forest457.jpg', 'forest458.jpg', 'forest459.jpg', 'forest460.jpg', 'forest461.jpg', 'forest462.jpg', 'forest463.jpg', 'forest464.jpg', 'forest465.jpg', 'forest466.jpg', 'forest467.jpg', 'forest468.jpg', 'forest469.jpg', 'forest470.jpg', 'forest471.jpg', 'forest472.jpg', 'forest473.jpg', 'forest474.jpg', 'forest475.jpg', 'forest476.jpg', 'forest477.jpg', 'forest478.jpg', 'forest479.jpg', 'forest480.jpg', 'forest481.jpg', 'forest482.jpg', 'forest483.jpg', 'forest484.jpg', 'forest485.jpg', 'forest486.jpg', 'forest487.jpg', 'forest488.jpg', 'forest489.jpg', 'forest490.jpg', 'forest491.jpg', 'forest492.jpg', 'forest493.jpg', 'forest494.jpg', 'forest495.jpg', 'forest496.jpg', 'forest497.jpg', 'forest498.jpg', 'forest499.jpg', 'forest500.jpg', 'forest501.jpg', 'forest502.jpg', 'forest503.jpg', 'forest504.jpg', 'forest505.jpg', 'forest506.jpg', 'forest507.jpg', 'forest508.jpg', 'forest509.jpg', 'forest510.jpg', 'forest511.jpg', 'forest512.jpg', 'forest513.jpg', 'forest514.jpg', 'forest515.jpg', 'forest516.jpg', 'forest517.jpg', 'forest518.jpg', 'forest519.jpg', 'forest520.jpg', 'forest521.jpg', 'forest522.jpg', 'forest523.jpg', 'forest524.jpg', 'forest525.jpg', 'forest526.jpg', 'forest527.jpg', 'forest528.jpg', 'forest529.jpg', 'forest530.jpg', 'forest531.jpg', 'forest532.jpg', 'forest533.jpg', 'forest534.jpg', 'forest535.jpg', 'forest536.jpg', 'forest537.jpg', 'forest538.jpg', 'forest539.jpg', 'forest540.jpg', 'forest541.jpg', 'forest542.jpg', 'forest543.jpg', 'forest544.jpg', 'forest545.jpg', 'forest546.jpg', 'forest547.jpg', 'forest548.jpg', 'forest549.jpg', 'forest550.jpg', 'forest551.jpg', 'forest552.jpg', 'forest553.jpg', 'forest554.jpg', 'forest555.jpg', 'forest556.jpg', 'forest557.jpg', 'forest558.jpg', 'forest559.jpg', 'forest560.jpg', 'forest561.jpg', 'forest562.jpg', 'forest563.jpg', 'forest564.jpg', 'forest565.jpg', 'forest566.jpg', 'forest567.jpg', 'forest568.jpg', 'forest569.jpg', 'forest570.jpg', 'forest571.jpg', 'forest572.jpg', 'forest573.jpg', 'forest574.jpg', 'forest575.jpg', 'forest576.jpg', 'forest577.jpg', 'forest578.jpg', 'forest579.jpg', 'forest580.jpg', 'forest581.jpg', 'forest582.jpg', 'forest583.jpg', 'forest584.jpg', 'forest585.jpg', 'forest586.jpg', 'forest587.jpg', 'forest588.jpg', 'forest589.jpg', 'forest590.jpg', 'forest591.jpg', 'forest592.jpg', 'forest593.jpg', 'forest594.jpg', 'forest595.jpg', 'forest596.jpg', 'forest597.jpg', 'forest598.jpg', 'forest599.jpg', 'forest600.jpg', 'forest601.jpg', 'forest602.jpg', 'forest603.jpg', 'forest604.jpg', 'forest605.jpg', 'forest606.jpg', 'forest607.jpg', 'forest608.jpg', 'forest609.jpg', 'forest610.jpg', 'forest611.jpg', 'forest612.jpg', 'forest613.jpg', 'forest614.jpg', 'forest615.jpg', 'forest616.jpg', 'forest617.jpg', 'forest618.jpg', 'forest619.jpg', 'forest620.jpg', 'forest621.jpg', 'forest622.jpg', 'forest623.jpg', 'forest624.jpg', 'forest625.jpg', 'forest626.jpg', 'forest627.jpg', 'forest628.jpg', 'forest629.jpg', 'forest630.jpg', 'forest631.jpg', 'forest632.jpg', 'forest633.jpg', 'forest634.jpg', 'forest635.jpg', 'forest636.jpg', 'forest637.jpg', 'forest638.jpg', 'forest639.jpg', 'forest640.jpg', 'forest641.jpg', 'forest642.jpg', 'forest643.jpg', 'forest644.jpg', 'forest645.jpg', 'forest646.jpg', 'forest647.jpg', 'forest648.jpg', 'forest649.jpg', 'forest650.jpg', 'forest651.jpg', 'forest652.jpg', 'forest653.jpg', 'forest654.jpg', 'forest655.jpg', 'forest656.jpg', 'forest657.jpg', 'forest658.jpg', 'forest659.jpg', 'forest660.jpg', 'forest661.jpg', 'forest662.jpg', 'forest663.jpg', 'forest664.jpg', 'forest665.jpg', 'forest666.jpg', 'forest667.jpg', 'forest668.jpg', 'forest669.jpg', 'forest670.jpg', 'forest671.jpg', 'forest672.jpg', 'forest673.jpg', 'forest674.jpg', 'forest675.jpg', 'forest676.jpg', 'forest677.jpg', 'forest678.jpg', 'forest679.jpg', 'forest680.jpg', 'forest681.jpg', 'forest682.jpg', 'forest683.jpg', 'forest684.jpg', 'forest685.jpg', 'forest686.jpg', 'forest687.jpg', 'forest688.jpg', 'forest689.jpg', 'forest690.jpg', 'forest691.jpg', 'forest692.jpg', 'forest693.jpg', 'forest694.jpg', 'forest695.jpg', 'forest696.jpg', 'forest697.jpg', 'forest698.jpg', 'forest699.jpg', 'forest700.jpg', 'forest701.jpg', 'forest702.jpg', 'forest703.jpg', 'forest704.jpg', 'forest705.jpg', 'forest706.jpg', 'forest707.jpg', 'forest708.jpg', 'forest709.jpg', 'forest710.jpg', 'forest711.jpg', 'forest712.jpg', 'forest713.jpg', 'forest714.jpg', 'forest715.jpg', 'forest716.jpg', 'forest717.jpg', 'forest718.jpg', 'forest719.jpg', 'forest720.jpg', 'forest721.jpg', 'forest722.jpg', 'forest723.jpg', 'forest724.jpg', 'forest725.jpg', 'forest726.jpg', 'forest727.jpg', 'forest728.jpg', 'forest729.jpg', 'forest730.jpg', 'forest731.jpg', 'forest732.jpg', 'forest733.jpg', 'forest734.jpg', 'forest735.jpg', 'forest736.jpg', 'forest737.jpg', 'forest738.jpg', 'forest739.jpg', 'forest740.jpg', 'forest741.jpg', 'forest742.jpg', 'forest743.jpg', 'forest744.jpg', 'forest745.jpg', 'forest746.jpg', 'forest747.jpg', 'forest748.jpg', 'forest749.jpg', 'forest750.jpg', 'forest751.jpg', 'forest752.jpg', 'forest753.jpg', 'forest754.jpg', 'forest755.jpg', 'forest756.jpg', 'forest757.jpg', 'forest758.jpg', 'forest759.jpg', 'forest760.jpg', 'forest761.jpg', 'forest762.jpg', 'forest763.jpg', 'forest764.jpg', 'forest765.jpg', 'forest766.jpg', 'forest767.jpg', 'forest768.jpg', 'forest769.jpg', 'forest770.jpg', 'forest771.jpg', 'forest772.jpg', 'forest773.jpg', 'forest774.jpg', 'forest775.jpg', 'forest776.jpg', 'forest777.jpg', 'forest778.jpg', 'forest779.jpg', 'forest780.jpg', 'forest781.jpg', 'forest782.jpg', 'forest783.jpg', 'forest784.jpg', 'forest785.jpg', 'forest786.jpg', 'forest787.jpg', 'forest788.jpg', 'forest789.jpg', 'forest790.jpg', 'forest791.jpg', 'forest792.jpg', 'forest793.jpg', 'forest794.jpg', 'forest795.jpg', 'forest796.jpg', 'forest797.jpg', 'forest798.jpg', 'forest799.jpg', 'forest800.jpg', 'forest801.jpg', 'forest802.jpg', 'forest803.jpg', 'forest804.jpg', 'forest805.jpg', 'forest806.jpg', 'forest807.jpg', 'forest808.jpg', 'forest809.jpg', 'forest810.jpg', 'forest811.jpg', 'forest812.jpg', 'forest813.jpg', 'forest814.jpg', 'forest815.jpg', 'forest816.jpg', 'forest817.jpg', 'forest818.jpg', 'forest819.jpg', 'forest820.jpg', 'forest821.jpg', 'forest822.jpg', 'forest823.jpg', 'forest824.jpg', 'forest825.jpg', 'forest826.jpg', 'forest827.jpg', 'forest828.jpg', 'forest829.jpg', 'forest830.jpg', 'forest831.jpg', 'forest832.jpg', 'forest833.jpg', 'forest834.jpg', 'forest835.jpg', 'forest836.jpg', 'forest837.jpg', 'forest838.jpg', 'forest839.jpg', 'forest840.jpg', 'forest841.jpg', 'forest842.jpg', 'forest843.jpg', 'forest844.jpg', 'forest845.jpg', 'forest846.jpg', 'forest847.jpg', 'forest848.jpg', 'forest849.jpg', 'forest850.jpg', 'forest851.jpg', 'forest852.jpg', 'forest853.jpg', 'forest854.jpg', 'forest855.jpg', 'forest856.jpg', 'forest857.jpg', 'forest858.jpg', 'forest859.jpg', 'forest860.jpg', 'forest861.jpg', 'forest862.jpg', 'forest863.jpg', 'forest864.jpg', 'forest865.jpg', 'forest866.jpg', 'forest867.jpg', 'forest868.jpg', 'forest869.jpg', 'forest870.jpg', 'forest871.jpg', 'forest872.jpg', 'forest873.jpg', 'forest874.jpg', 'forest875.jpg', 'forest876.jpg', 'forest877.jpg', 'forest878.jpg', 'forest879.jpg', 'forest880.jpg', 'forest881.jpg', 'forest882.jpg', 'forest883.jpg', 'forest884.jpg', 'forest885.jpg', 'forest886.jpg', 'forest887.jpg', 'forest888.jpg', 'forest889.jpg', 'forest890.jpg', 'forest891.jpg', 'forest892.jpg', 'forest893.jpg', 'forest894.jpg', 'forest895.jpg', 'forest896.jpg', 'forest897.jpg', 'forest898.jpg', 'forest899.jpg', 'forest900.jpg', 'forest901.jpg', 'forest902.jpg', 'forest903.jpg', 'forest904.jpg', 'forest905.jpg', 'forest906.jpg', 'forest907.jpg', 'forest908.jpg', 'forest909.jpg', 'forest910.jpg', 'forest911.jpg', 'forest912.jpg', 'forest913.jpg', 'forest914.jpg', 'forest915.jpg', 'forest916.jpg', 'forest917.jpg', 'forest918.jpg', 'forest919.jpg', 'forest920.jpg', 'forest921.jpg', 'forest922.jpg', 'forest923.jpg', 'forest924.jpg', 'forest925.jpg', 'forest926.jpg', 'forest927.jpg', 'forest928.jpg', 'forest929.jpg', 'forest930.jpg', 'forest931.jpg', 'forest932.jpg', 'forest933.jpg', 'forest934.jpg', 'forest935.jpg', 'forest936.jpg', 'forest937.jpg', 'forest938.jpg', 'forest939.jpg', 'forest940.jpg', 'forest941.jpg', 'forest942.jpg', 'forest943.jpg', 'forest944.jpg', 'forest945.jpg', 'forest946.jpg', 'forest947.jpg', 'forest948.jpg', 'forest949.jpg', 'forest950.jpg', 'forest951.jpg', 'forest952.jpg', 'forest953.jpg', 'forest954.jpg', 'forest955.jpg', 'forest956.jpg', 'forest957.jpg', 'forest958.jpg', 'forest959.jpg', 'forest960.jpg', 'forest961.jpg', 'forest962.jpg', 'forest963.jpg', 'forest964.jpg', 'forest965.jpg', 'forest966.jpg', 'forest967.jpg', 'forest968.jpg', 'forest969.jpg', 'forest970.jpg', 'forest971.jpg', 'forest972.jpg', 'forest973.jpg', 'forest974.jpg', 'forest975.jpg', 'forest976.jpg', 'forest977.jpg', 'forest978.jpg', 'forest979.jpg', 'forest980.jpg', 'forest981.jpg', 'forest982.jpg', 'forest983.jpg', 'forest984.jpg', 'forest985.jpg', 'forest986.jpg', 'forest987.jpg', 'forest988.jpg', 'forest989.jpg', 'forest990.jpg', 'forest991.jpg', 'forest992.jpg', 'forest993.jpg', 'forest994.jpg', 'forest995.jpg', 'forest996.jpg', 'forest997.jpg', 'forest998.jpg', 'forest999.jpg', 'forest1000.jpg']\n"
          ]
        }
      ]
    },
    {
      "cell_type": "markdown",
      "source": [
        "**Converting image names to string format for necessary preprocessing**"
      ],
      "metadata": {
        "id": "lHUgPdwaaN77"
      }
    },
    {
      "cell_type": "code",
      "source": [
        "type (file_names)\n",
        "file_names = str (file_names)\n",
        "type (file_names)"
      ],
      "metadata": {
        "colab": {
          "base_uri": "https://localhost:8080/"
        },
        "id": "DQ5W6Z4Fq12Z",
        "outputId": "baaba0c2-cb34-4c31-bbf7-64acef940d65"
      },
      "execution_count": null,
      "outputs": [
        {
          "output_type": "execute_result",
          "data": {
            "text/plain": [
              "str"
            ]
          },
          "metadata": {},
          "execution_count": 5
        }
      ]
    },
    {
      "cell_type": "markdown",
      "source": [
        "**Preprocessing of image names**"
      ],
      "metadata": {
        "id": "BCnnAxs9aoM9"
      }
    },
    {
      "cell_type": "code",
      "source": [
        "pattern = r'[0-9]'\n",
        "\n",
        "file_names = re.sub(pattern, '', file_names)\n",
        "\n",
        "file_names = file_names.replace(\"'\", \"\").replace(\".\",\"\").replace(\"jpg\",\"\").replace(\"_\",\"\").replace(\"() ()\",\"\").replace(\"()\",\"\").replace(\"resized\",\"\").replace(\"''\", \"\")\n",
        "\n",
        "file_names = file_names.replace(\" ,\", \",\")\n",
        "\n",
        "file_names = file_names.replace(\"forest \", \"forest\").replace(\"glacier \", \"glacier\")\n",
        "\n",
        "file_names = file_names.strip('][').split(', ')\n",
        "\n",
        "print(\"file_names\", file_names)\n",
        "print(type(file_names))"
      ],
      "metadata": {
        "colab": {
          "base_uri": "https://localhost:8080/"
        },
        "id": "vGzvVs5Bq8zr",
        "outputId": "e85187c6-b17c-4e05-a300-2593399ae7a3"
      },
      "execution_count": null,
      "outputs": [
        {
          "output_type": "stream",
          "name": "stdout",
          "text": [
            "file_names ['glacier', 'glacier', 'glacier', 'glacier', 'glacier', 'glacier', 'glacier', 'glacier', 'glacier', 'glacier', 'glacier', 'glacier', 'glacier', 'glacier', 'glacier', 'glacier', 'glacier', 'glacier', 'glacier', 'glacier', 'glacier', 'glacier', 'glacier', 'glacier', 'glacier', 'glacier', 'glacier', 'glacier', 'glacier', 'glacier', 'glacier', 'glacier', 'glacier', 'glacier', 'glacier', 'glacier', 'glacier', 'glacier', 'glacier', 'glacier', 'glacier', 'glacier', 'glacier', 'glacier', 'glacier', 'glacier', 'glacier', 'glacier', 'glacier', 'glacier', 'glacier', 'glacier', 'glacier', 'glacier', 'glacier', 'glacier', 'glacier', 'glacier', 'glacier', 'glacier', 'glacier', 'glacier', 'glacier', 'glacier', 'glacier', 'glacier', 'glacier', 'glacier', 'glacier', 'glacier', 'glacier', 'glacier', 'glacier', 'glacier', 'glacier', 'glacier', 'glacier', 'glacier', 'glacier', 'glacier', 'glacier', 'glacier', 'glacier', 'glacier', 'glacier', 'glacier', 'glacier', 'glacier', 'glacier', 'glacier', 'glacier', 'glacier', 'glacier', 'glacier', 'glacier', 'glacier', 'glacier', 'glacier', 'glacier', 'glacier', 'glacier', 'glacier', 'glacier', 'glacier', 'glacier', 'glacier', 'glacier', 'glacier', 'glacier', 'glacier', 'glacier', 'glacier', 'glacier', 'glacier', 'glacier', 'glacier', 'glacier', 'glacier', 'glacier', 'glacier', 'glacier', 'glacier', 'glacier', 'glacier', 'glacier', 'glacier', 'glacier', 'glacier', 'glacier', 'glacier', 'glacier', 'glacier', 'glacier', 'glacier', 'glacier', 'glacier', 'glacier', 'glacier', 'glacier', 'glacier', 'glacier', 'glacier', 'glacier', 'glacier', 'glacier', 'glacier', 'glacier', 'glacier', 'glacier', 'glacier', 'glacier', 'glacier', 'glacier', 'glacier', 'glacier', 'glacier', 'glacier', 'glacier', 'glacier', 'glacier', 'glacier', 'glacier', 'glacier', 'glacier', 'glacier', 'glacier', 'glacier', 'glacier', 'glacier', 'glacier', 'glacier', 'glacier', 'glacier', 'glacier', 'glacier', 'glacier', 'glacier', 'glacier', 'glacier', 'glacier', 'glacier', 'glacier', 'glacier', 'glacier', 'glacier', 'glacier', 'glacier', 'glacier', 'glacier', 'glacier', 'glacier', 'glacier', 'glacier', 'glacier', 'glacier', 'glacier', 'glacier', 'glacier', 'glacier', 'glacier', 'glacier', 'glacier', 'glacier', 'glacier', 'glacier', 'glacier', 'glacier', 'glacier', 'glacier', 'glacier', 'glacier', 'glacier', 'glacier', 'glacier', 'glacier', 'glacier', 'glacier', 'glacier', 'glacier', 'glacier', 'glacier', 'glacier', 'glacier', 'glacier', 'glacier', 'glacier', 'glacier', 'glacier', 'glacier', 'glacier', 'glacier', 'glacier', 'glacier', 'glacier', 'glacier', 'glacier', 'glacier', 'glacier', 'glacier', 'glacier', 'glacier', 'glacier', 'glacier', 'glacier', 'glacier', 'glacier', 'glacier', 'glacier', 'glacier', 'glacier', 'glacier', 'glacier', 'glacier', 'glacier', 'glacier', 'glacier', 'glacier', 'glacier', 'glacier', 'glacier', 'glacier', 'glacier', 'glacier', 'glacier', 'glacier', 'glacier', 'glacier', 'glacier', 'glacier', 'glacier', 'glacier', 'glacier', 'glacier', 'glacier', 'glacier', 'glacier', 'glacier', 'glacier', 'glacier', 'glacier', 'glacier', 'glacier', 'glacier', 'glacier', 'glacier', 'glacier', 'glacier', 'glacier', 'glacier', 'glacier', 'glacier', 'glacier', 'glacier', 'glacier', 'glacier', 'glacier', 'glacier', 'glacier', 'glacier', 'glacier', 'glacier', 'glacier', 'glacier', 'glacier', 'glacier', 'glacier', 'glacier', 'glacier', 'glacier', 'glacier', 'glacier', 'glacier', 'glacier', 'glacier', 'glacier', 'glacier', 'glacier', 'glacier', 'glacier', 'glacier', 'glacier', 'glacier', 'glacier', 'glacier', 'glacier', 'glacier', 'glacier', 'glacier', 'glacier', 'glacier', 'glacier', 'glacier', 'glacier', 'glacier', 'glacier', 'glacier', 'glacier', 'glacier', 'glacier', 'glacier', 'glacier', 'glacier', 'glacier', 'glacier', 'glacier', 'glacier', 'glacier', 'glacier', 'glacier', 'glacier', 'glacier', 'glacier', 'glacier', 'glacier', 'glacier', 'glacier', 'glacier', 'glacier', 'glacier', 'glacier', 'glacier', 'glacier', 'glacier', 'glacier', 'glacier', 'glacier', 'glacier', 'glacier', 'glacier', 'glacier', 'glacier', 'glacier', 'glacier', 'glacier', 'glacier', 'glacier', 'glacier', 'glacier', 'glacier', 'glacier', 'glacier', 'glacier', 'glacier', 'glacier', 'glacier', 'glacier', 'glacier', 'glacier', 'glacier', 'glacier', 'glacier', 'glacier', 'glacier', 'glacier', 'glacier', 'glacier', 'glacier', 'glacier', 'glacier', 'glacier', 'glacier', 'glacier', 'glacier', 'glacier', 'glacier', 'glacier', 'glacier', 'glacier', 'glacier', 'glacier', 'glacier', 'glacier', 'glacier', 'glacier', 'glacier', 'glacier', 'glacier', 'glacier', 'glacier', 'glacier', 'glacier', 'glacier', 'glacier', 'glacier', 'glacier', 'glacier', 'glacier', 'glacier', 'glacier', 'glacier', 'glacier', 'glacier', 'glacier', 'glacier', 'glacier', 'glacier', 'glacier', 'glacier', 'glacier', 'glacier', 'glacier', 'glacier', 'glacier', 'glacier', 'glacier', 'glacier', 'glacier', 'glacier', 'glacier', 'glacier', 'glacier', 'glacier', 'glacier', 'glacier', 'glacier', 'glacier', 'glacier', 'glacier', 'glacier', 'glacier', 'glacier', 'glacier', 'glacier', 'glacier', 'glacier', 'glacier', 'glacier', 'glacier', 'glacier', 'glacier', 'glacier', 'glacier', 'glacier', 'glacier', 'glacier', 'glacier', 'glacier', 'glacier', 'glacier', 'glacier', 'glacier', 'glacier', 'glacier', 'glacier', 'glacier', 'glacier', 'glacier', 'glacier', 'glacier', 'glacier', 'glacier', 'glacier', 'glacier', 'glacier', 'glacier', 'glacier', 'glacier', 'glacier', 'glacier', 'glacier', 'glacier', 'glacier', 'glacier', 'glacier', 'glacier', 'glacier', 'glacier', 'glacier', 'glacier', 'glacier', 'glacier', 'glacier', 'glacier', 'glacier', 'glacier', 'glacier', 'glacier', 'glacier', 'glacier', 'glacier', 'glacier', 'glacier', 'glacier', 'glacier', 'glacier', 'glacier', 'glacier', 'glacier', 'glacier', 'glacier', 'glacier', 'glacier', 'glacier', 'glacier', 'glacier', 'glacier', 'glacier', 'glacier', 'glacier', 'glacier', 'glacier', 'glacier', 'glacier', 'glacier', 'glacier', 'glacier', 'glacier', 'glacier', 'glacier', 'glacier', 'glacier', 'glacier', 'glacier', 'glacier', 'glacier', 'glacier', 'glacier', 'glacier', 'glacier', 'glacier', 'glacier', 'glacier', 'glacier', 'glacier', 'glacier', 'glacier', 'glacier', 'glacier', 'glacier', 'glacier', 'glacier', 'glacier', 'glacier', 'glacier', 'glacier', 'glacier', 'glacier', 'glacier', 'glacier', 'glacier', 'glacier', 'glacier', 'glacier', 'glacier', 'glacier', 'glacier', 'glacier', 'glacier', 'glacier', 'glacier', 'glacier', 'glacier', 'glacier', 'glacier', 'glacier', 'glacier', 'glacier', 'glacier', 'glacier', 'glacier', 'glacier', 'glacier', 'glacier', 'glacier', 'glacier', 'glacier', 'glacier', 'glacier', 'glacier', 'glacier', 'glacier', 'glacier', 'glacier', 'glacier', 'glacier', 'glacier', 'glacier', 'glacier', 'glacier', 'glacier', 'glacier', 'glacier', 'glacier', 'glacier', 'glacier', 'glacier', 'glacier', 'glacier', 'glacier', 'glacier', 'glacier', 'glacier', 'glacier', 'glacier', 'glacier', 'glacier', 'glacier', 'glacier', 'glacier', 'glacier', 'glacier', 'glacier', 'glacier', 'glacier', 'glacier', 'glacier', 'glacier', 'glacier', 'glacier', 'glacier', 'glacier', 'glacier', 'glacier', 'glacier', 'glacier', 'glacier', 'glacier', 'glacier', 'glacier', 'glacier', 'glacier', 'glacier', 'glacier', 'glacier', 'glacier', 'glacier', 'glacier', 'glacier', 'glacier', 'glacier', 'glacier', 'glacier', 'glacier', 'glacier', 'glacier', 'glacier', 'glacier', 'glacier', 'glacier', 'glacier', 'glacier', 'glacier', 'glacier', 'glacier', 'glacier', 'glacier', 'glacier', 'glacier', 'glacier', 'glacier', 'glacier', 'glacier', 'glacier', 'glacier', 'glacier', 'glacier', 'glacier', 'glacier', 'glacier', 'glacier', 'glacier', 'glacier', 'glacier', 'glacier', 'glacier', 'glacier', 'glacier', 'glacier', 'glacier', 'glacier', 'glacier', 'glacier', 'glacier', 'glacier', 'glacier', 'glacier', 'glacier', 'glacier', 'glacier', 'glacier', 'glacier', 'glacier', 'glacier', 'glacier', 'glacier', 'glacier', 'glacier', 'glacier', 'glacier', 'glacier', 'glacier', 'glacier', 'glacier', 'glacier', 'glacier', 'glacier', 'glacier', 'glacier', 'glacier', 'glacier', 'glacier', 'glacier', 'glacier', 'glacier', 'glacier', 'glacier', 'glacier', 'glacier', 'glacier', 'glacier', 'glacier', 'glacier', 'glacier', 'glacier', 'glacier', 'glacier', 'glacier', 'glacier', 'glacier', 'glacier', 'glacier', 'glacier', 'glacier', 'glacier', 'glacier', 'glacier', 'glacier', 'glacier', 'glacier', 'glacier', 'glacier', 'glacier', 'glacier', 'glacier', 'glacier', 'glacier', 'glacier', 'glacier', 'glacier', 'glacier', 'glacier', 'glacier', 'glacier', 'glacier', 'glacier', 'glacier', 'glacier', 'glacier', 'glacier', 'glacier', 'glacier', 'glacier', 'glacier', 'glacier', 'glacier', 'glacier', 'glacier', 'glacier', 'glacier', 'glacier', 'glacier', 'glacier', 'glacier', 'glacier', 'glacier', 'glacier', 'glacier', 'glacier', 'glacier', 'glacier', 'glacier', 'glacier', 'glacier', 'glacier', 'glacier', 'glacier', 'glacier', 'glacier', 'glacier', 'glacier', 'glacier', 'glacier', 'glacier', 'glacier', 'glacier', 'glacier', 'glacier', 'glacier', 'glacier', 'glacier', 'glacier', 'glacier', 'glacier', 'glacier', 'glacier', 'glacier', 'glacier', 'glacier', 'glacier', 'glacier', 'glacier', 'glacier', 'glacier', 'glacier', 'glacier', 'glacier', 'glacier', 'glacier', 'glacier', 'glacier', 'glacier', 'glacier', 'glacier', 'glacier', 'glacier', 'glacier', 'glacier', 'glacier', 'glacier', 'glacier', 'glacier', 'glacier', 'glacier', 'glacier', 'glacier', 'glacier', 'glacier', 'glacier', 'glacier', 'glacier', 'glacier', 'glacier', 'glacier', 'glacier', 'glacier', 'glacier', 'glacier', 'glacier', 'glacier', 'glacier', 'glacier', 'glacier', 'glacier', 'glacier', 'glacier', 'glacier', 'glacier', 'glacier', 'glacier', 'glacier', 'glacier', 'glacier', 'glacier', 'glacier', 'glacier', 'glacier', 'glacier', 'glacier', 'glacier', 'glacier', 'glacier', 'glacier', 'glacier', 'glacier', 'glacier', 'glacier', 'glacier', 'glacier', 'glacier', 'glacier', 'glacier', 'glacier', 'glacier', 'glacier', 'glacier', 'glacier', 'glacier', 'glacier', 'glacier', 'glacier', 'glacier', 'glacier', 'glacier', 'glacier', 'glacier', 'glacier', 'glacier', 'glacier', 'glacier', 'glacier', 'glacier', 'glacier', 'glacier', 'glacier', 'glacier', 'glacier', 'glacier', 'glacier', 'glacier', 'glacier', 'glacier', 'glacier', 'glacier', 'glacier', 'glacier', 'glacier', 'glacier', 'glacier', 'glacier', 'glacier', 'glacier', 'glacier', 'glacier', 'glacier', 'glacier', 'glacier', 'glacier', 'glacier', 'glacier', 'glacier', 'glacier', 'glacier', 'glacier', 'glacier', 'glacier', 'glacier', 'glacier', 'glacier', 'glacier', 'glacier', 'glacier', 'glacier', 'glacier', 'glacier', 'glacier', 'glacier', 'glacier', 'glacier', 'glacier', 'glacier', 'glacier', 'glacier', 'glacier', 'glacier', 'glacier', 'glacier', 'glacier', 'glacier', 'glacier', 'glacier', 'glacier', 'glacier', 'glacier', 'glacier', 'glacier', 'glacier', 'glacier', 'glacier', 'glacier', 'glacier', 'forest', 'forest', 'forest', 'forest', 'forest', 'forest', 'forest', 'forest', 'forest', 'forest', 'forest', 'forest', 'forest', 'forest', 'forest', 'forest', 'forest', 'forest', 'forest', 'forest', 'forest', 'forest', 'forest', 'forest', 'forest', 'forest', 'forest', 'forest', 'forest', 'forest', 'forest', 'forest', 'forest', 'forest', 'forest', 'forest', 'forest', 'forest', 'forest', 'forest', 'forest', 'forest', 'forest', 'forest', 'forest', 'forest', 'forest', 'forest', 'forest', 'forest', 'forest', 'forest', 'forest', 'forest', 'forest', 'forest', 'forest', 'forest', 'forest', 'forest', 'forest', 'forest', 'forest', 'forest', 'forest', 'forest', 'forest', 'forest', 'forest', 'forest', 'forest', 'forest', 'forest', 'forest', 'forest', 'forest', 'forest', 'forest', 'forest', 'forest', 'forest', 'forest', 'forest', 'forest', 'forest', 'forest', 'forest', 'forest', 'forest', 'forest', 'forest', 'forest', 'forest', 'forest', 'forest', 'forest', 'forest', 'forest', 'forest', 'forest', 'forest', 'forest', 'forest', 'forest', 'forest', 'forest', 'forest', 'forest', 'forest', 'forest', 'forest', 'forest', 'forest', 'forest', 'forest', 'forest', 'forest', 'forest', 'forest', 'forest', 'forest', 'forest', 'forest', 'forest', 'forest', 'forest', 'forest', 'forest', 'forest', 'forest', 'forest', 'forest', 'forest', 'forest', 'forest', 'forest', 'forest', 'forest', 'forest', 'forest', 'forest', 'forest', 'forest', 'forest', 'forest', 'forest', 'forest', 'forest', 'forest', 'forest', 'forest', 'forest', 'forest', 'forest', 'forest', 'forest', 'forest', 'forest', 'forest', 'forest', 'forest', 'forest', 'forest', 'forest', 'forest', 'forest', 'forest', 'forest', 'forest', 'forest', 'forest', 'forest', 'forest', 'forest', 'forest', 'forest', 'forest', 'forest', 'forest', 'forest', 'forest', 'forest', 'forest', 'forest', 'forest', 'forest', 'forest', 'forest', 'forest', 'forest', 'forest', 'forest', 'forest', 'forest', 'forest', 'forest', 'forest', 'forest', 'forest', 'forest', 'forest', 'forest', 'forest', 'forest', 'forest', 'forest', 'forest', 'forest', 'forest', 'forest', 'forest', 'forest', 'forest', 'forest', 'forest', 'forest', 'forest', 'forest', 'forest', 'forest', 'forest', 'forest', 'forest', 'forest', 'forest', 'forest', 'forest', 'forest', 'forest', 'forest', 'forest', 'forest', 'forest', 'forest', 'forest', 'forest', 'forest', 'forest', 'forest', 'forest', 'forest', 'forest', 'forest', 'forest', 'forest', 'forest', 'forest', 'forest', 'forest', 'forest', 'forest', 'forest', 'forest', 'forest', 'forest', 'forest', 'forest', 'forest', 'forest', 'forest', 'forest', 'forest', 'forest', 'forest', 'forest', 'forest', 'forest', 'forest', 'forest', 'forest', 'forest', 'forest', 'forest', 'forest', 'forest', 'forest', 'forest', 'forest', 'forest', 'forest', 'forest', 'forest', 'forest', 'forest', 'forest', 'forest', 'forest', 'forest', 'forest', 'forest', 'forest', 'forest', 'forest', 'forest', 'forest', 'forest', 'forest', 'forest', 'forest', 'forest', 'forest', 'forest', 'forest', 'forest', 'forest', 'forest', 'forest', 'forest', 'forest', 'forest', 'forest', 'forest', 'forest', 'forest', 'forest', 'forest', 'forest', 'forest', 'forest', 'forest', 'forest', 'forest', 'forest', 'forest', 'forest', 'forest', 'forest', 'forest', 'forest', 'forest', 'forest', 'forest', 'forest', 'forest', 'forest', 'forest', 'forest', 'forest', 'forest', 'forest', 'forest', 'forest', 'forest', 'forest', 'forest', 'forest', 'forest', 'forest', 'forest', 'forest', 'forest', 'forest', 'forest', 'forest', 'forest', 'forest', 'forest', 'forest', 'forest', 'forest', 'forest', 'forest', 'forest', 'forest', 'forest', 'forest', 'forest', 'forest', 'forest', 'forest', 'forest', 'forest', 'forest', 'forest', 'forest', 'forest', 'forest', 'forest', 'forest', 'forest', 'forest', 'forest', 'forest', 'forest', 'forest', 'forest', 'forest', 'forest', 'forest', 'forest', 'forest', 'forest', 'forest', 'forest', 'forest', 'forest', 'forest', 'forest', 'forest', 'forest', 'forest', 'forest', 'forest', 'forest', 'forest', 'forest', 'forest', 'forest', 'forest', 'forest', 'forest', 'forest', 'forest', 'forest', 'forest', 'forest', 'forest', 'forest', 'forest', 'forest', 'forest', 'forest', 'forest', 'forest', 'forest', 'forest', 'forest', 'forest', 'forest', 'forest', 'forest', 'forest', 'forest', 'forest', 'forest', 'forest', 'forest', 'forest', 'forest', 'forest', 'forest', 'forest', 'forest', 'forest', 'forest', 'forest', 'forest', 'forest', 'forest', 'forest', 'forest', 'forest', 'forest', 'forest', 'forest', 'forest', 'forest', 'forest', 'forest', 'forest', 'forest', 'forest', 'forest', 'forest', 'forest', 'forest', 'forest', 'forest', 'forest', 'forest', 'forest', 'forest', 'forest', 'forest', 'forest', 'forest', 'forest', 'forest', 'forest', 'forest', 'forest', 'forest', 'forest', 'forest', 'forest', 'forest', 'forest', 'forest', 'forest', 'forest', 'forest', 'forest', 'forest', 'forest', 'forest', 'forest', 'forest', 'forest', 'forest', 'forest', 'forest', 'forest', 'forest', 'forest', 'forest', 'forest', 'forest', 'forest', 'forest', 'forest', 'forest', 'forest', 'forest', 'forest', 'forest', 'forest', 'forest', 'forest', 'forest', 'forest', 'forest', 'forest', 'forest', 'forest', 'forest', 'forest', 'forest', 'forest', 'forest', 'forest', 'forest', 'forest', 'forest', 'forest', 'forest', 'forest', 'forest', 'forest', 'forest', 'forest', 'forest', 'forest', 'forest', 'forest', 'forest', 'forest', 'forest', 'forest', 'forest', 'forest', 'forest', 'forest', 'forest', 'forest', 'forest', 'forest', 'forest', 'forest', 'forest', 'forest', 'forest', 'forest', 'forest', 'forest', 'forest', 'forest', 'forest', 'forest', 'forest', 'forest', 'forest', 'forest', 'forest', 'forest', 'forest', 'forest', 'forest', 'forest', 'forest', 'forest', 'forest', 'forest', 'forest', 'forest', 'forest', 'forest', 'forest', 'forest', 'forest', 'forest', 'forest', 'forest', 'forest', 'forest', 'forest', 'forest', 'forest', 'forest', 'forest', 'forest', 'forest', 'forest', 'forest', 'forest', 'forest', 'forest', 'forest', 'forest', 'forest', 'forest', 'forest', 'forest', 'forest', 'forest', 'forest', 'forest', 'forest', 'forest', 'forest', 'forest', 'forest', 'forest', 'forest', 'forest', 'forest', 'forest', 'forest', 'forest', 'forest', 'forest', 'forest', 'forest', 'forest', 'forest', 'forest', 'forest', 'forest', 'forest', 'forest', 'forest', 'forest', 'forest', 'forest', 'forest', 'forest', 'forest', 'forest', 'forest', 'forest', 'forest', 'forest', 'forest', 'forest', 'forest', 'forest', 'forest', 'forest', 'forest', 'forest', 'forest', 'forest', 'forest', 'forest', 'forest', 'forest', 'forest', 'forest', 'forest', 'forest', 'forest', 'forest', 'forest', 'forest', 'forest', 'forest', 'forest', 'forest', 'forest', 'forest', 'forest', 'forest', 'forest', 'forest', 'forest', 'forest', 'forest', 'forest', 'forest', 'forest', 'forest', 'forest', 'forest', 'forest', 'forest', 'forest', 'forest', 'forest', 'forest', 'forest', 'forest', 'forest', 'forest', 'forest', 'forest', 'forest', 'forest', 'forest', 'forest', 'forest', 'forest', 'forest', 'forest', 'forest', 'forest', 'forest', 'forest', 'forest', 'forest', 'forest', 'forest', 'forest', 'forest', 'forest', 'forest', 'forest', 'forest', 'forest', 'forest', 'forest', 'forest', 'forest', 'forest', 'forest', 'forest', 'forest', 'forest', 'forest', 'forest', 'forest', 'forest', 'forest', 'forest', 'forest', 'forest', 'forest', 'forest', 'forest', 'forest', 'forest', 'forest', 'forest', 'forest', 'forest', 'forest', 'forest', 'forest', 'forest', 'forest', 'forest', 'forest', 'forest', 'forest', 'forest', 'forest', 'forest', 'forest', 'forest', 'forest', 'forest', 'forest', 'forest', 'forest', 'forest', 'forest', 'forest', 'forest', 'forest', 'forest', 'forest', 'forest', 'forest', 'forest', 'forest', 'forest', 'forest', 'forest', 'forest', 'forest', 'forest', 'forest', 'forest', 'forest', 'forest', 'forest', 'forest', 'forest', 'forest', 'forest', 'forest', 'forest', 'forest', 'forest', 'forest', 'forest', 'forest', 'forest', 'forest', 'forest', 'forest', 'forest', 'forest', 'forest', 'forest', 'forest', 'forest', 'forest', 'forest', 'forest', 'forest', 'forest', 'forest', 'forest', 'forest', 'forest', 'forest', 'forest', 'forest', 'forest', 'forest', 'forest', 'forest', 'forest', 'forest', 'forest', 'forest', 'forest', 'forest', 'forest', 'forest', 'forest', 'forest', 'forest', 'forest', 'forest', 'forest', 'forest', 'forest', 'forest', 'forest', 'forest', 'forest', 'forest', 'forest', 'forest', 'forest', 'forest', 'forest', 'forest', 'forest', 'forest', 'forest', 'forest', 'forest', 'forest', 'forest', 'forest', 'forest', 'forest', 'forest', 'forest', 'forest', 'forest', 'forest', 'forest', 'forest', 'forest', 'forest', 'forest', 'forest', 'forest', 'forest', 'forest', 'forest', 'forest', 'forest', 'forest', 'forest', 'forest', 'forest', 'forest', 'forest', 'forest', 'forest', 'forest', 'forest', 'forest', 'forest', 'forest', 'forest', 'forest', 'forest', 'forest', 'forest', 'forest', 'forest', 'forest', 'forest', 'forest', 'forest', 'forest', 'forest', 'forest', 'forest', 'forest', 'forest', 'forest', 'forest', 'forest', 'forest', 'forest', 'forest', 'forest', 'forest', 'forest', 'forest', 'forest', 'forest', 'forest', 'forest', 'forest', 'forest', 'forest', 'forest', 'forest', 'forest', 'forest', 'forest', 'forest', 'forest', 'forest', 'forest', 'forest', 'forest', 'forest', 'forest', 'forest', 'forest', 'forest', 'forest', 'forest', 'forest', 'forest', 'forest', 'forest', 'forest', 'forest', 'forest', 'forest', 'forest', 'forest', 'forest', 'forest', 'forest', 'forest', 'forest', 'forest', 'forest', 'forest', 'forest', 'forest', 'forest', 'forest', 'forest', 'forest', 'forest', 'forest', 'forest', 'forest', 'forest', 'forest', 'forest', 'forest', 'forest', 'forest', 'forest', 'forest', 'forest', 'forest', 'forest', 'forest', 'forest', 'forest', 'forest', 'forest', 'forest', 'forest', 'forest', 'forest', 'forest', 'forest']\n",
            "<class 'list'>\n"
          ]
        }
      ]
    },
    {
      "cell_type": "markdown",
      "source": [
        "**Making a dataframe of the image names**"
      ],
      "metadata": {
        "id": "Edir5JSrbKRm"
      }
    },
    {
      "cell_type": "code",
      "source": [
        "y = pd.DataFrame(data = file_names)\n",
        "y.head(5)"
      ],
      "metadata": {
        "id": "CI9W1gGasmtU",
        "colab": {
          "base_uri": "https://localhost:8080/",
          "height": 206
        },
        "outputId": "a3190d2e-2715-4bba-fc80-8e653bb27d0b"
      },
      "execution_count": null,
      "outputs": [
        {
          "output_type": "execute_result",
          "data": {
            "text/plain": [
              "         0\n",
              "0  glacier\n",
              "1  glacier\n",
              "2  glacier\n",
              "3  glacier\n",
              "4  glacier"
            ],
            "text/html": [
              "\n",
              "  <div id=\"df-80c1c06e-8fa0-47ff-a4c4-6bb306c39d78\" class=\"colab-df-container\">\n",
              "    <div>\n",
              "<style scoped>\n",
              "    .dataframe tbody tr th:only-of-type {\n",
              "        vertical-align: middle;\n",
              "    }\n",
              "\n",
              "    .dataframe tbody tr th {\n",
              "        vertical-align: top;\n",
              "    }\n",
              "\n",
              "    .dataframe thead th {\n",
              "        text-align: right;\n",
              "    }\n",
              "</style>\n",
              "<table border=\"1\" class=\"dataframe\">\n",
              "  <thead>\n",
              "    <tr style=\"text-align: right;\">\n",
              "      <th></th>\n",
              "      <th>0</th>\n",
              "    </tr>\n",
              "  </thead>\n",
              "  <tbody>\n",
              "    <tr>\n",
              "      <th>0</th>\n",
              "      <td>glacier</td>\n",
              "    </tr>\n",
              "    <tr>\n",
              "      <th>1</th>\n",
              "      <td>glacier</td>\n",
              "    </tr>\n",
              "    <tr>\n",
              "      <th>2</th>\n",
              "      <td>glacier</td>\n",
              "    </tr>\n",
              "    <tr>\n",
              "      <th>3</th>\n",
              "      <td>glacier</td>\n",
              "    </tr>\n",
              "    <tr>\n",
              "      <th>4</th>\n",
              "      <td>glacier</td>\n",
              "    </tr>\n",
              "  </tbody>\n",
              "</table>\n",
              "</div>\n",
              "    <div class=\"colab-df-buttons\">\n",
              "\n",
              "  <div class=\"colab-df-container\">\n",
              "    <button class=\"colab-df-convert\" onclick=\"convertToInteractive('df-80c1c06e-8fa0-47ff-a4c4-6bb306c39d78')\"\n",
              "            title=\"Convert this dataframe to an interactive table.\"\n",
              "            style=\"display:none;\">\n",
              "\n",
              "  <svg xmlns=\"http://www.w3.org/2000/svg\" height=\"24px\" viewBox=\"0 -960 960 960\">\n",
              "    <path d=\"M120-120v-720h720v720H120Zm60-500h600v-160H180v160Zm220 220h160v-160H400v160Zm0 220h160v-160H400v160ZM180-400h160v-160H180v160Zm440 0h160v-160H620v160ZM180-180h160v-160H180v160Zm440 0h160v-160H620v160Z\"/>\n",
              "  </svg>\n",
              "    </button>\n",
              "\n",
              "  <style>\n",
              "    .colab-df-container {\n",
              "      display:flex;\n",
              "      gap: 12px;\n",
              "    }\n",
              "\n",
              "    .colab-df-convert {\n",
              "      background-color: #E8F0FE;\n",
              "      border: none;\n",
              "      border-radius: 50%;\n",
              "      cursor: pointer;\n",
              "      display: none;\n",
              "      fill: #1967D2;\n",
              "      height: 32px;\n",
              "      padding: 0 0 0 0;\n",
              "      width: 32px;\n",
              "    }\n",
              "\n",
              "    .colab-df-convert:hover {\n",
              "      background-color: #E2EBFA;\n",
              "      box-shadow: 0px 1px 2px rgba(60, 64, 67, 0.3), 0px 1px 3px 1px rgba(60, 64, 67, 0.15);\n",
              "      fill: #174EA6;\n",
              "    }\n",
              "\n",
              "    .colab-df-buttons div {\n",
              "      margin-bottom: 4px;\n",
              "    }\n",
              "\n",
              "    [theme=dark] .colab-df-convert {\n",
              "      background-color: #3B4455;\n",
              "      fill: #D2E3FC;\n",
              "    }\n",
              "\n",
              "    [theme=dark] .colab-df-convert:hover {\n",
              "      background-color: #434B5C;\n",
              "      box-shadow: 0px 1px 3px 1px rgba(0, 0, 0, 0.15);\n",
              "      filter: drop-shadow(0px 1px 2px rgba(0, 0, 0, 0.3));\n",
              "      fill: #FFFFFF;\n",
              "    }\n",
              "  </style>\n",
              "\n",
              "    <script>\n",
              "      const buttonEl =\n",
              "        document.querySelector('#df-80c1c06e-8fa0-47ff-a4c4-6bb306c39d78 button.colab-df-convert');\n",
              "      buttonEl.style.display =\n",
              "        google.colab.kernel.accessAllowed ? 'block' : 'none';\n",
              "\n",
              "      async function convertToInteractive(key) {\n",
              "        const element = document.querySelector('#df-80c1c06e-8fa0-47ff-a4c4-6bb306c39d78');\n",
              "        const dataTable =\n",
              "          await google.colab.kernel.invokeFunction('convertToInteractive',\n",
              "                                                    [key], {});\n",
              "        if (!dataTable) return;\n",
              "\n",
              "        const docLinkHtml = 'Like what you see? Visit the ' +\n",
              "          '<a target=\"_blank\" href=https://colab.research.google.com/notebooks/data_table.ipynb>data table notebook</a>'\n",
              "          + ' to learn more about interactive tables.';\n",
              "        element.innerHTML = '';\n",
              "        dataTable['output_type'] = 'display_data';\n",
              "        await google.colab.output.renderOutput(dataTable, element);\n",
              "        const docLink = document.createElement('div');\n",
              "        docLink.innerHTML = docLinkHtml;\n",
              "        element.appendChild(docLink);\n",
              "      }\n",
              "    </script>\n",
              "  </div>\n",
              "\n",
              "\n",
              "<div id=\"df-5b3dcfa1-7117-41d9-94dc-582775af7157\">\n",
              "  <button class=\"colab-df-quickchart\" onclick=\"quickchart('df-5b3dcfa1-7117-41d9-94dc-582775af7157')\"\n",
              "            title=\"Suggest charts\"\n",
              "            style=\"display:none;\">\n",
              "\n",
              "<svg xmlns=\"http://www.w3.org/2000/svg\" height=\"24px\"viewBox=\"0 0 24 24\"\n",
              "     width=\"24px\">\n",
              "    <g>\n",
              "        <path d=\"M19 3H5c-1.1 0-2 .9-2 2v14c0 1.1.9 2 2 2h14c1.1 0 2-.9 2-2V5c0-1.1-.9-2-2-2zM9 17H7v-7h2v7zm4 0h-2V7h2v10zm4 0h-2v-4h2v4z\"/>\n",
              "    </g>\n",
              "</svg>\n",
              "  </button>\n",
              "\n",
              "<style>\n",
              "  .colab-df-quickchart {\n",
              "      --bg-color: #E8F0FE;\n",
              "      --fill-color: #1967D2;\n",
              "      --hover-bg-color: #E2EBFA;\n",
              "      --hover-fill-color: #174EA6;\n",
              "      --disabled-fill-color: #AAA;\n",
              "      --disabled-bg-color: #DDD;\n",
              "  }\n",
              "\n",
              "  [theme=dark] .colab-df-quickchart {\n",
              "      --bg-color: #3B4455;\n",
              "      --fill-color: #D2E3FC;\n",
              "      --hover-bg-color: #434B5C;\n",
              "      --hover-fill-color: #FFFFFF;\n",
              "      --disabled-bg-color: #3B4455;\n",
              "      --disabled-fill-color: #666;\n",
              "  }\n",
              "\n",
              "  .colab-df-quickchart {\n",
              "    background-color: var(--bg-color);\n",
              "    border: none;\n",
              "    border-radius: 50%;\n",
              "    cursor: pointer;\n",
              "    display: none;\n",
              "    fill: var(--fill-color);\n",
              "    height: 32px;\n",
              "    padding: 0;\n",
              "    width: 32px;\n",
              "  }\n",
              "\n",
              "  .colab-df-quickchart:hover {\n",
              "    background-color: var(--hover-bg-color);\n",
              "    box-shadow: 0 1px 2px rgba(60, 64, 67, 0.3), 0 1px 3px 1px rgba(60, 64, 67, 0.15);\n",
              "    fill: var(--button-hover-fill-color);\n",
              "  }\n",
              "\n",
              "  .colab-df-quickchart-complete:disabled,\n",
              "  .colab-df-quickchart-complete:disabled:hover {\n",
              "    background-color: var(--disabled-bg-color);\n",
              "    fill: var(--disabled-fill-color);\n",
              "    box-shadow: none;\n",
              "  }\n",
              "\n",
              "  .colab-df-spinner {\n",
              "    border: 2px solid var(--fill-color);\n",
              "    border-color: transparent;\n",
              "    border-bottom-color: var(--fill-color);\n",
              "    animation:\n",
              "      spin 1s steps(1) infinite;\n",
              "  }\n",
              "\n",
              "  @keyframes spin {\n",
              "    0% {\n",
              "      border-color: transparent;\n",
              "      border-bottom-color: var(--fill-color);\n",
              "      border-left-color: var(--fill-color);\n",
              "    }\n",
              "    20% {\n",
              "      border-color: transparent;\n",
              "      border-left-color: var(--fill-color);\n",
              "      border-top-color: var(--fill-color);\n",
              "    }\n",
              "    30% {\n",
              "      border-color: transparent;\n",
              "      border-left-color: var(--fill-color);\n",
              "      border-top-color: var(--fill-color);\n",
              "      border-right-color: var(--fill-color);\n",
              "    }\n",
              "    40% {\n",
              "      border-color: transparent;\n",
              "      border-right-color: var(--fill-color);\n",
              "      border-top-color: var(--fill-color);\n",
              "    }\n",
              "    60% {\n",
              "      border-color: transparent;\n",
              "      border-right-color: var(--fill-color);\n",
              "    }\n",
              "    80% {\n",
              "      border-color: transparent;\n",
              "      border-right-color: var(--fill-color);\n",
              "      border-bottom-color: var(--fill-color);\n",
              "    }\n",
              "    90% {\n",
              "      border-color: transparent;\n",
              "      border-bottom-color: var(--fill-color);\n",
              "    }\n",
              "  }\n",
              "</style>\n",
              "\n",
              "  <script>\n",
              "    async function quickchart(key) {\n",
              "      const quickchartButtonEl =\n",
              "        document.querySelector('#' + key + ' button');\n",
              "      quickchartButtonEl.disabled = true;  // To prevent multiple clicks.\n",
              "      quickchartButtonEl.classList.add('colab-df-spinner');\n",
              "      try {\n",
              "        const charts = await google.colab.kernel.invokeFunction(\n",
              "            'suggestCharts', [key], {});\n",
              "      } catch (error) {\n",
              "        console.error('Error during call to suggestCharts:', error);\n",
              "      }\n",
              "      quickchartButtonEl.classList.remove('colab-df-spinner');\n",
              "      quickchartButtonEl.classList.add('colab-df-quickchart-complete');\n",
              "    }\n",
              "    (() => {\n",
              "      let quickchartButtonEl =\n",
              "        document.querySelector('#df-5b3dcfa1-7117-41d9-94dc-582775af7157 button');\n",
              "      quickchartButtonEl.style.display =\n",
              "        google.colab.kernel.accessAllowed ? 'block' : 'none';\n",
              "    })();\n",
              "  </script>\n",
              "</div>\n",
              "    </div>\n",
              "  </div>\n"
            ]
          },
          "metadata": {},
          "execution_count": 7
        }
      ]
    },
    {
      "cell_type": "markdown",
      "source": [
        "**Renaming the column of target variable's dataframe**"
      ],
      "metadata": {
        "id": "uZFAZfxUbTrM"
      }
    },
    {
      "cell_type": "code",
      "source": [
        "y.rename(columns = {0:'y'}, inplace = True)"
      ],
      "metadata": {
        "id": "-JpbZUkmv38K"
      },
      "execution_count": null,
      "outputs": []
    },
    {
      "cell_type": "markdown",
      "source": [
        "**Encoding variable names**"
      ],
      "metadata": {
        "id": "Z_oYpkmdbclY"
      }
    },
    {
      "cell_type": "code",
      "source": [
        "y.replace ({'y': {'forest':0, \"glacier\":1}}, inplace = True)"
      ],
      "metadata": {
        "id": "UN8ncYeyxV7B"
      },
      "execution_count": null,
      "outputs": []
    },
    {
      "cell_type": "markdown",
      "source": [
        "**Converting the images to numpy arrays**"
      ],
      "metadata": {
        "id": "V2hBfeY7b4eT"
      }
    },
    {
      "cell_type": "code",
      "source": [
        "image_directory = '/content/drive/MyDrive/projects/folder_resized/'\n",
        "image_extension = ['png', 'jpg']\n",
        "\n",
        "files = []\n",
        "\n",
        "[files.extend(glob.glob(image_directory + '*.' + e)) for e in image_extension]\n",
        "\n",
        "natural_images = np.asarray([cv2.imread(file) for file in files])\n",
        "print (natural_images.shape, type(natural_images))"
      ],
      "metadata": {
        "id": "rfYbaBFp8AQt",
        "colab": {
          "base_uri": "https://localhost:8080/"
        },
        "outputId": "396bee49-bcd3-4560-c957-66168d50293c"
      },
      "execution_count": null,
      "outputs": [
        {
          "output_type": "stream",
          "name": "stdout",
          "text": [
            "(2000, 224, 224, 3) <class 'numpy.ndarray'>\n"
          ]
        }
      ]
    },
    {
      "cell_type": "markdown",
      "source": [
        "**Assigning variable names to dependent and independent features**"
      ],
      "metadata": {
        "id": "Nw_JmAa0b-sK"
      }
    },
    {
      "cell_type": "code",
      "source": [
        "x = natural_images\n",
        "y = np.asarray(y)"
      ],
      "metadata": {
        "id": "r1t4SF5M_OTd"
      },
      "execution_count": null,
      "outputs": []
    },
    {
      "cell_type": "markdown",
      "source": [
        "**Making train, test and validation splits**"
      ],
      "metadata": {
        "id": "USVhLBxOcGBQ"
      }
    },
    {
      "cell_type": "code",
      "source": [
        "x_train_old, x_test = train_test_split(x, test_size=0.2, random_state=2)\n",
        "x_train, x_val = train_test_split(x_train_old, test_size=0.2, random_state=2)\n",
        "\n",
        "y_train_old, y_test = train_test_split(y, test_size=0.2, random_state=2)\n",
        "y_train, y_val = train_test_split(y_train_old, test_size=0.2, random_state=2)"
      ],
      "metadata": {
        "id": "wZpBhYTizsXc"
      },
      "execution_count": null,
      "outputs": []
    },
    {
      "cell_type": "markdown",
      "source": [
        "**Scaling the data**"
      ],
      "metadata": {
        "id": "apN5YAw4cPlc"
      }
    },
    {
      "cell_type": "code",
      "source": [
        "x_train_scaled = x_train/255\n",
        "\n",
        "x_test_scaled = x_test/255\n",
        "\n",
        "x_val_scaled = x_val/255"
      ],
      "metadata": {
        "id": "Hb7mqRu3P6Nu"
      },
      "execution_count": null,
      "outputs": []
    },
    {
      "cell_type": "markdown",
      "source": [
        "**Converting numpy array to 2d format**"
      ],
      "metadata": {
        "id": "J-axDZ9zcUPL"
      }
    },
    {
      "cell_type": "code",
      "source": [
        "x_train_scaled_2d = x_train_scaled.reshape(x_train_scaled.shape[0], -1)\n",
        "\n",
        "# Create a DataFrame\n",
        "x_train_scaled_df = pd.DataFrame(x_train_scaled_2d)\n",
        "x_train_scaled_df.head(3)"
      ],
      "metadata": {
        "colab": {
          "base_uri": "https://localhost:8080/",
          "height": 193
        },
        "id": "LL1XPeDiAYFZ",
        "outputId": "7c18a453-9cd7-46a1-de4b-c6e1ec5fae3e"
      },
      "execution_count": null,
      "outputs": [
        {
          "output_type": "execute_result",
          "data": {
            "text/plain": [
              "     0         1         2         3         4         5         6       \\\n",
              "0  0.529412  0.458824  0.345098  0.411765  0.341176  0.227451  0.380392   \n",
              "1  0.258824  0.274510  0.231373  0.239216  0.254902  0.211765  0.266667   \n",
              "2  0.898039  0.862745  0.823529  0.898039  0.862745  0.823529  0.898039   \n",
              "\n",
              "     7         8         9       ...    150518    150519    150520    150521  \\\n",
              "0  0.313725  0.211765  0.380392  ...  0.078431  0.329412  0.219608  0.082353   \n",
              "1  0.290196  0.247059  0.329412  ...  0.192157  0.258824  0.196078  0.200000   \n",
              "2  0.862745  0.823529  0.901961  ...  0.462745  0.498039  0.498039  0.474510   \n",
              "\n",
              "     150522    150523    150524    150525    150526    150527  \n",
              "0  0.329412  0.223529  0.078431  0.329412  0.223529  0.078431  \n",
              "1  0.258824  0.200000  0.192157  0.243137  0.184314  0.176471  \n",
              "2  0.494118  0.494118  0.470588  0.482353  0.482353  0.458824  \n",
              "\n",
              "[3 rows x 150528 columns]"
            ],
            "text/html": [
              "\n",
              "  <div id=\"df-2b62623b-0ebb-4436-8ee4-b647d6a6e330\" class=\"colab-df-container\">\n",
              "    <div>\n",
              "<style scoped>\n",
              "    .dataframe tbody tr th:only-of-type {\n",
              "        vertical-align: middle;\n",
              "    }\n",
              "\n",
              "    .dataframe tbody tr th {\n",
              "        vertical-align: top;\n",
              "    }\n",
              "\n",
              "    .dataframe thead th {\n",
              "        text-align: right;\n",
              "    }\n",
              "</style>\n",
              "<table border=\"1\" class=\"dataframe\">\n",
              "  <thead>\n",
              "    <tr style=\"text-align: right;\">\n",
              "      <th></th>\n",
              "      <th>0</th>\n",
              "      <th>1</th>\n",
              "      <th>2</th>\n",
              "      <th>3</th>\n",
              "      <th>4</th>\n",
              "      <th>5</th>\n",
              "      <th>6</th>\n",
              "      <th>7</th>\n",
              "      <th>8</th>\n",
              "      <th>9</th>\n",
              "      <th>...</th>\n",
              "      <th>150518</th>\n",
              "      <th>150519</th>\n",
              "      <th>150520</th>\n",
              "      <th>150521</th>\n",
              "      <th>150522</th>\n",
              "      <th>150523</th>\n",
              "      <th>150524</th>\n",
              "      <th>150525</th>\n",
              "      <th>150526</th>\n",
              "      <th>150527</th>\n",
              "    </tr>\n",
              "  </thead>\n",
              "  <tbody>\n",
              "    <tr>\n",
              "      <th>0</th>\n",
              "      <td>0.529412</td>\n",
              "      <td>0.458824</td>\n",
              "      <td>0.345098</td>\n",
              "      <td>0.411765</td>\n",
              "      <td>0.341176</td>\n",
              "      <td>0.227451</td>\n",
              "      <td>0.380392</td>\n",
              "      <td>0.313725</td>\n",
              "      <td>0.211765</td>\n",
              "      <td>0.380392</td>\n",
              "      <td>...</td>\n",
              "      <td>0.078431</td>\n",
              "      <td>0.329412</td>\n",
              "      <td>0.219608</td>\n",
              "      <td>0.082353</td>\n",
              "      <td>0.329412</td>\n",
              "      <td>0.223529</td>\n",
              "      <td>0.078431</td>\n",
              "      <td>0.329412</td>\n",
              "      <td>0.223529</td>\n",
              "      <td>0.078431</td>\n",
              "    </tr>\n",
              "    <tr>\n",
              "      <th>1</th>\n",
              "      <td>0.258824</td>\n",
              "      <td>0.274510</td>\n",
              "      <td>0.231373</td>\n",
              "      <td>0.239216</td>\n",
              "      <td>0.254902</td>\n",
              "      <td>0.211765</td>\n",
              "      <td>0.266667</td>\n",
              "      <td>0.290196</td>\n",
              "      <td>0.247059</td>\n",
              "      <td>0.329412</td>\n",
              "      <td>...</td>\n",
              "      <td>0.192157</td>\n",
              "      <td>0.258824</td>\n",
              "      <td>0.196078</td>\n",
              "      <td>0.200000</td>\n",
              "      <td>0.258824</td>\n",
              "      <td>0.200000</td>\n",
              "      <td>0.192157</td>\n",
              "      <td>0.243137</td>\n",
              "      <td>0.184314</td>\n",
              "      <td>0.176471</td>\n",
              "    </tr>\n",
              "    <tr>\n",
              "      <th>2</th>\n",
              "      <td>0.898039</td>\n",
              "      <td>0.862745</td>\n",
              "      <td>0.823529</td>\n",
              "      <td>0.898039</td>\n",
              "      <td>0.862745</td>\n",
              "      <td>0.823529</td>\n",
              "      <td>0.898039</td>\n",
              "      <td>0.862745</td>\n",
              "      <td>0.823529</td>\n",
              "      <td>0.901961</td>\n",
              "      <td>...</td>\n",
              "      <td>0.462745</td>\n",
              "      <td>0.498039</td>\n",
              "      <td>0.498039</td>\n",
              "      <td>0.474510</td>\n",
              "      <td>0.494118</td>\n",
              "      <td>0.494118</td>\n",
              "      <td>0.470588</td>\n",
              "      <td>0.482353</td>\n",
              "      <td>0.482353</td>\n",
              "      <td>0.458824</td>\n",
              "    </tr>\n",
              "  </tbody>\n",
              "</table>\n",
              "<p>3 rows × 150528 columns</p>\n",
              "</div>\n",
              "    <div class=\"colab-df-buttons\">\n",
              "\n",
              "  <div class=\"colab-df-container\">\n",
              "    <button class=\"colab-df-convert\" onclick=\"convertToInteractive('df-2b62623b-0ebb-4436-8ee4-b647d6a6e330')\"\n",
              "            title=\"Convert this dataframe to an interactive table.\"\n",
              "            style=\"display:none;\">\n",
              "\n",
              "  <svg xmlns=\"http://www.w3.org/2000/svg\" height=\"24px\" viewBox=\"0 -960 960 960\">\n",
              "    <path d=\"M120-120v-720h720v720H120Zm60-500h600v-160H180v160Zm220 220h160v-160H400v160Zm0 220h160v-160H400v160ZM180-400h160v-160H180v160Zm440 0h160v-160H620v160ZM180-180h160v-160H180v160Zm440 0h160v-160H620v160Z\"/>\n",
              "  </svg>\n",
              "    </button>\n",
              "\n",
              "  <style>\n",
              "    .colab-df-container {\n",
              "      display:flex;\n",
              "      gap: 12px;\n",
              "    }\n",
              "\n",
              "    .colab-df-convert {\n",
              "      background-color: #E8F0FE;\n",
              "      border: none;\n",
              "      border-radius: 50%;\n",
              "      cursor: pointer;\n",
              "      display: none;\n",
              "      fill: #1967D2;\n",
              "      height: 32px;\n",
              "      padding: 0 0 0 0;\n",
              "      width: 32px;\n",
              "    }\n",
              "\n",
              "    .colab-df-convert:hover {\n",
              "      background-color: #E2EBFA;\n",
              "      box-shadow: 0px 1px 2px rgba(60, 64, 67, 0.3), 0px 1px 3px 1px rgba(60, 64, 67, 0.15);\n",
              "      fill: #174EA6;\n",
              "    }\n",
              "\n",
              "    .colab-df-buttons div {\n",
              "      margin-bottom: 4px;\n",
              "    }\n",
              "\n",
              "    [theme=dark] .colab-df-convert {\n",
              "      background-color: #3B4455;\n",
              "      fill: #D2E3FC;\n",
              "    }\n",
              "\n",
              "    [theme=dark] .colab-df-convert:hover {\n",
              "      background-color: #434B5C;\n",
              "      box-shadow: 0px 1px 3px 1px rgba(0, 0, 0, 0.15);\n",
              "      filter: drop-shadow(0px 1px 2px rgba(0, 0, 0, 0.3));\n",
              "      fill: #FFFFFF;\n",
              "    }\n",
              "  </style>\n",
              "\n",
              "    <script>\n",
              "      const buttonEl =\n",
              "        document.querySelector('#df-2b62623b-0ebb-4436-8ee4-b647d6a6e330 button.colab-df-convert');\n",
              "      buttonEl.style.display =\n",
              "        google.colab.kernel.accessAllowed ? 'block' : 'none';\n",
              "\n",
              "      async function convertToInteractive(key) {\n",
              "        const element = document.querySelector('#df-2b62623b-0ebb-4436-8ee4-b647d6a6e330');\n",
              "        const dataTable =\n",
              "          await google.colab.kernel.invokeFunction('convertToInteractive',\n",
              "                                                    [key], {});\n",
              "        if (!dataTable) return;\n",
              "\n",
              "        const docLinkHtml = 'Like what you see? Visit the ' +\n",
              "          '<a target=\"_blank\" href=https://colab.research.google.com/notebooks/data_table.ipynb>data table notebook</a>'\n",
              "          + ' to learn more about interactive tables.';\n",
              "        element.innerHTML = '';\n",
              "        dataTable['output_type'] = 'display_data';\n",
              "        await google.colab.output.renderOutput(dataTable, element);\n",
              "        const docLink = document.createElement('div');\n",
              "        docLink.innerHTML = docLinkHtml;\n",
              "        element.appendChild(docLink);\n",
              "      }\n",
              "    </script>\n",
              "  </div>\n",
              "\n",
              "\n",
              "<div id=\"df-f238f7ac-1f61-42c1-be8e-ee454ae35dcf\">\n",
              "  <button class=\"colab-df-quickchart\" onclick=\"quickchart('df-f238f7ac-1f61-42c1-be8e-ee454ae35dcf')\"\n",
              "            title=\"Suggest charts\"\n",
              "            style=\"display:none;\">\n",
              "\n",
              "<svg xmlns=\"http://www.w3.org/2000/svg\" height=\"24px\"viewBox=\"0 0 24 24\"\n",
              "     width=\"24px\">\n",
              "    <g>\n",
              "        <path d=\"M19 3H5c-1.1 0-2 .9-2 2v14c0 1.1.9 2 2 2h14c1.1 0 2-.9 2-2V5c0-1.1-.9-2-2-2zM9 17H7v-7h2v7zm4 0h-2V7h2v10zm4 0h-2v-4h2v4z\"/>\n",
              "    </g>\n",
              "</svg>\n",
              "  </button>\n",
              "\n",
              "<style>\n",
              "  .colab-df-quickchart {\n",
              "      --bg-color: #E8F0FE;\n",
              "      --fill-color: #1967D2;\n",
              "      --hover-bg-color: #E2EBFA;\n",
              "      --hover-fill-color: #174EA6;\n",
              "      --disabled-fill-color: #AAA;\n",
              "      --disabled-bg-color: #DDD;\n",
              "  }\n",
              "\n",
              "  [theme=dark] .colab-df-quickchart {\n",
              "      --bg-color: #3B4455;\n",
              "      --fill-color: #D2E3FC;\n",
              "      --hover-bg-color: #434B5C;\n",
              "      --hover-fill-color: #FFFFFF;\n",
              "      --disabled-bg-color: #3B4455;\n",
              "      --disabled-fill-color: #666;\n",
              "  }\n",
              "\n",
              "  .colab-df-quickchart {\n",
              "    background-color: var(--bg-color);\n",
              "    border: none;\n",
              "    border-radius: 50%;\n",
              "    cursor: pointer;\n",
              "    display: none;\n",
              "    fill: var(--fill-color);\n",
              "    height: 32px;\n",
              "    padding: 0;\n",
              "    width: 32px;\n",
              "  }\n",
              "\n",
              "  .colab-df-quickchart:hover {\n",
              "    background-color: var(--hover-bg-color);\n",
              "    box-shadow: 0 1px 2px rgba(60, 64, 67, 0.3), 0 1px 3px 1px rgba(60, 64, 67, 0.15);\n",
              "    fill: var(--button-hover-fill-color);\n",
              "  }\n",
              "\n",
              "  .colab-df-quickchart-complete:disabled,\n",
              "  .colab-df-quickchart-complete:disabled:hover {\n",
              "    background-color: var(--disabled-bg-color);\n",
              "    fill: var(--disabled-fill-color);\n",
              "    box-shadow: none;\n",
              "  }\n",
              "\n",
              "  .colab-df-spinner {\n",
              "    border: 2px solid var(--fill-color);\n",
              "    border-color: transparent;\n",
              "    border-bottom-color: var(--fill-color);\n",
              "    animation:\n",
              "      spin 1s steps(1) infinite;\n",
              "  }\n",
              "\n",
              "  @keyframes spin {\n",
              "    0% {\n",
              "      border-color: transparent;\n",
              "      border-bottom-color: var(--fill-color);\n",
              "      border-left-color: var(--fill-color);\n",
              "    }\n",
              "    20% {\n",
              "      border-color: transparent;\n",
              "      border-left-color: var(--fill-color);\n",
              "      border-top-color: var(--fill-color);\n",
              "    }\n",
              "    30% {\n",
              "      border-color: transparent;\n",
              "      border-left-color: var(--fill-color);\n",
              "      border-top-color: var(--fill-color);\n",
              "      border-right-color: var(--fill-color);\n",
              "    }\n",
              "    40% {\n",
              "      border-color: transparent;\n",
              "      border-right-color: var(--fill-color);\n",
              "      border-top-color: var(--fill-color);\n",
              "    }\n",
              "    60% {\n",
              "      border-color: transparent;\n",
              "      border-right-color: var(--fill-color);\n",
              "    }\n",
              "    80% {\n",
              "      border-color: transparent;\n",
              "      border-right-color: var(--fill-color);\n",
              "      border-bottom-color: var(--fill-color);\n",
              "    }\n",
              "    90% {\n",
              "      border-color: transparent;\n",
              "      border-bottom-color: var(--fill-color);\n",
              "    }\n",
              "  }\n",
              "</style>\n",
              "\n",
              "  <script>\n",
              "    async function quickchart(key) {\n",
              "      const quickchartButtonEl =\n",
              "        document.querySelector('#' + key + ' button');\n",
              "      quickchartButtonEl.disabled = true;  // To prevent multiple clicks.\n",
              "      quickchartButtonEl.classList.add('colab-df-spinner');\n",
              "      try {\n",
              "        const charts = await google.colab.kernel.invokeFunction(\n",
              "            'suggestCharts', [key], {});\n",
              "      } catch (error) {\n",
              "        console.error('Error during call to suggestCharts:', error);\n",
              "      }\n",
              "      quickchartButtonEl.classList.remove('colab-df-spinner');\n",
              "      quickchartButtonEl.classList.add('colab-df-quickchart-complete');\n",
              "    }\n",
              "    (() => {\n",
              "      let quickchartButtonEl =\n",
              "        document.querySelector('#df-f238f7ac-1f61-42c1-be8e-ee454ae35dcf button');\n",
              "      quickchartButtonEl.style.display =\n",
              "        google.colab.kernel.accessAllowed ? 'block' : 'none';\n",
              "    })();\n",
              "  </script>\n",
              "</div>\n",
              "    </div>\n",
              "  </div>\n"
            ]
          },
          "metadata": {},
          "execution_count": 14
        }
      ]
    },
    {
      "cell_type": "markdown",
      "source": [
        "**Downloading and initializing VGG19 model**"
      ],
      "metadata": {
        "id": "2RyoMuRschbb"
      }
    },
    {
      "cell_type": "code",
      "source": [
        "pretrained_model = VGG19(weights='imagenet', include_top=False, input_shape=(224, 224, 3))"
      ],
      "metadata": {
        "id": "8V8RjxvUt5kR",
        "colab": {
          "base_uri": "https://localhost:8080/"
        },
        "outputId": "60b7edc3-26e7-4729-e781-e19361d6c1d2"
      },
      "execution_count": null,
      "outputs": [
        {
          "output_type": "stream",
          "name": "stdout",
          "text": [
            "Downloading data from https://storage.googleapis.com/tensorflow/keras-applications/vgg19/vgg19_weights_tf_dim_ordering_tf_kernels_notop.h5\n",
            "80134624/80134624 [==============================] - 3s 0us/step\n"
          ]
        }
      ]
    },
    {
      "cell_type": "markdown",
      "source": [
        "**Freezing the pre-trained layers**"
      ],
      "metadata": {
        "id": "nhT0AGpPccYi"
      }
    },
    {
      "cell_type": "code",
      "source": [
        "for layer in pretrained_model.layers:\n",
        "    layer.trainable = False"
      ],
      "metadata": {
        "id": "oLOukZVwe5-B"
      },
      "execution_count": null,
      "outputs": []
    },
    {
      "cell_type": "markdown",
      "source": [
        "**Building the neural network and tweaking its settings according to our requirements**"
      ],
      "metadata": {
        "id": "hG7_7csNcoVk"
      }
    },
    {
      "cell_type": "code",
      "source": [
        "model = Sequential()\n",
        "model.add(pretrained_model)\n",
        "model.add(Flatten())\n",
        "model.add(Dense(256, activation='relu'))\n",
        "model.add(Dense(2, activation='sigmoid'))\n",
        "model.compile(optimizer='adam', loss='sparse_categorical_crossentropy', metrics=['accuracy'])\n",
        "model.summary()"
      ],
      "metadata": {
        "id": "athwJ8eOfHiU",
        "colab": {
          "base_uri": "https://localhost:8080/"
        },
        "outputId": "c5f5ee59-c061-43f2-cc19-b6d872ad154a"
      },
      "execution_count": null,
      "outputs": [
        {
          "output_type": "stream",
          "name": "stdout",
          "text": [
            "Model: \"sequential\"\n",
            "_________________________________________________________________\n",
            " Layer (type)                Output Shape              Param #   \n",
            "=================================================================\n",
            " vgg19 (Functional)          (None, 7, 7, 512)         20024384  \n",
            "                                                                 \n",
            " flatten (Flatten)           (None, 25088)             0         \n",
            "                                                                 \n",
            " dense (Dense)               (None, 256)               6422784   \n",
            "                                                                 \n",
            " dense_1 (Dense)             (None, 2)                 514       \n",
            "                                                                 \n",
            "=================================================================\n",
            "Total params: 26447682 (100.89 MB)\n",
            "Trainable params: 6423298 (24.50 MB)\n",
            "Non-trainable params: 20024384 (76.39 MB)\n",
            "_________________________________________________________________\n"
          ]
        }
      ]
    },
    {
      "cell_type": "markdown",
      "source": [
        "**Introducing early stopping to avoid overfitting**"
      ],
      "metadata": {
        "id": "CQU1Ko5mc6fx"
      }
    },
    {
      "cell_type": "code",
      "source": [
        "early_stopping = tf.keras.callbacks.EarlyStopping(\n",
        "    monitor=\"val_loss\",\n",
        "    min_delta=0.0001,\n",
        "    patience=20,\n",
        "    verbose=1,\n",
        "    mode=\"auto\",\n",
        "    baseline=None,\n",
        "    restore_best_weights=False,\n",
        "    start_from_epoch=0)"
      ],
      "metadata": {
        "id": "wgnceqbtL2T6"
      },
      "execution_count": null,
      "outputs": []
    },
    {
      "cell_type": "markdown",
      "source": [
        "**Model training**"
      ],
      "metadata": {
        "id": "wY8PxR8gdA6B"
      }
    },
    {
      "cell_type": "code",
      "source": [
        "model.fit(x_train_scaled, y_train, validation_data = (x_val_scaled, y_val), epochs=1000, batch_size=4, callbacks=early_stopping)"
      ],
      "metadata": {
        "colab": {
          "base_uri": "https://localhost:8080/"
        },
        "id": "MU4S9UdVAJ3c",
        "outputId": "3cecb10d-6aa6-4561-e4f0-a917e523e24e"
      },
      "execution_count": null,
      "outputs": [
        {
          "output_type": "stream",
          "name": "stdout",
          "text": [
            "Epoch 1/1000\n",
            "320/320 [==============================] - 27s 53ms/step - loss: 0.3108 - accuracy: 0.9453 - val_loss: 0.7929 - val_accuracy: 0.8875\n",
            "Epoch 2/1000\n",
            "320/320 [==============================] - 16s 51ms/step - loss: 0.1231 - accuracy: 0.9758 - val_loss: 0.1766 - val_accuracy: 0.9719\n",
            "Epoch 3/1000\n",
            "320/320 [==============================] - 17s 52ms/step - loss: 0.0278 - accuracy: 0.9953 - val_loss: 0.2050 - val_accuracy: 0.9688\n",
            "Epoch 4/1000\n",
            "320/320 [==============================] - 15s 46ms/step - loss: 0.0141 - accuracy: 0.9953 - val_loss: 0.1275 - val_accuracy: 0.9781\n",
            "Epoch 5/1000\n",
            "320/320 [==============================] - 17s 55ms/step - loss: 0.0029 - accuracy: 0.9984 - val_loss: 0.1831 - val_accuracy: 0.9750\n",
            "Epoch 6/1000\n",
            "320/320 [==============================] - 17s 54ms/step - loss: 0.0262 - accuracy: 0.9922 - val_loss: 0.1377 - val_accuracy: 0.9812\n",
            "Epoch 7/1000\n",
            "320/320 [==============================] - 17s 53ms/step - loss: 2.3527e-04 - accuracy: 1.0000 - val_loss: 0.1666 - val_accuracy: 0.9781\n",
            "Epoch 8/1000\n",
            "320/320 [==============================] - 15s 45ms/step - loss: 2.4664e-04 - accuracy: 1.0000 - val_loss: 0.1472 - val_accuracy: 0.9781\n",
            "Epoch 9/1000\n",
            "320/320 [==============================] - 15s 46ms/step - loss: 7.6748e-05 - accuracy: 1.0000 - val_loss: 0.1526 - val_accuracy: 0.9781\n",
            "Epoch 10/1000\n",
            "320/320 [==============================] - 17s 53ms/step - loss: 5.3859e-05 - accuracy: 1.0000 - val_loss: 0.1516 - val_accuracy: 0.9781\n",
            "Epoch 11/1000\n",
            "320/320 [==============================] - 15s 46ms/step - loss: 3.9526e-05 - accuracy: 1.0000 - val_loss: 0.1566 - val_accuracy: 0.9781\n",
            "Epoch 12/1000\n",
            "320/320 [==============================] - 17s 53ms/step - loss: 3.8802e-05 - accuracy: 1.0000 - val_loss: 0.1561 - val_accuracy: 0.9781\n",
            "Epoch 13/1000\n",
            "320/320 [==============================] - 17s 53ms/step - loss: 3.1172e-05 - accuracy: 1.0000 - val_loss: 0.1545 - val_accuracy: 0.9781\n",
            "Epoch 14/1000\n",
            "320/320 [==============================] - 17s 53ms/step - loss: 2.6595e-05 - accuracy: 1.0000 - val_loss: 0.1604 - val_accuracy: 0.9781\n",
            "Epoch 15/1000\n",
            "320/320 [==============================] - 15s 46ms/step - loss: 2.5438e-05 - accuracy: 1.0000 - val_loss: 0.1583 - val_accuracy: 0.9781\n",
            "Epoch 16/1000\n",
            "320/320 [==============================] - 17s 53ms/step - loss: 1.9094e-05 - accuracy: 1.0000 - val_loss: 0.1615 - val_accuracy: 0.9781\n",
            "Epoch 17/1000\n",
            "320/320 [==============================] - 15s 46ms/step - loss: 1.7047e-05 - accuracy: 1.0000 - val_loss: 0.1618 - val_accuracy: 0.9781\n",
            "Epoch 18/1000\n",
            "320/320 [==============================] - 17s 53ms/step - loss: 1.5444e-05 - accuracy: 1.0000 - val_loss: 0.1634 - val_accuracy: 0.9781\n",
            "Epoch 19/1000\n",
            "320/320 [==============================] - 15s 46ms/step - loss: 1.2830e-05 - accuracy: 1.0000 - val_loss: 0.1647 - val_accuracy: 0.9781\n",
            "Epoch 20/1000\n",
            "320/320 [==============================] - 17s 53ms/step - loss: 1.0415e-05 - accuracy: 1.0000 - val_loss: 0.1668 - val_accuracy: 0.9781\n",
            "Epoch 21/1000\n",
            "320/320 [==============================] - 15s 46ms/step - loss: 8.9765e-06 - accuracy: 1.0000 - val_loss: 0.1696 - val_accuracy: 0.9781\n",
            "Epoch 22/1000\n",
            "320/320 [==============================] - 17s 53ms/step - loss: 8.2041e-06 - accuracy: 1.0000 - val_loss: 0.1708 - val_accuracy: 0.9781\n",
            "Epoch 23/1000\n",
            "320/320 [==============================] - 15s 46ms/step - loss: 6.9811e-06 - accuracy: 1.0000 - val_loss: 0.1704 - val_accuracy: 0.9781\n",
            "Epoch 24/1000\n",
            "320/320 [==============================] - 17s 53ms/step - loss: 6.0807e-06 - accuracy: 1.0000 - val_loss: 0.1764 - val_accuracy: 0.9812\n",
            "Epoch 24: early stopping\n"
          ]
        },
        {
          "output_type": "execute_result",
          "data": {
            "text/plain": [
              "<keras.src.callbacks.History at 0x7b39f6f51db0>"
            ]
          },
          "metadata": {},
          "execution_count": 19
        }
      ]
    },
    {
      "cell_type": "markdown",
      "source": [
        "**Model evaluation**"
      ],
      "metadata": {
        "id": "U-EBoNvBdDrB"
      }
    },
    {
      "cell_type": "code",
      "source": [
        "score, acc = model.evaluate(x_test_scaled, y_test)\n",
        "print('Test Loss =', score)\n",
        "print('Test Accuracy =', acc*100)"
      ],
      "metadata": {
        "colab": {
          "base_uri": "https://localhost:8080/"
        },
        "id": "_H6s8NN6Suzz",
        "outputId": "cdb89922-e2cb-48cd-946d-a3260fc713aa"
      },
      "execution_count": null,
      "outputs": [
        {
          "output_type": "stream",
          "name": "stdout",
          "text": [
            "13/13 [==============================] - 8s 337ms/step - loss: 0.0523 - accuracy: 0.9875\n",
            "Test Loss = 0.05234219506382942\n",
            "Test Accuracy = 98.7500011920929\n"
          ]
        }
      ]
    },
    {
      "cell_type": "markdown",
      "source": [
        "**Saving the trained model**"
      ],
      "metadata": {
        "id": "1AufIZoUdMV7"
      }
    },
    {
      "cell_type": "code",
      "source": [
        "model.save('vgg19_model.h5')"
      ],
      "metadata": {
        "id": "y7QJxEiy6xx6"
      },
      "execution_count": null,
      "outputs": []
    },
    {
      "cell_type": "markdown",
      "source": [
        "**Loading the trained model**"
      ],
      "metadata": {
        "id": "0Akrguk-dO4K"
      }
    },
    {
      "cell_type": "code",
      "source": [
        "# Load the saved model\n",
        "loaded_model = load_model('vgg19_model.h5')"
      ],
      "metadata": {
        "id": "GiU6Zw4Q7dgi"
      },
      "execution_count": null,
      "outputs": []
    },
    {
      "cell_type": "markdown",
      "source": [
        "**Taking user input and making predictions from the trained model**"
      ],
      "metadata": {
        "id": "Ihfz84k_dRQ1"
      }
    },
    {
      "cell_type": "code",
      "source": [
        "input_image_path = input('Path of the image to be predicted: ')\n",
        "input_image = cv2.imread(input_image_path)\n",
        "cv2_imshow(input_image)\n",
        "input_image_resize = cv2.resize(input_image, (224,224))\n",
        "input_image_scaled = input_image_resize/255\n",
        "image_reshaped = np.reshape(input_image_scaled, [1,224,224,3])\n",
        "input_prediction = loaded_model.predict(image_reshaped)\n",
        "input_pred_label = np.argmax(input_prediction)\n",
        "if input_pred_label == 0:\n",
        "  print ('It is a forest')\n",
        "elif input_pred_label == 1:\n",
        "  print ('It is a glacier')"
      ],
      "metadata": {
        "colab": {
          "base_uri": "https://localhost:8080/",
          "height": 219
        },
        "id": "BVKRtTww66LM",
        "outputId": "e40b4689-c47a-4a22-8f91-a229fbca8e89"
      },
      "execution_count": null,
      "outputs": [
        {
          "name": "stdout",
          "output_type": "stream",
          "text": [
            "Path of the image to be predicted: /content/drive/MyDrive/projects/20059.jpg\n"
          ]
        },
        {
          "output_type": "display_data",
          "data": {
            "text/plain": [
              "<PIL.Image.Image image mode=RGB size=150x150>"
            ],
            "image/png": "[encoded data removed]"
          },
          "metadata": {}
        },
        {
          "output_type": "stream",
          "name": "stdout",
          "text": [
            "1/1 [==============================] - 1s 789ms/step\n",
            "It is a glacier\n"
          ]
        }
      ]
    },
    {
      "cell_type": "code",
      "source": [],
      "metadata": {
        "id": "A7jQuQSx7BzJ"
      },
      "execution_count": null,
      "outputs": []
    }
  ]
}