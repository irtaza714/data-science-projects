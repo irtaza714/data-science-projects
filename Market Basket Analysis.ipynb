{
 "cells": [
  {
   "cell_type": "code",
   "execution_count": 1,
   "metadata": {
    "colab": {
     "base_uri": "https://localhost:8080/"
    },
    "id": "EF5eg-6t3zms",
    "outputId": "73420f49-aad9-4c0d-95de-23d010aa822d"
   },
   "outputs": [],
   "source": [
    "import warnings\n",
    "warnings.filterwarnings(\"ignore\")\n",
    "import numpy as np\n",
    "import pandas as pd\n",
    "from mlxtend.frequent_patterns import fpgrowth\n",
    "from mlxtend.frequent_patterns import association_rules\n",
    "from mlxtend.preprocessing import TransactionEncoder"
   ]
  },
  {
   "cell_type": "code",
   "execution_count": 2,
   "metadata": {
    "colab": {
     "base_uri": "https://localhost:8080/"
    },
    "id": "p0nXNfUL33fN",
    "outputId": "b2430f76-3f77-41b9-ac03-0a4dab51c46a"
   },
   "outputs": [
    {
     "data": {
      "text/html": [
       "<div>\n",
       "<style scoped>\n",
       "    .dataframe tbody tr th:only-of-type {\n",
       "        vertical-align: middle;\n",
       "    }\n",
       "\n",
       "    .dataframe tbody tr th {\n",
       "        vertical-align: top;\n",
       "    }\n",
       "\n",
       "    .dataframe thead th {\n",
       "        text-align: right;\n",
       "    }\n",
       "</style>\n",
       "<table border=\"1\" class=\"dataframe\">\n",
       "  <thead>\n",
       "    <tr style=\"text-align: right;\">\n",
       "      <th></th>\n",
       "      <th>InvoiceNo</th>\n",
       "      <th>StockCode</th>\n",
       "      <th>Description</th>\n",
       "      <th>Quantity</th>\n",
       "      <th>InvoiceDate</th>\n",
       "      <th>UnitPrice</th>\n",
       "      <th>CustomerID</th>\n",
       "      <th>Country</th>\n",
       "    </tr>\n",
       "  </thead>\n",
       "  <tbody>\n",
       "    <tr>\n",
       "      <th>0</th>\n",
       "      <td>536365</td>\n",
       "      <td>85123A</td>\n",
       "      <td>WHITE HANGING HEART T-LIGHT HOLDER</td>\n",
       "      <td>6</td>\n",
       "      <td>2010-12-01 08:26:00</td>\n",
       "      <td>2.55</td>\n",
       "      <td>17850.0</td>\n",
       "      <td>United Kingdom</td>\n",
       "    </tr>\n",
       "    <tr>\n",
       "      <th>1</th>\n",
       "      <td>536365</td>\n",
       "      <td>71053</td>\n",
       "      <td>WHITE METAL LANTERN</td>\n",
       "      <td>6</td>\n",
       "      <td>2010-12-01 08:26:00</td>\n",
       "      <td>3.39</td>\n",
       "      <td>17850.0</td>\n",
       "      <td>United Kingdom</td>\n",
       "    </tr>\n",
       "    <tr>\n",
       "      <th>2</th>\n",
       "      <td>536365</td>\n",
       "      <td>84406B</td>\n",
       "      <td>CREAM CUPID HEARTS COAT HANGER</td>\n",
       "      <td>8</td>\n",
       "      <td>2010-12-01 08:26:00</td>\n",
       "      <td>2.75</td>\n",
       "      <td>17850.0</td>\n",
       "      <td>United Kingdom</td>\n",
       "    </tr>\n",
       "    <tr>\n",
       "      <th>3</th>\n",
       "      <td>536365</td>\n",
       "      <td>84029G</td>\n",
       "      <td>KNITTED UNION FLAG HOT WATER BOTTLE</td>\n",
       "      <td>6</td>\n",
       "      <td>2010-12-01 08:26:00</td>\n",
       "      <td>3.39</td>\n",
       "      <td>17850.0</td>\n",
       "      <td>United Kingdom</td>\n",
       "    </tr>\n",
       "    <tr>\n",
       "      <th>4</th>\n",
       "      <td>536365</td>\n",
       "      <td>84029E</td>\n",
       "      <td>RED WOOLLY HOTTIE WHITE HEART.</td>\n",
       "      <td>6</td>\n",
       "      <td>2010-12-01 08:26:00</td>\n",
       "      <td>3.39</td>\n",
       "      <td>17850.0</td>\n",
       "      <td>United Kingdom</td>\n",
       "    </tr>\n",
       "    <tr>\n",
       "      <th>5</th>\n",
       "      <td>536365</td>\n",
       "      <td>22752</td>\n",
       "      <td>SET 7 BABUSHKA NESTING BOXES</td>\n",
       "      <td>2</td>\n",
       "      <td>2010-12-01 08:26:00</td>\n",
       "      <td>7.65</td>\n",
       "      <td>17850.0</td>\n",
       "      <td>United Kingdom</td>\n",
       "    </tr>\n",
       "    <tr>\n",
       "      <th>6</th>\n",
       "      <td>536365</td>\n",
       "      <td>21730</td>\n",
       "      <td>GLASS STAR FROSTED T-LIGHT HOLDER</td>\n",
       "      <td>6</td>\n",
       "      <td>2010-12-01 08:26:00</td>\n",
       "      <td>4.25</td>\n",
       "      <td>17850.0</td>\n",
       "      <td>United Kingdom</td>\n",
       "    </tr>\n",
       "    <tr>\n",
       "      <th>7</th>\n",
       "      <td>536366</td>\n",
       "      <td>22633</td>\n",
       "      <td>HAND WARMER UNION JACK</td>\n",
       "      <td>6</td>\n",
       "      <td>2010-12-01 08:28:00</td>\n",
       "      <td>1.85</td>\n",
       "      <td>17850.0</td>\n",
       "      <td>United Kingdom</td>\n",
       "    </tr>\n",
       "    <tr>\n",
       "      <th>8</th>\n",
       "      <td>536366</td>\n",
       "      <td>22632</td>\n",
       "      <td>HAND WARMER RED POLKA DOT</td>\n",
       "      <td>6</td>\n",
       "      <td>2010-12-01 08:28:00</td>\n",
       "      <td>1.85</td>\n",
       "      <td>17850.0</td>\n",
       "      <td>United Kingdom</td>\n",
       "    </tr>\n",
       "    <tr>\n",
       "      <th>9</th>\n",
       "      <td>536367</td>\n",
       "      <td>84879</td>\n",
       "      <td>ASSORTED COLOUR BIRD ORNAMENT</td>\n",
       "      <td>32</td>\n",
       "      <td>2010-12-01 08:34:00</td>\n",
       "      <td>1.69</td>\n",
       "      <td>13047.0</td>\n",
       "      <td>United Kingdom</td>\n",
       "    </tr>\n",
       "  </tbody>\n",
       "</table>\n",
       "</div>"
      ],
      "text/plain": [
       "  InvoiceNo StockCode                          Description  Quantity  \\\n",
       "0    536365    85123A   WHITE HANGING HEART T-LIGHT HOLDER         6   \n",
       "1    536365     71053                  WHITE METAL LANTERN         6   \n",
       "2    536365    84406B       CREAM CUPID HEARTS COAT HANGER         8   \n",
       "3    536365    84029G  KNITTED UNION FLAG HOT WATER BOTTLE         6   \n",
       "4    536365    84029E       RED WOOLLY HOTTIE WHITE HEART.         6   \n",
       "5    536365     22752         SET 7 BABUSHKA NESTING BOXES         2   \n",
       "6    536365     21730    GLASS STAR FROSTED T-LIGHT HOLDER         6   \n",
       "7    536366     22633               HAND WARMER UNION JACK         6   \n",
       "8    536366     22632            HAND WARMER RED POLKA DOT         6   \n",
       "9    536367     84879        ASSORTED COLOUR BIRD ORNAMENT        32   \n",
       "\n",
       "          InvoiceDate  UnitPrice  CustomerID         Country  \n",
       "0 2010-12-01 08:26:00       2.55     17850.0  United Kingdom  \n",
       "1 2010-12-01 08:26:00       3.39     17850.0  United Kingdom  \n",
       "2 2010-12-01 08:26:00       2.75     17850.0  United Kingdom  \n",
       "3 2010-12-01 08:26:00       3.39     17850.0  United Kingdom  \n",
       "4 2010-12-01 08:26:00       3.39     17850.0  United Kingdom  \n",
       "5 2010-12-01 08:26:00       7.65     17850.0  United Kingdom  \n",
       "6 2010-12-01 08:26:00       4.25     17850.0  United Kingdom  \n",
       "7 2010-12-01 08:28:00       1.85     17850.0  United Kingdom  \n",
       "8 2010-12-01 08:28:00       1.85     17850.0  United Kingdom  \n",
       "9 2010-12-01 08:34:00       1.69     13047.0  United Kingdom  "
      ]
     },
     "execution_count": 2,
     "metadata": {},
     "output_type": "execute_result"
    }
   ],
   "source": [
    "df = pd.read_excel ('sales dataset.xlsx', dtype={'InvoiceNo': str, 'Description': str})\n",
    "df.head(10)"
   ]
  },
  {
   "cell_type": "markdown",
   "metadata": {
    "colab": {
     "base_uri": "https://localhost:8080/"
    },
    "id": "eFRqtWqh2Q8E",
    "outputId": "164d3e3e-e8ad-4736-8bf3-b47c3ae0da83"
   },
   "source": [
    "**Selecting UK for analysis**"
   ]
  },
  {
   "cell_type": "code",
   "execution_count": 3,
   "metadata": {
    "colab": {
     "base_uri": "https://localhost:8080/"
    },
    "id": "YF89KWou31n7",
    "outputId": "252ebc01-8726-490b-d3ed-c927a28d5ea2"
   },
   "outputs": [
    {
     "data": {
      "text/html": [
       "<div>\n",
       "<style scoped>\n",
       "    .dataframe tbody tr th:only-of-type {\n",
       "        vertical-align: middle;\n",
       "    }\n",
       "\n",
       "    .dataframe tbody tr th {\n",
       "        vertical-align: top;\n",
       "    }\n",
       "\n",
       "    .dataframe thead th {\n",
       "        text-align: right;\n",
       "    }\n",
       "</style>\n",
       "<table border=\"1\" class=\"dataframe\">\n",
       "  <thead>\n",
       "    <tr style=\"text-align: right;\">\n",
       "      <th></th>\n",
       "      <th>InvoiceNo</th>\n",
       "      <th>StockCode</th>\n",
       "      <th>Description</th>\n",
       "      <th>Quantity</th>\n",
       "      <th>InvoiceDate</th>\n",
       "      <th>UnitPrice</th>\n",
       "      <th>CustomerID</th>\n",
       "      <th>Country</th>\n",
       "    </tr>\n",
       "  </thead>\n",
       "  <tbody>\n",
       "    <tr>\n",
       "      <th>0</th>\n",
       "      <td>536365</td>\n",
       "      <td>85123A</td>\n",
       "      <td>WHITE HANGING HEART T-LIGHT HOLDER</td>\n",
       "      <td>6</td>\n",
       "      <td>2010-12-01 08:26:00</td>\n",
       "      <td>2.55</td>\n",
       "      <td>17850.0</td>\n",
       "      <td>United Kingdom</td>\n",
       "    </tr>\n",
       "  </tbody>\n",
       "</table>\n",
       "</div>"
      ],
      "text/plain": [
       "  InvoiceNo StockCode                         Description  Quantity  \\\n",
       "0    536365    85123A  WHITE HANGING HEART T-LIGHT HOLDER         6   \n",
       "\n",
       "          InvoiceDate  UnitPrice  CustomerID         Country  \n",
       "0 2010-12-01 08:26:00       2.55     17850.0  United Kingdom  "
      ]
     },
     "execution_count": 3,
     "metadata": {},
     "output_type": "execute_result"
    }
   ],
   "source": [
    "df = df[df['Country'] == 'United Kingdom']\n",
    "df.head(1)"
   ]
  },
  {
   "cell_type": "markdown",
   "metadata": {},
   "source": [
    "**Checking the shape of dataset**"
   ]
  },
  {
   "cell_type": "code",
   "execution_count": 4,
   "metadata": {
    "colab": {
     "base_uri": "https://localhost:8080/"
    },
    "id": "8OHflaOA4J_8",
    "outputId": "db7279cd-2cfa-41b3-a1d6-0df4826abc34"
   },
   "outputs": [
    {
     "data": {
      "text/plain": [
       "(495478, 8)"
      ]
     },
     "execution_count": 4,
     "metadata": {},
     "output_type": "execute_result"
    }
   ],
   "source": [
    "df.shape"
   ]
  },
  {
   "cell_type": "markdown",
   "metadata": {
    "colab": {
     "base_uri": "https://localhost:8080/"
    },
    "id": "72wBezLF4OSE",
    "outputId": "15621dfa-df5c-4e38-a44a-e421583012e6"
   },
   "source": [
    "**Checking for missing values**"
   ]
  },
  {
   "cell_type": "code",
   "execution_count": 5,
   "metadata": {
    "colab": {
     "base_uri": "https://localhost:8080/"
    },
    "id": "4xZUzLGz4Pya",
    "outputId": "e6157a34-0539-4ae5-ccbe-78e55e5d098d"
   },
   "outputs": [
    {
     "data": {
      "text/plain": [
       "InvoiceNo           0\n",
       "StockCode           0\n",
       "Description      1454\n",
       "Quantity            0\n",
       "InvoiceDate         0\n",
       "UnitPrice           0\n",
       "CustomerID     133600\n",
       "Country             0\n",
       "dtype: int64"
      ]
     },
     "execution_count": 5,
     "metadata": {},
     "output_type": "execute_result"
    }
   ],
   "source": [
    "df.isnull().sum()"
   ]
  },
  {
   "cell_type": "markdown",
   "metadata": {
    "colab": {
     "base_uri": "https://localhost:8080/",
     "height": 135
    },
    "id": "cofKd75g4Ru4",
    "outputId": "3fe40fd2-f7e4-4150-86f0-c5a175b2c2f3"
   },
   "source": [
    "**Selecting relevant columns**"
   ]
  },
  {
   "cell_type": "code",
   "execution_count": 6,
   "metadata": {
    "colab": {
     "base_uri": "https://localhost:8080/",
     "height": 135
    },
    "id": "bxdgsQ9l4Ttb",
    "outputId": "459d757d-74d3-42c1-b044-f98480a7c9ff"
   },
   "outputs": [
    {
     "data": {
      "text/html": [
       "<div>\n",
       "<style scoped>\n",
       "    .dataframe tbody tr th:only-of-type {\n",
       "        vertical-align: middle;\n",
       "    }\n",
       "\n",
       "    .dataframe tbody tr th {\n",
       "        vertical-align: top;\n",
       "    }\n",
       "\n",
       "    .dataframe thead th {\n",
       "        text-align: right;\n",
       "    }\n",
       "</style>\n",
       "<table border=\"1\" class=\"dataframe\">\n",
       "  <thead>\n",
       "    <tr style=\"text-align: right;\">\n",
       "      <th></th>\n",
       "      <th>InvoiceNo</th>\n",
       "      <th>Description</th>\n",
       "      <th>Quantity</th>\n",
       "    </tr>\n",
       "  </thead>\n",
       "  <tbody>\n",
       "    <tr>\n",
       "      <th>0</th>\n",
       "      <td>536365</td>\n",
       "      <td>WHITE HANGING HEART T-LIGHT HOLDER</td>\n",
       "      <td>6</td>\n",
       "    </tr>\n",
       "  </tbody>\n",
       "</table>\n",
       "</div>"
      ],
      "text/plain": [
       "  InvoiceNo                         Description  Quantity\n",
       "0    536365  WHITE HANGING HEART T-LIGHT HOLDER         6"
      ]
     },
     "execution_count": 6,
     "metadata": {},
     "output_type": "execute_result"
    }
   ],
   "source": [
    "df = df[['InvoiceNo', 'Description', 'Quantity']]\n",
    "df.head(1)"
   ]
  },
  {
   "cell_type": "markdown",
   "metadata": {},
   "source": [
    "**Checking for missing values again since we are now working with just these settings**"
   ]
  },
  {
   "cell_type": "code",
   "execution_count": 7,
   "metadata": {
    "colab": {
     "base_uri": "https://localhost:8080/"
    },
    "id": "HLu3GfyB5FV3",
    "outputId": "17467073-5455-4359-9e33-ec870d584409"
   },
   "outputs": [
    {
     "data": {
      "text/plain": [
       "InvoiceNo         0\n",
       "Description    1454\n",
       "Quantity          0\n",
       "dtype: int64"
      ]
     },
     "execution_count": 7,
     "metadata": {},
     "output_type": "execute_result"
    }
   ],
   "source": [
    "df.isnull().sum()"
   ]
  },
  {
   "cell_type": "markdown",
   "metadata": {},
   "source": [
    "**Dropping missing values**"
   ]
  },
  {
   "cell_type": "code",
   "execution_count": 8,
   "metadata": {
    "colab": {
     "base_uri": "https://localhost:8080/"
    },
    "id": "DU9G60cT5IV5",
    "outputId": "45949127-e872-40b4-cf68-d7400bd21dfe"
   },
   "outputs": [],
   "source": [
    "df = df.dropna()"
   ]
  },
  {
   "cell_type": "markdown",
   "metadata": {},
   "source": [
    "**Checking for missing values again**"
   ]
  },
  {
   "cell_type": "code",
   "execution_count": 9,
   "metadata": {
    "colab": {
     "base_uri": "https://localhost:8080/"
    },
    "id": "aMvwfH2G5K_r",
    "outputId": "9495a592-ee6f-4492-98d2-9bbc6fd2cf62"
   },
   "outputs": [
    {
     "data": {
      "text/plain": [
       "InvoiceNo      0\n",
       "Description    0\n",
       "Quantity       0\n",
       "dtype: int64"
      ]
     },
     "execution_count": 9,
     "metadata": {},
     "output_type": "execute_result"
    }
   ],
   "source": [
    "df.isnull().sum()"
   ]
  },
  {
   "cell_type": "markdown",
   "metadata": {},
   "source": [
    "**Checking the data types of columns**"
   ]
  },
  {
   "cell_type": "code",
   "execution_count": 10,
   "metadata": {
    "colab": {
     "base_uri": "https://localhost:8080/"
    },
    "id": "dgFWtmDr5f7b",
    "outputId": "7b77d18c-8b5a-4776-c4ed-473c58242270"
   },
   "outputs": [
    {
     "data": {
      "text/plain": [
       "InvoiceNo      object\n",
       "Description    object\n",
       "Quantity        int64\n",
       "dtype: object"
      ]
     },
     "execution_count": 10,
     "metadata": {},
     "output_type": "execute_result"
    }
   ],
   "source": [
    "df.dtypes"
   ]
  },
  {
   "cell_type": "markdown",
   "metadata": {},
   "source": [
    "**Removing empty spaces from columns**"
   ]
  },
  {
   "cell_type": "code",
   "execution_count": 11,
   "metadata": {
    "colab": {
     "base_uri": "https://localhost:8080/"
    },
    "id": "woSUbG4255oW",
    "outputId": "52e589a4-a6a1-4751-9a3c-d3beddd1458c"
   },
   "outputs": [],
   "source": [
    "df['InvoiceNo'] = df['InvoiceNo'].str.strip()\n",
    "df['Description'] = df['Description'].str.strip()"
   ]
  },
  {
   "cell_type": "markdown",
   "metadata": {},
   "source": [
    "**Removing cash transactions from the dataset**"
   ]
  },
  {
   "cell_type": "code",
   "execution_count": 12,
   "metadata": {
    "colab": {
     "base_uri": "https://localhost:8080/",
     "height": 261
    },
    "id": "ZOIeztEu6RxK",
    "outputId": "5fdd6829-f1d8-442a-9d50-a5fc0d06068b"
   },
   "outputs": [
    {
     "data": {
      "text/html": [
       "<div>\n",
       "<style scoped>\n",
       "    .dataframe tbody tr th:only-of-type {\n",
       "        vertical-align: middle;\n",
       "    }\n",
       "\n",
       "    .dataframe tbody tr th {\n",
       "        vertical-align: top;\n",
       "    }\n",
       "\n",
       "    .dataframe thead th {\n",
       "        text-align: right;\n",
       "    }\n",
       "</style>\n",
       "<table border=\"1\" class=\"dataframe\">\n",
       "  <thead>\n",
       "    <tr style=\"text-align: right;\">\n",
       "      <th></th>\n",
       "      <th>InvoiceNo</th>\n",
       "      <th>Description</th>\n",
       "      <th>Quantity</th>\n",
       "    </tr>\n",
       "  </thead>\n",
       "  <tbody>\n",
       "    <tr>\n",
       "      <th>0</th>\n",
       "      <td>536365</td>\n",
       "      <td>WHITE HANGING HEART T-LIGHT HOLDER</td>\n",
       "      <td>6</td>\n",
       "    </tr>\n",
       "    <tr>\n",
       "      <th>1</th>\n",
       "      <td>536365</td>\n",
       "      <td>WHITE METAL LANTERN</td>\n",
       "      <td>6</td>\n",
       "    </tr>\n",
       "    <tr>\n",
       "      <th>2</th>\n",
       "      <td>536365</td>\n",
       "      <td>CREAM CUPID HEARTS COAT HANGER</td>\n",
       "      <td>8</td>\n",
       "    </tr>\n",
       "    <tr>\n",
       "      <th>3</th>\n",
       "      <td>536365</td>\n",
       "      <td>KNITTED UNION FLAG HOT WATER BOTTLE</td>\n",
       "      <td>6</td>\n",
       "    </tr>\n",
       "    <tr>\n",
       "      <th>4</th>\n",
       "      <td>536365</td>\n",
       "      <td>RED WOOLLY HOTTIE WHITE HEART.</td>\n",
       "      <td>6</td>\n",
       "    </tr>\n",
       "  </tbody>\n",
       "</table>\n",
       "</div>"
      ],
      "text/plain": [
       "  InvoiceNo                          Description  Quantity\n",
       "0    536365   WHITE HANGING HEART T-LIGHT HOLDER         6\n",
       "1    536365                  WHITE METAL LANTERN         6\n",
       "2    536365       CREAM CUPID HEARTS COAT HANGER         8\n",
       "3    536365  KNITTED UNION FLAG HOT WATER BOTTLE         6\n",
       "4    536365       RED WOOLLY HOTTIE WHITE HEART.         6"
      ]
     },
     "execution_count": 12,
     "metadata": {},
     "output_type": "execute_result"
    }
   ],
   "source": [
    "df = df[~df['InvoiceNo'].str.contains('C')]\n",
    "df.head()"
   ]
  },
  {
   "cell_type": "markdown",
   "metadata": {},
   "source": [
    "**Converting the dataset in necessary format for fpgrowth algorithm**"
   ]
  },
  {
   "cell_type": "code",
   "execution_count": 13,
   "metadata": {
    "colab": {
     "base_uri": "https://localhost:8080/"
    },
    "id": "_N0LSSs186Zw",
    "outputId": "8f7e2b2c-4287-4f0b-b71e-a00678858736"
   },
   "outputs": [],
   "source": [
    "basket = (df.groupby(['InvoiceNo', 'Description'])['Quantity']\n",
    "          .sum().unstack().reset_index().fillna(0)\n",
    "          .set_index('InvoiceNo'))"
   ]
  },
  {
   "cell_type": "code",
   "execution_count": 14,
   "metadata": {
    "colab": {
     "base_uri": "https://localhost:8080/",
     "height": 327
    },
    "id": "3UTJYLpU9CSW",
    "outputId": "2c1cfe93-920f-4506-f20b-c56b0ba95ea7"
   },
   "outputs": [
    {
     "data": {
      "text/html": [
       "<div>\n",
       "<style scoped>\n",
       "    .dataframe tbody tr th:only-of-type {\n",
       "        vertical-align: middle;\n",
       "    }\n",
       "\n",
       "    .dataframe tbody tr th {\n",
       "        vertical-align: top;\n",
       "    }\n",
       "\n",
       "    .dataframe thead th {\n",
       "        text-align: right;\n",
       "    }\n",
       "</style>\n",
       "<table border=\"1\" class=\"dataframe\">\n",
       "  <thead>\n",
       "    <tr style=\"text-align: right;\">\n",
       "      <th>Description</th>\n",
       "      <th>*Boombox Ipod Classic</th>\n",
       "      <th>*USB Office Mirror Ball</th>\n",
       "      <th>10 COLOUR SPACEBOY PEN</th>\n",
       "      <th>12 COLOURED PARTY BALLOONS</th>\n",
       "      <th>12 DAISY PEGS IN WOOD BOX</th>\n",
       "      <th>12 EGG HOUSE PAINTED WOOD</th>\n",
       "      <th>12 HANGING EGGS HAND PAINTED</th>\n",
       "      <th>12 IVORY ROSE PEG PLACE SETTINGS</th>\n",
       "      <th>12 MESSAGE CARDS WITH ENVELOPES</th>\n",
       "      <th>12 PENCIL SMALL TUBE WOODLAND</th>\n",
       "      <th>...</th>\n",
       "      <th>wrongly coded 20713</th>\n",
       "      <th>wrongly coded 23343</th>\n",
       "      <th>wrongly coded-23343</th>\n",
       "      <th>wrongly marked</th>\n",
       "      <th>wrongly marked 23343</th>\n",
       "      <th>wrongly marked carton 22804</th>\n",
       "      <th>wrongly marked. 23343 in box</th>\n",
       "      <th>wrongly sold (22719) barcode</th>\n",
       "      <th>wrongly sold as sets</th>\n",
       "      <th>wrongly sold sets</th>\n",
       "    </tr>\n",
       "    <tr>\n",
       "      <th>InvoiceNo</th>\n",
       "      <th></th>\n",
       "      <th></th>\n",
       "      <th></th>\n",
       "      <th></th>\n",
       "      <th></th>\n",
       "      <th></th>\n",
       "      <th></th>\n",
       "      <th></th>\n",
       "      <th></th>\n",
       "      <th></th>\n",
       "      <th></th>\n",
       "      <th></th>\n",
       "      <th></th>\n",
       "      <th></th>\n",
       "      <th></th>\n",
       "      <th></th>\n",
       "      <th></th>\n",
       "      <th></th>\n",
       "      <th></th>\n",
       "      <th></th>\n",
       "      <th></th>\n",
       "    </tr>\n",
       "  </thead>\n",
       "  <tbody>\n",
       "    <tr>\n",
       "      <th>536365</th>\n",
       "      <td>0.0</td>\n",
       "      <td>0.0</td>\n",
       "      <td>0.0</td>\n",
       "      <td>0.0</td>\n",
       "      <td>0.0</td>\n",
       "      <td>0.0</td>\n",
       "      <td>0.0</td>\n",
       "      <td>0.0</td>\n",
       "      <td>0.0</td>\n",
       "      <td>0.0</td>\n",
       "      <td>...</td>\n",
       "      <td>0.0</td>\n",
       "      <td>0.0</td>\n",
       "      <td>0.0</td>\n",
       "      <td>0.0</td>\n",
       "      <td>0.0</td>\n",
       "      <td>0.0</td>\n",
       "      <td>0.0</td>\n",
       "      <td>0.0</td>\n",
       "      <td>0.0</td>\n",
       "      <td>0.0</td>\n",
       "    </tr>\n",
       "    <tr>\n",
       "      <th>536366</th>\n",
       "      <td>0.0</td>\n",
       "      <td>0.0</td>\n",
       "      <td>0.0</td>\n",
       "      <td>0.0</td>\n",
       "      <td>0.0</td>\n",
       "      <td>0.0</td>\n",
       "      <td>0.0</td>\n",
       "      <td>0.0</td>\n",
       "      <td>0.0</td>\n",
       "      <td>0.0</td>\n",
       "      <td>...</td>\n",
       "      <td>0.0</td>\n",
       "      <td>0.0</td>\n",
       "      <td>0.0</td>\n",
       "      <td>0.0</td>\n",
       "      <td>0.0</td>\n",
       "      <td>0.0</td>\n",
       "      <td>0.0</td>\n",
       "      <td>0.0</td>\n",
       "      <td>0.0</td>\n",
       "      <td>0.0</td>\n",
       "    </tr>\n",
       "    <tr>\n",
       "      <th>536367</th>\n",
       "      <td>0.0</td>\n",
       "      <td>0.0</td>\n",
       "      <td>0.0</td>\n",
       "      <td>0.0</td>\n",
       "      <td>0.0</td>\n",
       "      <td>0.0</td>\n",
       "      <td>0.0</td>\n",
       "      <td>0.0</td>\n",
       "      <td>0.0</td>\n",
       "      <td>0.0</td>\n",
       "      <td>...</td>\n",
       "      <td>0.0</td>\n",
       "      <td>0.0</td>\n",
       "      <td>0.0</td>\n",
       "      <td>0.0</td>\n",
       "      <td>0.0</td>\n",
       "      <td>0.0</td>\n",
       "      <td>0.0</td>\n",
       "      <td>0.0</td>\n",
       "      <td>0.0</td>\n",
       "      <td>0.0</td>\n",
       "    </tr>\n",
       "  </tbody>\n",
       "</table>\n",
       "<p>3 rows × 4176 columns</p>\n",
       "</div>"
      ],
      "text/plain": [
       "Description  *Boombox Ipod Classic  *USB Office Mirror Ball  \\\n",
       "InvoiceNo                                                     \n",
       "536365                         0.0                      0.0   \n",
       "536366                         0.0                      0.0   \n",
       "536367                         0.0                      0.0   \n",
       "\n",
       "Description  10 COLOUR SPACEBOY PEN  12 COLOURED PARTY BALLOONS  \\\n",
       "InvoiceNo                                                         \n",
       "536365                          0.0                         0.0   \n",
       "536366                          0.0                         0.0   \n",
       "536367                          0.0                         0.0   \n",
       "\n",
       "Description  12 DAISY PEGS IN WOOD BOX  12 EGG HOUSE PAINTED WOOD  \\\n",
       "InvoiceNo                                                           \n",
       "536365                             0.0                        0.0   \n",
       "536366                             0.0                        0.0   \n",
       "536367                             0.0                        0.0   \n",
       "\n",
       "Description  12 HANGING EGGS HAND PAINTED  12 IVORY ROSE PEG PLACE SETTINGS  \\\n",
       "InvoiceNo                                                                     \n",
       "536365                                0.0                               0.0   \n",
       "536366                                0.0                               0.0   \n",
       "536367                                0.0                               0.0   \n",
       "\n",
       "Description  12 MESSAGE CARDS WITH ENVELOPES  12 PENCIL SMALL TUBE WOODLAND  \\\n",
       "InvoiceNo                                                                     \n",
       "536365                                   0.0                            0.0   \n",
       "536366                                   0.0                            0.0   \n",
       "536367                                   0.0                            0.0   \n",
       "\n",
       "Description  ...  wrongly coded 20713  wrongly coded 23343  \\\n",
       "InvoiceNo    ...                                             \n",
       "536365       ...                  0.0                  0.0   \n",
       "536366       ...                  0.0                  0.0   \n",
       "536367       ...                  0.0                  0.0   \n",
       "\n",
       "Description  wrongly coded-23343  wrongly marked  wrongly marked 23343  \\\n",
       "InvoiceNo                                                                \n",
       "536365                       0.0             0.0                   0.0   \n",
       "536366                       0.0             0.0                   0.0   \n",
       "536367                       0.0             0.0                   0.0   \n",
       "\n",
       "Description  wrongly marked carton 22804  wrongly marked. 23343 in box  \\\n",
       "InvoiceNo                                                                \n",
       "536365                               0.0                           0.0   \n",
       "536366                               0.0                           0.0   \n",
       "536367                               0.0                           0.0   \n",
       "\n",
       "Description  wrongly sold (22719) barcode  wrongly sold as sets  \\\n",
       "InvoiceNo                                                         \n",
       "536365                                0.0                   0.0   \n",
       "536366                                0.0                   0.0   \n",
       "536367                                0.0                   0.0   \n",
       "\n",
       "Description  wrongly sold sets  \n",
       "InvoiceNo                       \n",
       "536365                     0.0  \n",
       "536366                     0.0  \n",
       "536367                     0.0  \n",
       "\n",
       "[3 rows x 4176 columns]"
      ]
     },
     "execution_count": 14,
     "metadata": {},
     "output_type": "execute_result"
    }
   ],
   "source": [
    "basket.head(3)"
   ]
  },
  {
   "cell_type": "markdown",
   "metadata": {},
   "source": [
    "**Converting the data to boolean format for FP-Growth**"
   ]
  },
  {
   "cell_type": "code",
   "execution_count": 15,
   "metadata": {
    "colab": {
     "base_uri": "https://localhost:8080/",
     "height": 327
    },
    "id": "6eJKuI9A9GLY",
    "outputId": "9a716bd0-9d4f-49f3-b243-615f0136e483"
   },
   "outputs": [
    {
     "data": {
      "text/html": [
       "<div>\n",
       "<style scoped>\n",
       "    .dataframe tbody tr th:only-of-type {\n",
       "        vertical-align: middle;\n",
       "    }\n",
       "\n",
       "    .dataframe tbody tr th {\n",
       "        vertical-align: top;\n",
       "    }\n",
       "\n",
       "    .dataframe thead th {\n",
       "        text-align: right;\n",
       "    }\n",
       "</style>\n",
       "<table border=\"1\" class=\"dataframe\">\n",
       "  <thead>\n",
       "    <tr style=\"text-align: right;\">\n",
       "      <th>Description</th>\n",
       "      <th>*Boombox Ipod Classic</th>\n",
       "      <th>*USB Office Mirror Ball</th>\n",
       "      <th>10 COLOUR SPACEBOY PEN</th>\n",
       "      <th>12 COLOURED PARTY BALLOONS</th>\n",
       "      <th>12 DAISY PEGS IN WOOD BOX</th>\n",
       "      <th>12 EGG HOUSE PAINTED WOOD</th>\n",
       "      <th>12 HANGING EGGS HAND PAINTED</th>\n",
       "      <th>12 IVORY ROSE PEG PLACE SETTINGS</th>\n",
       "      <th>12 MESSAGE CARDS WITH ENVELOPES</th>\n",
       "      <th>12 PENCIL SMALL TUBE WOODLAND</th>\n",
       "      <th>...</th>\n",
       "      <th>wrongly coded 20713</th>\n",
       "      <th>wrongly coded 23343</th>\n",
       "      <th>wrongly coded-23343</th>\n",
       "      <th>wrongly marked</th>\n",
       "      <th>wrongly marked 23343</th>\n",
       "      <th>wrongly marked carton 22804</th>\n",
       "      <th>wrongly marked. 23343 in box</th>\n",
       "      <th>wrongly sold (22719) barcode</th>\n",
       "      <th>wrongly sold as sets</th>\n",
       "      <th>wrongly sold sets</th>\n",
       "    </tr>\n",
       "    <tr>\n",
       "      <th>InvoiceNo</th>\n",
       "      <th></th>\n",
       "      <th></th>\n",
       "      <th></th>\n",
       "      <th></th>\n",
       "      <th></th>\n",
       "      <th></th>\n",
       "      <th></th>\n",
       "      <th></th>\n",
       "      <th></th>\n",
       "      <th></th>\n",
       "      <th></th>\n",
       "      <th></th>\n",
       "      <th></th>\n",
       "      <th></th>\n",
       "      <th></th>\n",
       "      <th></th>\n",
       "      <th></th>\n",
       "      <th></th>\n",
       "      <th></th>\n",
       "      <th></th>\n",
       "      <th></th>\n",
       "    </tr>\n",
       "  </thead>\n",
       "  <tbody>\n",
       "    <tr>\n",
       "      <th>536365</th>\n",
       "      <td>False</td>\n",
       "      <td>False</td>\n",
       "      <td>False</td>\n",
       "      <td>False</td>\n",
       "      <td>False</td>\n",
       "      <td>False</td>\n",
       "      <td>False</td>\n",
       "      <td>False</td>\n",
       "      <td>False</td>\n",
       "      <td>False</td>\n",
       "      <td>...</td>\n",
       "      <td>False</td>\n",
       "      <td>False</td>\n",
       "      <td>False</td>\n",
       "      <td>False</td>\n",
       "      <td>False</td>\n",
       "      <td>False</td>\n",
       "      <td>False</td>\n",
       "      <td>False</td>\n",
       "      <td>False</td>\n",
       "      <td>False</td>\n",
       "    </tr>\n",
       "  </tbody>\n",
       "</table>\n",
       "<p>1 rows × 4176 columns</p>\n",
       "</div>"
      ],
      "text/plain": [
       "Description  *Boombox Ipod Classic  *USB Office Mirror Ball  \\\n",
       "InvoiceNo                                                     \n",
       "536365                       False                    False   \n",
       "\n",
       "Description  10 COLOUR SPACEBOY PEN  12 COLOURED PARTY BALLOONS  \\\n",
       "InvoiceNo                                                         \n",
       "536365                        False                       False   \n",
       "\n",
       "Description  12 DAISY PEGS IN WOOD BOX  12 EGG HOUSE PAINTED WOOD  \\\n",
       "InvoiceNo                                                           \n",
       "536365                           False                      False   \n",
       "\n",
       "Description  12 HANGING EGGS HAND PAINTED  12 IVORY ROSE PEG PLACE SETTINGS  \\\n",
       "InvoiceNo                                                                     \n",
       "536365                              False                             False   \n",
       "\n",
       "Description  12 MESSAGE CARDS WITH ENVELOPES  12 PENCIL SMALL TUBE WOODLAND  \\\n",
       "InvoiceNo                                                                     \n",
       "536365                                 False                          False   \n",
       "\n",
       "Description  ...  wrongly coded 20713  wrongly coded 23343  \\\n",
       "InvoiceNo    ...                                             \n",
       "536365       ...                False                False   \n",
       "\n",
       "Description  wrongly coded-23343  wrongly marked  wrongly marked 23343  \\\n",
       "InvoiceNo                                                                \n",
       "536365                     False           False                 False   \n",
       "\n",
       "Description  wrongly marked carton 22804  wrongly marked. 23343 in box  \\\n",
       "InvoiceNo                                                                \n",
       "536365                             False                         False   \n",
       "\n",
       "Description  wrongly sold (22719) barcode  wrongly sold as sets  \\\n",
       "InvoiceNo                                                         \n",
       "536365                              False                 False   \n",
       "\n",
       "Description  wrongly sold sets  \n",
       "InvoiceNo                       \n",
       "536365                   False  \n",
       "\n",
       "[1 rows x 4176 columns]"
      ]
     },
     "execution_count": 15,
     "metadata": {},
     "output_type": "execute_result"
    }
   ],
   "source": [
    "def encode_units(x):\n",
    "    if x <= 0:\n",
    "        return 0\n",
    "    if x >= 1:\n",
    "        return 1\n",
    "\n",
    "basket_sets = basket.applymap(encode_units).astype(bool)\n",
    "basket_sets.head(1)"
   ]
  },
  {
   "cell_type": "markdown",
   "metadata": {
    "id": "s1HZRBLPC9Ul"
   },
   "source": [
    "**In the context of market basket analysis, the minimum support is a parameter that is used to set a threshold for the minimum frequency of occurrence of an itemset in the dataset. A minimum support of 0.1 means that we are interested in finding itemsets that appear in at least 10% of the transactions in the dataset.**"
   ]
  },
  {
   "cell_type": "markdown",
   "metadata": {},
   "source": [
    "**Looking for items that are frequently bought together with a min support of 9%**"
   ]
  },
  {
   "cell_type": "code",
   "execution_count": 16,
   "metadata": {
    "colab": {
     "base_uri": "https://localhost:8080/",
     "height": 478
    },
    "id": "iTINmamJ9VGt",
    "outputId": "9d6f7452-a07b-4a89-9463-99b50287f15f"
   },
   "outputs": [
    {
     "data": {
      "text/html": [
       "<div>\n",
       "<style scoped>\n",
       "    .dataframe tbody tr th:only-of-type {\n",
       "        vertical-align: middle;\n",
       "    }\n",
       "\n",
       "    .dataframe tbody tr th {\n",
       "        vertical-align: top;\n",
       "    }\n",
       "\n",
       "    .dataframe thead th {\n",
       "        text-align: right;\n",
       "    }\n",
       "</style>\n",
       "<table border=\"1\" class=\"dataframe\">\n",
       "  <thead>\n",
       "    <tr style=\"text-align: right;\">\n",
       "      <th></th>\n",
       "      <th>support</th>\n",
       "      <th>itemsets</th>\n",
       "    </tr>\n",
       "  </thead>\n",
       "  <tbody>\n",
       "    <tr>\n",
       "      <th>0</th>\n",
       "      <td>0.116027</td>\n",
       "      <td>(WHITE HANGING HEART T-LIGHT HOLDER)</td>\n",
       "    </tr>\n",
       "    <tr>\n",
       "      <th>1</th>\n",
       "      <td>0.023998</td>\n",
       "      <td>(KNITTED UNION FLAG HOT WATER BOTTLE)</td>\n",
       "    </tr>\n",
       "    <tr>\n",
       "      <th>2</th>\n",
       "      <td>0.022016</td>\n",
       "      <td>(RED WOOLLY HOTTIE WHITE HEART.)</td>\n",
       "    </tr>\n",
       "    <tr>\n",
       "      <th>3</th>\n",
       "      <td>0.018213</td>\n",
       "      <td>(SET 7 BABUSHKA NESTING BOXES)</td>\n",
       "    </tr>\n",
       "    <tr>\n",
       "      <th>4</th>\n",
       "      <td>0.015856</td>\n",
       "      <td>(WHITE METAL LANTERN)</td>\n",
       "    </tr>\n",
       "    <tr>\n",
       "      <th>...</th>\n",
       "      <td>...</td>\n",
       "      <td>...</td>\n",
       "    </tr>\n",
       "    <tr>\n",
       "      <th>2601</th>\n",
       "      <td>0.014142</td>\n",
       "      <td>(HOT WATER BOTTLE KEEP CALM, CHOCOLATE HOT WAT...</td>\n",
       "    </tr>\n",
       "    <tr>\n",
       "      <th>2602</th>\n",
       "      <td>0.009214</td>\n",
       "      <td>(HOT WATER BOTTLE KEEP CALM, GARDENERS KNEELIN...</td>\n",
       "    </tr>\n",
       "    <tr>\n",
       "      <th>2603</th>\n",
       "      <td>0.010178</td>\n",
       "      <td>(HAND WARMER UNION JACK, HAND WARMER RED LOVE ...</td>\n",
       "    </tr>\n",
       "    <tr>\n",
       "      <th>2604</th>\n",
       "      <td>0.011517</td>\n",
       "      <td>(HAND WARMER OWL DESIGN, HAND WARMER RED LOVE ...</td>\n",
       "    </tr>\n",
       "    <tr>\n",
       "      <th>2605</th>\n",
       "      <td>0.010446</td>\n",
       "      <td>(HAND WARMER RED LOVE HEART, HAND WARMER SCOTT...</td>\n",
       "    </tr>\n",
       "  </tbody>\n",
       "</table>\n",
       "<p>2606 rows × 2 columns</p>\n",
       "</div>"
      ],
      "text/plain": [
       "       support                                           itemsets\n",
       "0     0.116027               (WHITE HANGING HEART T-LIGHT HOLDER)\n",
       "1     0.023998              (KNITTED UNION FLAG HOT WATER BOTTLE)\n",
       "2     0.022016                   (RED WOOLLY HOTTIE WHITE HEART.)\n",
       "3     0.018213                     (SET 7 BABUSHKA NESTING BOXES)\n",
       "4     0.015856                              (WHITE METAL LANTERN)\n",
       "...        ...                                                ...\n",
       "2601  0.014142  (HOT WATER BOTTLE KEEP CALM, CHOCOLATE HOT WAT...\n",
       "2602  0.009214  (HOT WATER BOTTLE KEEP CALM, GARDENERS KNEELIN...\n",
       "2603  0.010178  (HAND WARMER UNION JACK, HAND WARMER RED LOVE ...\n",
       "2604  0.011517  (HAND WARMER OWL DESIGN, HAND WARMER RED LOVE ...\n",
       "2605  0.010446  (HAND WARMER RED LOVE HEART, HAND WARMER SCOTT...\n",
       "\n",
       "[2606 rows x 2 columns]"
      ]
     },
     "execution_count": 16,
     "metadata": {},
     "output_type": "execute_result"
    }
   ],
   "source": [
    "frequent_itemsets = fpgrowth(basket_sets, min_support=0.009, use_colnames=True)\n",
    "frequent_itemsets"
   ]
  },
  {
   "cell_type": "markdown",
   "metadata": {
    "id": "vYDFI922DWjB"
   },
   "source": [
    "**In Market basket analysis, the minimum lift is another threshold parameter that helps to filter out uninteresting or weak rules. The lift measures the strength of association between two items or itemsets, and is defined as the ratio of the observed frequency of co-occurrence of those items to the frequency that would be expected if they were independent. A minimum lift value is set to only return the rules that have a lift value greater than or equal to this threshold. This helps to filter out rules that may have a high support value but may not be useful or interesting as they do not have a strong enough association between the items or itemsets. For example, if the minimum lift is set to 1.1, only rules with a lift value of 1.1 or greater will be returned. A lift value less than 1 indicates negative correlation, 1 indicates independence, and greater than 1 indicates positive correlation. Therefore, a minimum lift of 1.1 means that only rules with a positive correlation stronger than the correlation between two independent items will be returned.**"
   ]
  },
  {
   "cell_type": "code",
   "execution_count": 17,
   "metadata": {
    "colab": {
     "base_uri": "https://localhost:8080/"
    },
    "id": "BbZ_AXLk9lrV",
    "outputId": "dddfcd85-bec8-4bc5-c17f-3b9095700468"
   },
   "outputs": [],
   "source": [
    "# Generating association rules using minimum confidence, minimum lift, and minimum length.\n",
    "# In online retail mostly 0.5 threshold of confidence is taken\n",
    "rules = association_rules(frequent_itemsets, metric='confidence', min_threshold=0.5)\n",
    "rules = rules[(rules['lift'] >= 1.1) & (rules['consequents'].apply(lambda x: len(x)) >= 2) & (rules['antecedents'].apply(lambda x: len(x)) == 1)]"
   ]
  },
  {
   "cell_type": "code",
   "execution_count": 18,
   "metadata": {
    "colab": {
     "base_uri": "https://localhost:8080/"
    },
    "id": "v8Qu9D2n9o3m",
    "outputId": "f2b16e4e-47cd-4e02-af99-c0ff30ce485b"
   },
   "outputs": [],
   "source": [
    "# Sort the rules by lift in descending order\n",
    "rules = rules.sort_values(by=['lift'], ascending=False)"
   ]
  },
  {
   "cell_type": "code",
   "execution_count": 19,
   "metadata": {
    "colab": {
     "base_uri": "https://localhost:8080/",
     "height": 713
    },
    "id": "tqc4865v9rlR",
    "outputId": "ac0ee6b1-3952-4251-ce3e-4a6579a665b0"
   },
   "outputs": [
    {
     "data": {
      "text/html": [
       "<div>\n",
       "<style scoped>\n",
       "    .dataframe tbody tr th:only-of-type {\n",
       "        vertical-align: middle;\n",
       "    }\n",
       "\n",
       "    .dataframe tbody tr th {\n",
       "        vertical-align: top;\n",
       "    }\n",
       "\n",
       "    .dataframe thead th {\n",
       "        text-align: right;\n",
       "    }\n",
       "</style>\n",
       "<table border=\"1\" class=\"dataframe\">\n",
       "  <thead>\n",
       "    <tr style=\"text-align: right;\">\n",
       "      <th></th>\n",
       "      <th>antecedents</th>\n",
       "      <th>consequents</th>\n",
       "      <th>antecedent support</th>\n",
       "      <th>consequent support</th>\n",
       "      <th>support</th>\n",
       "      <th>confidence</th>\n",
       "      <th>lift</th>\n",
       "      <th>leverage</th>\n",
       "      <th>conviction</th>\n",
       "      <th>zhangs_metric</th>\n",
       "    </tr>\n",
       "  </thead>\n",
       "  <tbody>\n",
       "    <tr>\n",
       "      <th>810</th>\n",
       "      <td>(HERB MARKER CHIVES)</td>\n",
       "      <td>(HERB MARKER THYME, HERB MARKER PARSLEY, HERB ...</td>\n",
       "      <td>0.010874</td>\n",
       "      <td>0.010553</td>\n",
       "      <td>0.009267</td>\n",
       "      <td>0.852217</td>\n",
       "      <td>80.757270</td>\n",
       "      <td>0.009152</td>\n",
       "      <td>6.695259</td>\n",
       "      <td>0.998475</td>\n",
       "    </tr>\n",
       "    <tr>\n",
       "      <th>808</th>\n",
       "      <td>(HERB MARKER PARSLEY)</td>\n",
       "      <td>(HERB MARKER THYME, HERB MARKER ROSEMARY, HERB...</td>\n",
       "      <td>0.012213</td>\n",
       "      <td>0.009481</td>\n",
       "      <td>0.009267</td>\n",
       "      <td>0.758772</td>\n",
       "      <td>80.026861</td>\n",
       "      <td>0.009151</td>\n",
       "      <td>4.106150</td>\n",
       "      <td>0.999714</td>\n",
       "    </tr>\n",
       "    <tr>\n",
       "      <th>772</th>\n",
       "      <td>(HERB MARKER CHIVES)</td>\n",
       "      <td>(HERB MARKER PARSLEY, HERB MARKER MINT)</td>\n",
       "      <td>0.010874</td>\n",
       "      <td>0.010981</td>\n",
       "      <td>0.009481</td>\n",
       "      <td>0.871921</td>\n",
       "      <td>79.400120</td>\n",
       "      <td>0.009362</td>\n",
       "      <td>7.721953</td>\n",
       "      <td>0.998261</td>\n",
       "    </tr>\n",
       "    <tr>\n",
       "      <th>807</th>\n",
       "      <td>(HERB MARKER THYME)</td>\n",
       "      <td>(HERB MARKER PARSLEY, HERB MARKER ROSEMARY, HE...</td>\n",
       "      <td>0.012321</td>\n",
       "      <td>0.009481</td>\n",
       "      <td>0.009267</td>\n",
       "      <td>0.752174</td>\n",
       "      <td>79.330975</td>\n",
       "      <td>0.009150</td>\n",
       "      <td>3.996829</td>\n",
       "      <td>0.999712</td>\n",
       "    </tr>\n",
       "    <tr>\n",
       "      <th>765</th>\n",
       "      <td>(HERB MARKER PARSLEY)</td>\n",
       "      <td>(HERB MARKER THYME, HERB MARKER CHIVES)</td>\n",
       "      <td>0.012213</td>\n",
       "      <td>0.009856</td>\n",
       "      <td>0.009535</td>\n",
       "      <td>0.780702</td>\n",
       "      <td>79.207285</td>\n",
       "      <td>0.009415</td>\n",
       "      <td>4.515055</td>\n",
       "      <td>0.999583</td>\n",
       "    </tr>\n",
       "    <tr>\n",
       "      <th>...</th>\n",
       "      <td>...</td>\n",
       "      <td>...</td>\n",
       "      <td>...</td>\n",
       "      <td>...</td>\n",
       "      <td>...</td>\n",
       "      <td>...</td>\n",
       "      <td>...</td>\n",
       "      <td>...</td>\n",
       "      <td>...</td>\n",
       "      <td>...</td>\n",
       "    </tr>\n",
       "    <tr>\n",
       "      <th>1424</th>\n",
       "      <td>(PINK REGENCY TEACUP AND SAUCER)</td>\n",
       "      <td>(ROSES REGENCY TEACUP AND SAUCER, GREEN REGENC...</td>\n",
       "      <td>0.037658</td>\n",
       "      <td>0.037551</td>\n",
       "      <td>0.026409</td>\n",
       "      <td>0.701280</td>\n",
       "      <td>18.675463</td>\n",
       "      <td>0.024995</td>\n",
       "      <td>3.221913</td>\n",
       "      <td>0.983490</td>\n",
       "    </tr>\n",
       "    <tr>\n",
       "      <th>1425</th>\n",
       "      <td>(GREEN REGENCY TEACUP AND SAUCER)</td>\n",
       "      <td>(ROSES REGENCY TEACUP AND SAUCER, PINK REGENCY...</td>\n",
       "      <td>0.050032</td>\n",
       "      <td>0.029248</td>\n",
       "      <td>0.026409</td>\n",
       "      <td>0.527837</td>\n",
       "      <td>18.047007</td>\n",
       "      <td>0.024945</td>\n",
       "      <td>2.055969</td>\n",
       "      <td>0.994338</td>\n",
       "    </tr>\n",
       "    <tr>\n",
       "      <th>1333</th>\n",
       "      <td>(ALARM CLOCK BAKELIKE CHOCOLATE)</td>\n",
       "      <td>(ALARM CLOCK BAKELIKE GREEN, ALARM CLOCK BAKEL...</td>\n",
       "      <td>0.020356</td>\n",
       "      <td>0.030159</td>\n",
       "      <td>0.010660</td>\n",
       "      <td>0.523684</td>\n",
       "      <td>17.364364</td>\n",
       "      <td>0.010046</td>\n",
       "      <td>2.036131</td>\n",
       "      <td>0.961993</td>\n",
       "    </tr>\n",
       "    <tr>\n",
       "      <th>1423</th>\n",
       "      <td>(ROSES REGENCY TEACUP AND SAUCER)</td>\n",
       "      <td>(PINK REGENCY TEACUP AND SAUCER, GREEN REGENCY...</td>\n",
       "      <td>0.051264</td>\n",
       "      <td>0.030909</td>\n",
       "      <td>0.026409</td>\n",
       "      <td>0.515152</td>\n",
       "      <td>16.666982</td>\n",
       "      <td>0.024824</td>\n",
       "      <td>1.998751</td>\n",
       "      <td>0.990793</td>\n",
       "    </tr>\n",
       "    <tr>\n",
       "      <th>1674</th>\n",
       "      <td>(REGENCY TEA PLATE GREEN)</td>\n",
       "      <td>(ROSES REGENCY TEACUP AND SAUCER, GREEN REGENC...</td>\n",
       "      <td>0.017999</td>\n",
       "      <td>0.037551</td>\n",
       "      <td>0.009374</td>\n",
       "      <td>0.520833</td>\n",
       "      <td>13.870067</td>\n",
       "      <td>0.008698</td>\n",
       "      <td>2.008589</td>\n",
       "      <td>0.944909</td>\n",
       "    </tr>\n",
       "  </tbody>\n",
       "</table>\n",
       "<p>93 rows × 10 columns</p>\n",
       "</div>"
      ],
      "text/plain": [
       "                            antecedents  \\\n",
       "810                (HERB MARKER CHIVES)   \n",
       "808               (HERB MARKER PARSLEY)   \n",
       "772                (HERB MARKER CHIVES)   \n",
       "807                 (HERB MARKER THYME)   \n",
       "765               (HERB MARKER PARSLEY)   \n",
       "...                                 ...   \n",
       "1424   (PINK REGENCY TEACUP AND SAUCER)   \n",
       "1425  (GREEN REGENCY TEACUP AND SAUCER)   \n",
       "1333   (ALARM CLOCK BAKELIKE CHOCOLATE)   \n",
       "1423  (ROSES REGENCY TEACUP AND SAUCER)   \n",
       "1674          (REGENCY TEA PLATE GREEN)   \n",
       "\n",
       "                                            consequents  antecedent support  \\\n",
       "810   (HERB MARKER THYME, HERB MARKER PARSLEY, HERB ...            0.010874   \n",
       "808   (HERB MARKER THYME, HERB MARKER ROSEMARY, HERB...            0.012213   \n",
       "772             (HERB MARKER PARSLEY, HERB MARKER MINT)            0.010874   \n",
       "807   (HERB MARKER PARSLEY, HERB MARKER ROSEMARY, HE...            0.012321   \n",
       "765             (HERB MARKER THYME, HERB MARKER CHIVES)            0.012213   \n",
       "...                                                 ...                 ...   \n",
       "1424  (ROSES REGENCY TEACUP AND SAUCER, GREEN REGENC...            0.037658   \n",
       "1425  (ROSES REGENCY TEACUP AND SAUCER, PINK REGENCY...            0.050032   \n",
       "1333  (ALARM CLOCK BAKELIKE GREEN, ALARM CLOCK BAKEL...            0.020356   \n",
       "1423  (PINK REGENCY TEACUP AND SAUCER, GREEN REGENCY...            0.051264   \n",
       "1674  (ROSES REGENCY TEACUP AND SAUCER, GREEN REGENC...            0.017999   \n",
       "\n",
       "      consequent support   support  confidence       lift  leverage  \\\n",
       "810             0.010553  0.009267    0.852217  80.757270  0.009152   \n",
       "808             0.009481  0.009267    0.758772  80.026861  0.009151   \n",
       "772             0.010981  0.009481    0.871921  79.400120  0.009362   \n",
       "807             0.009481  0.009267    0.752174  79.330975  0.009150   \n",
       "765             0.009856  0.009535    0.780702  79.207285  0.009415   \n",
       "...                  ...       ...         ...        ...       ...   \n",
       "1424            0.037551  0.026409    0.701280  18.675463  0.024995   \n",
       "1425            0.029248  0.026409    0.527837  18.047007  0.024945   \n",
       "1333            0.030159  0.010660    0.523684  17.364364  0.010046   \n",
       "1423            0.030909  0.026409    0.515152  16.666982  0.024824   \n",
       "1674            0.037551  0.009374    0.520833  13.870067  0.008698   \n",
       "\n",
       "      conviction  zhangs_metric  \n",
       "810     6.695259       0.998475  \n",
       "808     4.106150       0.999714  \n",
       "772     7.721953       0.998261  \n",
       "807     3.996829       0.999712  \n",
       "765     4.515055       0.999583  \n",
       "...          ...            ...  \n",
       "1424    3.221913       0.983490  \n",
       "1425    2.055969       0.994338  \n",
       "1333    2.036131       0.961993  \n",
       "1423    1.998751       0.990793  \n",
       "1674    2.008589       0.944909  \n",
       "\n",
       "[93 rows x 10 columns]"
      ]
     },
     "execution_count": 19,
     "metadata": {},
     "output_type": "execute_result"
    }
   ],
   "source": [
    "rules.head(100)"
   ]
  },
  {
   "cell_type": "markdown",
   "metadata": {},
   "source": [
    "**Final results with only relevant columns**"
   ]
  },
  {
   "cell_type": "code",
   "execution_count": 20,
   "metadata": {
    "colab": {
     "base_uri": "https://localhost:8080/",
     "height": 478
    },
    "id": "ClaFaYU89tu-",
    "outputId": "6e97517a-c2a8-4166-81ae-9960552384fb"
   },
   "outputs": [
    {
     "data": {
      "text/html": [
       "<div>\n",
       "<style scoped>\n",
       "    .dataframe tbody tr th:only-of-type {\n",
       "        vertical-align: middle;\n",
       "    }\n",
       "\n",
       "    .dataframe tbody tr th {\n",
       "        vertical-align: top;\n",
       "    }\n",
       "\n",
       "    .dataframe thead th {\n",
       "        text-align: right;\n",
       "    }\n",
       "</style>\n",
       "<table border=\"1\" class=\"dataframe\">\n",
       "  <thead>\n",
       "    <tr style=\"text-align: right;\">\n",
       "      <th></th>\n",
       "      <th>antecedents</th>\n",
       "      <th>consequents</th>\n",
       "      <th>confidence</th>\n",
       "      <th>lift</th>\n",
       "    </tr>\n",
       "  </thead>\n",
       "  <tbody>\n",
       "    <tr>\n",
       "      <th>810</th>\n",
       "      <td>(HERB MARKER CHIVES)</td>\n",
       "      <td>(HERB MARKER THYME, HERB MARKER PARSLEY, HERB ...</td>\n",
       "      <td>0.852217</td>\n",
       "      <td>80.757270</td>\n",
       "    </tr>\n",
       "    <tr>\n",
       "      <th>808</th>\n",
       "      <td>(HERB MARKER PARSLEY)</td>\n",
       "      <td>(HERB MARKER THYME, HERB MARKER ROSEMARY, HERB...</td>\n",
       "      <td>0.758772</td>\n",
       "      <td>80.026861</td>\n",
       "    </tr>\n",
       "    <tr>\n",
       "      <th>772</th>\n",
       "      <td>(HERB MARKER CHIVES)</td>\n",
       "      <td>(HERB MARKER PARSLEY, HERB MARKER MINT)</td>\n",
       "      <td>0.871921</td>\n",
       "      <td>79.400120</td>\n",
       "    </tr>\n",
       "    <tr>\n",
       "      <th>807</th>\n",
       "      <td>(HERB MARKER THYME)</td>\n",
       "      <td>(HERB MARKER PARSLEY, HERB MARKER ROSEMARY, HE...</td>\n",
       "      <td>0.752174</td>\n",
       "      <td>79.330975</td>\n",
       "    </tr>\n",
       "    <tr>\n",
       "      <th>765</th>\n",
       "      <td>(HERB MARKER PARSLEY)</td>\n",
       "      <td>(HERB MARKER THYME, HERB MARKER CHIVES)</td>\n",
       "      <td>0.780702</td>\n",
       "      <td>79.207285</td>\n",
       "    </tr>\n",
       "    <tr>\n",
       "      <th>...</th>\n",
       "      <td>...</td>\n",
       "      <td>...</td>\n",
       "      <td>...</td>\n",
       "      <td>...</td>\n",
       "    </tr>\n",
       "    <tr>\n",
       "      <th>1424</th>\n",
       "      <td>(PINK REGENCY TEACUP AND SAUCER)</td>\n",
       "      <td>(ROSES REGENCY TEACUP AND SAUCER, GREEN REGENC...</td>\n",
       "      <td>0.701280</td>\n",
       "      <td>18.675463</td>\n",
       "    </tr>\n",
       "    <tr>\n",
       "      <th>1425</th>\n",
       "      <td>(GREEN REGENCY TEACUP AND SAUCER)</td>\n",
       "      <td>(ROSES REGENCY TEACUP AND SAUCER, PINK REGENCY...</td>\n",
       "      <td>0.527837</td>\n",
       "      <td>18.047007</td>\n",
       "    </tr>\n",
       "    <tr>\n",
       "      <th>1333</th>\n",
       "      <td>(ALARM CLOCK BAKELIKE CHOCOLATE)</td>\n",
       "      <td>(ALARM CLOCK BAKELIKE GREEN, ALARM CLOCK BAKEL...</td>\n",
       "      <td>0.523684</td>\n",
       "      <td>17.364364</td>\n",
       "    </tr>\n",
       "    <tr>\n",
       "      <th>1423</th>\n",
       "      <td>(ROSES REGENCY TEACUP AND SAUCER)</td>\n",
       "      <td>(PINK REGENCY TEACUP AND SAUCER, GREEN REGENCY...</td>\n",
       "      <td>0.515152</td>\n",
       "      <td>16.666982</td>\n",
       "    </tr>\n",
       "    <tr>\n",
       "      <th>1674</th>\n",
       "      <td>(REGENCY TEA PLATE GREEN)</td>\n",
       "      <td>(ROSES REGENCY TEACUP AND SAUCER, GREEN REGENC...</td>\n",
       "      <td>0.520833</td>\n",
       "      <td>13.870067</td>\n",
       "    </tr>\n",
       "  </tbody>\n",
       "</table>\n",
       "<p>93 rows × 4 columns</p>\n",
       "</div>"
      ],
      "text/plain": [
       "                            antecedents  \\\n",
       "810                (HERB MARKER CHIVES)   \n",
       "808               (HERB MARKER PARSLEY)   \n",
       "772                (HERB MARKER CHIVES)   \n",
       "807                 (HERB MARKER THYME)   \n",
       "765               (HERB MARKER PARSLEY)   \n",
       "...                                 ...   \n",
       "1424   (PINK REGENCY TEACUP AND SAUCER)   \n",
       "1425  (GREEN REGENCY TEACUP AND SAUCER)   \n",
       "1333   (ALARM CLOCK BAKELIKE CHOCOLATE)   \n",
       "1423  (ROSES REGENCY TEACUP AND SAUCER)   \n",
       "1674          (REGENCY TEA PLATE GREEN)   \n",
       "\n",
       "                                            consequents  confidence       lift  \n",
       "810   (HERB MARKER THYME, HERB MARKER PARSLEY, HERB ...    0.852217  80.757270  \n",
       "808   (HERB MARKER THYME, HERB MARKER ROSEMARY, HERB...    0.758772  80.026861  \n",
       "772             (HERB MARKER PARSLEY, HERB MARKER MINT)    0.871921  79.400120  \n",
       "807   (HERB MARKER PARSLEY, HERB MARKER ROSEMARY, HE...    0.752174  79.330975  \n",
       "765             (HERB MARKER THYME, HERB MARKER CHIVES)    0.780702  79.207285  \n",
       "...                                                 ...         ...        ...  \n",
       "1424  (ROSES REGENCY TEACUP AND SAUCER, GREEN REGENC...    0.701280  18.675463  \n",
       "1425  (ROSES REGENCY TEACUP AND SAUCER, PINK REGENCY...    0.527837  18.047007  \n",
       "1333  (ALARM CLOCK BAKELIKE GREEN, ALARM CLOCK BAKEL...    0.523684  17.364364  \n",
       "1423  (PINK REGENCY TEACUP AND SAUCER, GREEN REGENCY...    0.515152  16.666982  \n",
       "1674  (ROSES REGENCY TEACUP AND SAUCER, GREEN REGENC...    0.520833  13.870067  \n",
       "\n",
       "[93 rows x 4 columns]"
      ]
     },
     "execution_count": 20,
     "metadata": {},
     "output_type": "execute_result"
    }
   ],
   "source": [
    "rules_shrunk = rules[['antecedents', 'consequents', 'confidence', 'lift']]\n",
    "rules_shrunk.head(100)"
   ]
  },
  {
   "cell_type": "code",
   "execution_count": null,
   "metadata": {
    "id": "MiMSLyadB3fc"
   },
   "outputs": [],
   "source": []
  }
 ],
 "metadata": {
  "colab": {
   "provenance": []
  },
  "kernelspec": {
   "display_name": "Python 3 (ipykernel)",
   "language": "python",
   "name": "python3"
  },
  "language_info": {
   "codemirror_mode": {
    "name": "ipython",
    "version": 3
   },
   "file_extension": ".py",
   "mimetype": "text/x-python",
   "name": "python",
   "nbconvert_exporter": "python",
   "pygments_lexer": "ipython3",
   "version": "3.11.5"
  }
 },
 "nbformat": 4,
 "nbformat_minor": 1
}
