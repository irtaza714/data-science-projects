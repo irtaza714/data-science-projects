{
  "nbformat": 4,
  "nbformat_minor": 0,
  "metadata": {
    "colab": {
      "provenance": [],
      "gpuType": "T4"
    },
    "kernelspec": {
      "name": "python3",
      "display_name": "Python 3"
    },
    "language_info": {
      "name": "python"
    },
    "accelerator": "GPU"
  },
  "cells": [
    {
      "cell_type": "markdown",
      "source": [
        "**This notebook illustrates the training methodology for image classification, employing a strategy called 'training by epochs'. This approach involves initially training the model on a portion of the dataset and then fine-tuning it on the remaining data. The process aims to optimize the model's understanding of the data through iterative refinement. Notably, this specific notebook delves into the insights gained during the last part of the training phase.**"
      ],
      "metadata": {
        "id": "2WnV62aI6Mw7"
      }
    },
    {
      "cell_type": "markdown",
      "source": [
        "**Importing necessary libraries**"
      ],
      "metadata": {
        "id": "sSaVvlutZrEG"
      }
    },
    {
      "cell_type": "code",
      "execution_count": null,
      "metadata": {
        "id": "2FrWEYckLPf5",
        "colab": {
          "base_uri": "https://localhost:8080/"
        },
        "outputId": "a8d15c80-fd31-4f33-b81c-fe10f878bb76"
      },
      "outputs": [
        {
          "output_type": "stream",
          "name": "stdout",
          "text": [
            "Mounted at /content/drive\n"
          ]
        }
      ],
      "source": [
        "from google.colab import drive\n",
        "drive.mount('/content/drive')\n",
        "import numpy as np\n",
        "import pandas as pd\n",
        "from PIL import Image\n",
        "import matplotlib.pyplot as plt\n",
        "import matplotlib.image as mpimg\n",
        "from sklearn.model_selection import train_test_split\n",
        "from google.colab.patches import cv2_imshow\n",
        "import os, zipfile, re, cv2, glob\n",
        "import tensorflow\n",
        "from tensorflow.keras.layers import Dense, Dropout, Flatten\n",
        "from tensorflow.keras.models import Sequential, load_model\n",
        "from tensorflow.keras.applications import VGG19\n",
        "from sklearn.metrics import confusion_matrix, classification_report, accuracy_score, f1_score, precision_score, recall_score\n",
        "import warnings\n",
        "warnings.filterwarnings('ignore')"
      ]
    },
    {
      "cell_type": "markdown",
      "source": [
        "**In the last part, we will resize the next 500 images of each of the four classes, save them in a folder named 'resized-images-4', and re-train the third partially trained model on them.**"
      ],
      "metadata": {
        "id": "qglBJkYM7I0l"
      }
    },
    {
      "cell_type": "markdown",
      "source": [
        "**Resizing images of the first class and saving them in drive**"
      ],
      "metadata": {
        "id": "QkzBbanpeL2R"
      }
    },
    {
      "cell_type": "code",
      "source": [
        "original_folder = '/content/drive/MyDrive/image-classification/original-images/a/'\n",
        "resized_folder = '/content/drive/MyDrive/image-classification/resized-images-4/'\n",
        "\n",
        "os.makedirs(resized_folder, exist_ok=True)\n",
        "\n",
        "start_index = 1500\n",
        "end_index = 1999\n",
        "\n",
        "original_folder_name = os.path.basename(os.path.normpath(original_folder))\n",
        "\n",
        "for i, filename in enumerate(os.listdir(original_folder)[start_index:end_index + 1]):\n",
        "    img_path = os.path.join(original_folder, filename)\n",
        "\n",
        "    img = Image.open(img_path)\n",
        "    img = img.resize((224, 224))\n",
        "    img = img.convert('RGB')\n",
        "\n",
        "    base, ext = os.path.splitext(filename)\n",
        "\n",
        "    if not ext:\n",
        "        print(f\"Skipped {filename} - no valid extension\")\n",
        "        continue\n",
        "\n",
        "    new_filename = f\"{original_folder_name}{i + 1}.jpg\"\n",
        "\n",
        "    new_img_path = os.path.join(resized_folder, new_filename)\n",
        "\n",
        "    img.save(new_img_path, format='JPEG')"
      ],
      "metadata": {
        "id": "hnrSDft0eJ6K"
      },
      "execution_count": null,
      "outputs": []
    },
    {
      "cell_type": "markdown",
      "source": [
        "**Counting the number of resized images**"
      ],
      "metadata": {
        "id": "bKuQ7lSZAec9"
      }
    },
    {
      "cell_type": "code",
      "source": [
        "path, dirs, files = next(os.walk(resized_folder))\n",
        "file_count = len(files)\n",
        "print('Total number of resized images: ', file_count)"
      ],
      "metadata": {
        "colab": {
          "base_uri": "https://localhost:8080/"
        },
        "id": "ewBx6YlN93pv",
        "outputId": "2d6729c4-f87d-4c0a-d3e7-99493206ea7d"
      },
      "execution_count": null,
      "outputs": [
        {
          "output_type": "stream",
          "name": "stdout",
          "text": [
            "Total number of resized images:  500\n"
          ]
        }
      ]
    },
    {
      "cell_type": "markdown",
      "source": [
        "**Resizing images of the second class and saving them in drive**"
      ],
      "metadata": {
        "id": "8MFuVuCIpYgH"
      }
    },
    {
      "cell_type": "code",
      "source": [
        "original_folder = '/content/drive/MyDrive/image-classification/original-images/b/'\n",
        "resized_folder = '/content/drive/MyDrive/image-classification/resized-images-4/'\n",
        "\n",
        "os.makedirs(resized_folder, exist_ok=True)\n",
        "\n",
        "start_index = 1500\n",
        "end_index = 1999\n",
        "\n",
        "original_folder_name = os.path.basename(os.path.normpath(original_folder))\n",
        "\n",
        "for i, filename in enumerate(os.listdir(original_folder)[start_index:end_index + 1]):\n",
        "    img_path = os.path.join(original_folder, filename)\n",
        "\n",
        "    img = Image.open(img_path)\n",
        "    img = img.resize((224, 224))\n",
        "    img = img.convert('RGB')\n",
        "\n",
        "    base, ext = os.path.splitext(filename)\n",
        "\n",
        "    if not ext:\n",
        "        print(f\"Skipped {filename} - no valid extension\")\n",
        "        continue\n",
        "\n",
        "    new_filename = f\"{original_folder_name}{i + 1}.jpg\"\n",
        "\n",
        "    new_img_path = os.path.join(resized_folder, new_filename)\n",
        "\n",
        "    img.save(new_img_path, format='JPEG')"
      ],
      "metadata": {
        "id": "BOSMOOOqpa7e"
      },
      "execution_count": null,
      "outputs": []
    },
    {
      "cell_type": "markdown",
      "source": [
        "**Counting the number of resized images till now**"
      ],
      "metadata": {
        "id": "Uj8WcOWLAgzG"
      }
    },
    {
      "cell_type": "code",
      "source": [
        "path, dirs, files = next(os.walk(resized_folder))\n",
        "file_count = len(files)\n",
        "print('Total number of resized images: ', file_count)"
      ],
      "metadata": {
        "colab": {
          "base_uri": "https://localhost:8080/"
        },
        "id": "foiAgSmTBBpR",
        "outputId": "7ab67ed7-b8d9-47de-ba83-975a9a2532e7"
      },
      "execution_count": null,
      "outputs": [
        {
          "output_type": "stream",
          "name": "stdout",
          "text": [
            "Total number of resized images:  1000\n"
          ]
        }
      ]
    },
    {
      "cell_type": "markdown",
      "source": [
        "**Resizing images of the third class and saving them in drive**"
      ],
      "metadata": {
        "id": "-tfzWxA_phUb"
      }
    },
    {
      "cell_type": "code",
      "source": [
        "original_folder = '/content/drive/MyDrive/image-classification/original-images/c/'\n",
        "resized_folder = '/content/drive/MyDrive/image-classification/resized-images-4/'\n",
        "\n",
        "os.makedirs(resized_folder, exist_ok=True)\n",
        "\n",
        "start_index = 1500\n",
        "end_index = 1999\n",
        "\n",
        "original_folder_name = os.path.basename(os.path.normpath(original_folder))\n",
        "\n",
        "for i, filename in enumerate(os.listdir(original_folder)[start_index:end_index + 1]):\n",
        "    img_path = os.path.join(original_folder, filename)\n",
        "\n",
        "    img = Image.open(img_path)\n",
        "    img = img.resize((224, 224))\n",
        "    img = img.convert('RGB')\n",
        "\n",
        "    base, ext = os.path.splitext(filename)\n",
        "\n",
        "    if not ext:\n",
        "        print(f\"Skipped {filename} - no valid extension\")\n",
        "        continue\n",
        "\n",
        "    new_filename = f\"{original_folder_name}{i + 1}.jpg\"\n",
        "\n",
        "    new_img_path = os.path.join(resized_folder, new_filename)\n",
        "\n",
        "    img.save(new_img_path, format='JPEG')"
      ],
      "metadata": {
        "id": "T-2_SzKJplLa"
      },
      "execution_count": null,
      "outputs": []
    },
    {
      "cell_type": "markdown",
      "source": [
        "**Counting the number of resized images till now**"
      ],
      "metadata": {
        "id": "YEStmw23Akf2"
      }
    },
    {
      "cell_type": "code",
      "source": [
        "path, dirs, files = next(os.walk(resized_folder))\n",
        "file_count = len(files)\n",
        "print('Total number of resized images: ', file_count)"
      ],
      "metadata": {
        "colab": {
          "base_uri": "https://localhost:8080/"
        },
        "id": "ZKcT-j6tBE2P",
        "outputId": "f6ab833c-bd48-4713-9e59-33bbf398a04c"
      },
      "execution_count": null,
      "outputs": [
        {
          "output_type": "stream",
          "name": "stdout",
          "text": [
            "Total number of resized images:  1500\n"
          ]
        }
      ]
    },
    {
      "cell_type": "markdown",
      "source": [
        "**Resizing images of the fourth class and saving them in drive**"
      ],
      "metadata": {
        "id": "D56_NpaVppge"
      }
    },
    {
      "cell_type": "code",
      "source": [
        "original_folder = '/content/drive/MyDrive/image-classification/original-images/d/'\n",
        "resized_folder = '/content/drive/MyDrive/image-classification/resized-images-4/'\n",
        "\n",
        "os.makedirs(resized_folder, exist_ok=True)\n",
        "\n",
        "start_index = 1500\n",
        "end_index = 1999\n",
        "\n",
        "original_folder_name = os.path.basename(os.path.normpath(original_folder))\n",
        "\n",
        "for i, filename in enumerate(os.listdir(original_folder)[start_index:end_index + 1]):\n",
        "    img_path = os.path.join(original_folder, filename)\n",
        "\n",
        "    img = Image.open(img_path)\n",
        "    img = img.resize((224, 224))\n",
        "    img = img.convert('RGB')\n",
        "\n",
        "    base, ext = os.path.splitext(filename)\n",
        "\n",
        "    if not ext:\n",
        "        print(f\"Skipped {filename} - no valid extension\")\n",
        "        continue\n",
        "\n",
        "    new_filename = f\"{original_folder_name}{i + 1}.jpg\"\n",
        "\n",
        "    new_img_path = os.path.join(resized_folder, new_filename)\n",
        "\n",
        "    img.save(new_img_path, format='JPEG')"
      ],
      "metadata": {
        "id": "WYw-7PYOps_A"
      },
      "execution_count": null,
      "outputs": []
    },
    {
      "cell_type": "markdown",
      "source": [
        "**Counting the number of total resized images**"
      ],
      "metadata": {
        "id": "PHjyBDwIaD8N"
      }
    },
    {
      "cell_type": "code",
      "source": [
        "path, dirs, files = next(os.walk(resized_folder))\n",
        "file_count = len(files)\n",
        "print('Total number of resized images: ', file_count)"
      ],
      "metadata": {
        "id": "0M-GNGQypIql",
        "colab": {
          "base_uri": "https://localhost:8080/"
        },
        "outputId": "57fe1bd1-3676-4dcf-9084-33c5819e0793"
      },
      "execution_count": null,
      "outputs": [
        {
          "output_type": "stream",
          "name": "stdout",
          "text": [
            "Total number of resized images:  2000\n"
          ]
        }
      ]
    },
    {
      "cell_type": "markdown",
      "source": [
        "**Printing image names**"
      ],
      "metadata": {
        "id": "SJ3BDDGlaJH_"
      }
    },
    {
      "cell_type": "code",
      "source": [
        "file_names = os.listdir('/content/drive/MyDrive/image-classification/resized-images-4/')\n",
        "print(file_names)"
      ],
      "metadata": {
        "id": "yYS-QmG_pNA0",
        "colab": {
          "base_uri": "https://localhost:8080/"
        },
        "outputId": "77a27033-ce62-4ff2-b8e5-9254b88eabf3"
      },
      "execution_count": null,
      "outputs": [
        {
          "output_type": "stream",
          "name": "stdout",
          "text": [
            "['a1.jpg', 'a2.jpg', 'a3.jpg', 'a4.jpg', 'a5.jpg', 'a6.jpg', 'a7.jpg', 'a8.jpg', 'a9.jpg', 'a10.jpg', 'a11.jpg', 'a12.jpg', 'a13.jpg', 'a14.jpg', 'a15.jpg', 'a16.jpg', 'a17.jpg', 'a18.jpg', 'a19.jpg', 'a20.jpg', 'a21.jpg', 'a22.jpg', 'a23.jpg', 'a24.jpg', 'a25.jpg', 'a26.jpg', 'a27.jpg', 'a28.jpg', 'a29.jpg', 'a30.jpg', 'a31.jpg', 'a32.jpg', 'a33.jpg', 'a34.jpg', 'a35.jpg', 'a36.jpg', 'a37.jpg', 'a38.jpg', 'a39.jpg', 'a40.jpg', 'a41.jpg', 'a42.jpg', 'a43.jpg', 'a44.jpg', 'a45.jpg', 'a46.jpg', 'a47.jpg', 'a48.jpg', 'a49.jpg', 'a50.jpg', 'a51.jpg', 'a52.jpg', 'a53.jpg', 'a54.jpg', 'a55.jpg', 'a56.jpg', 'a57.jpg', 'a58.jpg', 'a59.jpg', 'a60.jpg', 'a61.jpg', 'a62.jpg', 'a63.jpg', 'a64.jpg', 'a65.jpg', 'a66.jpg', 'a67.jpg', 'a68.jpg', 'a69.jpg', 'a70.jpg', 'a71.jpg', 'a72.jpg', 'a73.jpg', 'a74.jpg', 'a75.jpg', 'a76.jpg', 'a77.jpg', 'a78.jpg', 'a79.jpg', 'a80.jpg', 'a81.jpg', 'a82.jpg', 'a83.jpg', 'a84.jpg', 'a85.jpg', 'a86.jpg', 'a87.jpg', 'a88.jpg', 'a89.jpg', 'a90.jpg', 'a91.jpg', 'a92.jpg', 'a93.jpg', 'a94.jpg', 'a95.jpg', 'a96.jpg', 'a97.jpg', 'a98.jpg', 'a99.jpg', 'a100.jpg', 'a101.jpg', 'a102.jpg', 'a103.jpg', 'a104.jpg', 'a105.jpg', 'a106.jpg', 'a107.jpg', 'a108.jpg', 'a109.jpg', 'a110.jpg', 'a111.jpg', 'a112.jpg', 'a113.jpg', 'a114.jpg', 'a115.jpg', 'a116.jpg', 'a117.jpg', 'a118.jpg', 'a119.jpg', 'a120.jpg', 'a121.jpg', 'a122.jpg', 'a123.jpg', 'a124.jpg', 'a125.jpg', 'a126.jpg', 'a127.jpg', 'a128.jpg', 'a129.jpg', 'a130.jpg', 'a131.jpg', 'a132.jpg', 'a133.jpg', 'a134.jpg', 'a135.jpg', 'a136.jpg', 'a137.jpg', 'a138.jpg', 'a139.jpg', 'a140.jpg', 'a141.jpg', 'a142.jpg', 'a143.jpg', 'a144.jpg', 'a145.jpg', 'a146.jpg', 'a147.jpg', 'a148.jpg', 'a149.jpg', 'a150.jpg', 'a151.jpg', 'a152.jpg', 'a153.jpg', 'a154.jpg', 'a155.jpg', 'a156.jpg', 'a157.jpg', 'a158.jpg', 'a159.jpg', 'a160.jpg', 'a161.jpg', 'a162.jpg', 'a163.jpg', 'a164.jpg', 'a165.jpg', 'a166.jpg', 'a167.jpg', 'a168.jpg', 'a169.jpg', 'a170.jpg', 'a171.jpg', 'a172.jpg', 'a173.jpg', 'a174.jpg', 'a175.jpg', 'a176.jpg', 'a177.jpg', 'a178.jpg', 'a179.jpg', 'a180.jpg', 'a181.jpg', 'a182.jpg', 'a183.jpg', 'a184.jpg', 'a185.jpg', 'a186.jpg', 'a187.jpg', 'a188.jpg', 'a189.jpg', 'a190.jpg', 'a191.jpg', 'a192.jpg', 'a193.jpg', 'a194.jpg', 'a195.jpg', 'a196.jpg', 'a197.jpg', 'a198.jpg', 'a199.jpg', 'a200.jpg', 'a201.jpg', 'a202.jpg', 'a203.jpg', 'a204.jpg', 'a205.jpg', 'a206.jpg', 'a207.jpg', 'a208.jpg', 'a209.jpg', 'a210.jpg', 'a211.jpg', 'a212.jpg', 'a213.jpg', 'a214.jpg', 'a215.jpg', 'a216.jpg', 'a217.jpg', 'a218.jpg', 'a219.jpg', 'a220.jpg', 'a221.jpg', 'a222.jpg', 'a223.jpg', 'a224.jpg', 'a225.jpg', 'a226.jpg', 'a227.jpg', 'a228.jpg', 'a229.jpg', 'a230.jpg', 'a231.jpg', 'a232.jpg', 'a233.jpg', 'a234.jpg', 'a235.jpg', 'a236.jpg', 'a237.jpg', 'a238.jpg', 'a239.jpg', 'a240.jpg', 'a241.jpg', 'a242.jpg', 'a243.jpg', 'a244.jpg', 'a245.jpg', 'a246.jpg', 'a247.jpg', 'a248.jpg', 'a249.jpg', 'a250.jpg', 'a251.jpg', 'a252.jpg', 'a253.jpg', 'a254.jpg', 'a255.jpg', 'a256.jpg', 'a257.jpg', 'a258.jpg', 'a259.jpg', 'a260.jpg', 'a261.jpg', 'a262.jpg', 'a263.jpg', 'a264.jpg', 'a265.jpg', 'a266.jpg', 'a267.jpg', 'a268.jpg', 'a269.jpg', 'a270.jpg', 'a271.jpg', 'a272.jpg', 'a273.jpg', 'a274.jpg', 'a275.jpg', 'a276.jpg', 'a277.jpg', 'a278.jpg', 'a279.jpg', 'a280.jpg', 'a281.jpg', 'a282.jpg', 'a283.jpg', 'a284.jpg', 'a285.jpg', 'a286.jpg', 'a287.jpg', 'a288.jpg', 'a289.jpg', 'a290.jpg', 'a291.jpg', 'a292.jpg', 'a293.jpg', 'a294.jpg', 'a295.jpg', 'a296.jpg', 'a297.jpg', 'a298.jpg', 'a299.jpg', 'a300.jpg', 'a301.jpg', 'a302.jpg', 'a303.jpg', 'a304.jpg', 'a305.jpg', 'a306.jpg', 'a307.jpg', 'a308.jpg', 'a309.jpg', 'a310.jpg', 'a311.jpg', 'a312.jpg', 'a313.jpg', 'a314.jpg', 'a315.jpg', 'a316.jpg', 'a317.jpg', 'a318.jpg', 'a319.jpg', 'a320.jpg', 'a321.jpg', 'a322.jpg', 'a323.jpg', 'a324.jpg', 'a325.jpg', 'a326.jpg', 'a327.jpg', 'a328.jpg', 'a329.jpg', 'a330.jpg', 'a331.jpg', 'a332.jpg', 'a333.jpg', 'a334.jpg', 'a335.jpg', 'a336.jpg', 'a337.jpg', 'a338.jpg', 'a339.jpg', 'a340.jpg', 'a341.jpg', 'a342.jpg', 'a343.jpg', 'a344.jpg', 'a345.jpg', 'a346.jpg', 'a347.jpg', 'a348.jpg', 'a349.jpg', 'a350.jpg', 'a351.jpg', 'a352.jpg', 'a353.jpg', 'a354.jpg', 'a355.jpg', 'a356.jpg', 'a357.jpg', 'a358.jpg', 'a359.jpg', 'a360.jpg', 'a361.jpg', 'a362.jpg', 'a363.jpg', 'a364.jpg', 'a365.jpg', 'a366.jpg', 'a367.jpg', 'a368.jpg', 'a369.jpg', 'a370.jpg', 'a371.jpg', 'a372.jpg', 'a373.jpg', 'a374.jpg', 'a375.jpg', 'a376.jpg', 'a377.jpg', 'a378.jpg', 'a379.jpg', 'a380.jpg', 'a381.jpg', 'a382.jpg', 'a383.jpg', 'a384.jpg', 'a385.jpg', 'a386.jpg', 'a387.jpg', 'a388.jpg', 'a389.jpg', 'a390.jpg', 'a391.jpg', 'a392.jpg', 'a393.jpg', 'a394.jpg', 'a395.jpg', 'a396.jpg', 'a397.jpg', 'a398.jpg', 'a399.jpg', 'a400.jpg', 'a401.jpg', 'a402.jpg', 'a403.jpg', 'a404.jpg', 'a405.jpg', 'a406.jpg', 'a407.jpg', 'a408.jpg', 'a409.jpg', 'a410.jpg', 'a411.jpg', 'a412.jpg', 'a413.jpg', 'a414.jpg', 'a415.jpg', 'a416.jpg', 'a417.jpg', 'a418.jpg', 'a419.jpg', 'a420.jpg', 'a421.jpg', 'a422.jpg', 'a423.jpg', 'a424.jpg', 'a425.jpg', 'a426.jpg', 'a427.jpg', 'a428.jpg', 'a429.jpg', 'a430.jpg', 'a431.jpg', 'a432.jpg', 'a433.jpg', 'a434.jpg', 'a435.jpg', 'a436.jpg', 'a437.jpg', 'a438.jpg', 'a439.jpg', 'a440.jpg', 'a441.jpg', 'a442.jpg', 'a443.jpg', 'a444.jpg', 'a445.jpg', 'a446.jpg', 'a447.jpg', 'a448.jpg', 'a449.jpg', 'a450.jpg', 'a451.jpg', 'a452.jpg', 'a453.jpg', 'a454.jpg', 'a455.jpg', 'a456.jpg', 'a457.jpg', 'a458.jpg', 'a459.jpg', 'a460.jpg', 'a461.jpg', 'a462.jpg', 'a463.jpg', 'a464.jpg', 'a465.jpg', 'a466.jpg', 'a467.jpg', 'a468.jpg', 'a469.jpg', 'a470.jpg', 'a471.jpg', 'a472.jpg', 'a473.jpg', 'a474.jpg', 'a475.jpg', 'a476.jpg', 'a477.jpg', 'a478.jpg', 'a479.jpg', 'a480.jpg', 'a481.jpg', 'a482.jpg', 'a483.jpg', 'a484.jpg', 'a485.jpg', 'a486.jpg', 'a487.jpg', 'a488.jpg', 'a489.jpg', 'a490.jpg', 'a491.jpg', 'a492.jpg', 'a493.jpg', 'a494.jpg', 'a495.jpg', 'a496.jpg', 'a497.jpg', 'a498.jpg', 'a499.jpg', 'a500.jpg', 'b1.jpg', 'b2.jpg', 'b3.jpg', 'b4.jpg', 'b5.jpg', 'b6.jpg', 'b7.jpg', 'b8.jpg', 'b9.jpg', 'b10.jpg', 'b11.jpg', 'b12.jpg', 'b13.jpg', 'b14.jpg', 'b15.jpg', 'b16.jpg', 'b17.jpg', 'b18.jpg', 'b19.jpg', 'b20.jpg', 'b21.jpg', 'b22.jpg', 'b23.jpg', 'b24.jpg', 'b25.jpg', 'b26.jpg', 'b27.jpg', 'b28.jpg', 'b29.jpg', 'b30.jpg', 'b31.jpg', 'b32.jpg', 'b33.jpg', 'b34.jpg', 'b35.jpg', 'b36.jpg', 'b37.jpg', 'b38.jpg', 'b39.jpg', 'b40.jpg', 'b41.jpg', 'b42.jpg', 'b43.jpg', 'b44.jpg', 'b45.jpg', 'b46.jpg', 'b47.jpg', 'b48.jpg', 'b49.jpg', 'b50.jpg', 'b51.jpg', 'b52.jpg', 'b53.jpg', 'b54.jpg', 'b55.jpg', 'b56.jpg', 'b57.jpg', 'b58.jpg', 'b59.jpg', 'b60.jpg', 'b61.jpg', 'b62.jpg', 'b63.jpg', 'b64.jpg', 'b65.jpg', 'b66.jpg', 'b67.jpg', 'b68.jpg', 'b69.jpg', 'b70.jpg', 'b71.jpg', 'b72.jpg', 'b73.jpg', 'b74.jpg', 'b75.jpg', 'b76.jpg', 'b77.jpg', 'b78.jpg', 'b79.jpg', 'b80.jpg', 'b81.jpg', 'b82.jpg', 'b83.jpg', 'b84.jpg', 'b85.jpg', 'b86.jpg', 'b87.jpg', 'b88.jpg', 'b89.jpg', 'b90.jpg', 'b91.jpg', 'b92.jpg', 'b93.jpg', 'b94.jpg', 'b95.jpg', 'b96.jpg', 'b97.jpg', 'b98.jpg', 'b99.jpg', 'b100.jpg', 'b101.jpg', 'b102.jpg', 'b103.jpg', 'b104.jpg', 'b105.jpg', 'b106.jpg', 'b107.jpg', 'b108.jpg', 'b109.jpg', 'b110.jpg', 'b111.jpg', 'b112.jpg', 'b113.jpg', 'b114.jpg', 'b115.jpg', 'b116.jpg', 'b117.jpg', 'b118.jpg', 'b119.jpg', 'b120.jpg', 'b121.jpg', 'b122.jpg', 'b123.jpg', 'b124.jpg', 'b125.jpg', 'b126.jpg', 'b127.jpg', 'b128.jpg', 'b129.jpg', 'b130.jpg', 'b131.jpg', 'b132.jpg', 'b133.jpg', 'b134.jpg', 'b135.jpg', 'b136.jpg', 'b137.jpg', 'b138.jpg', 'b139.jpg', 'b140.jpg', 'b141.jpg', 'b142.jpg', 'b143.jpg', 'b144.jpg', 'b145.jpg', 'b146.jpg', 'b147.jpg', 'b148.jpg', 'b149.jpg', 'b150.jpg', 'b151.jpg', 'b152.jpg', 'b153.jpg', 'b154.jpg', 'b155.jpg', 'b156.jpg', 'b157.jpg', 'b158.jpg', 'b159.jpg', 'b160.jpg', 'b161.jpg', 'b162.jpg', 'b163.jpg', 'b164.jpg', 'b165.jpg', 'b166.jpg', 'b167.jpg', 'b168.jpg', 'b169.jpg', 'b170.jpg', 'b171.jpg', 'b172.jpg', 'b173.jpg', 'b174.jpg', 'b175.jpg', 'b176.jpg', 'b177.jpg', 'b178.jpg', 'b179.jpg', 'b180.jpg', 'b181.jpg', 'b182.jpg', 'b183.jpg', 'b184.jpg', 'b185.jpg', 'b186.jpg', 'b187.jpg', 'b188.jpg', 'b189.jpg', 'b190.jpg', 'b191.jpg', 'b192.jpg', 'b193.jpg', 'b194.jpg', 'b195.jpg', 'b196.jpg', 'b197.jpg', 'b198.jpg', 'b199.jpg', 'b200.jpg', 'b201.jpg', 'b202.jpg', 'b203.jpg', 'b204.jpg', 'b205.jpg', 'b206.jpg', 'b207.jpg', 'b208.jpg', 'b209.jpg', 'b210.jpg', 'b211.jpg', 'b212.jpg', 'b213.jpg', 'b214.jpg', 'b215.jpg', 'b216.jpg', 'b217.jpg', 'b218.jpg', 'b219.jpg', 'b220.jpg', 'b221.jpg', 'b222.jpg', 'b223.jpg', 'b224.jpg', 'b225.jpg', 'b226.jpg', 'b227.jpg', 'b228.jpg', 'b229.jpg', 'b230.jpg', 'b231.jpg', 'b232.jpg', 'b233.jpg', 'b234.jpg', 'b235.jpg', 'b236.jpg', 'b237.jpg', 'b238.jpg', 'b239.jpg', 'b240.jpg', 'b241.jpg', 'b242.jpg', 'b243.jpg', 'b244.jpg', 'b245.jpg', 'b246.jpg', 'b247.jpg', 'b248.jpg', 'b249.jpg', 'b250.jpg', 'b251.jpg', 'b252.jpg', 'b253.jpg', 'b254.jpg', 'b255.jpg', 'b256.jpg', 'b257.jpg', 'b258.jpg', 'b259.jpg', 'b260.jpg', 'b261.jpg', 'b262.jpg', 'b263.jpg', 'b264.jpg', 'b265.jpg', 'b266.jpg', 'b267.jpg', 'b268.jpg', 'b269.jpg', 'b270.jpg', 'b271.jpg', 'b272.jpg', 'b273.jpg', 'b274.jpg', 'b275.jpg', 'b276.jpg', 'b277.jpg', 'b278.jpg', 'b279.jpg', 'b280.jpg', 'b281.jpg', 'b282.jpg', 'b283.jpg', 'b284.jpg', 'b285.jpg', 'b286.jpg', 'b287.jpg', 'b288.jpg', 'b289.jpg', 'b290.jpg', 'b291.jpg', 'b292.jpg', 'b293.jpg', 'b294.jpg', 'b295.jpg', 'b296.jpg', 'b297.jpg', 'b298.jpg', 'b299.jpg', 'b300.jpg', 'b301.jpg', 'b302.jpg', 'b303.jpg', 'b304.jpg', 'b305.jpg', 'b306.jpg', 'b307.jpg', 'b308.jpg', 'b309.jpg', 'b310.jpg', 'b311.jpg', 'b312.jpg', 'b313.jpg', 'b314.jpg', 'b315.jpg', 'b316.jpg', 'b317.jpg', 'b318.jpg', 'b319.jpg', 'b320.jpg', 'b321.jpg', 'b322.jpg', 'b323.jpg', 'b324.jpg', 'b325.jpg', 'b326.jpg', 'b327.jpg', 'b328.jpg', 'b329.jpg', 'b330.jpg', 'b331.jpg', 'b332.jpg', 'b333.jpg', 'b334.jpg', 'b335.jpg', 'b336.jpg', 'b337.jpg', 'b338.jpg', 'b339.jpg', 'b340.jpg', 'b341.jpg', 'b342.jpg', 'b343.jpg', 'b344.jpg', 'b345.jpg', 'b346.jpg', 'b347.jpg', 'b348.jpg', 'b349.jpg', 'b350.jpg', 'b351.jpg', 'b352.jpg', 'b353.jpg', 'b354.jpg', 'b355.jpg', 'b356.jpg', 'b357.jpg', 'b358.jpg', 'b359.jpg', 'b360.jpg', 'b361.jpg', 'b362.jpg', 'b363.jpg', 'b364.jpg', 'b365.jpg', 'b366.jpg', 'b367.jpg', 'b368.jpg', 'b369.jpg', 'b370.jpg', 'b371.jpg', 'b372.jpg', 'b373.jpg', 'b374.jpg', 'b375.jpg', 'b376.jpg', 'b377.jpg', 'b378.jpg', 'b379.jpg', 'b380.jpg', 'b381.jpg', 'b382.jpg', 'b383.jpg', 'b384.jpg', 'b385.jpg', 'b386.jpg', 'b387.jpg', 'b388.jpg', 'b389.jpg', 'b390.jpg', 'b391.jpg', 'b392.jpg', 'b393.jpg', 'b394.jpg', 'b395.jpg', 'b396.jpg', 'b397.jpg', 'b398.jpg', 'b399.jpg', 'b400.jpg', 'b401.jpg', 'b402.jpg', 'b403.jpg', 'b404.jpg', 'b405.jpg', 'b406.jpg', 'b407.jpg', 'b408.jpg', 'b409.jpg', 'b410.jpg', 'b411.jpg', 'b412.jpg', 'b413.jpg', 'b414.jpg', 'b415.jpg', 'b416.jpg', 'b417.jpg', 'b418.jpg', 'b419.jpg', 'b420.jpg', 'b421.jpg', 'b422.jpg', 'b423.jpg', 'b424.jpg', 'b425.jpg', 'b426.jpg', 'b427.jpg', 'b428.jpg', 'b429.jpg', 'b430.jpg', 'b431.jpg', 'b432.jpg', 'b433.jpg', 'b434.jpg', 'b435.jpg', 'b436.jpg', 'b437.jpg', 'b438.jpg', 'b439.jpg', 'b440.jpg', 'b441.jpg', 'b442.jpg', 'b443.jpg', 'b444.jpg', 'b445.jpg', 'b446.jpg', 'b447.jpg', 'b448.jpg', 'b449.jpg', 'b450.jpg', 'b451.jpg', 'b452.jpg', 'b453.jpg', 'b454.jpg', 'b455.jpg', 'b456.jpg', 'b457.jpg', 'b458.jpg', 'b459.jpg', 'b460.jpg', 'b461.jpg', 'b462.jpg', 'b463.jpg', 'b464.jpg', 'b465.jpg', 'b466.jpg', 'b467.jpg', 'b468.jpg', 'b469.jpg', 'b470.jpg', 'b471.jpg', 'b472.jpg', 'b473.jpg', 'b474.jpg', 'b475.jpg', 'b476.jpg', 'b477.jpg', 'b478.jpg', 'b479.jpg', 'b480.jpg', 'b481.jpg', 'b482.jpg', 'b483.jpg', 'b484.jpg', 'b485.jpg', 'b486.jpg', 'b487.jpg', 'b488.jpg', 'b489.jpg', 'b490.jpg', 'b491.jpg', 'b492.jpg', 'b493.jpg', 'b494.jpg', 'b495.jpg', 'b496.jpg', 'b497.jpg', 'b498.jpg', 'b499.jpg', 'b500.jpg', 'c1.jpg', 'c2.jpg', 'c3.jpg', 'c4.jpg', 'c5.jpg', 'c6.jpg', 'c7.jpg', 'c8.jpg', 'c9.jpg', 'c10.jpg', 'c11.jpg', 'c12.jpg', 'c13.jpg', 'c14.jpg', 'c15.jpg', 'c16.jpg', 'c17.jpg', 'c18.jpg', 'c19.jpg', 'c20.jpg', 'c21.jpg', 'c22.jpg', 'c23.jpg', 'c24.jpg', 'c25.jpg', 'c26.jpg', 'c27.jpg', 'c28.jpg', 'c29.jpg', 'c30.jpg', 'c31.jpg', 'c32.jpg', 'c33.jpg', 'c34.jpg', 'c35.jpg', 'c36.jpg', 'c37.jpg', 'c38.jpg', 'c39.jpg', 'c40.jpg', 'c41.jpg', 'c42.jpg', 'c43.jpg', 'c44.jpg', 'c45.jpg', 'c46.jpg', 'c47.jpg', 'c48.jpg', 'c49.jpg', 'c50.jpg', 'c51.jpg', 'c52.jpg', 'c53.jpg', 'c54.jpg', 'c55.jpg', 'c56.jpg', 'c57.jpg', 'c58.jpg', 'c59.jpg', 'c60.jpg', 'c61.jpg', 'c62.jpg', 'c63.jpg', 'c64.jpg', 'c65.jpg', 'c66.jpg', 'c67.jpg', 'c68.jpg', 'c69.jpg', 'c70.jpg', 'c71.jpg', 'c72.jpg', 'c73.jpg', 'c74.jpg', 'c75.jpg', 'c76.jpg', 'c77.jpg', 'c78.jpg', 'c79.jpg', 'c80.jpg', 'c81.jpg', 'c82.jpg', 'c83.jpg', 'c84.jpg', 'c85.jpg', 'c86.jpg', 'c87.jpg', 'c88.jpg', 'c89.jpg', 'c90.jpg', 'c91.jpg', 'c92.jpg', 'c93.jpg', 'c94.jpg', 'c95.jpg', 'c96.jpg', 'c97.jpg', 'c98.jpg', 'c99.jpg', 'c100.jpg', 'c101.jpg', 'c102.jpg', 'c103.jpg', 'c104.jpg', 'c105.jpg', 'c106.jpg', 'c107.jpg', 'c108.jpg', 'c109.jpg', 'c110.jpg', 'c111.jpg', 'c112.jpg', 'c113.jpg', 'c114.jpg', 'c115.jpg', 'c116.jpg', 'c117.jpg', 'c118.jpg', 'c119.jpg', 'c120.jpg', 'c121.jpg', 'c122.jpg', 'c123.jpg', 'c124.jpg', 'c125.jpg', 'c126.jpg', 'c127.jpg', 'c128.jpg', 'c129.jpg', 'c130.jpg', 'c131.jpg', 'c132.jpg', 'c133.jpg', 'c134.jpg', 'c135.jpg', 'c136.jpg', 'c137.jpg', 'c138.jpg', 'c139.jpg', 'c140.jpg', 'c141.jpg', 'c142.jpg', 'c143.jpg', 'c144.jpg', 'c145.jpg', 'c146.jpg', 'c147.jpg', 'c148.jpg', 'c149.jpg', 'c150.jpg', 'c151.jpg', 'c152.jpg', 'c153.jpg', 'c154.jpg', 'c155.jpg', 'c156.jpg', 'c157.jpg', 'c158.jpg', 'c159.jpg', 'c160.jpg', 'c161.jpg', 'c162.jpg', 'c163.jpg', 'c164.jpg', 'c165.jpg', 'c166.jpg', 'c167.jpg', 'c168.jpg', 'c169.jpg', 'c170.jpg', 'c171.jpg', 'c172.jpg', 'c173.jpg', 'c174.jpg', 'c175.jpg', 'c176.jpg', 'c177.jpg', 'c178.jpg', 'c179.jpg', 'c180.jpg', 'c181.jpg', 'c182.jpg', 'c183.jpg', 'c184.jpg', 'c185.jpg', 'c186.jpg', 'c187.jpg', 'c188.jpg', 'c189.jpg', 'c190.jpg', 'c191.jpg', 'c192.jpg', 'c193.jpg', 'c194.jpg', 'c195.jpg', 'c196.jpg', 'c197.jpg', 'c198.jpg', 'c199.jpg', 'c200.jpg', 'c201.jpg', 'c202.jpg', 'c203.jpg', 'c204.jpg', 'c205.jpg', 'c206.jpg', 'c207.jpg', 'c208.jpg', 'c209.jpg', 'c210.jpg', 'c211.jpg', 'c212.jpg', 'c213.jpg', 'c214.jpg', 'c215.jpg', 'c216.jpg', 'c217.jpg', 'c218.jpg', 'c219.jpg', 'c220.jpg', 'c221.jpg', 'c222.jpg', 'c223.jpg', 'c224.jpg', 'c225.jpg', 'c226.jpg', 'c227.jpg', 'c228.jpg', 'c229.jpg', 'c230.jpg', 'c231.jpg', 'c232.jpg', 'c233.jpg', 'c234.jpg', 'c235.jpg', 'c236.jpg', 'c237.jpg', 'c238.jpg', 'c239.jpg', 'c240.jpg', 'c241.jpg', 'c242.jpg', 'c243.jpg', 'c244.jpg', 'c245.jpg', 'c246.jpg', 'c247.jpg', 'c248.jpg', 'c249.jpg', 'c250.jpg', 'c251.jpg', 'c252.jpg', 'c253.jpg', 'c254.jpg', 'c255.jpg', 'c256.jpg', 'c257.jpg', 'c258.jpg', 'c259.jpg', 'c260.jpg', 'c261.jpg', 'c262.jpg', 'c263.jpg', 'c264.jpg', 'c265.jpg', 'c266.jpg', 'c267.jpg', 'c268.jpg', 'c269.jpg', 'c270.jpg', 'c271.jpg', 'c272.jpg', 'c273.jpg', 'c274.jpg', 'c275.jpg', 'c276.jpg', 'c277.jpg', 'c278.jpg', 'c279.jpg', 'c280.jpg', 'c281.jpg', 'c282.jpg', 'c283.jpg', 'c284.jpg', 'c285.jpg', 'c286.jpg', 'c287.jpg', 'c288.jpg', 'c289.jpg', 'c290.jpg', 'c291.jpg', 'c292.jpg', 'c293.jpg', 'c294.jpg', 'c295.jpg', 'c296.jpg', 'c297.jpg', 'c298.jpg', 'c299.jpg', 'c300.jpg', 'c301.jpg', 'c302.jpg', 'c303.jpg', 'c304.jpg', 'c305.jpg', 'c306.jpg', 'c307.jpg', 'c308.jpg', 'c309.jpg', 'c310.jpg', 'c311.jpg', 'c312.jpg', 'c313.jpg', 'c314.jpg', 'c315.jpg', 'c316.jpg', 'c317.jpg', 'c318.jpg', 'c319.jpg', 'c320.jpg', 'c321.jpg', 'c322.jpg', 'c323.jpg', 'c324.jpg', 'c325.jpg', 'c326.jpg', 'c327.jpg', 'c328.jpg', 'c329.jpg', 'c330.jpg', 'c331.jpg', 'c332.jpg', 'c333.jpg', 'c334.jpg', 'c335.jpg', 'c336.jpg', 'c337.jpg', 'c338.jpg', 'c339.jpg', 'c340.jpg', 'c341.jpg', 'c342.jpg', 'c343.jpg', 'c344.jpg', 'c345.jpg', 'c346.jpg', 'c347.jpg', 'c348.jpg', 'c349.jpg', 'c350.jpg', 'c351.jpg', 'c352.jpg', 'c353.jpg', 'c354.jpg', 'c355.jpg', 'c356.jpg', 'c357.jpg', 'c358.jpg', 'c359.jpg', 'c360.jpg', 'c361.jpg', 'c362.jpg', 'c363.jpg', 'c364.jpg', 'c365.jpg', 'c366.jpg', 'c367.jpg', 'c368.jpg', 'c369.jpg', 'c370.jpg', 'c371.jpg', 'c372.jpg', 'c373.jpg', 'c374.jpg', 'c375.jpg', 'c376.jpg', 'c377.jpg', 'c378.jpg', 'c379.jpg', 'c380.jpg', 'c381.jpg', 'c382.jpg', 'c383.jpg', 'c384.jpg', 'c385.jpg', 'c386.jpg', 'c387.jpg', 'c388.jpg', 'c389.jpg', 'c390.jpg', 'c391.jpg', 'c392.jpg', 'c393.jpg', 'c394.jpg', 'c395.jpg', 'c396.jpg', 'c397.jpg', 'c398.jpg', 'c399.jpg', 'c400.jpg', 'c401.jpg', 'c402.jpg', 'c403.jpg', 'c404.jpg', 'c405.jpg', 'c406.jpg', 'c407.jpg', 'c408.jpg', 'c409.jpg', 'c410.jpg', 'c411.jpg', 'c412.jpg', 'c413.jpg', 'c414.jpg', 'c415.jpg', 'c416.jpg', 'c417.jpg', 'c418.jpg', 'c419.jpg', 'c420.jpg', 'c421.jpg', 'c422.jpg', 'c423.jpg', 'c424.jpg', 'c425.jpg', 'c426.jpg', 'c427.jpg', 'c428.jpg', 'c429.jpg', 'c430.jpg', 'c431.jpg', 'c432.jpg', 'c433.jpg', 'c434.jpg', 'c435.jpg', 'c436.jpg', 'c437.jpg', 'c438.jpg', 'c439.jpg', 'c440.jpg', 'c441.jpg', 'c442.jpg', 'c443.jpg', 'c444.jpg', 'c445.jpg', 'c446.jpg', 'c447.jpg', 'c448.jpg', 'c449.jpg', 'c450.jpg', 'c451.jpg', 'c452.jpg', 'c453.jpg', 'c454.jpg', 'c455.jpg', 'c456.jpg', 'c457.jpg', 'c458.jpg', 'c459.jpg', 'c460.jpg', 'c461.jpg', 'c462.jpg', 'c463.jpg', 'c464.jpg', 'c465.jpg', 'c466.jpg', 'c467.jpg', 'c468.jpg', 'c469.jpg', 'c470.jpg', 'c471.jpg', 'c472.jpg', 'c473.jpg', 'c474.jpg', 'c475.jpg', 'c476.jpg', 'c477.jpg', 'c478.jpg', 'c479.jpg', 'c480.jpg', 'c481.jpg', 'c482.jpg', 'c483.jpg', 'c484.jpg', 'c485.jpg', 'c486.jpg', 'c487.jpg', 'c488.jpg', 'c489.jpg', 'c490.jpg', 'c491.jpg', 'c492.jpg', 'c493.jpg', 'c494.jpg', 'c495.jpg', 'c496.jpg', 'c497.jpg', 'c498.jpg', 'c499.jpg', 'c500.jpg', 'd1.jpg', 'd2.jpg', 'd3.jpg', 'd4.jpg', 'd5.jpg', 'd6.jpg', 'd7.jpg', 'd8.jpg', 'd9.jpg', 'd10.jpg', 'd11.jpg', 'd12.jpg', 'd13.jpg', 'd14.jpg', 'd15.jpg', 'd16.jpg', 'd17.jpg', 'd18.jpg', 'd19.jpg', 'd20.jpg', 'd21.jpg', 'd22.jpg', 'd23.jpg', 'd24.jpg', 'd25.jpg', 'd26.jpg', 'd27.jpg', 'd28.jpg', 'd29.jpg', 'd30.jpg', 'd31.jpg', 'd32.jpg', 'd33.jpg', 'd34.jpg', 'd35.jpg', 'd36.jpg', 'd37.jpg', 'd38.jpg', 'd39.jpg', 'd40.jpg', 'd41.jpg', 'd42.jpg', 'd43.jpg', 'd44.jpg', 'd45.jpg', 'd46.jpg', 'd47.jpg', 'd48.jpg', 'd49.jpg', 'd50.jpg', 'd51.jpg', 'd52.jpg', 'd53.jpg', 'd54.jpg', 'd55.jpg', 'd56.jpg', 'd57.jpg', 'd58.jpg', 'd59.jpg', 'd60.jpg', 'd61.jpg', 'd62.jpg', 'd63.jpg', 'd64.jpg', 'd65.jpg', 'd66.jpg', 'd67.jpg', 'd68.jpg', 'd69.jpg', 'd70.jpg', 'd71.jpg', 'd72.jpg', 'd73.jpg', 'd74.jpg', 'd75.jpg', 'd76.jpg', 'd77.jpg', 'd78.jpg', 'd79.jpg', 'd80.jpg', 'd81.jpg', 'd82.jpg', 'd83.jpg', 'd84.jpg', 'd85.jpg', 'd86.jpg', 'd87.jpg', 'd88.jpg', 'd89.jpg', 'd90.jpg', 'd91.jpg', 'd92.jpg', 'd93.jpg', 'd94.jpg', 'd95.jpg', 'd96.jpg', 'd97.jpg', 'd98.jpg', 'd99.jpg', 'd100.jpg', 'd101.jpg', 'd102.jpg', 'd103.jpg', 'd104.jpg', 'd105.jpg', 'd106.jpg', 'd107.jpg', 'd108.jpg', 'd109.jpg', 'd110.jpg', 'd111.jpg', 'd112.jpg', 'd113.jpg', 'd114.jpg', 'd115.jpg', 'd116.jpg', 'd117.jpg', 'd118.jpg', 'd119.jpg', 'd120.jpg', 'd121.jpg', 'd122.jpg', 'd123.jpg', 'd124.jpg', 'd125.jpg', 'd126.jpg', 'd127.jpg', 'd128.jpg', 'd129.jpg', 'd130.jpg', 'd131.jpg', 'd132.jpg', 'd133.jpg', 'd134.jpg', 'd135.jpg', 'd136.jpg', 'd137.jpg', 'd138.jpg', 'd139.jpg', 'd140.jpg', 'd141.jpg', 'd142.jpg', 'd143.jpg', 'd144.jpg', 'd145.jpg', 'd146.jpg', 'd147.jpg', 'd148.jpg', 'd149.jpg', 'd150.jpg', 'd151.jpg', 'd152.jpg', 'd153.jpg', 'd154.jpg', 'd155.jpg', 'd156.jpg', 'd157.jpg', 'd158.jpg', 'd159.jpg', 'd160.jpg', 'd161.jpg', 'd162.jpg', 'd163.jpg', 'd164.jpg', 'd165.jpg', 'd166.jpg', 'd167.jpg', 'd168.jpg', 'd169.jpg', 'd170.jpg', 'd171.jpg', 'd172.jpg', 'd173.jpg', 'd174.jpg', 'd175.jpg', 'd176.jpg', 'd177.jpg', 'd178.jpg', 'd179.jpg', 'd180.jpg', 'd181.jpg', 'd182.jpg', 'd183.jpg', 'd184.jpg', 'd185.jpg', 'd186.jpg', 'd187.jpg', 'd188.jpg', 'd189.jpg', 'd190.jpg', 'd191.jpg', 'd192.jpg', 'd193.jpg', 'd194.jpg', 'd195.jpg', 'd196.jpg', 'd197.jpg', 'd198.jpg', 'd199.jpg', 'd200.jpg', 'd201.jpg', 'd202.jpg', 'd203.jpg', 'd204.jpg', 'd205.jpg', 'd206.jpg', 'd207.jpg', 'd208.jpg', 'd209.jpg', 'd210.jpg', 'd211.jpg', 'd212.jpg', 'd213.jpg', 'd214.jpg', 'd215.jpg', 'd216.jpg', 'd217.jpg', 'd218.jpg', 'd219.jpg', 'd220.jpg', 'd221.jpg', 'd222.jpg', 'd223.jpg', 'd224.jpg', 'd225.jpg', 'd226.jpg', 'd227.jpg', 'd228.jpg', 'd229.jpg', 'd230.jpg', 'd231.jpg', 'd232.jpg', 'd233.jpg', 'd234.jpg', 'd235.jpg', 'd236.jpg', 'd237.jpg', 'd238.jpg', 'd239.jpg', 'd240.jpg', 'd241.jpg', 'd242.jpg', 'd243.jpg', 'd244.jpg', 'd245.jpg', 'd246.jpg', 'd247.jpg', 'd248.jpg', 'd249.jpg', 'd250.jpg', 'd251.jpg', 'd252.jpg', 'd253.jpg', 'd254.jpg', 'd255.jpg', 'd256.jpg', 'd257.jpg', 'd258.jpg', 'd259.jpg', 'd260.jpg', 'd261.jpg', 'd262.jpg', 'd263.jpg', 'd264.jpg', 'd265.jpg', 'd266.jpg', 'd267.jpg', 'd268.jpg', 'd269.jpg', 'd270.jpg', 'd271.jpg', 'd272.jpg', 'd273.jpg', 'd274.jpg', 'd275.jpg', 'd276.jpg', 'd277.jpg', 'd278.jpg', 'd279.jpg', 'd280.jpg', 'd281.jpg', 'd282.jpg', 'd283.jpg', 'd284.jpg', 'd285.jpg', 'd286.jpg', 'd287.jpg', 'd288.jpg', 'd289.jpg', 'd290.jpg', 'd291.jpg', 'd292.jpg', 'd293.jpg', 'd294.jpg', 'd295.jpg', 'd296.jpg', 'd297.jpg', 'd298.jpg', 'd299.jpg', 'd300.jpg', 'd301.jpg', 'd302.jpg', 'd303.jpg', 'd304.jpg', 'd305.jpg', 'd306.jpg', 'd307.jpg', 'd308.jpg', 'd309.jpg', 'd310.jpg', 'd311.jpg', 'd312.jpg', 'd313.jpg', 'd314.jpg', 'd315.jpg', 'd316.jpg', 'd317.jpg', 'd318.jpg', 'd319.jpg', 'd320.jpg', 'd321.jpg', 'd322.jpg', 'd323.jpg', 'd324.jpg', 'd325.jpg', 'd326.jpg', 'd327.jpg', 'd328.jpg', 'd329.jpg', 'd330.jpg', 'd331.jpg', 'd332.jpg', 'd333.jpg', 'd334.jpg', 'd335.jpg', 'd336.jpg', 'd337.jpg', 'd338.jpg', 'd339.jpg', 'd340.jpg', 'd341.jpg', 'd342.jpg', 'd343.jpg', 'd344.jpg', 'd345.jpg', 'd346.jpg', 'd347.jpg', 'd348.jpg', 'd349.jpg', 'd350.jpg', 'd351.jpg', 'd352.jpg', 'd353.jpg', 'd354.jpg', 'd355.jpg', 'd356.jpg', 'd357.jpg', 'd358.jpg', 'd359.jpg', 'd360.jpg', 'd361.jpg', 'd362.jpg', 'd363.jpg', 'd364.jpg', 'd365.jpg', 'd366.jpg', 'd367.jpg', 'd368.jpg', 'd369.jpg', 'd370.jpg', 'd371.jpg', 'd372.jpg', 'd373.jpg', 'd374.jpg', 'd375.jpg', 'd376.jpg', 'd377.jpg', 'd378.jpg', 'd379.jpg', 'd380.jpg', 'd381.jpg', 'd382.jpg', 'd383.jpg', 'd384.jpg', 'd385.jpg', 'd386.jpg', 'd387.jpg', 'd388.jpg', 'd389.jpg', 'd390.jpg', 'd391.jpg', 'd392.jpg', 'd393.jpg', 'd394.jpg', 'd395.jpg', 'd396.jpg', 'd397.jpg', 'd398.jpg', 'd399.jpg', 'd400.jpg', 'd401.jpg', 'd402.jpg', 'd403.jpg', 'd404.jpg', 'd405.jpg', 'd406.jpg', 'd407.jpg', 'd408.jpg', 'd409.jpg', 'd410.jpg', 'd411.jpg', 'd412.jpg', 'd413.jpg', 'd414.jpg', 'd415.jpg', 'd416.jpg', 'd417.jpg', 'd418.jpg', 'd419.jpg', 'd420.jpg', 'd421.jpg', 'd422.jpg', 'd423.jpg', 'd424.jpg', 'd425.jpg', 'd426.jpg', 'd427.jpg', 'd428.jpg', 'd429.jpg', 'd430.jpg', 'd431.jpg', 'd432.jpg', 'd433.jpg', 'd434.jpg', 'd435.jpg', 'd436.jpg', 'd437.jpg', 'd438.jpg', 'd439.jpg', 'd440.jpg', 'd441.jpg', 'd442.jpg', 'd443.jpg', 'd444.jpg', 'd445.jpg', 'd446.jpg', 'd447.jpg', 'd448.jpg', 'd449.jpg', 'd450.jpg', 'd451.jpg', 'd452.jpg', 'd453.jpg', 'd454.jpg', 'd455.jpg', 'd456.jpg', 'd457.jpg', 'd458.jpg', 'd459.jpg', 'd460.jpg', 'd461.jpg', 'd462.jpg', 'd463.jpg', 'd464.jpg', 'd465.jpg', 'd466.jpg', 'd467.jpg', 'd468.jpg', 'd469.jpg', 'd470.jpg', 'd471.jpg', 'd472.jpg', 'd473.jpg', 'd474.jpg', 'd475.jpg', 'd476.jpg', 'd477.jpg', 'd478.jpg', 'd479.jpg', 'd480.jpg', 'd481.jpg', 'd482.jpg', 'd483.jpg', 'd484.jpg', 'd485.jpg', 'd486.jpg', 'd487.jpg', 'd488.jpg', 'd489.jpg', 'd490.jpg', 'd491.jpg', 'd492.jpg', 'd493.jpg', 'd494.jpg', 'd495.jpg', 'd496.jpg', 'd497.jpg', 'd498.jpg', 'd499.jpg', 'd500.jpg']\n"
          ]
        }
      ]
    },
    {
      "cell_type": "markdown",
      "source": [
        "**Converting image names to string format for necessary preprocessing**"
      ],
      "metadata": {
        "id": "lHUgPdwaaN77"
      }
    },
    {
      "cell_type": "code",
      "source": [
        "type (file_names)\n",
        "file_names = str (file_names)\n",
        "type (file_names)"
      ],
      "metadata": {
        "colab": {
          "base_uri": "https://localhost:8080/"
        },
        "id": "DQ5W6Z4Fq12Z",
        "outputId": "597ff972-c066-42c7-e214-995c3b1fa45b"
      },
      "execution_count": null,
      "outputs": [
        {
          "output_type": "execute_result",
          "data": {
            "text/plain": [
              "str"
            ]
          },
          "metadata": {},
          "execution_count": 11
        }
      ]
    },
    {
      "cell_type": "markdown",
      "source": [
        "**Preprocessing of image names**"
      ],
      "metadata": {
        "id": "BCnnAxs9aoM9"
      }
    },
    {
      "cell_type": "code",
      "source": [
        "pattern = r'[0-9]'\n",
        "\n",
        "file_names = re.sub(pattern, '', file_names)\n",
        "\n",
        "file_names = file_names.replace(\"'\", \"\").replace(\".\",\"\").replace(\"jpg\",\"\").replace(\"_\",\"\").replace(\"() ()\",\"\").replace(\"()\",\"\").replace(\"resized\",\"\").replace(\"''\", \"\")\n",
        "\n",
        "file_names = file_names.replace(\" ,\", \",\")\n",
        "\n",
        "file_names = file_names.replace(\"a \", \"a\").replace(\"b \", \"b\").replace(\"c \", \"c\").replace(\"d \", \"d\")\n",
        "\n",
        "file_names = file_names.strip('][').split(', ')\n",
        "\n",
        "print(\"file_names\", file_names)\n",
        "print(type(file_names))"
      ],
      "metadata": {
        "colab": {
          "base_uri": "https://localhost:8080/"
        },
        "id": "vGzvVs5Bq8zr",
        "outputId": "672dee0e-dfe3-4223-e773-e981df6ae200"
      },
      "execution_count": null,
      "outputs": [
        {
          "output_type": "stream",
          "name": "stdout",
          "text": [
            "file_names ['a', 'a', 'a', 'a', 'a', 'a', 'a', 'a', 'a', 'a', 'a', 'a', 'a', 'a', 'a', 'a', 'a', 'a', 'a', 'a', 'a', 'a', 'a', 'a', 'a', 'a', 'a', 'a', 'a', 'a', 'a', 'a', 'a', 'a', 'a', 'a', 'a', 'a', 'a', 'a', 'a', 'a', 'a', 'a', 'a', 'a', 'a', 'a', 'a', 'a', 'a', 'a', 'a', 'a', 'a', 'a', 'a', 'a', 'a', 'a', 'a', 'a', 'a', 'a', 'a', 'a', 'a', 'a', 'a', 'a', 'a', 'a', 'a', 'a', 'a', 'a', 'a', 'a', 'a', 'a', 'a', 'a', 'a', 'a', 'a', 'a', 'a', 'a', 'a', 'a', 'a', 'a', 'a', 'a', 'a', 'a', 'a', 'a', 'a', 'a', 'a', 'a', 'a', 'a', 'a', 'a', 'a', 'a', 'a', 'a', 'a', 'a', 'a', 'a', 'a', 'a', 'a', 'a', 'a', 'a', 'a', 'a', 'a', 'a', 'a', 'a', 'a', 'a', 'a', 'a', 'a', 'a', 'a', 'a', 'a', 'a', 'a', 'a', 'a', 'a', 'a', 'a', 'a', 'a', 'a', 'a', 'a', 'a', 'a', 'a', 'a', 'a', 'a', 'a', 'a', 'a', 'a', 'a', 'a', 'a', 'a', 'a', 'a', 'a', 'a', 'a', 'a', 'a', 'a', 'a', 'a', 'a', 'a', 'a', 'a', 'a', 'a', 'a', 'a', 'a', 'a', 'a', 'a', 'a', 'a', 'a', 'a', 'a', 'a', 'a', 'a', 'a', 'a', 'a', 'a', 'a', 'a', 'a', 'a', 'a', 'a', 'a', 'a', 'a', 'a', 'a', 'a', 'a', 'a', 'a', 'a', 'a', 'a', 'a', 'a', 'a', 'a', 'a', 'a', 'a', 'a', 'a', 'a', 'a', 'a', 'a', 'a', 'a', 'a', 'a', 'a', 'a', 'a', 'a', 'a', 'a', 'a', 'a', 'a', 'a', 'a', 'a', 'a', 'a', 'a', 'a', 'a', 'a', 'a', 'a', 'a', 'a', 'a', 'a', 'a', 'a', 'a', 'a', 'a', 'a', 'a', 'a', 'a', 'a', 'a', 'a', 'a', 'a', 'a', 'a', 'a', 'a', 'a', 'a', 'a', 'a', 'a', 'a', 'a', 'a', 'a', 'a', 'a', 'a', 'a', 'a', 'a', 'a', 'a', 'a', 'a', 'a', 'a', 'a', 'a', 'a', 'a', 'a', 'a', 'a', 'a', 'a', 'a', 'a', 'a', 'a', 'a', 'a', 'a', 'a', 'a', 'a', 'a', 'a', 'a', 'a', 'a', 'a', 'a', 'a', 'a', 'a', 'a', 'a', 'a', 'a', 'a', 'a', 'a', 'a', 'a', 'a', 'a', 'a', 'a', 'a', 'a', 'a', 'a', 'a', 'a', 'a', 'a', 'a', 'a', 'a', 'a', 'a', 'a', 'a', 'a', 'a', 'a', 'a', 'a', 'a', 'a', 'a', 'a', 'a', 'a', 'a', 'a', 'a', 'a', 'a', 'a', 'a', 'a', 'a', 'a', 'a', 'a', 'a', 'a', 'a', 'a', 'a', 'a', 'a', 'a', 'a', 'a', 'a', 'a', 'a', 'a', 'a', 'a', 'a', 'a', 'a', 'a', 'a', 'a', 'a', 'a', 'a', 'a', 'a', 'a', 'a', 'a', 'a', 'a', 'a', 'a', 'a', 'a', 'a', 'a', 'a', 'a', 'a', 'a', 'a', 'a', 'a', 'a', 'a', 'a', 'a', 'a', 'a', 'a', 'a', 'a', 'a', 'a', 'a', 'a', 'a', 'a', 'a', 'a', 'a', 'a', 'a', 'a', 'a', 'a', 'a', 'a', 'a', 'a', 'a', 'a', 'a', 'a', 'a', 'a', 'a', 'a', 'a', 'a', 'a', 'a', 'a', 'a', 'a', 'a', 'a', 'a', 'a', 'a', 'a', 'a', 'a', 'a', 'a', 'a', 'a', 'a', 'a', 'a', 'a', 'a', 'a', 'a', 'a', 'a', 'a', 'a', 'a', 'a', 'a', 'a', 'a', 'a', 'a', 'a', 'a', 'a', 'a', 'a', 'a', 'a', 'a', 'a', 'a', 'b', 'b', 'b', 'b', 'b', 'b', 'b', 'b', 'b', 'b', 'b', 'b', 'b', 'b', 'b', 'b', 'b', 'b', 'b', 'b', 'b', 'b', 'b', 'b', 'b', 'b', 'b', 'b', 'b', 'b', 'b', 'b', 'b', 'b', 'b', 'b', 'b', 'b', 'b', 'b', 'b', 'b', 'b', 'b', 'b', 'b', 'b', 'b', 'b', 'b', 'b', 'b', 'b', 'b', 'b', 'b', 'b', 'b', 'b', 'b', 'b', 'b', 'b', 'b', 'b', 'b', 'b', 'b', 'b', 'b', 'b', 'b', 'b', 'b', 'b', 'b', 'b', 'b', 'b', 'b', 'b', 'b', 'b', 'b', 'b', 'b', 'b', 'b', 'b', 'b', 'b', 'b', 'b', 'b', 'b', 'b', 'b', 'b', 'b', 'b', 'b', 'b', 'b', 'b', 'b', 'b', 'b', 'b', 'b', 'b', 'b', 'b', 'b', 'b', 'b', 'b', 'b', 'b', 'b', 'b', 'b', 'b', 'b', 'b', 'b', 'b', 'b', 'b', 'b', 'b', 'b', 'b', 'b', 'b', 'b', 'b', 'b', 'b', 'b', 'b', 'b', 'b', 'b', 'b', 'b', 'b', 'b', 'b', 'b', 'b', 'b', 'b', 'b', 'b', 'b', 'b', 'b', 'b', 'b', 'b', 'b', 'b', 'b', 'b', 'b', 'b', 'b', 'b', 'b', 'b', 'b', 'b', 'b', 'b', 'b', 'b', 'b', 'b', 'b', 'b', 'b', 'b', 'b', 'b', 'b', 'b', 'b', 'b', 'b', 'b', 'b', 'b', 'b', 'b', 'b', 'b', 'b', 'b', 'b', 'b', 'b', 'b', 'b', 'b', 'b', 'b', 'b', 'b', 'b', 'b', 'b', 'b', 'b', 'b', 'b', 'b', 'b', 'b', 'b', 'b', 'b', 'b', 'b', 'b', 'b', 'b', 'b', 'b', 'b', 'b', 'b', 'b', 'b', 'b', 'b', 'b', 'b', 'b', 'b', 'b', 'b', 'b', 'b', 'b', 'b', 'b', 'b', 'b', 'b', 'b', 'b', 'b', 'b', 'b', 'b', 'b', 'b', 'b', 'b', 'b', 'b', 'b', 'b', 'b', 'b', 'b', 'b', 'b', 'b', 'b', 'b', 'b', 'b', 'b', 'b', 'b', 'b', 'b', 'b', 'b', 'b', 'b', 'b', 'b', 'b', 'b', 'b', 'b', 'b', 'b', 'b', 'b', 'b', 'b', 'b', 'b', 'b', 'b', 'b', 'b', 'b', 'b', 'b', 'b', 'b', 'b', 'b', 'b', 'b', 'b', 'b', 'b', 'b', 'b', 'b', 'b', 'b', 'b', 'b', 'b', 'b', 'b', 'b', 'b', 'b', 'b', 'b', 'b', 'b', 'b', 'b', 'b', 'b', 'b', 'b', 'b', 'b', 'b', 'b', 'b', 'b', 'b', 'b', 'b', 'b', 'b', 'b', 'b', 'b', 'b', 'b', 'b', 'b', 'b', 'b', 'b', 'b', 'b', 'b', 'b', 'b', 'b', 'b', 'b', 'b', 'b', 'b', 'b', 'b', 'b', 'b', 'b', 'b', 'b', 'b', 'b', 'b', 'b', 'b', 'b', 'b', 'b', 'b', 'b', 'b', 'b', 'b', 'b', 'b', 'b', 'b', 'b', 'b', 'b', 'b', 'b', 'b', 'b', 'b', 'b', 'b', 'b', 'b', 'b', 'b', 'b', 'b', 'b', 'b', 'b', 'b', 'b', 'b', 'b', 'b', 'b', 'b', 'b', 'b', 'b', 'b', 'b', 'b', 'b', 'b', 'b', 'b', 'b', 'b', 'b', 'b', 'b', 'b', 'b', 'b', 'b', 'b', 'b', 'b', 'b', 'b', 'b', 'b', 'b', 'b', 'b', 'b', 'b', 'b', 'b', 'b', 'b', 'b', 'b', 'b', 'b', 'b', 'b', 'b', 'b', 'b', 'b', 'b', 'b', 'b', 'b', 'b', 'b', 'b', 'b', 'b', 'b', 'b', 'b', 'b', 'b', 'b', 'b', 'b', 'b', 'b', 'b', 'b', 'b', 'b', 'b', 'b', 'b', 'b', 'b', 'b', 'b', 'b', 'b', 'b', 'b', 'b', 'b', 'b', 'b', 'c', 'c', 'c', 'c', 'c', 'c', 'c', 'c', 'c', 'c', 'c', 'c', 'c', 'c', 'c', 'c', 'c', 'c', 'c', 'c', 'c', 'c', 'c', 'c', 'c', 'c', 'c', 'c', 'c', 'c', 'c', 'c', 'c', 'c', 'c', 'c', 'c', 'c', 'c', 'c', 'c', 'c', 'c', 'c', 'c', 'c', 'c', 'c', 'c', 'c', 'c', 'c', 'c', 'c', 'c', 'c', 'c', 'c', 'c', 'c', 'c', 'c', 'c', 'c', 'c', 'c', 'c', 'c', 'c', 'c', 'c', 'c', 'c', 'c', 'c', 'c', 'c', 'c', 'c', 'c', 'c', 'c', 'c', 'c', 'c', 'c', 'c', 'c', 'c', 'c', 'c', 'c', 'c', 'c', 'c', 'c', 'c', 'c', 'c', 'c', 'c', 'c', 'c', 'c', 'c', 'c', 'c', 'c', 'c', 'c', 'c', 'c', 'c', 'c', 'c', 'c', 'c', 'c', 'c', 'c', 'c', 'c', 'c', 'c', 'c', 'c', 'c', 'c', 'c', 'c', 'c', 'c', 'c', 'c', 'c', 'c', 'c', 'c', 'c', 'c', 'c', 'c', 'c', 'c', 'c', 'c', 'c', 'c', 'c', 'c', 'c', 'c', 'c', 'c', 'c', 'c', 'c', 'c', 'c', 'c', 'c', 'c', 'c', 'c', 'c', 'c', 'c', 'c', 'c', 'c', 'c', 'c', 'c', 'c', 'c', 'c', 'c', 'c', 'c', 'c', 'c', 'c', 'c', 'c', 'c', 'c', 'c', 'c', 'c', 'c', 'c', 'c', 'c', 'c', 'c', 'c', 'c', 'c', 'c', 'c', 'c', 'c', 'c', 'c', 'c', 'c', 'c', 'c', 'c', 'c', 'c', 'c', 'c', 'c', 'c', 'c', 'c', 'c', 'c', 'c', 'c', 'c', 'c', 'c', 'c', 'c', 'c', 'c', 'c', 'c', 'c', 'c', 'c', 'c', 'c', 'c', 'c', 'c', 'c', 'c', 'c', 'c', 'c', 'c', 'c', 'c', 'c', 'c', 'c', 'c', 'c', 'c', 'c', 'c', 'c', 'c', 'c', 'c', 'c', 'c', 'c', 'c', 'c', 'c', 'c', 'c', 'c', 'c', 'c', 'c', 'c', 'c', 'c', 'c', 'c', 'c', 'c', 'c', 'c', 'c', 'c', 'c', 'c', 'c', 'c', 'c', 'c', 'c', 'c', 'c', 'c', 'c', 'c', 'c', 'c', 'c', 'c', 'c', 'c', 'c', 'c', 'c', 'c', 'c', 'c', 'c', 'c', 'c', 'c', 'c', 'c', 'c', 'c', 'c', 'c', 'c', 'c', 'c', 'c', 'c', 'c', 'c', 'c', 'c', 'c', 'c', 'c', 'c', 'c', 'c', 'c', 'c', 'c', 'c', 'c', 'c', 'c', 'c', 'c', 'c', 'c', 'c', 'c', 'c', 'c', 'c', 'c', 'c', 'c', 'c', 'c', 'c', 'c', 'c', 'c', 'c', 'c', 'c', 'c', 'c', 'c', 'c', 'c', 'c', 'c', 'c', 'c', 'c', 'c', 'c', 'c', 'c', 'c', 'c', 'c', 'c', 'c', 'c', 'c', 'c', 'c', 'c', 'c', 'c', 'c', 'c', 'c', 'c', 'c', 'c', 'c', 'c', 'c', 'c', 'c', 'c', 'c', 'c', 'c', 'c', 'c', 'c', 'c', 'c', 'c', 'c', 'c', 'c', 'c', 'c', 'c', 'c', 'c', 'c', 'c', 'c', 'c', 'c', 'c', 'c', 'c', 'c', 'c', 'c', 'c', 'c', 'c', 'c', 'c', 'c', 'c', 'c', 'c', 'c', 'c', 'c', 'c', 'c', 'c', 'c', 'c', 'c', 'c', 'c', 'c', 'c', 'c', 'c', 'c', 'c', 'c', 'c', 'c', 'c', 'c', 'c', 'c', 'c', 'c', 'c', 'c', 'c', 'c', 'c', 'c', 'c', 'c', 'c', 'c', 'c', 'c', 'c', 'c', 'c', 'c', 'c', 'c', 'c', 'c', 'c', 'c', 'c', 'c', 'c', 'c', 'c', 'c', 'c', 'c', 'c', 'c', 'c', 'c', 'c', 'c', 'c', 'c', 'c', 'c', 'c', 'd', 'd', 'd', 'd', 'd', 'd', 'd', 'd', 'd', 'd', 'd', 'd', 'd', 'd', 'd', 'd', 'd', 'd', 'd', 'd', 'd', 'd', 'd', 'd', 'd', 'd', 'd', 'd', 'd', 'd', 'd', 'd', 'd', 'd', 'd', 'd', 'd', 'd', 'd', 'd', 'd', 'd', 'd', 'd', 'd', 'd', 'd', 'd', 'd', 'd', 'd', 'd', 'd', 'd', 'd', 'd', 'd', 'd', 'd', 'd', 'd', 'd', 'd', 'd', 'd', 'd', 'd', 'd', 'd', 'd', 'd', 'd', 'd', 'd', 'd', 'd', 'd', 'd', 'd', 'd', 'd', 'd', 'd', 'd', 'd', 'd', 'd', 'd', 'd', 'd', 'd', 'd', 'd', 'd', 'd', 'd', 'd', 'd', 'd', 'd', 'd', 'd', 'd', 'd', 'd', 'd', 'd', 'd', 'd', 'd', 'd', 'd', 'd', 'd', 'd', 'd', 'd', 'd', 'd', 'd', 'd', 'd', 'd', 'd', 'd', 'd', 'd', 'd', 'd', 'd', 'd', 'd', 'd', 'd', 'd', 'd', 'd', 'd', 'd', 'd', 'd', 'd', 'd', 'd', 'd', 'd', 'd', 'd', 'd', 'd', 'd', 'd', 'd', 'd', 'd', 'd', 'd', 'd', 'd', 'd', 'd', 'd', 'd', 'd', 'd', 'd', 'd', 'd', 'd', 'd', 'd', 'd', 'd', 'd', 'd', 'd', 'd', 'd', 'd', 'd', 'd', 'd', 'd', 'd', 'd', 'd', 'd', 'd', 'd', 'd', 'd', 'd', 'd', 'd', 'd', 'd', 'd', 'd', 'd', 'd', 'd', 'd', 'd', 'd', 'd', 'd', 'd', 'd', 'd', 'd', 'd', 'd', 'd', 'd', 'd', 'd', 'd', 'd', 'd', 'd', 'd', 'd', 'd', 'd', 'd', 'd', 'd', 'd', 'd', 'd', 'd', 'd', 'd', 'd', 'd', 'd', 'd', 'd', 'd', 'd', 'd', 'd', 'd', 'd', 'd', 'd', 'd', 'd', 'd', 'd', 'd', 'd', 'd', 'd', 'd', 'd', 'd', 'd', 'd', 'd', 'd', 'd', 'd', 'd', 'd', 'd', 'd', 'd', 'd', 'd', 'd', 'd', 'd', 'd', 'd', 'd', 'd', 'd', 'd', 'd', 'd', 'd', 'd', 'd', 'd', 'd', 'd', 'd', 'd', 'd', 'd', 'd', 'd', 'd', 'd', 'd', 'd', 'd', 'd', 'd', 'd', 'd', 'd', 'd', 'd', 'd', 'd', 'd', 'd', 'd', 'd', 'd', 'd', 'd', 'd', 'd', 'd', 'd', 'd', 'd', 'd', 'd', 'd', 'd', 'd', 'd', 'd', 'd', 'd', 'd', 'd', 'd', 'd', 'd', 'd', 'd', 'd', 'd', 'd', 'd', 'd', 'd', 'd', 'd', 'd', 'd', 'd', 'd', 'd', 'd', 'd', 'd', 'd', 'd', 'd', 'd', 'd', 'd', 'd', 'd', 'd', 'd', 'd', 'd', 'd', 'd', 'd', 'd', 'd', 'd', 'd', 'd', 'd', 'd', 'd', 'd', 'd', 'd', 'd', 'd', 'd', 'd', 'd', 'd', 'd', 'd', 'd', 'd', 'd', 'd', 'd', 'd', 'd', 'd', 'd', 'd', 'd', 'd', 'd', 'd', 'd', 'd', 'd', 'd', 'd', 'd', 'd', 'd', 'd', 'd', 'd', 'd', 'd', 'd', 'd', 'd', 'd', 'd', 'd', 'd', 'd', 'd', 'd', 'd', 'd', 'd', 'd', 'd', 'd', 'd', 'd', 'd', 'd', 'd', 'd', 'd', 'd', 'd', 'd', 'd', 'd', 'd', 'd', 'd', 'd', 'd', 'd', 'd', 'd', 'd', 'd', 'd', 'd', 'd', 'd', 'd', 'd', 'd', 'd', 'd', 'd', 'd', 'd', 'd', 'd', 'd', 'd', 'd', 'd', 'd', 'd', 'd', 'd', 'd', 'd', 'd', 'd', 'd', 'd', 'd', 'd', 'd', 'd', 'd', 'd', 'd', 'd', 'd', 'd', 'd', 'd', 'd', 'd', 'd', 'd', 'd', 'd', 'd', 'd', 'd']\n",
            "<class 'list'>\n"
          ]
        }
      ]
    },
    {
      "cell_type": "markdown",
      "source": [
        "**Making a dataframe of the image names**"
      ],
      "metadata": {
        "id": "Edir5JSrbKRm"
      }
    },
    {
      "cell_type": "code",
      "source": [
        "y = pd.DataFrame(data = file_names)\n",
        "y.head(5)"
      ],
      "metadata": {
        "id": "CI9W1gGasmtU",
        "colab": {
          "base_uri": "https://localhost:8080/",
          "height": 206
        },
        "outputId": "9a974c98-b2e0-4814-a265-e7e354a40b19"
      },
      "execution_count": null,
      "outputs": [
        {
          "output_type": "execute_result",
          "data": {
            "text/plain": [
              "   0\n",
              "0  a\n",
              "1  a\n",
              "2  a\n",
              "3  a\n",
              "4  a"
            ],
            "text/html": [
              "\n",
              "  <div id=\"df-6b6a1b3e-25bf-4f12-97af-0838bbbce6aa\" class=\"colab-df-container\">\n",
              "    <div>\n",
              "<style scoped>\n",
              "    .dataframe tbody tr th:only-of-type {\n",
              "        vertical-align: middle;\n",
              "    }\n",
              "\n",
              "    .dataframe tbody tr th {\n",
              "        vertical-align: top;\n",
              "    }\n",
              "\n",
              "    .dataframe thead th {\n",
              "        text-align: right;\n",
              "    }\n",
              "</style>\n",
              "<table border=\"1\" class=\"dataframe\">\n",
              "  <thead>\n",
              "    <tr style=\"text-align: right;\">\n",
              "      <th></th>\n",
              "      <th>0</th>\n",
              "    </tr>\n",
              "  </thead>\n",
              "  <tbody>\n",
              "    <tr>\n",
              "      <th>0</th>\n",
              "      <td>a</td>\n",
              "    </tr>\n",
              "    <tr>\n",
              "      <th>1</th>\n",
              "      <td>a</td>\n",
              "    </tr>\n",
              "    <tr>\n",
              "      <th>2</th>\n",
              "      <td>a</td>\n",
              "    </tr>\n",
              "    <tr>\n",
              "      <th>3</th>\n",
              "      <td>a</td>\n",
              "    </tr>\n",
              "    <tr>\n",
              "      <th>4</th>\n",
              "      <td>a</td>\n",
              "    </tr>\n",
              "  </tbody>\n",
              "</table>\n",
              "</div>\n",
              "    <div class=\"colab-df-buttons\">\n",
              "\n",
              "  <div class=\"colab-df-container\">\n",
              "    <button class=\"colab-df-convert\" onclick=\"convertToInteractive('df-6b6a1b3e-25bf-4f12-97af-0838bbbce6aa')\"\n",
              "            title=\"Convert this dataframe to an interactive table.\"\n",
              "            style=\"display:none;\">\n",
              "\n",
              "  <svg xmlns=\"http://www.w3.org/2000/svg\" height=\"24px\" viewBox=\"0 -960 960 960\">\n",
              "    <path d=\"M120-120v-720h720v720H120Zm60-500h600v-160H180v160Zm220 220h160v-160H400v160Zm0 220h160v-160H400v160ZM180-400h160v-160H180v160Zm440 0h160v-160H620v160ZM180-180h160v-160H180v160Zm440 0h160v-160H620v160Z\"/>\n",
              "  </svg>\n",
              "    </button>\n",
              "\n",
              "  <style>\n",
              "    .colab-df-container {\n",
              "      display:flex;\n",
              "      gap: 12px;\n",
              "    }\n",
              "\n",
              "    .colab-df-convert {\n",
              "      background-color: #E8F0FE;\n",
              "      border: none;\n",
              "      border-radius: 50%;\n",
              "      cursor: pointer;\n",
              "      display: none;\n",
              "      fill: #1967D2;\n",
              "      height: 32px;\n",
              "      padding: 0 0 0 0;\n",
              "      width: 32px;\n",
              "    }\n",
              "\n",
              "    .colab-df-convert:hover {\n",
              "      background-color: #E2EBFA;\n",
              "      box-shadow: 0px 1px 2px rgba(60, 64, 67, 0.3), 0px 1px 3px 1px rgba(60, 64, 67, 0.15);\n",
              "      fill: #174EA6;\n",
              "    }\n",
              "\n",
              "    .colab-df-buttons div {\n",
              "      margin-bottom: 4px;\n",
              "    }\n",
              "\n",
              "    [theme=dark] .colab-df-convert {\n",
              "      background-color: #3B4455;\n",
              "      fill: #D2E3FC;\n",
              "    }\n",
              "\n",
              "    [theme=dark] .colab-df-convert:hover {\n",
              "      background-color: #434B5C;\n",
              "      box-shadow: 0px 1px 3px 1px rgba(0, 0, 0, 0.15);\n",
              "      filter: drop-shadow(0px 1px 2px rgba(0, 0, 0, 0.3));\n",
              "      fill: #FFFFFF;\n",
              "    }\n",
              "  </style>\n",
              "\n",
              "    <script>\n",
              "      const buttonEl =\n",
              "        document.querySelector('#df-6b6a1b3e-25bf-4f12-97af-0838bbbce6aa button.colab-df-convert');\n",
              "      buttonEl.style.display =\n",
              "        google.colab.kernel.accessAllowed ? 'block' : 'none';\n",
              "\n",
              "      async function convertToInteractive(key) {\n",
              "        const element = document.querySelector('#df-6b6a1b3e-25bf-4f12-97af-0838bbbce6aa');\n",
              "        const dataTable =\n",
              "          await google.colab.kernel.invokeFunction('convertToInteractive',\n",
              "                                                    [key], {});\n",
              "        if (!dataTable) return;\n",
              "\n",
              "        const docLinkHtml = 'Like what you see? Visit the ' +\n",
              "          '<a target=\"_blank\" href=https://colab.research.google.com/notebooks/data_table.ipynb>data table notebook</a>'\n",
              "          + ' to learn more about interactive tables.';\n",
              "        element.innerHTML = '';\n",
              "        dataTable['output_type'] = 'display_data';\n",
              "        await google.colab.output.renderOutput(dataTable, element);\n",
              "        const docLink = document.createElement('div');\n",
              "        docLink.innerHTML = docLinkHtml;\n",
              "        element.appendChild(docLink);\n",
              "      }\n",
              "    </script>\n",
              "  </div>\n",
              "\n",
              "\n",
              "<div id=\"df-75857937-9651-4bf2-8fb6-e91b49b39a17\">\n",
              "  <button class=\"colab-df-quickchart\" onclick=\"quickchart('df-75857937-9651-4bf2-8fb6-e91b49b39a17')\"\n",
              "            title=\"Suggest charts\"\n",
              "            style=\"display:none;\">\n",
              "\n",
              "<svg xmlns=\"http://www.w3.org/2000/svg\" height=\"24px\"viewBox=\"0 0 24 24\"\n",
              "     width=\"24px\">\n",
              "    <g>\n",
              "        <path d=\"M19 3H5c-1.1 0-2 .9-2 2v14c0 1.1.9 2 2 2h14c1.1 0 2-.9 2-2V5c0-1.1-.9-2-2-2zM9 17H7v-7h2v7zm4 0h-2V7h2v10zm4 0h-2v-4h2v4z\"/>\n",
              "    </g>\n",
              "</svg>\n",
              "  </button>\n",
              "\n",
              "<style>\n",
              "  .colab-df-quickchart {\n",
              "      --bg-color: #E8F0FE;\n",
              "      --fill-color: #1967D2;\n",
              "      --hover-bg-color: #E2EBFA;\n",
              "      --hover-fill-color: #174EA6;\n",
              "      --disabled-fill-color: #AAA;\n",
              "      --disabled-bg-color: #DDD;\n",
              "  }\n",
              "\n",
              "  [theme=dark] .colab-df-quickchart {\n",
              "      --bg-color: #3B4455;\n",
              "      --fill-color: #D2E3FC;\n",
              "      --hover-bg-color: #434B5C;\n",
              "      --hover-fill-color: #FFFFFF;\n",
              "      --disabled-bg-color: #3B4455;\n",
              "      --disabled-fill-color: #666;\n",
              "  }\n",
              "\n",
              "  .colab-df-quickchart {\n",
              "    background-color: var(--bg-color);\n",
              "    border: none;\n",
              "    border-radius: 50%;\n",
              "    cursor: pointer;\n",
              "    display: none;\n",
              "    fill: var(--fill-color);\n",
              "    height: 32px;\n",
              "    padding: 0;\n",
              "    width: 32px;\n",
              "  }\n",
              "\n",
              "  .colab-df-quickchart:hover {\n",
              "    background-color: var(--hover-bg-color);\n",
              "    box-shadow: 0 1px 2px rgba(60, 64, 67, 0.3), 0 1px 3px 1px rgba(60, 64, 67, 0.15);\n",
              "    fill: var(--button-hover-fill-color);\n",
              "  }\n",
              "\n",
              "  .colab-df-quickchart-complete:disabled,\n",
              "  .colab-df-quickchart-complete:disabled:hover {\n",
              "    background-color: var(--disabled-bg-color);\n",
              "    fill: var(--disabled-fill-color);\n",
              "    box-shadow: none;\n",
              "  }\n",
              "\n",
              "  .colab-df-spinner {\n",
              "    border: 2px solid var(--fill-color);\n",
              "    border-color: transparent;\n",
              "    border-bottom-color: var(--fill-color);\n",
              "    animation:\n",
              "      spin 1s steps(1) infinite;\n",
              "  }\n",
              "\n",
              "  @keyframes spin {\n",
              "    0% {\n",
              "      border-color: transparent;\n",
              "      border-bottom-color: var(--fill-color);\n",
              "      border-left-color: var(--fill-color);\n",
              "    }\n",
              "    20% {\n",
              "      border-color: transparent;\n",
              "      border-left-color: var(--fill-color);\n",
              "      border-top-color: var(--fill-color);\n",
              "    }\n",
              "    30% {\n",
              "      border-color: transparent;\n",
              "      border-left-color: var(--fill-color);\n",
              "      border-top-color: var(--fill-color);\n",
              "      border-right-color: var(--fill-color);\n",
              "    }\n",
              "    40% {\n",
              "      border-color: transparent;\n",
              "      border-right-color: var(--fill-color);\n",
              "      border-top-color: var(--fill-color);\n",
              "    }\n",
              "    60% {\n",
              "      border-color: transparent;\n",
              "      border-right-color: var(--fill-color);\n",
              "    }\n",
              "    80% {\n",
              "      border-color: transparent;\n",
              "      border-right-color: var(--fill-color);\n",
              "      border-bottom-color: var(--fill-color);\n",
              "    }\n",
              "    90% {\n",
              "      border-color: transparent;\n",
              "      border-bottom-color: var(--fill-color);\n",
              "    }\n",
              "  }\n",
              "</style>\n",
              "\n",
              "  <script>\n",
              "    async function quickchart(key) {\n",
              "      const quickchartButtonEl =\n",
              "        document.querySelector('#' + key + ' button');\n",
              "      quickchartButtonEl.disabled = true;  // To prevent multiple clicks.\n",
              "      quickchartButtonEl.classList.add('colab-df-spinner');\n",
              "      try {\n",
              "        const charts = await google.colab.kernel.invokeFunction(\n",
              "            'suggestCharts', [key], {});\n",
              "      } catch (error) {\n",
              "        console.error('Error during call to suggestCharts:', error);\n",
              "      }\n",
              "      quickchartButtonEl.classList.remove('colab-df-spinner');\n",
              "      quickchartButtonEl.classList.add('colab-df-quickchart-complete');\n",
              "    }\n",
              "    (() => {\n",
              "      let quickchartButtonEl =\n",
              "        document.querySelector('#df-75857937-9651-4bf2-8fb6-e91b49b39a17 button');\n",
              "      quickchartButtonEl.style.display =\n",
              "        google.colab.kernel.accessAllowed ? 'block' : 'none';\n",
              "    })();\n",
              "  </script>\n",
              "</div>\n",
              "\n",
              "    </div>\n",
              "  </div>\n"
            ],
            "application/vnd.google.colaboratory.intrinsic+json": {
              "type": "dataframe",
              "variable_name": "y",
              "summary": "{\n  \"name\": \"y\",\n  \"rows\": 2000,\n  \"fields\": [\n    {\n      \"column\": 0,\n      \"properties\": {\n        \"dtype\": \"category\",\n        \"num_unique_values\": 4,\n        \"samples\": [\n          \"b\",\n          \"d\",\n          \"a\"\n        ],\n        \"semantic_type\": \"\",\n        \"description\": \"\"\n      }\n    }\n  ]\n}"
            }
          },
          "metadata": {},
          "execution_count": 13
        }
      ]
    },
    {
      "cell_type": "markdown",
      "source": [
        "**Renaming the column of target variable's dataframe**"
      ],
      "metadata": {
        "id": "uZFAZfxUbTrM"
      }
    },
    {
      "cell_type": "code",
      "source": [
        "y.rename(columns = {0:'y'}, inplace = True)"
      ],
      "metadata": {
        "id": "-JpbZUkmv38K"
      },
      "execution_count": null,
      "outputs": []
    },
    {
      "cell_type": "markdown",
      "source": [
        "**Encoding variable names**"
      ],
      "metadata": {
        "id": "Z_oYpkmdbclY"
      }
    },
    {
      "cell_type": "code",
      "source": [
        "y.replace ({'y': {'a':0, 'b':1, 'c':2, 'd': 3}}, inplace = True)\n",
        "y.value_counts()"
      ],
      "metadata": {
        "id": "UN8ncYeyxV7B",
        "colab": {
          "base_uri": "https://localhost:8080/"
        },
        "outputId": "4ac207a2-8c12-43f5-e003-dc11cf8a26d9"
      },
      "execution_count": null,
      "outputs": [
        {
          "output_type": "execute_result",
          "data": {
            "text/plain": [
              "y\n",
              "0    500\n",
              "1    500\n",
              "2    500\n",
              "3    500\n",
              "Name: count, dtype: int64"
            ]
          },
          "metadata": {},
          "execution_count": 15
        }
      ]
    },
    {
      "cell_type": "markdown",
      "source": [
        "**Converting the images to numpy arrays**"
      ],
      "metadata": {
        "id": "V2hBfeY7b4eT"
      }
    },
    {
      "cell_type": "code",
      "source": [
        "image_directory = '/content/drive/MyDrive/image-classification/resized-images-4/'\n",
        "image_extension = ['png', 'jpg']\n",
        "\n",
        "files = []\n",
        "\n",
        "[files.extend(glob.glob(image_directory + '*.' + e)) for e in image_extension]\n",
        "\n",
        "natural_images = np.asarray([cv2.imread(file) for file in files])\n",
        "print (natural_images.shape, type(natural_images))"
      ],
      "metadata": {
        "id": "rfYbaBFp8AQt",
        "colab": {
          "base_uri": "https://localhost:8080/"
        },
        "outputId": "48bbe99b-408c-4dcf-dc07-6864e436e81c"
      },
      "execution_count": null,
      "outputs": [
        {
          "output_type": "stream",
          "name": "stdout",
          "text": [
            "(2000, 224, 224, 3) <class 'numpy.ndarray'>\n"
          ]
        }
      ]
    },
    {
      "cell_type": "markdown",
      "source": [
        "**Assigning variable names to dependent and independent features**"
      ],
      "metadata": {
        "id": "Nw_JmAa0b-sK"
      }
    },
    {
      "cell_type": "code",
      "source": [
        "x = natural_images\n",
        "y = np.asarray(y)"
      ],
      "metadata": {
        "id": "r1t4SF5M_OTd"
      },
      "execution_count": null,
      "outputs": []
    },
    {
      "cell_type": "code",
      "source": [
        "x.shape"
      ],
      "metadata": {
        "colab": {
          "base_uri": "https://localhost:8080/"
        },
        "id": "O8cKcqq5_ANZ",
        "outputId": "e661d6d0-f7ec-4228-95ca-7a78a4abe3c6"
      },
      "execution_count": null,
      "outputs": [
        {
          "output_type": "execute_result",
          "data": {
            "text/plain": [
              "(2000, 224, 224, 3)"
            ]
          },
          "metadata": {},
          "execution_count": 18
        }
      ]
    },
    {
      "cell_type": "markdown",
      "source": [
        "**Making train, test and validation splits**"
      ],
      "metadata": {
        "id": "USVhLBxOcGBQ"
      }
    },
    {
      "cell_type": "code",
      "source": [
        "x_train_old, x_test, y_train_old, y_test = train_test_split(x, y, test_size=0.2, random_state=2, stratify=y)\n",
        "x_train, x_val, y_train, y_val = train_test_split(x_train_old, y_train_old, test_size=0.2, random_state=2, stratify=y_train_old)"
      ],
      "metadata": {
        "id": "wZpBhYTizsXc"
      },
      "execution_count": null,
      "outputs": []
    },
    {
      "cell_type": "markdown",
      "source": [
        "**Scaling the data**"
      ],
      "metadata": {
        "id": "apN5YAw4cPlc"
      }
    },
    {
      "cell_type": "code",
      "source": [
        "x_train_scaled = x_train/255\n",
        "x_test_scaled = x_test/255\n",
        "x_val_scaled = x_val/255"
      ],
      "metadata": {
        "id": "Hb7mqRu3P6Nu"
      },
      "execution_count": null,
      "outputs": []
    },
    {
      "cell_type": "markdown",
      "source": [
        "**Loading the partially trained model**"
      ],
      "metadata": {
        "id": "A74BDLVfcfiL"
      }
    },
    {
      "cell_type": "code",
      "source": [
        "model = load_model('/content/drive/MyDrive/image-classification/partially-trained-model-3/vgg19.h5')"
      ],
      "metadata": {
        "id": "WEJ3uIHrceQt"
      },
      "execution_count": null,
      "outputs": []
    },
    {
      "cell_type": "markdown",
      "source": [
        "**Compiling the model**"
      ],
      "metadata": {
        "id": "mcBCoBD6cpiy"
      }
    },
    {
      "cell_type": "code",
      "source": [
        "model.compile(optimizer='adam', loss='sparse_categorical_crossentropy', metrics=['accuracy'])\n",
        "model.summary()"
      ],
      "metadata": {
        "colab": {
          "base_uri": "https://localhost:8080/"
        },
        "id": "JEjElnzVcoat",
        "outputId": "82ef9eda-1a1f-48d7-8ddf-bf2b89d73823"
      },
      "execution_count": null,
      "outputs": [
        {
          "output_type": "stream",
          "name": "stdout",
          "text": [
            "Model: \"sequential\"\n",
            "_________________________________________________________________\n",
            " Layer (type)                Output Shape              Param #   \n",
            "=================================================================\n",
            " vgg19 (Functional)          (None, 7, 7, 512)         20024384  \n",
            "                                                                 \n",
            " flatten (Flatten)           (None, 25088)             0         \n",
            "                                                                 \n",
            " dense (Dense)               (None, 256)               6422784   \n",
            "                                                                 \n",
            " dense_1 (Dense)             (None, 4)                 1028      \n",
            "                                                                 \n",
            "=================================================================\n",
            "Total params: 26448196 (100.89 MB)\n",
            "Trainable params: 6423812 (24.50 MB)\n",
            "Non-trainable params: 20024384 (76.39 MB)\n",
            "_________________________________________________________________\n"
          ]
        }
      ]
    },
    {
      "cell_type": "markdown",
      "source": [
        "**Defining early stopping callback**"
      ],
      "metadata": {
        "id": "HVAb9ER4c0pv"
      }
    },
    {
      "cell_type": "code",
      "source": [
        "early_stopping = tensorflow.keras.callbacks.EarlyStopping(monitor=\"val_loss\", min_delta=0.0001,\n",
        "                                                          patience=20, verbose=1, mode=\"auto\", baseline=None,\n",
        "                                                          restore_best_weights=False)"
      ],
      "metadata": {
        "id": "Po_-lPqNc6Cc"
      },
      "execution_count": null,
      "outputs": []
    },
    {
      "cell_type": "markdown",
      "source": [
        "**Model training on remaining dataset**"
      ],
      "metadata": {
        "id": "QzhFFWMyc7y7"
      }
    },
    {
      "cell_type": "code",
      "source": [
        "model.fit(x_train_scaled, y_train, validation_data=(x_val_scaled, y_val),\n",
        "          epochs=1000, batch_size=6, callbacks=[early_stopping])"
      ],
      "metadata": {
        "colab": {
          "base_uri": "https://localhost:8080/"
        },
        "id": "UvXh79-BQqh_",
        "outputId": "3b8fb99b-c685-4eb4-d083-9c78fed2318b"
      },
      "execution_count": null,
      "outputs": [
        {
          "output_type": "stream",
          "name": "stdout",
          "text": [
            "Epoch 1/1000\n",
            "214/214 [==============================] - 20s 69ms/step - loss: 0.3333 - accuracy: 0.9219 - val_loss: 0.1401 - val_accuracy: 0.9594\n",
            "Epoch 2/1000\n",
            "214/214 [==============================] - 13s 60ms/step - loss: 0.1726 - accuracy: 0.9469 - val_loss: 0.1446 - val_accuracy: 0.9625\n",
            "Epoch 3/1000\n",
            "214/214 [==============================] - 13s 60ms/step - loss: 0.0478 - accuracy: 0.9852 - val_loss: 0.1231 - val_accuracy: 0.9688\n",
            "Epoch 4/1000\n",
            "214/214 [==============================] - 13s 61ms/step - loss: 0.0409 - accuracy: 0.9859 - val_loss: 0.1689 - val_accuracy: 0.9531\n",
            "Epoch 5/1000\n",
            "214/214 [==============================] - 13s 62ms/step - loss: 0.0180 - accuracy: 0.9961 - val_loss: 0.1938 - val_accuracy: 0.9375\n",
            "Epoch 6/1000\n",
            "214/214 [==============================] - 13s 63ms/step - loss: 0.0180 - accuracy: 0.9945 - val_loss: 0.2385 - val_accuracy: 0.9406\n",
            "Epoch 7/1000\n",
            "214/214 [==============================] - 16s 76ms/step - loss: 0.0138 - accuracy: 0.9961 - val_loss: 0.1917 - val_accuracy: 0.9594\n",
            "Epoch 8/1000\n",
            "214/214 [==============================] - 14s 65ms/step - loss: 0.0154 - accuracy: 0.9953 - val_loss: 0.1757 - val_accuracy: 0.9531\n",
            "Epoch 9/1000\n",
            "214/214 [==============================] - 16s 75ms/step - loss: 0.0180 - accuracy: 0.9922 - val_loss: 0.1648 - val_accuracy: 0.9563\n",
            "Epoch 10/1000\n",
            "214/214 [==============================] - 13s 63ms/step - loss: 0.0111 - accuracy: 0.9969 - val_loss: 0.1736 - val_accuracy: 0.9563\n",
            "Epoch 11/1000\n",
            "214/214 [==============================] - 13s 63ms/step - loss: 0.0012 - accuracy: 1.0000 - val_loss: 0.1644 - val_accuracy: 0.9594\n",
            "Epoch 12/1000\n",
            "214/214 [==============================] - 16s 75ms/step - loss: 7.2277e-04 - accuracy: 1.0000 - val_loss: 0.1584 - val_accuracy: 0.9656\n",
            "Epoch 13/1000\n",
            "214/214 [==============================] - 13s 63ms/step - loss: 6.4856e-04 - accuracy: 1.0000 - val_loss: 0.1641 - val_accuracy: 0.9594\n",
            "Epoch 14/1000\n",
            "214/214 [==============================] - 13s 63ms/step - loss: 4.0127e-04 - accuracy: 1.0000 - val_loss: 0.1632 - val_accuracy: 0.9594\n",
            "Epoch 15/1000\n",
            "214/214 [==============================] - 13s 63ms/step - loss: 3.3950e-04 - accuracy: 1.0000 - val_loss: 0.1708 - val_accuracy: 0.9594\n",
            "Epoch 16/1000\n",
            "214/214 [==============================] - 13s 63ms/step - loss: 2.8654e-04 - accuracy: 1.0000 - val_loss: 0.1700 - val_accuracy: 0.9594\n",
            "Epoch 17/1000\n",
            "214/214 [==============================] - 16s 75ms/step - loss: 2.4610e-04 - accuracy: 1.0000 - val_loss: 0.1696 - val_accuracy: 0.9594\n",
            "Epoch 18/1000\n",
            "214/214 [==============================] - 13s 63ms/step - loss: 2.0293e-04 - accuracy: 1.0000 - val_loss: 0.1700 - val_accuracy: 0.9594\n",
            "Epoch 19/1000\n",
            "214/214 [==============================] - 13s 63ms/step - loss: 1.7587e-04 - accuracy: 1.0000 - val_loss: 0.1705 - val_accuracy: 0.9594\n",
            "Epoch 20/1000\n",
            "214/214 [==============================] - 13s 63ms/step - loss: 1.5159e-04 - accuracy: 1.0000 - val_loss: 0.1730 - val_accuracy: 0.9594\n",
            "Epoch 21/1000\n",
            "214/214 [==============================] - 14s 63ms/step - loss: 1.3548e-04 - accuracy: 1.0000 - val_loss: 0.1694 - val_accuracy: 0.9594\n",
            "Epoch 22/1000\n",
            "214/214 [==============================] - 13s 63ms/step - loss: 1.1624e-04 - accuracy: 1.0000 - val_loss: 0.1775 - val_accuracy: 0.9594\n",
            "Epoch 23/1000\n",
            "214/214 [==============================] - 13s 62ms/step - loss: 1.0455e-04 - accuracy: 1.0000 - val_loss: 0.1752 - val_accuracy: 0.9594\n",
            "Epoch 23: early stopping\n"
          ]
        },
        {
          "output_type": "execute_result",
          "data": {
            "text/plain": [
              "<keras.src.callbacks.History at 0x7eb737ef3af0>"
            ]
          },
          "metadata": {},
          "execution_count": 24
        }
      ]
    },
    {
      "cell_type": "markdown",
      "source": [
        "**Model evaluation**"
      ],
      "metadata": {
        "id": "LiEzzsS7rOZ4"
      }
    },
    {
      "cell_type": "code",
      "source": [
        "y_pred_train = model.predict(x_train_scaled)\n",
        "y_pred_train = np.argmax(y_pred_train, axis=1)\n",
        "\n",
        "y_pred_test = model.predict(x_test_scaled)\n",
        "y_pred_test = np.argmax(y_pred_test, axis=1)\n",
        "\n",
        "print(\"F1 score on training data: %.3f\" % f1_score(y_train, y_pred_train, average='weighted'))\n",
        "print(\"F1 score on test data: %.3f\" % f1_score(y_test, y_pred_test, average='weighted'))\n",
        "\n",
        "print('Precision on training data: %.3f' % precision_score(y_train, y_pred_train, average='weighted'))\n",
        "print('Precision on test data: %.3f' % precision_score(y_test, y_pred_test, average='weighted'))\n",
        "\n",
        "print('Recall on training data: %.3f' % recall_score(y_train, y_pred_train, average='weighted'))\n",
        "print('Recall on test data: %.3f' % recall_score(y_test, y_pred_test, average='weighted'))\n",
        "\n",
        "print('Accuracy on training set: %.3f' % (accuracy_score(y_pred_train, y_train) * 100))\n",
        "print('Accuracy on test set: %.3f' % (accuracy_score(y_pred_test, y_test) * 100))\n",
        "\n",
        "print ('Confusion matrix of training set:\\n', confusion_matrix (y_train, y_pred_train))\n",
        "print ('Confusion matrix of test set:\\n', confusion_matrix (y_test, y_pred_test))\n",
        "\n",
        "print (\"Classification report of training data:\\n\", classification_report (y_train, y_pred_train, digits = 4))\n",
        "print (\"Classification report of test data:\\n\", classification_report (y_test, y_pred_test, digits = 4))"
      ],
      "metadata": {
        "colab": {
          "base_uri": "https://localhost:8080/"
        },
        "id": "b_Ff-l3mJTar",
        "outputId": "09c2bff8-a1dd-41cf-d4ca-2f73c07f48ee"
      },
      "execution_count": null,
      "outputs": [
        {
          "output_type": "stream",
          "name": "stdout",
          "text": [
            "40/40 [==============================] - 13s 148ms/step\n",
            "13/13 [==============================] - 6s 482ms/step\n",
            "F1 score on training data: 1.000\n",
            "F1 score on test data: 0.955\n",
            "Precision on training data: 1.000\n",
            "Precision on test data: 0.955\n",
            "Recall on training data: 1.000\n",
            "Recall on test data: 0.955\n",
            "Accuracy on training set: 100.000\n",
            "Accuracy on test set: 95.500\n",
            "Confusion matrix of training set:\n",
            " [[320   0   0   0]\n",
            " [  0 320   0   0]\n",
            " [  0   0 320   0]\n",
            " [  0   0   0 320]]\n",
            "Confusion matrix of test set:\n",
            " [[94  0  2  4]\n",
            " [ 1 99  0  0]\n",
            " [ 0  0 99  1]\n",
            " [ 7  2  1 90]]\n",
            "Classification report of training data:\n",
            "               precision    recall  f1-score   support\n",
            "\n",
            "           0     1.0000    1.0000    1.0000       320\n",
            "           1     1.0000    1.0000    1.0000       320\n",
            "           2     1.0000    1.0000    1.0000       320\n",
            "           3     1.0000    1.0000    1.0000       320\n",
            "\n",
            "    accuracy                         1.0000      1280\n",
            "   macro avg     1.0000    1.0000    1.0000      1280\n",
            "weighted avg     1.0000    1.0000    1.0000      1280\n",
            "\n",
            "Classification report of test data:\n",
            "               precision    recall  f1-score   support\n",
            "\n",
            "           0     0.9216    0.9400    0.9307       100\n",
            "           1     0.9802    0.9900    0.9851       100\n",
            "           2     0.9706    0.9900    0.9802       100\n",
            "           3     0.9474    0.9000    0.9231       100\n",
            "\n",
            "    accuracy                         0.9550       400\n",
            "   macro avg     0.9549    0.9550    0.9548       400\n",
            "weighted avg     0.9549    0.9550    0.9548       400\n",
            "\n"
          ]
        }
      ]
    },
    {
      "cell_type": "markdown",
      "source": [
        "**Saving the final trained model**"
      ],
      "metadata": {
        "id": "1AufIZoUdMV7"
      }
    },
    {
      "cell_type": "code",
      "source": [
        "model.save('/content/drive/MyDrive/image-classification/final-model/vgg19.h5')"
      ],
      "metadata": {
        "id": "y7QJxEiy6xx6"
      },
      "execution_count": null,
      "outputs": []
    },
    {
      "cell_type": "markdown",
      "source": [
        "**Loading the trained model**"
      ],
      "metadata": {
        "id": "0Akrguk-dO4K"
      }
    },
    {
      "cell_type": "code",
      "source": [
        "loaded_model = load_model('/content/drive/MyDrive/image-classification/final-model/vgg19.h5')"
      ],
      "metadata": {
        "id": "GiU6Zw4Q7dgi"
      },
      "execution_count": null,
      "outputs": []
    },
    {
      "cell_type": "markdown",
      "source": [
        "**Taking user input and making predictions from the trained model**"
      ],
      "metadata": {
        "id": "Ihfz84k_dRQ1"
      }
    },
    {
      "cell_type": "code",
      "source": [
        "input_image_path = input('Path of the image to be predicted: ')\n",
        "input_image = cv2.imread(input_image_path)\n",
        "cv2_imshow(input_image)\n",
        "input_image_resize = cv2.resize(input_image, (224,224))\n",
        "input_image_scaled = input_image_resize/255\n",
        "image_reshaped = np.reshape(input_image_scaled, [1,224,224,3])\n",
        "input_prediction = loaded_model.predict(image_reshaped)\n",
        "input_pred_label = np.argmax(input_prediction)\n",
        "if input_pred_label == 0:\n",
        "  print ('It is a sea.')\n",
        "elif input_pred_label == 1:\n",
        "  print ('It is a forest.')\n",
        "elif input_pred_label == 2:\n",
        "  print ('It is a building.')\n",
        "elif input_pred_label == 3:\n",
        "  print ('It is a glacier.')"
      ],
      "metadata": {
        "colab": {
          "base_uri": "https://localhost:8080/",
          "height": 219
        },
        "id": "BVKRtTww66LM",
        "outputId": "797bad4b-aeea-4bcb-f070-af2189cee7aa"
      },
      "execution_count": null,
      "outputs": [
        {
          "name": "stdout",
          "output_type": "stream",
          "text": [
            "Path of the image to be predicted: /content/drive/MyDrive/image-classification/20054.jpg\n"
          ]
        },
        {
          "output_type": "display_data",
          "data": {
            "text/plain": [
              "<PIL.Image.Image image mode=RGB size=150x150>"
            ],
            "image/png": "[encoded data removed]"
          },
          "metadata": {}
        },
        {
          "output_type": "stream",
          "name": "stdout",
          "text": [
            "1/1 [==============================] - 0s 30ms/step\n",
            "It is a building.\n"
          ]
        }
      ]
    },
    {
      "cell_type": "code",
      "source": [],
      "metadata": {
        "id": "wNHYZC8nPtud"
      },
      "execution_count": null,
      "outputs": []
    }
  ]
}