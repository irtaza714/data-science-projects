{
  "cells": [
    {
      "cell_type": "markdown",
      "source": [
        "**Importing necessary libraries**"
      ],
      "metadata": {
        "id": "AaxbdG54t-or"
      }
    },
    {
      "cell_type": "code",
      "execution_count": null,
      "metadata": {
        "id": "TashP7-HNsiD",
        "colab": {
          "base_uri": "https://localhost:8080/"
        },
        "outputId": "a1681597-bb69-4c80-9836-d1e6a0f98907"
      },
      "outputs": [
        {
          "output_type": "stream",
          "name": "stdout",
          "text": [
            "Mounted at /content/drive\n"
          ]
        },
        {
          "output_type": "stream",
          "name": "stderr",
          "text": [
            "[nltk_data] Downloading package stopwords to /root/nltk_data...\n",
            "[nltk_data]   Unzipping corpora/stopwords.zip.\n",
            "[nltk_data] Downloading package wordnet to /root/nltk_data...\n"
          ]
        }
      ],
      "source": [
        "from google.colab import drive\n",
        "drive.mount('/content/drive')\n",
        "import numpy as np\n",
        "import pandas as pd\n",
        "import tensorflow, nltk, re, warnings\n",
        "warnings.filterwarnings(\"ignore\")\n",
        "from tensorflow.keras.layers import Embedding, LSTM, Dense, Bidirectional, Dropout\n",
        "from tensorflow.keras.preprocessing.sequence import pad_sequences\n",
        "from tensorflow.keras.models import Sequential\n",
        "from tensorflow.keras.preprocessing.text import one_hot\n",
        "from sklearn.model_selection import train_test_split\n",
        "from nltk.corpus import stopwords\n",
        "from nltk.stem import WordNetLemmatizer\n",
        "nltk.download('stopwords')\n",
        "nltk.download('wordnet')\n",
        "import matplotlib.pyplot as plt\n",
        "from sklearn.metrics import confusion_matrix, classification_report, accuracy_score, f1_score, precision_score, recall_score"
      ]
    },
    {
      "cell_type": "markdown",
      "source": [
        "**Reading the dataset**"
      ],
      "metadata": {
        "id": "AacWbdWGuE35"
      }
    },
    {
      "cell_type": "code",
      "source": [
        "df = pd.read_csv('/content/drive/MyDrive/Predicting Job Type by Job Description.csv', encoding='latin-1')\n",
        "df.head(1)"
      ],
      "metadata": {
        "id": "c2qoYur-_R4b",
        "colab": {
          "base_uri": "https://localhost:8080/",
          "height": 81
        },
        "outputId": "c4a9c294-0514-43a6-def0-17cfda57d0cb"
      },
      "execution_count": null,
      "outputs": [
        {
          "output_type": "execute_result",
          "data": {
            "text/plain": [
              "     job_no                                    job_description   job_type  \\\n",
              "0  Id-12765   Zest Scientific is searching for an accomplis...  Permanent   \n",
              "\n",
              "                                       category  \n",
              "0  Pharmaceutical, Healthcare and Medical Sales  "
            ],
            "text/html": [
              "\n",
              "  <div id=\"df-a9b54b88-94fb-44bd-bea9-914268f357a5\" class=\"colab-df-container\">\n",
              "    <div>\n",
              "<style scoped>\n",
              "    .dataframe tbody tr th:only-of-type {\n",
              "        vertical-align: middle;\n",
              "    }\n",
              "\n",
              "    .dataframe tbody tr th {\n",
              "        vertical-align: top;\n",
              "    }\n",
              "\n",
              "    .dataframe thead th {\n",
              "        text-align: right;\n",
              "    }\n",
              "</style>\n",
              "<table border=\"1\" class=\"dataframe\">\n",
              "  <thead>\n",
              "    <tr style=\"text-align: right;\">\n",
              "      <th></th>\n",
              "      <th>job_no</th>\n",
              "      <th>job_description</th>\n",
              "      <th>job_type</th>\n",
              "      <th>category</th>\n",
              "    </tr>\n",
              "  </thead>\n",
              "  <tbody>\n",
              "    <tr>\n",
              "      <th>0</th>\n",
              "      <td>Id-12765</td>\n",
              "      <td>Zest Scientific is searching for an accomplis...</td>\n",
              "      <td>Permanent</td>\n",
              "      <td>Pharmaceutical, Healthcare and Medical Sales</td>\n",
              "    </tr>\n",
              "  </tbody>\n",
              "</table>\n",
              "</div>\n",
              "    <div class=\"colab-df-buttons\">\n",
              "\n",
              "  <div class=\"colab-df-container\">\n",
              "    <button class=\"colab-df-convert\" onclick=\"convertToInteractive('df-a9b54b88-94fb-44bd-bea9-914268f357a5')\"\n",
              "            title=\"Convert this dataframe to an interactive table.\"\n",
              "            style=\"display:none;\">\n",
              "\n",
              "  <svg xmlns=\"http://www.w3.org/2000/svg\" height=\"24px\" viewBox=\"0 -960 960 960\">\n",
              "    <path d=\"M120-120v-720h720v720H120Zm60-500h600v-160H180v160Zm220 220h160v-160H400v160Zm0 220h160v-160H400v160ZM180-400h160v-160H180v160Zm440 0h160v-160H620v160ZM180-180h160v-160H180v160Zm440 0h160v-160H620v160Z\"/>\n",
              "  </svg>\n",
              "    </button>\n",
              "\n",
              "  <style>\n",
              "    .colab-df-container {\n",
              "      display:flex;\n",
              "      gap: 12px;\n",
              "    }\n",
              "\n",
              "    .colab-df-convert {\n",
              "      background-color: #E8F0FE;\n",
              "      border: none;\n",
              "      border-radius: 50%;\n",
              "      cursor: pointer;\n",
              "      display: none;\n",
              "      fill: #1967D2;\n",
              "      height: 32px;\n",
              "      padding: 0 0 0 0;\n",
              "      width: 32px;\n",
              "    }\n",
              "\n",
              "    .colab-df-convert:hover {\n",
              "      background-color: #E2EBFA;\n",
              "      box-shadow: 0px 1px 2px rgba(60, 64, 67, 0.3), 0px 1px 3px 1px rgba(60, 64, 67, 0.15);\n",
              "      fill: #174EA6;\n",
              "    }\n",
              "\n",
              "    .colab-df-buttons div {\n",
              "      margin-bottom: 4px;\n",
              "    }\n",
              "\n",
              "    [theme=dark] .colab-df-convert {\n",
              "      background-color: #3B4455;\n",
              "      fill: #D2E3FC;\n",
              "    }\n",
              "\n",
              "    [theme=dark] .colab-df-convert:hover {\n",
              "      background-color: #434B5C;\n",
              "      box-shadow: 0px 1px 3px 1px rgba(0, 0, 0, 0.15);\n",
              "      filter: drop-shadow(0px 1px 2px rgba(0, 0, 0, 0.3));\n",
              "      fill: #FFFFFF;\n",
              "    }\n",
              "  </style>\n",
              "\n",
              "    <script>\n",
              "      const buttonEl =\n",
              "        document.querySelector('#df-a9b54b88-94fb-44bd-bea9-914268f357a5 button.colab-df-convert');\n",
              "      buttonEl.style.display =\n",
              "        google.colab.kernel.accessAllowed ? 'block' : 'none';\n",
              "\n",
              "      async function convertToInteractive(key) {\n",
              "        const element = document.querySelector('#df-a9b54b88-94fb-44bd-bea9-914268f357a5');\n",
              "        const dataTable =\n",
              "          await google.colab.kernel.invokeFunction('convertToInteractive',\n",
              "                                                    [key], {});\n",
              "        if (!dataTable) return;\n",
              "\n",
              "        const docLinkHtml = 'Like what you see? Visit the ' +\n",
              "          '<a target=\"_blank\" href=https://colab.research.google.com/notebooks/data_table.ipynb>data table notebook</a>'\n",
              "          + ' to learn more about interactive tables.';\n",
              "        element.innerHTML = '';\n",
              "        dataTable['output_type'] = 'display_data';\n",
              "        await google.colab.output.renderOutput(dataTable, element);\n",
              "        const docLink = document.createElement('div');\n",
              "        docLink.innerHTML = docLinkHtml;\n",
              "        element.appendChild(docLink);\n",
              "      }\n",
              "    </script>\n",
              "  </div>\n",
              "\n",
              "    </div>\n",
              "  </div>\n"
            ]
          },
          "metadata": {},
          "execution_count": 2
        }
      ]
    },
    {
      "cell_type": "markdown",
      "source": [
        "**Checking for missing values**"
      ],
      "metadata": {
        "id": "gNslAVxluJs9"
      }
    },
    {
      "cell_type": "code",
      "source": [
        "df.isnull().sum()"
      ],
      "metadata": {
        "colab": {
          "base_uri": "https://localhost:8080/"
        },
        "id": "B9upxNy9FDA7",
        "outputId": "2565610d-f2ef-4ae5-f69d-73d504d42d05"
      },
      "execution_count": null,
      "outputs": [
        {
          "output_type": "execute_result",
          "data": {
            "text/plain": [
              "job_no             0\n",
              "job_description    0\n",
              "job_type           0\n",
              "category           0\n",
              "dtype: int64"
            ]
          },
          "metadata": {},
          "execution_count": 3
        }
      ]
    },
    {
      "cell_type": "markdown",
      "source": [
        "**No missing values**"
      ],
      "metadata": {
        "id": "E7FfqThlal1L"
      }
    },
    {
      "cell_type": "markdown",
      "source": [
        "**Checking for and removing duplicates**"
      ],
      "metadata": {
        "id": "ljl0WiE0uQis"
      }
    },
    {
      "cell_type": "code",
      "source": [
        "print (df.shape)\n",
        "df = df.drop_duplicates()\n",
        "print (df.shape)"
      ],
      "metadata": {
        "colab": {
          "base_uri": "https://localhost:8080/"
        },
        "id": "nJivuP4XHXRZ",
        "outputId": "9435d5df-8355-49f2-8ee6-b4e52d8af593"
      },
      "execution_count": null,
      "outputs": [
        {
          "output_type": "stream",
          "name": "stdout",
          "text": [
            "(17657, 4)\n",
            "(17657, 4)\n"
          ]
        }
      ]
    },
    {
      "cell_type": "markdown",
      "source": [
        "**No duplicates found**"
      ],
      "metadata": {
        "id": "40fHM4lKasDX"
      }
    },
    {
      "cell_type": "markdown",
      "source": [
        "**Selecting relevant columns**"
      ],
      "metadata": {
        "id": "oOxvDFWUua_n"
      }
    },
    {
      "cell_type": "code",
      "execution_count": null,
      "metadata": {
        "colab": {
          "base_uri": "https://localhost:8080/",
          "height": 81
        },
        "id": "TOB_C1eQOczY",
        "outputId": "7bc741e1-3d00-4dcc-9c96-3903d018475e"
      },
      "outputs": [
        {
          "output_type": "execute_result",
          "data": {
            "text/plain": [
              "                                     job_description   job_type\n",
              "0   Zest Scientific is searching for an accomplis...  Permanent"
            ],
            "text/html": [
              "\n",
              "  <div id=\"df-dfd33b5d-7e9d-4b12-a0cb-e65c2798f897\" class=\"colab-df-container\">\n",
              "    <div>\n",
              "<style scoped>\n",
              "    .dataframe tbody tr th:only-of-type {\n",
              "        vertical-align: middle;\n",
              "    }\n",
              "\n",
              "    .dataframe tbody tr th {\n",
              "        vertical-align: top;\n",
              "    }\n",
              "\n",
              "    .dataframe thead th {\n",
              "        text-align: right;\n",
              "    }\n",
              "</style>\n",
              "<table border=\"1\" class=\"dataframe\">\n",
              "  <thead>\n",
              "    <tr style=\"text-align: right;\">\n",
              "      <th></th>\n",
              "      <th>job_description</th>\n",
              "      <th>job_type</th>\n",
              "    </tr>\n",
              "  </thead>\n",
              "  <tbody>\n",
              "    <tr>\n",
              "      <th>0</th>\n",
              "      <td>Zest Scientific is searching for an accomplis...</td>\n",
              "      <td>Permanent</td>\n",
              "    </tr>\n",
              "  </tbody>\n",
              "</table>\n",
              "</div>\n",
              "    <div class=\"colab-df-buttons\">\n",
              "\n",
              "  <div class=\"colab-df-container\">\n",
              "    <button class=\"colab-df-convert\" onclick=\"convertToInteractive('df-dfd33b5d-7e9d-4b12-a0cb-e65c2798f897')\"\n",
              "            title=\"Convert this dataframe to an interactive table.\"\n",
              "            style=\"display:none;\">\n",
              "\n",
              "  <svg xmlns=\"http://www.w3.org/2000/svg\" height=\"24px\" viewBox=\"0 -960 960 960\">\n",
              "    <path d=\"M120-120v-720h720v720H120Zm60-500h600v-160H180v160Zm220 220h160v-160H400v160Zm0 220h160v-160H400v160ZM180-400h160v-160H180v160Zm440 0h160v-160H620v160ZM180-180h160v-160H180v160Zm440 0h160v-160H620v160Z\"/>\n",
              "  </svg>\n",
              "    </button>\n",
              "\n",
              "  <style>\n",
              "    .colab-df-container {\n",
              "      display:flex;\n",
              "      gap: 12px;\n",
              "    }\n",
              "\n",
              "    .colab-df-convert {\n",
              "      background-color: #E8F0FE;\n",
              "      border: none;\n",
              "      border-radius: 50%;\n",
              "      cursor: pointer;\n",
              "      display: none;\n",
              "      fill: #1967D2;\n",
              "      height: 32px;\n",
              "      padding: 0 0 0 0;\n",
              "      width: 32px;\n",
              "    }\n",
              "\n",
              "    .colab-df-convert:hover {\n",
              "      background-color: #E2EBFA;\n",
              "      box-shadow: 0px 1px 2px rgba(60, 64, 67, 0.3), 0px 1px 3px 1px rgba(60, 64, 67, 0.15);\n",
              "      fill: #174EA6;\n",
              "    }\n",
              "\n",
              "    .colab-df-buttons div {\n",
              "      margin-bottom: 4px;\n",
              "    }\n",
              "\n",
              "    [theme=dark] .colab-df-convert {\n",
              "      background-color: #3B4455;\n",
              "      fill: #D2E3FC;\n",
              "    }\n",
              "\n",
              "    [theme=dark] .colab-df-convert:hover {\n",
              "      background-color: #434B5C;\n",
              "      box-shadow: 0px 1px 3px 1px rgba(0, 0, 0, 0.15);\n",
              "      filter: drop-shadow(0px 1px 2px rgba(0, 0, 0, 0.3));\n",
              "      fill: #FFFFFF;\n",
              "    }\n",
              "  </style>\n",
              "\n",
              "    <script>\n",
              "      const buttonEl =\n",
              "        document.querySelector('#df-dfd33b5d-7e9d-4b12-a0cb-e65c2798f897 button.colab-df-convert');\n",
              "      buttonEl.style.display =\n",
              "        google.colab.kernel.accessAllowed ? 'block' : 'none';\n",
              "\n",
              "      async function convertToInteractive(key) {\n",
              "        const element = document.querySelector('#df-dfd33b5d-7e9d-4b12-a0cb-e65c2798f897');\n",
              "        const dataTable =\n",
              "          await google.colab.kernel.invokeFunction('convertToInteractive',\n",
              "                                                    [key], {});\n",
              "        if (!dataTable) return;\n",
              "\n",
              "        const docLinkHtml = 'Like what you see? Visit the ' +\n",
              "          '<a target=\"_blank\" href=https://colab.research.google.com/notebooks/data_table.ipynb>data table notebook</a>'\n",
              "          + ' to learn more about interactive tables.';\n",
              "        element.innerHTML = '';\n",
              "        dataTable['output_type'] = 'display_data';\n",
              "        await google.colab.output.renderOutput(dataTable, element);\n",
              "        const docLink = document.createElement('div');\n",
              "        docLink.innerHTML = docLinkHtml;\n",
              "        element.appendChild(docLink);\n",
              "      }\n",
              "    </script>\n",
              "  </div>\n",
              "\n",
              "    </div>\n",
              "  </div>\n"
            ]
          },
          "metadata": {},
          "execution_count": 5
        }
      ],
      "source": [
        "df = df.iloc[:,1:3]\n",
        "df.head(1)"
      ]
    },
    {
      "cell_type": "markdown",
      "source": [
        "**Checking class distribution**"
      ],
      "metadata": {
        "id": "VvMzSV-lufm_"
      }
    },
    {
      "cell_type": "code",
      "execution_count": null,
      "metadata": {
        "colab": {
          "base_uri": "https://localhost:8080/"
        },
        "id": "kFzepK0pKEvp",
        "outputId": "3496475d-aa51-400a-af30-239afa29dc67"
      },
      "outputs": [
        {
          "output_type": "execute_result",
          "data": {
            "text/plain": [
              "Permanent             0.893527\n",
              "Contract/Interim      0.080082\n",
              "Contract/Temp         0.017274\n",
              "Temporary/Seasonal    0.006400\n",
              "Any                   0.001416\n",
              "Part-Time             0.001303\n",
              "Name: job_type, dtype: float64"
            ]
          },
          "metadata": {},
          "execution_count": 6
        }
      ],
      "source": [
        "df['job_type'].value_counts(normalize=True)"
      ]
    },
    {
      "cell_type": "markdown",
      "source": [
        "**The dataset is imbalanced.**"
      ],
      "metadata": {
        "id": "N7Us90VZukLh"
      }
    },
    {
      "cell_type": "markdown",
      "source": [
        "**Assigning numerical values to classes**"
      ],
      "metadata": {
        "id": "mpYlh7vuunsJ"
      }
    },
    {
      "cell_type": "code",
      "source": [
        "df.replace ({\"job_type\": {'Permanent':0, 'Contract/Interim':1, \"Contract/Temp\": 2, \"Temporary/Seasonal\": 3,\n",
        "                          \"Any\": 4, \"Part-Time\": 5}}, inplace = True)\n",
        "df['job_type'].value_counts()"
      ],
      "metadata": {
        "id": "EfuRjwwKHs37",
        "colab": {
          "base_uri": "https://localhost:8080/"
        },
        "outputId": "903f2645-149e-473c-f1e6-d0bc57bdd555"
      },
      "execution_count": null,
      "outputs": [
        {
          "output_type": "execute_result",
          "data": {
            "text/plain": [
              "0    15777\n",
              "1     1414\n",
              "2      305\n",
              "3      113\n",
              "4       25\n",
              "5       23\n",
              "Name: job_type, dtype: int64"
            ]
          },
          "metadata": {},
          "execution_count": 7
        }
      ]
    },
    {
      "cell_type": "markdown",
      "source": [
        "**Separating dependent and indpendent features**"
      ],
      "metadata": {
        "id": "tNlgnyV9ur1_"
      }
    },
    {
      "cell_type": "code",
      "execution_count": null,
      "metadata": {
        "id": "Kr19iczaLUPx"
      },
      "outputs": [],
      "source": [
        "x = df.drop ('job_type', axis =1)\n",
        "y = df['job_type']"
      ]
    },
    {
      "cell_type": "markdown",
      "source": [
        "**Storing a copy of independent variable in another variable for preprocessing tasks**"
      ],
      "metadata": {
        "id": "-jw5-u4ccLha"
      }
    },
    {
      "cell_type": "code",
      "execution_count": null,
      "metadata": {
        "id": "lvMfwaQpVe_I"
      },
      "outputs": [],
      "source": [
        "content = x.copy()"
      ]
    },
    {
      "cell_type": "markdown",
      "source": [
        "**Initiating the lemmatizer**"
      ],
      "metadata": {
        "id": "yPY1PnaAcp5h"
      }
    },
    {
      "cell_type": "code",
      "execution_count": null,
      "metadata": {
        "id": "5rNSj4emoBjK"
      },
      "outputs": [],
      "source": [
        "lem = WordNetLemmatizer()"
      ]
    },
    {
      "cell_type": "markdown",
      "source": [
        "**Lemmatization**"
      ],
      "metadata": {
        "id": "7iI3VuOga4J7"
      }
    },
    {
      "cell_type": "code",
      "execution_count": null,
      "metadata": {
        "id": "qYVAfFprWMJq"
      },
      "outputs": [],
      "source": [
        "corpus = []\n",
        "for i in range(0, len(content)):\n",
        "    description = re.sub('[^a-zA-Z]', ' ', content['job_description'][i])\n",
        "    description = description.lower()\n",
        "    description = description.split()\n",
        "    description = [lem.lemmatize(word) for word in description if not word in stopwords.words('english')]\n",
        "    description = ' '.join(description)\n",
        "    corpus.append(description)"
      ]
    },
    {
      "cell_type": "markdown",
      "source": [
        "**Finding the number of unique words in dataframe (for selecting the vocabulary size) and the number of words in the sentence with the maximum length (for embedding purposes)**"
      ],
      "metadata": {
        "id": "ojkTIC1Ic4aX"
      }
    },
    {
      "cell_type": "code",
      "source": [
        "tokenized_corpus = [sentence.split() for sentence in corpus]\n",
        "\n",
        "all_words = [word for sentence in tokenized_corpus for word in sentence]\n",
        "\n",
        "vocabulary_size = len(set(all_words))\n",
        "\n",
        "max_sentence_length = max(len(sentence) for sentence in tokenized_corpus)\n",
        "\n",
        "print(\"Vocabulary Size:\", vocabulary_size)\n",
        "print(\"Maximum Sentence Length:\", max_sentence_length)"
      ],
      "metadata": {
        "id": "509adk-PFpHG",
        "colab": {
          "base_uri": "https://localhost:8080/"
        },
        "outputId": "6f7af393-c819-4a2d-9d68-38935009bad8"
      },
      "execution_count": null,
      "outputs": [
        {
          "output_type": "stream",
          "name": "stdout",
          "text": [
            "Vocabulary Size: 41341\n",
            "Maximum Sentence Length: 964\n"
          ]
        }
      ]
    },
    {
      "cell_type": "markdown",
      "source": [
        "**One hot encoding of data and applying padding to ensure equal length**"
      ],
      "metadata": {
        "id": "BaTgi4ccdXU7"
      }
    },
    {
      "cell_type": "code",
      "execution_count": null,
      "metadata": {
        "id": "8l8AEw2ueIxT"
      },
      "outputs": [],
      "source": [
        "onehot_repr= [one_hot (words, vocabulary_size) for words in corpus]\n",
        "embedded_docs = pad_sequences(onehot_repr, padding='post', maxlen = max_sentence_length)"
      ]
    },
    {
      "cell_type": "markdown",
      "source": [
        "**Converting preprocessed dependent feature to pandas dataframe**"
      ],
      "metadata": {
        "id": "4BMkT8LptEDV"
      }
    },
    {
      "cell_type": "code",
      "source": [
        "x_final_df = pd.DataFrame (embedded_docs)"
      ],
      "metadata": {
        "id": "VKhBz48ZeGPR"
      },
      "execution_count": null,
      "outputs": []
    },
    {
      "cell_type": "markdown",
      "source": [
        "**Concatenating the dependent and indpendent features**"
      ],
      "metadata": {
        "id": "TgbRii8ivO3U"
      }
    },
    {
      "cell_type": "code",
      "source": [
        "df_final = pd.concat ([x_final_df, y], axis = 1)\n",
        "df_final.head(1)"
      ],
      "metadata": {
        "colab": {
          "base_uri": "https://localhost:8080/",
          "height": 130
        },
        "id": "x40Hq7zpHzfp",
        "outputId": "8bde48b5-c001-42c2-faf6-573852637648"
      },
      "execution_count": null,
      "outputs": [
        {
          "output_type": "execute_result",
          "data": {
            "text/plain": [
              "       0     1     2      3     4     5      6      7      8      9  ...  955  \\\n",
              "0  12717  1344  1885  27468  1344  3082  13229  25311  27823  34333  ...    0   \n",
              "\n",
              "   956  957  958  959  960  961  962  963  job_type  \n",
              "0    0    0    0    0    0    0    0    0         0  \n",
              "\n",
              "[1 rows x 965 columns]"
            ],
            "text/html": [
              "\n",
              "  <div id=\"df-16303aa3-0715-44a4-bd19-053907c9b693\" class=\"colab-df-container\">\n",
              "    <div>\n",
              "<style scoped>\n",
              "    .dataframe tbody tr th:only-of-type {\n",
              "        vertical-align: middle;\n",
              "    }\n",
              "\n",
              "    .dataframe tbody tr th {\n",
              "        vertical-align: top;\n",
              "    }\n",
              "\n",
              "    .dataframe thead th {\n",
              "        text-align: right;\n",
              "    }\n",
              "</style>\n",
              "<table border=\"1\" class=\"dataframe\">\n",
              "  <thead>\n",
              "    <tr style=\"text-align: right;\">\n",
              "      <th></th>\n",
              "      <th>0</th>\n",
              "      <th>1</th>\n",
              "      <th>2</th>\n",
              "      <th>3</th>\n",
              "      <th>4</th>\n",
              "      <th>5</th>\n",
              "      <th>6</th>\n",
              "      <th>7</th>\n",
              "      <th>8</th>\n",
              "      <th>9</th>\n",
              "      <th>...</th>\n",
              "      <th>955</th>\n",
              "      <th>956</th>\n",
              "      <th>957</th>\n",
              "      <th>958</th>\n",
              "      <th>959</th>\n",
              "      <th>960</th>\n",
              "      <th>961</th>\n",
              "      <th>962</th>\n",
              "      <th>963</th>\n",
              "      <th>job_type</th>\n",
              "    </tr>\n",
              "  </thead>\n",
              "  <tbody>\n",
              "    <tr>\n",
              "      <th>0</th>\n",
              "      <td>12717</td>\n",
              "      <td>1344</td>\n",
              "      <td>1885</td>\n",
              "      <td>27468</td>\n",
              "      <td>1344</td>\n",
              "      <td>3082</td>\n",
              "      <td>13229</td>\n",
              "      <td>25311</td>\n",
              "      <td>27823</td>\n",
              "      <td>34333</td>\n",
              "      <td>...</td>\n",
              "      <td>0</td>\n",
              "      <td>0</td>\n",
              "      <td>0</td>\n",
              "      <td>0</td>\n",
              "      <td>0</td>\n",
              "      <td>0</td>\n",
              "      <td>0</td>\n",
              "      <td>0</td>\n",
              "      <td>0</td>\n",
              "      <td>0</td>\n",
              "    </tr>\n",
              "  </tbody>\n",
              "</table>\n",
              "<p>1 rows × 965 columns</p>\n",
              "</div>\n",
              "    <div class=\"colab-df-buttons\">\n",
              "\n",
              "  <div class=\"colab-df-container\">\n",
              "    <button class=\"colab-df-convert\" onclick=\"convertToInteractive('df-16303aa3-0715-44a4-bd19-053907c9b693')\"\n",
              "            title=\"Convert this dataframe to an interactive table.\"\n",
              "            style=\"display:none;\">\n",
              "\n",
              "  <svg xmlns=\"http://www.w3.org/2000/svg\" height=\"24px\" viewBox=\"0 -960 960 960\">\n",
              "    <path d=\"M120-120v-720h720v720H120Zm60-500h600v-160H180v160Zm220 220h160v-160H400v160Zm0 220h160v-160H400v160ZM180-400h160v-160H180v160Zm440 0h160v-160H620v160ZM180-180h160v-160H180v160Zm440 0h160v-160H620v160Z\"/>\n",
              "  </svg>\n",
              "    </button>\n",
              "\n",
              "  <style>\n",
              "    .colab-df-container {\n",
              "      display:flex;\n",
              "      gap: 12px;\n",
              "    }\n",
              "\n",
              "    .colab-df-convert {\n",
              "      background-color: #E8F0FE;\n",
              "      border: none;\n",
              "      border-radius: 50%;\n",
              "      cursor: pointer;\n",
              "      display: none;\n",
              "      fill: #1967D2;\n",
              "      height: 32px;\n",
              "      padding: 0 0 0 0;\n",
              "      width: 32px;\n",
              "    }\n",
              "\n",
              "    .colab-df-convert:hover {\n",
              "      background-color: #E2EBFA;\n",
              "      box-shadow: 0px 1px 2px rgba(60, 64, 67, 0.3), 0px 1px 3px 1px rgba(60, 64, 67, 0.15);\n",
              "      fill: #174EA6;\n",
              "    }\n",
              "\n",
              "    .colab-df-buttons div {\n",
              "      margin-bottom: 4px;\n",
              "    }\n",
              "\n",
              "    [theme=dark] .colab-df-convert {\n",
              "      background-color: #3B4455;\n",
              "      fill: #D2E3FC;\n",
              "    }\n",
              "\n",
              "    [theme=dark] .colab-df-convert:hover {\n",
              "      background-color: #434B5C;\n",
              "      box-shadow: 0px 1px 3px 1px rgba(0, 0, 0, 0.15);\n",
              "      filter: drop-shadow(0px 1px 2px rgba(0, 0, 0, 0.3));\n",
              "      fill: #FFFFFF;\n",
              "    }\n",
              "  </style>\n",
              "\n",
              "    <script>\n",
              "      const buttonEl =\n",
              "        document.querySelector('#df-16303aa3-0715-44a4-bd19-053907c9b693 button.colab-df-convert');\n",
              "      buttonEl.style.display =\n",
              "        google.colab.kernel.accessAllowed ? 'block' : 'none';\n",
              "\n",
              "      async function convertToInteractive(key) {\n",
              "        const element = document.querySelector('#df-16303aa3-0715-44a4-bd19-053907c9b693');\n",
              "        const dataTable =\n",
              "          await google.colab.kernel.invokeFunction('convertToInteractive',\n",
              "                                                    [key], {});\n",
              "        if (!dataTable) return;\n",
              "\n",
              "        const docLinkHtml = 'Like what you see? Visit the ' +\n",
              "          '<a target=\"_blank\" href=https://colab.research.google.com/notebooks/data_table.ipynb>data table notebook</a>'\n",
              "          + ' to learn more about interactive tables.';\n",
              "        element.innerHTML = '';\n",
              "        dataTable['output_type'] = 'display_data';\n",
              "        await google.colab.output.renderOutput(dataTable, element);\n",
              "        const docLink = document.createElement('div');\n",
              "        docLink.innerHTML = docLinkHtml;\n",
              "        element.appendChild(docLink);\n",
              "      }\n",
              "    </script>\n",
              "  </div>\n",
              "\n",
              "    </div>\n",
              "  </div>\n"
            ]
          },
          "metadata": {},
          "execution_count": 15
        }
      ]
    },
    {
      "cell_type": "markdown",
      "source": [
        "**Making train, test and validation splits**"
      ],
      "metadata": {
        "id": "s1cnuFU-edBO"
      }
    },
    {
      "cell_type": "code",
      "execution_count": null,
      "metadata": {
        "id": "R1k7OGPDlYmu"
      },
      "outputs": [],
      "source": [
        "y_for_df_stratification = df_final['job_type']\n",
        "train_old, test = train_test_split (df_final, test_size=0.2, random_state=10, stratify = y_for_df_stratification)\n",
        "\n",
        "y_to_stratify_train = train_old['job_type']\n",
        "train, val = train_test_split (train_old, test_size=0.2, random_state=10, stratify = y_to_stratify_train)\n",
        "\n",
        "x_train = train.drop('job_type', axis =1)\n",
        "y_train = train['job_type']\n",
        "\n",
        "x_val = val.drop('job_type', axis =1)\n",
        "y_val = val['job_type']\n",
        "\n",
        "x_test = test.drop('job_type', axis =1)\n",
        "y_test = test['job_type']"
      ]
    },
    {
      "cell_type": "markdown",
      "source": [
        "**Converting the data types of dependent and indpendent features back to numpy array**"
      ],
      "metadata": {
        "id": "WyaNV03DvdiV"
      }
    },
    {
      "cell_type": "code",
      "source": [
        "x_train = np.array (x_train)\n",
        "x_val = np.array (x_val)\n",
        "x_test = np.array (x_test)\n",
        "y_train = np.array (y_train)\n",
        "y_val = np.array (y_val)\n",
        "y_test = np.array (y_test)"
      ],
      "metadata": {
        "id": "7QsOmlrrP2sJ"
      },
      "execution_count": null,
      "outputs": []
    },
    {
      "cell_type": "markdown",
      "source": [
        "**Introducing early stopping to avoid overfitting**"
      ],
      "metadata": {
        "id": "ZQFrmjS7vjIv"
      }
    },
    {
      "cell_type": "code",
      "execution_count": null,
      "metadata": {
        "id": "mHHGGuXlnPnf"
      },
      "outputs": [],
      "source": [
        "early_stopping = tensorflow.keras.callbacks.EarlyStopping(monitor=\"val_loss\", min_delta=0.0001, patience=20,\n",
        "                                                          verbose=1, mode=\"auto\", baseline=None,\n",
        "                                                          restore_best_weights=False, start_from_epoch=0)"
      ]
    },
    {
      "cell_type": "markdown",
      "source": [
        "**Assigning weights to different classes in order to account for the imbalanced data**"
      ],
      "metadata": {
        "id": "QwmoyRSue86S"
      }
    },
    {
      "cell_type": "code",
      "source": [
        "weights_assigned = {0 : 1, 1 : 11.157708628005658, 2 : 51.72786885245902,\n",
        "                    3 : 139.61946902654867, 4 : 631.08, 5 : 685.9565217391304}"
      ],
      "metadata": {
        "id": "tNKRcY9JEQnc"
      },
      "execution_count": null,
      "outputs": []
    },
    {
      "cell_type": "markdown",
      "source": [
        "**Defining model parameters and creating a bidirectional LSTM RNN model**"
      ],
      "metadata": {
        "id": "ZJ4sA8v4fMQC"
      }
    },
    {
      "cell_type": "code",
      "source": [
        "embedding_vector_features = 40\n",
        "model=Sequential()\n",
        "model.add(Embedding(vocabulary_size, embedding_vector_features, input_length = max_sentence_length))\n",
        "model.add(Dropout(0.3))\n",
        "model.add(Bidirectional(LSTM(200)))\n",
        "model.add(Dropout(0.3))\n",
        "model.add(Dense(units = 6, activation='softmax'))\n",
        "model.compile(loss = 'sparse_categorical_crossentropy', optimizer='adam', metrics = ['accuracy'])\n",
        "print(model.summary())"
      ],
      "metadata": {
        "colab": {
          "base_uri": "https://localhost:8080/"
        },
        "id": "WDfj-MajNLBe",
        "outputId": "233758af-39c9-4667-c67c-620a80cb9dfd"
      },
      "execution_count": null,
      "outputs": [
        {
          "output_type": "stream",
          "name": "stdout",
          "text": [
            "Model: \"sequential\"\n",
            "_________________________________________________________________\n",
            " Layer (type)                Output Shape              Param #   \n",
            "=================================================================\n",
            " embedding (Embedding)       (None, 964, 40)           1653640   \n",
            "                                                                 \n",
            " dropout (Dropout)           (None, 964, 40)           0         \n",
            "                                                                 \n",
            " bidirectional (Bidirection  (None, 400)               385600    \n",
            " al)                                                             \n",
            "                                                                 \n",
            " dropout_1 (Dropout)         (None, 400)               0         \n",
            "                                                                 \n",
            " dense (Dense)               (None, 6)                 2406      \n",
            "                                                                 \n",
            "=================================================================\n",
            "Total params: 2041646 (7.79 MB)\n",
            "Trainable params: 2041646 (7.79 MB)\n",
            "Non-trainable params: 0 (0.00 Byte)\n",
            "_________________________________________________________________\n",
            "None\n"
          ]
        }
      ]
    },
    {
      "cell_type": "markdown",
      "source": [
        "**Model training**"
      ],
      "metadata": {
        "id": "LMG-cK-2feDb"
      }
    },
    {
      "cell_type": "code",
      "execution_count": null,
      "metadata": {
        "colab": {
          "base_uri": "https://localhost:8080/"
        },
        "id": "43cd-HYyldRM",
        "outputId": "8349dda3-e64f-48fc-e4ed-1576ff7bbebe"
      },
      "outputs": [
        {
          "output_type": "stream",
          "name": "stdout",
          "text": [
            "Epoch 1/1000\n",
            "113/113 [==============================] - 50s 326ms/step - loss: 10.0335 - accuracy: 0.1369 - val_loss: 1.8386 - val_accuracy: 0.0050\n",
            "Epoch 2/1000\n",
            "113/113 [==============================] - 35s 310ms/step - loss: 9.7479 - accuracy: 0.1087 - val_loss: 1.8274 - val_accuracy: 0.0573\n",
            "Epoch 3/1000\n",
            "113/113 [==============================] - 31s 277ms/step - loss: 8.9441 - accuracy: 0.2981 - val_loss: 1.6985 - val_accuracy: 0.2457\n",
            "Epoch 4/1000\n",
            "113/113 [==============================] - 33s 289ms/step - loss: 7.7476 - accuracy: 0.5119 - val_loss: 1.4964 - val_accuracy: 0.7384\n",
            "Epoch 5/1000\n",
            "113/113 [==============================] - 30s 264ms/step - loss: 6.2397 - accuracy: 0.7397 - val_loss: 1.2199 - val_accuracy: 0.7600\n",
            "Epoch 6/1000\n",
            "113/113 [==============================] - 31s 277ms/step - loss: 4.3282 - accuracy: 0.7495 - val_loss: 0.8888 - val_accuracy: 0.7908\n",
            "Epoch 7/1000\n",
            "113/113 [==============================] - 29s 259ms/step - loss: 2.4504 - accuracy: 0.8000 - val_loss: 0.5333 - val_accuracy: 0.8662\n",
            "Epoch 8/1000\n",
            "113/113 [==============================] - 29s 261ms/step - loss: 1.3246 - accuracy: 0.8734 - val_loss: 0.4304 - val_accuracy: 0.8393\n",
            "Epoch 9/1000\n",
            "113/113 [==============================] - 26s 234ms/step - loss: 0.7131 - accuracy: 0.9222 - val_loss: 0.2107 - val_accuracy: 0.9373\n",
            "Epoch 10/1000\n",
            "113/113 [==============================] - 26s 228ms/step - loss: 0.4653 - accuracy: 0.9518 - val_loss: 0.1707 - val_accuracy: 0.9561\n",
            "Epoch 11/1000\n",
            "113/113 [==============================] - 25s 224ms/step - loss: 0.3236 - accuracy: 0.9607 - val_loss: 0.1790 - val_accuracy: 0.9480\n",
            "Epoch 12/1000\n",
            "113/113 [==============================] - 25s 221ms/step - loss: 0.3102 - accuracy: 0.9662 - val_loss: 0.1481 - val_accuracy: 0.9611\n",
            "Epoch 13/1000\n",
            "113/113 [==============================] - 26s 232ms/step - loss: 0.2288 - accuracy: 0.9714 - val_loss: 0.1390 - val_accuracy: 0.9635\n",
            "Epoch 14/1000\n",
            "113/113 [==============================] - 26s 227ms/step - loss: 0.1821 - accuracy: 0.9769 - val_loss: 0.1418 - val_accuracy: 0.9579\n",
            "Epoch 15/1000\n",
            "113/113 [==============================] - 26s 231ms/step - loss: 0.1227 - accuracy: 0.9842 - val_loss: 0.1335 - val_accuracy: 0.9639\n",
            "Epoch 16/1000\n",
            "113/113 [==============================] - 22s 198ms/step - loss: 0.1439 - accuracy: 0.9819 - val_loss: 0.1792 - val_accuracy: 0.9497\n",
            "Epoch 17/1000\n",
            "113/113 [==============================] - 23s 208ms/step - loss: 0.1154 - accuracy: 0.9860 - val_loss: 0.1353 - val_accuracy: 0.9692\n",
            "Epoch 18/1000\n",
            "113/113 [==============================] - 23s 206ms/step - loss: 0.0958 - accuracy: 0.9892 - val_loss: 0.1233 - val_accuracy: 0.9674\n",
            "Epoch 19/1000\n",
            "113/113 [==============================] - 23s 205ms/step - loss: 0.0952 - accuracy: 0.9902 - val_loss: 0.1181 - val_accuracy: 0.9727\n",
            "Epoch 20/1000\n",
            "113/113 [==============================] - 21s 190ms/step - loss: 0.1279 - accuracy: 0.9827 - val_loss: 0.1352 - val_accuracy: 0.9671\n",
            "Epoch 21/1000\n",
            "113/113 [==============================] - 23s 204ms/step - loss: 0.0987 - accuracy: 0.9865 - val_loss: 0.1449 - val_accuracy: 0.9664\n",
            "Epoch 22/1000\n",
            "113/113 [==============================] - 22s 195ms/step - loss: 0.0889 - accuracy: 0.9888 - val_loss: 0.1469 - val_accuracy: 0.9653\n",
            "Epoch 23/1000\n",
            "113/113 [==============================] - 23s 205ms/step - loss: 0.0766 - accuracy: 0.9926 - val_loss: 0.1290 - val_accuracy: 0.9720\n",
            "Epoch 24/1000\n",
            "113/113 [==============================] - 22s 199ms/step - loss: 0.2488 - accuracy: 0.9523 - val_loss: 0.1962 - val_accuracy: 0.9490\n",
            "Epoch 25/1000\n",
            "113/113 [==============================] - 23s 207ms/step - loss: 0.1878 - accuracy: 0.9764 - val_loss: 0.1430 - val_accuracy: 0.9632\n",
            "Epoch 26/1000\n",
            "113/113 [==============================] - 23s 208ms/step - loss: 0.0960 - accuracy: 0.9888 - val_loss: 0.1228 - val_accuracy: 0.9699\n",
            "Epoch 27/1000\n",
            "113/113 [==============================] - 23s 200ms/step - loss: 0.0787 - accuracy: 0.9912 - val_loss: 0.1205 - val_accuracy: 0.9685\n",
            "Epoch 28/1000\n",
            "113/113 [==============================] - 22s 199ms/step - loss: 0.0710 - accuracy: 0.9926 - val_loss: 0.1202 - val_accuracy: 0.9713\n",
            "Epoch 29/1000\n",
            "113/113 [==============================] - 23s 208ms/step - loss: 0.0733 - accuracy: 0.9930 - val_loss: 0.1216 - val_accuracy: 0.9724\n",
            "Epoch 30/1000\n",
            "113/113 [==============================] - 22s 195ms/step - loss: 0.0625 - accuracy: 0.9940 - val_loss: 0.1224 - val_accuracy: 0.9720\n",
            "Epoch 31/1000\n",
            "113/113 [==============================] - 23s 200ms/step - loss: 0.1708 - accuracy: 0.9725 - val_loss: 0.1271 - val_accuracy: 0.9688\n",
            "Epoch 32/1000\n",
            "113/113 [==============================] - 23s 200ms/step - loss: 0.0940 - accuracy: 0.9878 - val_loss: 0.1110 - val_accuracy: 0.9710\n",
            "Epoch 33/1000\n",
            "113/113 [==============================] - 23s 200ms/step - loss: 0.0635 - accuracy: 0.9918 - val_loss: 0.1221 - val_accuracy: 0.9745\n",
            "Epoch 34/1000\n",
            "113/113 [==============================] - 22s 191ms/step - loss: 0.0743 - accuracy: 0.9934 - val_loss: 0.1410 - val_accuracy: 0.9685\n",
            "Epoch 35/1000\n",
            "113/113 [==============================] - 21s 190ms/step - loss: 0.0681 - accuracy: 0.9942 - val_loss: 0.1223 - val_accuracy: 0.9745\n",
            "Epoch 36/1000\n",
            "113/113 [==============================] - 22s 198ms/step - loss: 0.0577 - accuracy: 0.9947 - val_loss: 0.1342 - val_accuracy: 0.9770\n",
            "Epoch 37/1000\n",
            "113/113 [==============================] - 22s 199ms/step - loss: 0.1667 - accuracy: 0.9721 - val_loss: 0.1264 - val_accuracy: 0.9706\n",
            "Epoch 38/1000\n",
            "113/113 [==============================] - 21s 190ms/step - loss: 0.0522 - accuracy: 0.9938 - val_loss: 0.1038 - val_accuracy: 0.9766\n",
            "Epoch 39/1000\n",
            "113/113 [==============================] - 23s 201ms/step - loss: 0.0722 - accuracy: 0.9948 - val_loss: 0.1065 - val_accuracy: 0.9770\n",
            "Epoch 40/1000\n",
            "113/113 [==============================] - 21s 183ms/step - loss: 0.0870 - accuracy: 0.9880 - val_loss: 0.8898 - val_accuracy: 0.7618\n",
            "Epoch 41/1000\n",
            "113/113 [==============================] - 21s 187ms/step - loss: 0.1614 - accuracy: 0.9781 - val_loss: 0.1185 - val_accuracy: 0.9749\n",
            "Epoch 42/1000\n",
            "113/113 [==============================] - 23s 201ms/step - loss: 0.0838 - accuracy: 0.9894 - val_loss: 0.1394 - val_accuracy: 0.9724\n",
            "Epoch 43/1000\n",
            "113/113 [==============================] - 21s 185ms/step - loss: 0.0657 - accuracy: 0.9925 - val_loss: 0.1674 - val_accuracy: 0.9635\n",
            "Epoch 44/1000\n",
            "113/113 [==============================] - 22s 191ms/step - loss: 0.0630 - accuracy: 0.9933 - val_loss: 0.1312 - val_accuracy: 0.9745\n",
            "Epoch 45/1000\n",
            "113/113 [==============================] - 21s 183ms/step - loss: 0.0577 - accuracy: 0.9948 - val_loss: 0.1394 - val_accuracy: 0.9727\n",
            "Epoch 46/1000\n",
            "113/113 [==============================] - 21s 188ms/step - loss: 0.0507 - accuracy: 0.9954 - val_loss: 0.1399 - val_accuracy: 0.9738\n",
            "Epoch 47/1000\n",
            "113/113 [==============================] - 21s 189ms/step - loss: 0.0596 - accuracy: 0.9915 - val_loss: 0.1202 - val_accuracy: 0.9756\n",
            "Epoch 48/1000\n",
            "113/113 [==============================] - 21s 185ms/step - loss: 0.0618 - accuracy: 0.9944 - val_loss: 0.1183 - val_accuracy: 0.9752\n",
            "Epoch 49/1000\n",
            "113/113 [==============================] - 22s 194ms/step - loss: 0.0511 - accuracy: 0.9953 - val_loss: 0.1265 - val_accuracy: 0.9752\n",
            "Epoch 50/1000\n",
            "113/113 [==============================] - 21s 183ms/step - loss: 0.0953 - accuracy: 0.9906 - val_loss: 0.1382 - val_accuracy: 0.9727\n",
            "Epoch 51/1000\n",
            "113/113 [==============================] - 21s 185ms/step - loss: 0.3321 - accuracy: 0.9505 - val_loss: 0.1234 - val_accuracy: 0.9720\n",
            "Epoch 52/1000\n",
            "113/113 [==============================] - 22s 192ms/step - loss: 0.0876 - accuracy: 0.9889 - val_loss: 0.1334 - val_accuracy: 0.9667\n",
            "Epoch 53/1000\n",
            "113/113 [==============================] - 21s 187ms/step - loss: 0.0950 - accuracy: 0.9891 - val_loss: 0.1243 - val_accuracy: 0.9735\n",
            "Epoch 54/1000\n",
            "113/113 [==============================] - 21s 184ms/step - loss: 0.0799 - accuracy: 0.9929 - val_loss: 0.1441 - val_accuracy: 0.9706\n",
            "Epoch 55/1000\n",
            "113/113 [==============================] - 21s 184ms/step - loss: 0.0856 - accuracy: 0.9896 - val_loss: 0.1435 - val_accuracy: 0.9717\n",
            "Epoch 56/1000\n",
            "113/113 [==============================] - 22s 196ms/step - loss: 0.0755 - accuracy: 0.9920 - val_loss: 0.1446 - val_accuracy: 0.9745\n",
            "Epoch 57/1000\n",
            "113/113 [==============================] - 21s 189ms/step - loss: 0.0739 - accuracy: 0.9913 - val_loss: 0.1178 - val_accuracy: 0.9720\n",
            "Epoch 58/1000\n",
            "113/113 [==============================] - 22s 193ms/step - loss: 0.0586 - accuracy: 0.9947 - val_loss: 0.1308 - val_accuracy: 0.9745\n",
            "Epoch 58: early stopping\n"
          ]
        }
      ],
      "source": [
        "model_history = model.fit(x_train, y_train, validation_data = (x_val, y_val), epochs=1000, batch_size=100,\n",
        "                          callbacks=early_stopping, class_weight = weights_assigned)"
      ]
    },
    {
      "cell_type": "markdown",
      "source": [
        "**Plotting model's accuracy during training**"
      ],
      "metadata": {
        "id": "MD90G4dUf_6f"
      }
    },
    {
      "cell_type": "code",
      "execution_count": null,
      "metadata": {
        "id": "MMOyiwzgBlLY",
        "colab": {
          "base_uri": "https://localhost:8080/",
          "height": 472
        },
        "outputId": "21e839cd-662b-4ce2-c573-e2cd5161d2dd"
      },
      "outputs": [
        {
          "output_type": "display_data",
          "data": {
            "text/plain": [
              "<Figure size 640x480 with 1 Axes>"
            ],
            "image/png": "[encoded data removed]"
          },
          "metadata": {}
        }
      ],
      "source": [
        "plt.plot(model_history.history['accuracy'])\n",
        "plt.plot(model_history.history['val_accuracy'])\n",
        "plt.title(\"Model's Accuracy\")\n",
        "plt.ylabel('Accuracy')\n",
        "plt.xlabel('Epoch')\n",
        "plt.legend(['Train', 'Validation'], loc='upper left')\n",
        "plt.show()"
      ]
    },
    {
      "cell_type": "markdown",
      "source": [
        "**Plotting model's loss during training**"
      ],
      "metadata": {
        "id": "NBoWFfd2gEIN"
      }
    },
    {
      "cell_type": "code",
      "execution_count": null,
      "metadata": {
        "id": "QH141RsQCEr0",
        "colab": {
          "base_uri": "https://localhost:8080/",
          "height": 472
        },
        "outputId": "24c2a6a5-c37c-48ec-d2fe-51fc2d514d1a"
      },
      "outputs": [
        {
          "output_type": "display_data",
          "data": {
            "text/plain": [
              "<Figure size 640x480 with 1 Axes>"
            ],
            "image/png": "[encoded data removed]"
          },
          "metadata": {}
        }
      ],
      "source": [
        "plt.plot(model_history.history['loss'])\n",
        "plt.plot(model_history.history['val_loss'])\n",
        "plt.title(\"Model's Loss\")\n",
        "plt.ylabel('Loss')\n",
        "plt.xlabel('Epoch')\n",
        "plt.legend(['Train', 'Validation'], loc='upper left')\n",
        "plt.show()"
      ]
    },
    {
      "cell_type": "markdown",
      "source": [
        "**Model evaluation**"
      ],
      "metadata": {
        "id": "lat6TSC5gQ_h"
      }
    },
    {
      "cell_type": "code",
      "execution_count": null,
      "metadata": {
        "colab": {
          "base_uri": "https://localhost:8080/"
        },
        "id": "OYqCIIkDCd8S",
        "outputId": "ccec741f-961e-4042-829f-9828f4bbb50d"
      },
      "outputs": [
        {
          "output_type": "stream",
          "name": "stdout",
          "text": [
            "354/354 [==============================] - 12s 31ms/step\n",
            "111/111 [==============================] - 4s 32ms/step\n",
            "Accuracy on training set: 99.54867256637168\n",
            "Accuracy on test set: 98.24462061155153\n",
            "Correct predictions on training data: 11249\n",
            "Correct predictions on test data: 3470\n",
            "Incorrect predictions on training data: 51\n",
            "Incorrect predictions on test data: 62\n",
            "F1 score on training data: 0.995704547297116\n",
            "F1 score on test data: 0.9827047573442619\n",
            "Precision on training data: 0.996\n",
            "Precision on test data: 0.983\n",
            "Recall on training data: 0.995\n",
            "Recall on test data: 0.982\n",
            "Confusion matrix of training set:\n",
            " [[10047    20     0    27     0     3]\n",
            " [    0   905     0     0     0     0]\n",
            " [    0     0   194     1     0     0]\n",
            " [    0     0     0    72     0     0]\n",
            " [    0     0     0     0    16     0]\n",
            " [    0     0     0     0     0    15]]\n",
            "Confusion matrix of test set:\n",
            " [[3120   23    6    6    1    0]\n",
            " [  16  262    3    2    0    0]\n",
            " [   3    0   58    0    0    0]\n",
            " [   2    0    0   21    0    0]\n",
            " [   0    0    0    0    5    0]\n",
            " [   0    0    0    0    0    4]]\n",
            "Classification report of training data:\n",
            "               precision    recall  f1-score   support\n",
            "\n",
            "           0     1.0000    0.9950    0.9975     10097\n",
            "           1     0.9784    1.0000    0.9891       905\n",
            "           2     1.0000    0.9949    0.9974       195\n",
            "           3     0.7200    1.0000    0.8372        72\n",
            "           4     1.0000    1.0000    1.0000        16\n",
            "           5     0.8333    1.0000    0.9091        15\n",
            "\n",
            "    accuracy                         0.9955     11300\n",
            "   macro avg     0.9220    0.9983    0.9551     11300\n",
            "weighted avg     0.9963    0.9955    0.9957     11300\n",
            "\n",
            "Classification report of test data:\n",
            "               precision    recall  f1-score   support\n",
            "\n",
            "           0     0.9933    0.9886    0.9909      3156\n",
            "           1     0.9193    0.9258    0.9225       283\n",
            "           2     0.8657    0.9508    0.9062        61\n",
            "           3     0.7241    0.9130    0.8077        23\n",
            "           4     0.8333    1.0000    0.9091         5\n",
            "           5     1.0000    1.0000    1.0000         4\n",
            "\n",
            "    accuracy                         0.9824      3532\n",
            "   macro avg     0.8893    0.9630    0.9228      3532\n",
            "weighted avg     0.9832    0.9824    0.9827      3532\n",
            "\n"
          ]
        }
      ],
      "source": [
        "y_pred_train = model.predict(x_train)\n",
        "y_pred_train = np.argmax(y_pred_train, axis=1)\n",
        "\n",
        "y_pred_test = model.predict(x_test)\n",
        "y_pred_test = np.argmax(y_pred_test, axis=1)\n",
        "\n",
        "print ('Accuracy on training set:', accuracy_score (y_pred_train, y_train)*100)\n",
        "print ('Accuracy on test set:', accuracy_score (y_pred_test, y_test)*100)\n",
        "\n",
        "print (\"Correct predictions on training data:\", sum (y_train == y_pred_train))\n",
        "print (\"Correct predictions on test data:\", sum (y_test == y_pred_test))\n",
        "\n",
        "print (\"Incorrect predictions on training data:\", sum (y_train != y_pred_train))\n",
        "print (\"Incorrect predictions on test data:\", sum (y_test != y_pred_test))\n",
        "\n",
        "print (\"F1 score on training data:\", f1_score(y_train, y_pred_train, average='weighted'))\n",
        "print (\"F1 score on test data:\", f1_score(y_test, y_pred_test, average='weighted'))\n",
        "\n",
        "print ('Precision on training data: %.3f' % precision_score(y_train, y_pred_train, average='weighted'))\n",
        "print ('Precision on test data: %.3f' % precision_score(y_test, y_pred_test, average='weighted'))\n",
        "\n",
        "print ('Recall on training data: %.3f' % recall_score(y_train, y_pred_train, average='weighted'))\n",
        "print ('Recall on test data: %.3f' % recall_score(y_test, y_pred_test, average='weighted'))\n",
        "\n",
        "print ('Confusion matrix of training set:\\n', confusion_matrix (y_train, y_pred_train))\n",
        "print ('Confusion matrix of test set:\\n', confusion_matrix (y_test, y_pred_test))\n",
        "\n",
        "print (\"Classification report of training data:\\n\", classification_report (y_train, y_pred_train, digits = 4))\n",
        "print (\"Classification report of test data:\\n\", classification_report (y_test, y_pred_test, digits = 4))"
      ]
    },
    {
      "cell_type": "markdown",
      "source": [
        "**Taking custom user input and making predictions from the trained model**"
      ],
      "metadata": {
        "id": "BikYFY6fhpsu"
      }
    },
    {
      "cell_type": "code",
      "source": [
        "prediction = input(\"Enter the text you want to predict: \")\n",
        "corpus_prediction = []\n",
        "description_prediction = re.sub('[^a-zA-Z]', ' ', prediction)\n",
        "description_prediction = description_prediction.lower()\n",
        "description_prediction = description_prediction.split()\n",
        "description_prediction = [lem.lemmatize(word) for word in description_prediction if not word in stopwords.words('english')]\n",
        "description_prediction = ' '.join(description_prediction)\n",
        "corpus_prediction.append(description_prediction)\n",
        "onehot_repr_prediction = [one_hot(words, vocabulary_size) for words in corpus_prediction]\n",
        "embedded_docs_prediction = pad_sequences(onehot_repr_prediction, padding='post', maxlen=max_sentence_length)\n",
        "x_prediction = np.array(embedded_docs_prediction)\n",
        "y_pred_prediction = model.predict(x_prediction)\n",
        "y_pred_prediction = np.argmax(y_pred_prediction, axis=1)\n",
        "\n",
        "if y_pred_prediction == 0:\n",
        "  print(\"Prediction: It's a permanent job.\")\n",
        "elif y_pred_prediction == 1:\n",
        "  print(\"Prediction: It's an interim job.\")\n",
        "elif y_pred_prediction == 2:\n",
        "  print(\"Prediction: It's a temporary job.\")\n",
        "elif y_pred_prediction == 3:\n",
        "  print(\"Prediction: It's a seasonal job.\")\n",
        "elif y_pred_prediction == 4:\n",
        "  print(\"Prediction: It can be any job.\")\n",
        "elif y_pred_prediction == 5:\n",
        "  print(\"Prediction: It's a part-time job.\")"
      ],
      "metadata": {
        "colab": {
          "base_uri": "https://localhost:8080/"
        },
        "id": "1tENuFRLSooR",
        "outputId": "875be9b7-cb6b-4771-f1ef-ba15c4c65156"
      },
      "execution_count": null,
      "outputs": [
        {
          "output_type": "stream",
          "name": "stdout",
          "text": [
            "Enter the text you want to predict: We are currently recruiting for a market leading Pharmacy chain with an exciting new opportunity working as a Pharmacist Manager working in Abingdon. Our client are a forward thinking company with a heavy emphasis on training and support, as well as customer service.   Essential Requirements:    You will be a highly experienced Pharmacist with current valid GPHC registration and MUR accreditation.   You will have ProScript experience.   Ability to build good relationships with both customers and staff.   Possess exceptional leadership qualities.   Ability to lead and motivate a team.   Outstanding attention to detail.   Role Responsibilities:   Managing a team, you will inspire and develop colleagues.   Ensuring all key targets are met and that excellent standards are consistently delivered will be crucial to your success.   You will build working relationships with Primary Care Organisations (PCOs) and GP surgeries    You will ensure payment claims are accurate for anything covered by the NHS   Proactively developing Pharmacy sales, services and profitability in a cost effective and safe manner, you will adhere to legal, ethical and company requirements/ systems.   Focus on the day to day business, as well as medium term operation, you will be expected to regularly audit staff, services, systems, records and standards   Role Specific Competencies:   IT literate with strong analytical skills   Flexible â€œcan doâ€ attitude    Self-accountability/motivation   Innovation, tenacity and drive to ensure success   Self-motivation, persuasiveness and competitiveness   Recruitment Process:   2 stage process   Package:   Flexible salary and benefits DOE   Evolve Selection is a leading UK recruitment and contract sales organisation (CSO), operating within the Pharmaceutical, Healthcare and Medical Device sectors. We offer a highly comprehensive range of permanent recruitment and flexible contract sales solutions. Please do not hesitate to get in contact with us on **************   Apply Now   Ref no: 198007-5901   Evolve Selection Ltd is an Employment Business and an Employment Agency as defined within The Conduct of Employment Agencies &amp; Employment Businesses Regulations 2003.\n",
            "1/1 [==============================] - 0s 60ms/step\n",
            "Prediction: It's a permanent job.\n"
          ]
        }
      ]
    },
    {
      "cell_type": "code",
      "source": [],
      "metadata": {
        "id": "lAjgV_Ww6em2"
      },
      "execution_count": null,
      "outputs": []
    }
  ],
  "metadata": {
    "colab": {
      "provenance": [],
      "gpuType": "T4"
    },
    "kernelspec": {
      "display_name": "Python 3",
      "name": "python3"
    },
    "language_info": {
      "name": "python"
    },
    "accelerator": "GPU"
  },
  "nbformat": 4,
  "nbformat_minor": 0
}