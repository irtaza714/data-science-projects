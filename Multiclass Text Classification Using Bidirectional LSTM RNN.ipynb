{
  "cells": [
    {
      "cell_type": "markdown",
      "source": [
        "**Importing necessary libraries**"
      ],
      "metadata": {
        "id": "AaxbdG54t-or"
      }
    },
    {
      "cell_type": "code",
      "execution_count": null,
      "metadata": {
        "id": "TashP7-HNsiD",
        "colab": {
          "base_uri": "https://localhost:8080/"
        },
        "outputId": "f23ce2e9-5a67-40b7-dcf7-047ed582a89b"
      },
      "outputs": [
        {
          "output_type": "stream",
          "name": "stdout",
          "text": [
            "Mounted at /content/drive\n"
          ]
        },
        {
          "output_type": "stream",
          "name": "stderr",
          "text": [
            "[nltk_data] Downloading package stopwords to /root/nltk_data...\n",
            "[nltk_data]   Unzipping corpora/stopwords.zip.\n",
            "[nltk_data] Downloading package wordnet to /root/nltk_data...\n"
          ]
        }
      ],
      "source": [
        "from google.colab import drive\n",
        "drive.mount('/content/drive')\n",
        "import numpy as np\n",
        "import pandas as pd\n",
        "import tensorflow\n",
        "from tensorflow.keras.layers import Embedding, LSTM, Dense, Bidirectional, Dropout\n",
        "from tensorflow.keras.preprocessing.sequence import pad_sequences\n",
        "from tensorflow.keras.models import Sequential\n",
        "from tensorflow.keras.preprocessing.text import one_hot\n",
        "from sklearn.model_selection import train_test_split\n",
        "import nltk\n",
        "import re\n",
        "from nltk.corpus import stopwords\n",
        "from nltk.stem import WordNetLemmatizer\n",
        "nltk.download('stopwords')\n",
        "nltk.download('wordnet')\n",
        "import matplotlib.pyplot as plt\n",
        "import warnings\n",
        "warnings.filterwarnings(\"ignore\")\n",
        "from sklearn.metrics import confusion_matrix, classification_report, accuracy_score, f1_score, precision_score, recall_score"
      ]
    },
    {
      "cell_type": "markdown",
      "source": [
        "**Reading the dataset**"
      ],
      "metadata": {
        "id": "AacWbdWGuE35"
      }
    },
    {
      "cell_type": "code",
      "source": [
        "df = pd.read_csv('/content/drive/MyDrive/Predicting Job Type by Job Description.csv', encoding='latin-1')\n",
        "df.head(1)"
      ],
      "metadata": {
        "id": "c2qoYur-_R4b",
        "colab": {
          "base_uri": "https://localhost:8080/",
          "height": 81
        },
        "outputId": "5ee5ce9c-47a3-4115-c6c2-e8ce31707db6"
      },
      "execution_count": null,
      "outputs": [
        {
          "output_type": "execute_result",
          "data": {
            "text/plain": [
              "     job_no                                    job_description   job_type  \\\n",
              "0  Id-12765   Zest Scientific is searching for an accomplis...  Permanent   \n",
              "\n",
              "                                       category  \n",
              "0  Pharmaceutical, Healthcare and Medical Sales  "
            ],
            "text/html": [
              "\n",
              "  <div id=\"df-45935035-ce26-4bb1-9cb5-ffa45f72f005\" class=\"colab-df-container\">\n",
              "    <div>\n",
              "<style scoped>\n",
              "    .dataframe tbody tr th:only-of-type {\n",
              "        vertical-align: middle;\n",
              "    }\n",
              "\n",
              "    .dataframe tbody tr th {\n",
              "        vertical-align: top;\n",
              "    }\n",
              "\n",
              "    .dataframe thead th {\n",
              "        text-align: right;\n",
              "    }\n",
              "</style>\n",
              "<table border=\"1\" class=\"dataframe\">\n",
              "  <thead>\n",
              "    <tr style=\"text-align: right;\">\n",
              "      <th></th>\n",
              "      <th>job_no</th>\n",
              "      <th>job_description</th>\n",
              "      <th>job_type</th>\n",
              "      <th>category</th>\n",
              "    </tr>\n",
              "  </thead>\n",
              "  <tbody>\n",
              "    <tr>\n",
              "      <th>0</th>\n",
              "      <td>Id-12765</td>\n",
              "      <td>Zest Scientific is searching for an accomplis...</td>\n",
              "      <td>Permanent</td>\n",
              "      <td>Pharmaceutical, Healthcare and Medical Sales</td>\n",
              "    </tr>\n",
              "  </tbody>\n",
              "</table>\n",
              "</div>\n",
              "    <div class=\"colab-df-buttons\">\n",
              "\n",
              "  <div class=\"colab-df-container\">\n",
              "    <button class=\"colab-df-convert\" onclick=\"convertToInteractive('df-45935035-ce26-4bb1-9cb5-ffa45f72f005')\"\n",
              "            title=\"Convert this dataframe to an interactive table.\"\n",
              "            style=\"display:none;\">\n",
              "\n",
              "  <svg xmlns=\"http://www.w3.org/2000/svg\" height=\"24px\" viewBox=\"0 -960 960 960\">\n",
              "    <path d=\"M120-120v-720h720v720H120Zm60-500h600v-160H180v160Zm220 220h160v-160H400v160Zm0 220h160v-160H400v160ZM180-400h160v-160H180v160Zm440 0h160v-160H620v160ZM180-180h160v-160H180v160Zm440 0h160v-160H620v160Z\"/>\n",
              "  </svg>\n",
              "    </button>\n",
              "\n",
              "  <style>\n",
              "    .colab-df-container {\n",
              "      display:flex;\n",
              "      gap: 12px;\n",
              "    }\n",
              "\n",
              "    .colab-df-convert {\n",
              "      background-color: #E8F0FE;\n",
              "      border: none;\n",
              "      border-radius: 50%;\n",
              "      cursor: pointer;\n",
              "      display: none;\n",
              "      fill: #1967D2;\n",
              "      height: 32px;\n",
              "      padding: 0 0 0 0;\n",
              "      width: 32px;\n",
              "    }\n",
              "\n",
              "    .colab-df-convert:hover {\n",
              "      background-color: #E2EBFA;\n",
              "      box-shadow: 0px 1px 2px rgba(60, 64, 67, 0.3), 0px 1px 3px 1px rgba(60, 64, 67, 0.15);\n",
              "      fill: #174EA6;\n",
              "    }\n",
              "\n",
              "    .colab-df-buttons div {\n",
              "      margin-bottom: 4px;\n",
              "    }\n",
              "\n",
              "    [theme=dark] .colab-df-convert {\n",
              "      background-color: #3B4455;\n",
              "      fill: #D2E3FC;\n",
              "    }\n",
              "\n",
              "    [theme=dark] .colab-df-convert:hover {\n",
              "      background-color: #434B5C;\n",
              "      box-shadow: 0px 1px 3px 1px rgba(0, 0, 0, 0.15);\n",
              "      filter: drop-shadow(0px 1px 2px rgba(0, 0, 0, 0.3));\n",
              "      fill: #FFFFFF;\n",
              "    }\n",
              "  </style>\n",
              "\n",
              "    <script>\n",
              "      const buttonEl =\n",
              "        document.querySelector('#df-45935035-ce26-4bb1-9cb5-ffa45f72f005 button.colab-df-convert');\n",
              "      buttonEl.style.display =\n",
              "        google.colab.kernel.accessAllowed ? 'block' : 'none';\n",
              "\n",
              "      async function convertToInteractive(key) {\n",
              "        const element = document.querySelector('#df-45935035-ce26-4bb1-9cb5-ffa45f72f005');\n",
              "        const dataTable =\n",
              "          await google.colab.kernel.invokeFunction('convertToInteractive',\n",
              "                                                    [key], {});\n",
              "        if (!dataTable) return;\n",
              "\n",
              "        const docLinkHtml = 'Like what you see? Visit the ' +\n",
              "          '<a target=\"_blank\" href=https://colab.research.google.com/notebooks/data_table.ipynb>data table notebook</a>'\n",
              "          + ' to learn more about interactive tables.';\n",
              "        element.innerHTML = '';\n",
              "        dataTable['output_type'] = 'display_data';\n",
              "        await google.colab.output.renderOutput(dataTable, element);\n",
              "        const docLink = document.createElement('div');\n",
              "        docLink.innerHTML = docLinkHtml;\n",
              "        element.appendChild(docLink);\n",
              "      }\n",
              "    </script>\n",
              "  </div>\n",
              "\n",
              "    </div>\n",
              "  </div>\n"
            ]
          },
          "metadata": {},
          "execution_count": 2
        }
      ]
    },
    {
      "cell_type": "markdown",
      "source": [
        "**Checking for missing values**"
      ],
      "metadata": {
        "id": "gNslAVxluJs9"
      }
    },
    {
      "cell_type": "code",
      "source": [
        "df.isnull().sum()"
      ],
      "metadata": {
        "colab": {
          "base_uri": "https://localhost:8080/"
        },
        "id": "B9upxNy9FDA7",
        "outputId": "194efb52-a3b4-4a7d-e6c5-ce083957dbb9"
      },
      "execution_count": null,
      "outputs": [
        {
          "output_type": "execute_result",
          "data": {
            "text/plain": [
              "job_no             0\n",
              "job_description    0\n",
              "job_type           0\n",
              "category           0\n",
              "dtype: int64"
            ]
          },
          "metadata": {},
          "execution_count": 4
        }
      ]
    },
    {
      "cell_type": "markdown",
      "source": [
        "**Checking the shape of dataset**"
      ],
      "metadata": {
        "id": "ljl0WiE0uQis"
      }
    },
    {
      "cell_type": "code",
      "source": [
        "df.shape"
      ],
      "metadata": {
        "colab": {
          "base_uri": "https://localhost:8080/"
        },
        "id": "nJivuP4XHXRZ",
        "outputId": "f2983474-29f8-42e8-d20c-242e5e82eb5c"
      },
      "execution_count": null,
      "outputs": [
        {
          "output_type": "execute_result",
          "data": {
            "text/plain": [
              "(17657, 4)"
            ]
          },
          "metadata": {},
          "execution_count": 5
        }
      ]
    },
    {
      "cell_type": "markdown",
      "source": [
        "**Removing duplicates if there are any**"
      ],
      "metadata": {
        "id": "CYKcD3LDuWWr"
      }
    },
    {
      "cell_type": "code",
      "execution_count": null,
      "metadata": {
        "id": "ud3-qyQJOEn_"
      },
      "outputs": [],
      "source": [
        "df = df.drop_duplicates()"
      ]
    },
    {
      "cell_type": "code",
      "execution_count": null,
      "metadata": {
        "colab": {
          "base_uri": "https://localhost:8080/"
        },
        "id": "TQuDnN79N_By",
        "outputId": "067a9029-5494-41bb-f34f-96a5c31c70d8"
      },
      "outputs": [
        {
          "output_type": "execute_result",
          "data": {
            "text/plain": [
              "(17657, 4)"
            ]
          },
          "metadata": {},
          "execution_count": 8
        }
      ],
      "source": [
        "df.shape"
      ]
    },
    {
      "cell_type": "code",
      "execution_count": null,
      "metadata": {
        "colab": {
          "base_uri": "https://localhost:8080/",
          "height": 81
        },
        "id": "844xoIA6ORhZ",
        "outputId": "6747551a-4b03-4b82-87c9-6c2fd3c14c1a"
      },
      "outputs": [
        {
          "output_type": "execute_result",
          "data": {
            "text/plain": [
              "     job_no                                    job_description   job_type  \\\n",
              "0  Id-12765   Zest Scientific is searching for an accomplis...  Permanent   \n",
              "\n",
              "                                       category  \n",
              "0  Pharmaceutical, Healthcare and Medical Sales  "
            ],
            "text/html": [
              "\n",
              "  <div id=\"df-7a618496-a124-4a52-8de4-6bd80865d220\" class=\"colab-df-container\">\n",
              "    <div>\n",
              "<style scoped>\n",
              "    .dataframe tbody tr th:only-of-type {\n",
              "        vertical-align: middle;\n",
              "    }\n",
              "\n",
              "    .dataframe tbody tr th {\n",
              "        vertical-align: top;\n",
              "    }\n",
              "\n",
              "    .dataframe thead th {\n",
              "        text-align: right;\n",
              "    }\n",
              "</style>\n",
              "<table border=\"1\" class=\"dataframe\">\n",
              "  <thead>\n",
              "    <tr style=\"text-align: right;\">\n",
              "      <th></th>\n",
              "      <th>job_no</th>\n",
              "      <th>job_description</th>\n",
              "      <th>job_type</th>\n",
              "      <th>category</th>\n",
              "    </tr>\n",
              "  </thead>\n",
              "  <tbody>\n",
              "    <tr>\n",
              "      <th>0</th>\n",
              "      <td>Id-12765</td>\n",
              "      <td>Zest Scientific is searching for an accomplis...</td>\n",
              "      <td>Permanent</td>\n",
              "      <td>Pharmaceutical, Healthcare and Medical Sales</td>\n",
              "    </tr>\n",
              "  </tbody>\n",
              "</table>\n",
              "</div>\n",
              "    <div class=\"colab-df-buttons\">\n",
              "\n",
              "  <div class=\"colab-df-container\">\n",
              "    <button class=\"colab-df-convert\" onclick=\"convertToInteractive('df-7a618496-a124-4a52-8de4-6bd80865d220')\"\n",
              "            title=\"Convert this dataframe to an interactive table.\"\n",
              "            style=\"display:none;\">\n",
              "\n",
              "  <svg xmlns=\"http://www.w3.org/2000/svg\" height=\"24px\" viewBox=\"0 -960 960 960\">\n",
              "    <path d=\"M120-120v-720h720v720H120Zm60-500h600v-160H180v160Zm220 220h160v-160H400v160Zm0 220h160v-160H400v160ZM180-400h160v-160H180v160Zm440 0h160v-160H620v160ZM180-180h160v-160H180v160Zm440 0h160v-160H620v160Z\"/>\n",
              "  </svg>\n",
              "    </button>\n",
              "\n",
              "  <style>\n",
              "    .colab-df-container {\n",
              "      display:flex;\n",
              "      gap: 12px;\n",
              "    }\n",
              "\n",
              "    .colab-df-convert {\n",
              "      background-color: #E8F0FE;\n",
              "      border: none;\n",
              "      border-radius: 50%;\n",
              "      cursor: pointer;\n",
              "      display: none;\n",
              "      fill: #1967D2;\n",
              "      height: 32px;\n",
              "      padding: 0 0 0 0;\n",
              "      width: 32px;\n",
              "    }\n",
              "\n",
              "    .colab-df-convert:hover {\n",
              "      background-color: #E2EBFA;\n",
              "      box-shadow: 0px 1px 2px rgba(60, 64, 67, 0.3), 0px 1px 3px 1px rgba(60, 64, 67, 0.15);\n",
              "      fill: #174EA6;\n",
              "    }\n",
              "\n",
              "    .colab-df-buttons div {\n",
              "      margin-bottom: 4px;\n",
              "    }\n",
              "\n",
              "    [theme=dark] .colab-df-convert {\n",
              "      background-color: #3B4455;\n",
              "      fill: #D2E3FC;\n",
              "    }\n",
              "\n",
              "    [theme=dark] .colab-df-convert:hover {\n",
              "      background-color: #434B5C;\n",
              "      box-shadow: 0px 1px 3px 1px rgba(0, 0, 0, 0.15);\n",
              "      filter: drop-shadow(0px 1px 2px rgba(0, 0, 0, 0.3));\n",
              "      fill: #FFFFFF;\n",
              "    }\n",
              "  </style>\n",
              "\n",
              "    <script>\n",
              "      const buttonEl =\n",
              "        document.querySelector('#df-7a618496-a124-4a52-8de4-6bd80865d220 button.colab-df-convert');\n",
              "      buttonEl.style.display =\n",
              "        google.colab.kernel.accessAllowed ? 'block' : 'none';\n",
              "\n",
              "      async function convertToInteractive(key) {\n",
              "        const element = document.querySelector('#df-7a618496-a124-4a52-8de4-6bd80865d220');\n",
              "        const dataTable =\n",
              "          await google.colab.kernel.invokeFunction('convertToInteractive',\n",
              "                                                    [key], {});\n",
              "        if (!dataTable) return;\n",
              "\n",
              "        const docLinkHtml = 'Like what you see? Visit the ' +\n",
              "          '<a target=\"_blank\" href=https://colab.research.google.com/notebooks/data_table.ipynb>data table notebook</a>'\n",
              "          + ' to learn more about interactive tables.';\n",
              "        element.innerHTML = '';\n",
              "        dataTable['output_type'] = 'display_data';\n",
              "        await google.colab.output.renderOutput(dataTable, element);\n",
              "        const docLink = document.createElement('div');\n",
              "        docLink.innerHTML = docLinkHtml;\n",
              "        element.appendChild(docLink);\n",
              "      }\n",
              "    </script>\n",
              "  </div>\n",
              "\n",
              "    </div>\n",
              "  </div>\n"
            ]
          },
          "metadata": {},
          "execution_count": 10
        }
      ],
      "source": [
        "df.head(1)"
      ]
    },
    {
      "cell_type": "markdown",
      "source": [
        "**Selecting relevant columns**"
      ],
      "metadata": {
        "id": "oOxvDFWUua_n"
      }
    },
    {
      "cell_type": "code",
      "execution_count": null,
      "metadata": {
        "colab": {
          "base_uri": "https://localhost:8080/",
          "height": 81
        },
        "id": "TOB_C1eQOczY",
        "outputId": "69102474-a538-4c2c-e78f-2f688db20f15"
      },
      "outputs": [
        {
          "output_type": "execute_result",
          "data": {
            "text/plain": [
              "                                     job_description   job_type\n",
              "0   Zest Scientific is searching for an accomplis...  Permanent"
            ],
            "text/html": [
              "\n",
              "  <div id=\"df-5618c9ff-ba7f-4019-b977-a08eb15c0ce8\" class=\"colab-df-container\">\n",
              "    <div>\n",
              "<style scoped>\n",
              "    .dataframe tbody tr th:only-of-type {\n",
              "        vertical-align: middle;\n",
              "    }\n",
              "\n",
              "    .dataframe tbody tr th {\n",
              "        vertical-align: top;\n",
              "    }\n",
              "\n",
              "    .dataframe thead th {\n",
              "        text-align: right;\n",
              "    }\n",
              "</style>\n",
              "<table border=\"1\" class=\"dataframe\">\n",
              "  <thead>\n",
              "    <tr style=\"text-align: right;\">\n",
              "      <th></th>\n",
              "      <th>job_description</th>\n",
              "      <th>job_type</th>\n",
              "    </tr>\n",
              "  </thead>\n",
              "  <tbody>\n",
              "    <tr>\n",
              "      <th>0</th>\n",
              "      <td>Zest Scientific is searching for an accomplis...</td>\n",
              "      <td>Permanent</td>\n",
              "    </tr>\n",
              "  </tbody>\n",
              "</table>\n",
              "</div>\n",
              "    <div class=\"colab-df-buttons\">\n",
              "\n",
              "  <div class=\"colab-df-container\">\n",
              "    <button class=\"colab-df-convert\" onclick=\"convertToInteractive('df-5618c9ff-ba7f-4019-b977-a08eb15c0ce8')\"\n",
              "            title=\"Convert this dataframe to an interactive table.\"\n",
              "            style=\"display:none;\">\n",
              "\n",
              "  <svg xmlns=\"http://www.w3.org/2000/svg\" height=\"24px\" viewBox=\"0 -960 960 960\">\n",
              "    <path d=\"M120-120v-720h720v720H120Zm60-500h600v-160H180v160Zm220 220h160v-160H400v160Zm0 220h160v-160H400v160ZM180-400h160v-160H180v160Zm440 0h160v-160H620v160ZM180-180h160v-160H180v160Zm440 0h160v-160H620v160Z\"/>\n",
              "  </svg>\n",
              "    </button>\n",
              "\n",
              "  <style>\n",
              "    .colab-df-container {\n",
              "      display:flex;\n",
              "      gap: 12px;\n",
              "    }\n",
              "\n",
              "    .colab-df-convert {\n",
              "      background-color: #E8F0FE;\n",
              "      border: none;\n",
              "      border-radius: 50%;\n",
              "      cursor: pointer;\n",
              "      display: none;\n",
              "      fill: #1967D2;\n",
              "      height: 32px;\n",
              "      padding: 0 0 0 0;\n",
              "      width: 32px;\n",
              "    }\n",
              "\n",
              "    .colab-df-convert:hover {\n",
              "      background-color: #E2EBFA;\n",
              "      box-shadow: 0px 1px 2px rgba(60, 64, 67, 0.3), 0px 1px 3px 1px rgba(60, 64, 67, 0.15);\n",
              "      fill: #174EA6;\n",
              "    }\n",
              "\n",
              "    .colab-df-buttons div {\n",
              "      margin-bottom: 4px;\n",
              "    }\n",
              "\n",
              "    [theme=dark] .colab-df-convert {\n",
              "      background-color: #3B4455;\n",
              "      fill: #D2E3FC;\n",
              "    }\n",
              "\n",
              "    [theme=dark] .colab-df-convert:hover {\n",
              "      background-color: #434B5C;\n",
              "      box-shadow: 0px 1px 3px 1px rgba(0, 0, 0, 0.15);\n",
              "      filter: drop-shadow(0px 1px 2px rgba(0, 0, 0, 0.3));\n",
              "      fill: #FFFFFF;\n",
              "    }\n",
              "  </style>\n",
              "\n",
              "    <script>\n",
              "      const buttonEl =\n",
              "        document.querySelector('#df-5618c9ff-ba7f-4019-b977-a08eb15c0ce8 button.colab-df-convert');\n",
              "      buttonEl.style.display =\n",
              "        google.colab.kernel.accessAllowed ? 'block' : 'none';\n",
              "\n",
              "      async function convertToInteractive(key) {\n",
              "        const element = document.querySelector('#df-5618c9ff-ba7f-4019-b977-a08eb15c0ce8');\n",
              "        const dataTable =\n",
              "          await google.colab.kernel.invokeFunction('convertToInteractive',\n",
              "                                                    [key], {});\n",
              "        if (!dataTable) return;\n",
              "\n",
              "        const docLinkHtml = 'Like what you see? Visit the ' +\n",
              "          '<a target=\"_blank\" href=https://colab.research.google.com/notebooks/data_table.ipynb>data table notebook</a>'\n",
              "          + ' to learn more about interactive tables.';\n",
              "        element.innerHTML = '';\n",
              "        dataTable['output_type'] = 'display_data';\n",
              "        await google.colab.output.renderOutput(dataTable, element);\n",
              "        const docLink = document.createElement('div');\n",
              "        docLink.innerHTML = docLinkHtml;\n",
              "        element.appendChild(docLink);\n",
              "      }\n",
              "    </script>\n",
              "  </div>\n",
              "\n",
              "    </div>\n",
              "  </div>\n"
            ]
          },
          "metadata": {},
          "execution_count": 11
        }
      ],
      "source": [
        "df = df.iloc[:,1:3]\n",
        "df.head(1)"
      ]
    },
    {
      "cell_type": "markdown",
      "source": [
        "**Checking class distribution**"
      ],
      "metadata": {
        "id": "VvMzSV-lufm_"
      }
    },
    {
      "cell_type": "code",
      "execution_count": null,
      "metadata": {
        "colab": {
          "base_uri": "https://localhost:8080/"
        },
        "id": "kFzepK0pKEvp",
        "outputId": "7e9c2713-637e-4158-aec9-80d888c69914"
      },
      "outputs": [
        {
          "output_type": "execute_result",
          "data": {
            "text/plain": [
              "Permanent             15777\n",
              "Contract/Interim       1414\n",
              "Contract/Temp           305\n",
              "Temporary/Seasonal      113\n",
              "Any                      25\n",
              "Part-Time                23\n",
              "Name: job_type, dtype: int64"
            ]
          },
          "metadata": {},
          "execution_count": 12
        }
      ],
      "source": [
        "df['job_type'].value_counts()"
      ]
    },
    {
      "cell_type": "markdown",
      "source": [
        "**The dataset is highly imbalanced.**"
      ],
      "metadata": {
        "id": "N7Us90VZukLh"
      }
    },
    {
      "cell_type": "markdown",
      "source": [
        "**Assigning numerical values to different output classes**"
      ],
      "metadata": {
        "id": "mpYlh7vuunsJ"
      }
    },
    {
      "cell_type": "code",
      "source": [
        "df.replace ({\"job_type\": {'Permanent':0, 'Contract/Interim':1, \"Contract/Temp\": 2, \"Temporary/Seasonal\": 3,\n",
        "                          \"Any\": 4, \"Part-Time\": 5}}, inplace = True)"
      ],
      "metadata": {
        "id": "EfuRjwwKHs37"
      },
      "execution_count": null,
      "outputs": []
    },
    {
      "cell_type": "code",
      "source": [
        "df['job_type'].value_counts()"
      ],
      "metadata": {
        "colab": {
          "base_uri": "https://localhost:8080/"
        },
        "id": "Y7ACbgzaJBiF",
        "outputId": "c7dbf63b-58dd-421c-85fc-351bc2dc7eaa"
      },
      "execution_count": null,
      "outputs": [
        {
          "output_type": "execute_result",
          "data": {
            "text/plain": [
              "0    15777\n",
              "1     1414\n",
              "2      305\n",
              "3      113\n",
              "4       25\n",
              "5       23\n",
              "Name: job_type, dtype: int64"
            ]
          },
          "metadata": {},
          "execution_count": 15
        }
      ]
    },
    {
      "cell_type": "markdown",
      "source": [
        "**Separating dependent and indpendent features**"
      ],
      "metadata": {
        "id": "tNlgnyV9ur1_"
      }
    },
    {
      "cell_type": "code",
      "execution_count": null,
      "metadata": {
        "id": "Kr19iczaLUPx"
      },
      "outputs": [],
      "source": [
        "x = df.drop ('job_type', axis =1)\n",
        "y = df['job_type']"
      ]
    },
    {
      "cell_type": "code",
      "execution_count": null,
      "metadata": {
        "id": "lvMfwaQpVe_I"
      },
      "outputs": [],
      "source": [
        "messages = x.copy()"
      ]
    },
    {
      "cell_type": "code",
      "execution_count": null,
      "metadata": {
        "id": "5rNSj4emoBjK"
      },
      "outputs": [],
      "source": [
        "lem = WordNetLemmatizer()"
      ]
    },
    {
      "cell_type": "code",
      "execution_count": null,
      "metadata": {
        "id": "qYVAfFprWMJq"
      },
      "outputs": [],
      "source": [
        "# Data Preprocessing (Lemmatization)\n",
        "corpus = []\n",
        "for i in range(0, len(messages)):\n",
        "    review = re.sub('[^a-zA-Z]', ' ', messages['job_description'][i])\n",
        "    review = review.lower()\n",
        "    review = review.split()\n",
        "    review = [lem.lemmatize(word) for word in review if not word in stopwords.words('english')]\n",
        "    review = ' '.join(review)\n",
        "    corpus.append(review)"
      ]
    },
    {
      "cell_type": "code",
      "source": [
        "tokenized_corpus = [sentence.split() for sentence in corpus]\n",
        "\n",
        "all_words = [word for sentence in tokenized_corpus for word in sentence]\n",
        "\n",
        "# finding for the number of unique words in the dataframe\n",
        "vocabulary_size = len(set(all_words))\n",
        "\n",
        "# finding for number of number of words in the sentence with the maximum length\n",
        "max_sentence_length = max(len(sentence) for sentence in tokenized_corpus)\n",
        "\n",
        "print(\"Vocabulary Size:\", vocabulary_size)\n",
        "print(\"Maximum Sentence Length:\", max_sentence_length)"
      ],
      "metadata": {
        "id": "509adk-PFpHG",
        "colab": {
          "base_uri": "https://localhost:8080/"
        },
        "outputId": "6460de3d-a988-4b11-fc89-a56a80cbec8f"
      },
      "execution_count": null,
      "outputs": [
        {
          "output_type": "stream",
          "name": "stdout",
          "text": [
            "Vocabulary Size: 41341\n",
            "Maximum Sentence Length: 964\n"
          ]
        }
      ]
    },
    {
      "cell_type": "code",
      "execution_count": null,
      "metadata": {
        "id": "8l8AEw2ueIxT"
      },
      "outputs": [],
      "source": [
        "# One hot encoding of the data\n",
        "onehot_repr= [one_hot (words, vocabulary_size) for words in corpus]"
      ]
    },
    {
      "cell_type": "code",
      "execution_count": null,
      "metadata": {
        "colab": {
          "base_uri": "https://localhost:8080/"
        },
        "id": "93akA-LRgf3L",
        "outputId": "f1db1fdb-5a7e-4852-8cdc-bed0c35d0a64"
      },
      "outputs": [
        {
          "output_type": "stream",
          "name": "stdout",
          "text": [
            "[[22238 11041 18936 ...     0     0     0]\n",
            " [33489 40206 15485 ...     0     0     0]\n",
            " [11615 23470  2173 ...     0     0     0]\n",
            " ...\n",
            " [ 8077 23695 24738 ...     0     0     0]\n",
            " [11615 23470 15709 ...     0     0     0]\n",
            " [ 8268 31604 36782 ...     0     0     0]]\n"
          ]
        }
      ],
      "source": [
        "# Applying padding to ensure equal length of data\n",
        "embedded_docs = pad_sequences(onehot_repr, padding='post', maxlen = max_sentence_length)\n",
        "print(embedded_docs)"
      ]
    },
    {
      "cell_type": "markdown",
      "source": [
        "**Converting the data type of dependent and indpendent features to numpy array**"
      ],
      "metadata": {
        "id": "O8HqQhO_u0PY"
      }
    },
    {
      "cell_type": "code",
      "execution_count": null,
      "metadata": {
        "id": "ZQwH8VnUlOkk"
      },
      "outputs": [],
      "source": [
        "x_final = np.array(embedded_docs)\n",
        "y_final = np.array(y)"
      ]
    },
    {
      "cell_type": "code",
      "execution_count": null,
      "metadata": {
        "colab": {
          "base_uri": "https://localhost:8080/"
        },
        "id": "8aBtMzxElRbH",
        "outputId": "af1e6815-6604-458c-9b08-79a1593a0727"
      },
      "outputs": [
        {
          "output_type": "execute_result",
          "data": {
            "text/plain": [
              "((17657, 964), (17657,))"
            ]
          },
          "metadata": {},
          "execution_count": 24
        }
      ],
      "source": [
        "x_final.shape, y_final.shape"
      ]
    },
    {
      "cell_type": "markdown",
      "source": [
        "**Converting the dependent and indpendent features back to pandas dataframe**"
      ],
      "metadata": {
        "id": "gJ-wTF_EvDrx"
      }
    },
    {
      "cell_type": "code",
      "source": [
        "x_final_df = pd.DataFrame (x_final)\n",
        "y_final_df = pd.DataFrame (y_final, columns = ['y'])"
      ],
      "metadata": {
        "id": "J3lAdpkMHltJ"
      },
      "execution_count": null,
      "outputs": []
    },
    {
      "cell_type": "code",
      "source": [
        "x_final_df.shape"
      ],
      "metadata": {
        "colab": {
          "base_uri": "https://localhost:8080/"
        },
        "id": "YhZXSQ8VH_4h",
        "outputId": "fb701c11-4cd6-4fdc-af65-9e0b0c3f197b"
      },
      "execution_count": null,
      "outputs": [
        {
          "output_type": "execute_result",
          "data": {
            "text/plain": [
              "(17657, 964)"
            ]
          },
          "metadata": {},
          "execution_count": 26
        }
      ]
    },
    {
      "cell_type": "code",
      "source": [
        "x_final_df.head(1)"
      ],
      "metadata": {
        "colab": {
          "base_uri": "https://localhost:8080/",
          "height": 130
        },
        "id": "cu1nGrjuIS3k",
        "outputId": "c17175d0-3187-4b3b-8d65-15ec7705b28e"
      },
      "execution_count": null,
      "outputs": [
        {
          "output_type": "execute_result",
          "data": {
            "text/plain": [
              "     0      1      2      3      4      5      6     7      8     9    ...  \\\n",
              "0  22238  11041  18936  19365  11041  10725  34667  5129  18845  9285  ...   \n",
              "\n",
              "   954  955  956  957  958  959  960  961  962  963  \n",
              "0    0    0    0    0    0    0    0    0    0    0  \n",
              "\n",
              "[1 rows x 964 columns]"
            ],
            "text/html": [
              "\n",
              "  <div id=\"df-2ff00ad0-f147-4f0f-a171-73e7a56d11c7\" class=\"colab-df-container\">\n",
              "    <div>\n",
              "<style scoped>\n",
              "    .dataframe tbody tr th:only-of-type {\n",
              "        vertical-align: middle;\n",
              "    }\n",
              "\n",
              "    .dataframe tbody tr th {\n",
              "        vertical-align: top;\n",
              "    }\n",
              "\n",
              "    .dataframe thead th {\n",
              "        text-align: right;\n",
              "    }\n",
              "</style>\n",
              "<table border=\"1\" class=\"dataframe\">\n",
              "  <thead>\n",
              "    <tr style=\"text-align: right;\">\n",
              "      <th></th>\n",
              "      <th>0</th>\n",
              "      <th>1</th>\n",
              "      <th>2</th>\n",
              "      <th>3</th>\n",
              "      <th>4</th>\n",
              "      <th>5</th>\n",
              "      <th>6</th>\n",
              "      <th>7</th>\n",
              "      <th>8</th>\n",
              "      <th>9</th>\n",
              "      <th>...</th>\n",
              "      <th>954</th>\n",
              "      <th>955</th>\n",
              "      <th>956</th>\n",
              "      <th>957</th>\n",
              "      <th>958</th>\n",
              "      <th>959</th>\n",
              "      <th>960</th>\n",
              "      <th>961</th>\n",
              "      <th>962</th>\n",
              "      <th>963</th>\n",
              "    </tr>\n",
              "  </thead>\n",
              "  <tbody>\n",
              "    <tr>\n",
              "      <th>0</th>\n",
              "      <td>22238</td>\n",
              "      <td>11041</td>\n",
              "      <td>18936</td>\n",
              "      <td>19365</td>\n",
              "      <td>11041</td>\n",
              "      <td>10725</td>\n",
              "      <td>34667</td>\n",
              "      <td>5129</td>\n",
              "      <td>18845</td>\n",
              "      <td>9285</td>\n",
              "      <td>...</td>\n",
              "      <td>0</td>\n",
              "      <td>0</td>\n",
              "      <td>0</td>\n",
              "      <td>0</td>\n",
              "      <td>0</td>\n",
              "      <td>0</td>\n",
              "      <td>0</td>\n",
              "      <td>0</td>\n",
              "      <td>0</td>\n",
              "      <td>0</td>\n",
              "    </tr>\n",
              "  </tbody>\n",
              "</table>\n",
              "<p>1 rows × 964 columns</p>\n",
              "</div>\n",
              "    <div class=\"colab-df-buttons\">\n",
              "\n",
              "  <div class=\"colab-df-container\">\n",
              "    <button class=\"colab-df-convert\" onclick=\"convertToInteractive('df-2ff00ad0-f147-4f0f-a171-73e7a56d11c7')\"\n",
              "            title=\"Convert this dataframe to an interactive table.\"\n",
              "            style=\"display:none;\">\n",
              "\n",
              "  <svg xmlns=\"http://www.w3.org/2000/svg\" height=\"24px\" viewBox=\"0 -960 960 960\">\n",
              "    <path d=\"M120-120v-720h720v720H120Zm60-500h600v-160H180v160Zm220 220h160v-160H400v160Zm0 220h160v-160H400v160ZM180-400h160v-160H180v160Zm440 0h160v-160H620v160ZM180-180h160v-160H180v160Zm440 0h160v-160H620v160Z\"/>\n",
              "  </svg>\n",
              "    </button>\n",
              "\n",
              "  <style>\n",
              "    .colab-df-container {\n",
              "      display:flex;\n",
              "      gap: 12px;\n",
              "    }\n",
              "\n",
              "    .colab-df-convert {\n",
              "      background-color: #E8F0FE;\n",
              "      border: none;\n",
              "      border-radius: 50%;\n",
              "      cursor: pointer;\n",
              "      display: none;\n",
              "      fill: #1967D2;\n",
              "      height: 32px;\n",
              "      padding: 0 0 0 0;\n",
              "      width: 32px;\n",
              "    }\n",
              "\n",
              "    .colab-df-convert:hover {\n",
              "      background-color: #E2EBFA;\n",
              "      box-shadow: 0px 1px 2px rgba(60, 64, 67, 0.3), 0px 1px 3px 1px rgba(60, 64, 67, 0.15);\n",
              "      fill: #174EA6;\n",
              "    }\n",
              "\n",
              "    .colab-df-buttons div {\n",
              "      margin-bottom: 4px;\n",
              "    }\n",
              "\n",
              "    [theme=dark] .colab-df-convert {\n",
              "      background-color: #3B4455;\n",
              "      fill: #D2E3FC;\n",
              "    }\n",
              "\n",
              "    [theme=dark] .colab-df-convert:hover {\n",
              "      background-color: #434B5C;\n",
              "      box-shadow: 0px 1px 3px 1px rgba(0, 0, 0, 0.15);\n",
              "      filter: drop-shadow(0px 1px 2px rgba(0, 0, 0, 0.3));\n",
              "      fill: #FFFFFF;\n",
              "    }\n",
              "  </style>\n",
              "\n",
              "    <script>\n",
              "      const buttonEl =\n",
              "        document.querySelector('#df-2ff00ad0-f147-4f0f-a171-73e7a56d11c7 button.colab-df-convert');\n",
              "      buttonEl.style.display =\n",
              "        google.colab.kernel.accessAllowed ? 'block' : 'none';\n",
              "\n",
              "      async function convertToInteractive(key) {\n",
              "        const element = document.querySelector('#df-2ff00ad0-f147-4f0f-a171-73e7a56d11c7');\n",
              "        const dataTable =\n",
              "          await google.colab.kernel.invokeFunction('convertToInteractive',\n",
              "                                                    [key], {});\n",
              "        if (!dataTable) return;\n",
              "\n",
              "        const docLinkHtml = 'Like what you see? Visit the ' +\n",
              "          '<a target=\"_blank\" href=https://colab.research.google.com/notebooks/data_table.ipynb>data table notebook</a>'\n",
              "          + ' to learn more about interactive tables.';\n",
              "        element.innerHTML = '';\n",
              "        dataTable['output_type'] = 'display_data';\n",
              "        await google.colab.output.renderOutput(dataTable, element);\n",
              "        const docLink = document.createElement('div');\n",
              "        docLink.innerHTML = docLinkHtml;\n",
              "        element.appendChild(docLink);\n",
              "      }\n",
              "    </script>\n",
              "  </div>\n",
              "\n",
              "    </div>\n",
              "  </div>\n"
            ]
          },
          "metadata": {},
          "execution_count": 27
        }
      ]
    },
    {
      "cell_type": "markdown",
      "source": [
        "**Concatenating the dependent and indpendent features**"
      ],
      "metadata": {
        "id": "TgbRii8ivO3U"
      }
    },
    {
      "cell_type": "code",
      "source": [
        "df_final = pd.concat ([x_final_df, y_final_df], axis = 1)\n",
        "df_final.head(3)"
      ],
      "metadata": {
        "colab": {
          "base_uri": "https://localhost:8080/",
          "height": 193
        },
        "id": "x40Hq7zpHzfp",
        "outputId": "e6a2fe7a-20f9-4496-c839-b6478229093f"
      },
      "execution_count": null,
      "outputs": [
        {
          "output_type": "execute_result",
          "data": {
            "text/plain": [
              "       0      1      2      3      4      5      6      7      8      9  ...  \\\n",
              "0  22238  11041  18936  19365  11041  10725  34667   5129  18845   9285  ...   \n",
              "1  33489  40206  15485  15709  19789  36782  38417  21353  17874  20769  ...   \n",
              "2  11615  23470   2173  29507  15398  30241  33592  33451  24222   4148  ...   \n",
              "\n",
              "   955  956  957  958  959  960  961  962  963  y  \n",
              "0    0    0    0    0    0    0    0    0    0  0  \n",
              "1    0    0    0    0    0    0    0    0    0  0  \n",
              "2    0    0    0    0    0    0    0    0    0  1  \n",
              "\n",
              "[3 rows x 965 columns]"
            ],
            "text/html": [
              "\n",
              "  <div id=\"df-f8c7b806-0521-4bca-a26c-ad7aa2d3bda4\" class=\"colab-df-container\">\n",
              "    <div>\n",
              "<style scoped>\n",
              "    .dataframe tbody tr th:only-of-type {\n",
              "        vertical-align: middle;\n",
              "    }\n",
              "\n",
              "    .dataframe tbody tr th {\n",
              "        vertical-align: top;\n",
              "    }\n",
              "\n",
              "    .dataframe thead th {\n",
              "        text-align: right;\n",
              "    }\n",
              "</style>\n",
              "<table border=\"1\" class=\"dataframe\">\n",
              "  <thead>\n",
              "    <tr style=\"text-align: right;\">\n",
              "      <th></th>\n",
              "      <th>0</th>\n",
              "      <th>1</th>\n",
              "      <th>2</th>\n",
              "      <th>3</th>\n",
              "      <th>4</th>\n",
              "      <th>5</th>\n",
              "      <th>6</th>\n",
              "      <th>7</th>\n",
              "      <th>8</th>\n",
              "      <th>9</th>\n",
              "      <th>...</th>\n",
              "      <th>955</th>\n",
              "      <th>956</th>\n",
              "      <th>957</th>\n",
              "      <th>958</th>\n",
              "      <th>959</th>\n",
              "      <th>960</th>\n",
              "      <th>961</th>\n",
              "      <th>962</th>\n",
              "      <th>963</th>\n",
              "      <th>y</th>\n",
              "    </tr>\n",
              "  </thead>\n",
              "  <tbody>\n",
              "    <tr>\n",
              "      <th>0</th>\n",
              "      <td>22238</td>\n",
              "      <td>11041</td>\n",
              "      <td>18936</td>\n",
              "      <td>19365</td>\n",
              "      <td>11041</td>\n",
              "      <td>10725</td>\n",
              "      <td>34667</td>\n",
              "      <td>5129</td>\n",
              "      <td>18845</td>\n",
              "      <td>9285</td>\n",
              "      <td>...</td>\n",
              "      <td>0</td>\n",
              "      <td>0</td>\n",
              "      <td>0</td>\n",
              "      <td>0</td>\n",
              "      <td>0</td>\n",
              "      <td>0</td>\n",
              "      <td>0</td>\n",
              "      <td>0</td>\n",
              "      <td>0</td>\n",
              "      <td>0</td>\n",
              "    </tr>\n",
              "    <tr>\n",
              "      <th>1</th>\n",
              "      <td>33489</td>\n",
              "      <td>40206</td>\n",
              "      <td>15485</td>\n",
              "      <td>15709</td>\n",
              "      <td>19789</td>\n",
              "      <td>36782</td>\n",
              "      <td>38417</td>\n",
              "      <td>21353</td>\n",
              "      <td>17874</td>\n",
              "      <td>20769</td>\n",
              "      <td>...</td>\n",
              "      <td>0</td>\n",
              "      <td>0</td>\n",
              "      <td>0</td>\n",
              "      <td>0</td>\n",
              "      <td>0</td>\n",
              "      <td>0</td>\n",
              "      <td>0</td>\n",
              "      <td>0</td>\n",
              "      <td>0</td>\n",
              "      <td>0</td>\n",
              "    </tr>\n",
              "    <tr>\n",
              "      <th>2</th>\n",
              "      <td>11615</td>\n",
              "      <td>23470</td>\n",
              "      <td>2173</td>\n",
              "      <td>29507</td>\n",
              "      <td>15398</td>\n",
              "      <td>30241</td>\n",
              "      <td>33592</td>\n",
              "      <td>33451</td>\n",
              "      <td>24222</td>\n",
              "      <td>4148</td>\n",
              "      <td>...</td>\n",
              "      <td>0</td>\n",
              "      <td>0</td>\n",
              "      <td>0</td>\n",
              "      <td>0</td>\n",
              "      <td>0</td>\n",
              "      <td>0</td>\n",
              "      <td>0</td>\n",
              "      <td>0</td>\n",
              "      <td>0</td>\n",
              "      <td>1</td>\n",
              "    </tr>\n",
              "  </tbody>\n",
              "</table>\n",
              "<p>3 rows × 965 columns</p>\n",
              "</div>\n",
              "    <div class=\"colab-df-buttons\">\n",
              "\n",
              "  <div class=\"colab-df-container\">\n",
              "    <button class=\"colab-df-convert\" onclick=\"convertToInteractive('df-f8c7b806-0521-4bca-a26c-ad7aa2d3bda4')\"\n",
              "            title=\"Convert this dataframe to an interactive table.\"\n",
              "            style=\"display:none;\">\n",
              "\n",
              "  <svg xmlns=\"http://www.w3.org/2000/svg\" height=\"24px\" viewBox=\"0 -960 960 960\">\n",
              "    <path d=\"M120-120v-720h720v720H120Zm60-500h600v-160H180v160Zm220 220h160v-160H400v160Zm0 220h160v-160H400v160ZM180-400h160v-160H180v160Zm440 0h160v-160H620v160ZM180-180h160v-160H180v160Zm440 0h160v-160H620v160Z\"/>\n",
              "  </svg>\n",
              "    </button>\n",
              "\n",
              "  <style>\n",
              "    .colab-df-container {\n",
              "      display:flex;\n",
              "      gap: 12px;\n",
              "    }\n",
              "\n",
              "    .colab-df-convert {\n",
              "      background-color: #E8F0FE;\n",
              "      border: none;\n",
              "      border-radius: 50%;\n",
              "      cursor: pointer;\n",
              "      display: none;\n",
              "      fill: #1967D2;\n",
              "      height: 32px;\n",
              "      padding: 0 0 0 0;\n",
              "      width: 32px;\n",
              "    }\n",
              "\n",
              "    .colab-df-convert:hover {\n",
              "      background-color: #E2EBFA;\n",
              "      box-shadow: 0px 1px 2px rgba(60, 64, 67, 0.3), 0px 1px 3px 1px rgba(60, 64, 67, 0.15);\n",
              "      fill: #174EA6;\n",
              "    }\n",
              "\n",
              "    .colab-df-buttons div {\n",
              "      margin-bottom: 4px;\n",
              "    }\n",
              "\n",
              "    [theme=dark] .colab-df-convert {\n",
              "      background-color: #3B4455;\n",
              "      fill: #D2E3FC;\n",
              "    }\n",
              "\n",
              "    [theme=dark] .colab-df-convert:hover {\n",
              "      background-color: #434B5C;\n",
              "      box-shadow: 0px 1px 3px 1px rgba(0, 0, 0, 0.15);\n",
              "      filter: drop-shadow(0px 1px 2px rgba(0, 0, 0, 0.3));\n",
              "      fill: #FFFFFF;\n",
              "    }\n",
              "  </style>\n",
              "\n",
              "    <script>\n",
              "      const buttonEl =\n",
              "        document.querySelector('#df-f8c7b806-0521-4bca-a26c-ad7aa2d3bda4 button.colab-df-convert');\n",
              "      buttonEl.style.display =\n",
              "        google.colab.kernel.accessAllowed ? 'block' : 'none';\n",
              "\n",
              "      async function convertToInteractive(key) {\n",
              "        const element = document.querySelector('#df-f8c7b806-0521-4bca-a26c-ad7aa2d3bda4');\n",
              "        const dataTable =\n",
              "          await google.colab.kernel.invokeFunction('convertToInteractive',\n",
              "                                                    [key], {});\n",
              "        if (!dataTable) return;\n",
              "\n",
              "        const docLinkHtml = 'Like what you see? Visit the ' +\n",
              "          '<a target=\"_blank\" href=https://colab.research.google.com/notebooks/data_table.ipynb>data table notebook</a>'\n",
              "          + ' to learn more about interactive tables.';\n",
              "        element.innerHTML = '';\n",
              "        dataTable['output_type'] = 'display_data';\n",
              "        await google.colab.output.renderOutput(dataTable, element);\n",
              "        const docLink = document.createElement('div');\n",
              "        docLink.innerHTML = docLinkHtml;\n",
              "        element.appendChild(docLink);\n",
              "      }\n",
              "    </script>\n",
              "  </div>\n",
              "\n",
              "\n",
              "<div id=\"df-e0d4fbc5-965c-49ad-852d-4ff666ab3a90\">\n",
              "  <button class=\"colab-df-quickchart\" onclick=\"quickchart('df-e0d4fbc5-965c-49ad-852d-4ff666ab3a90')\"\n",
              "            title=\"Suggest charts.\"\n",
              "            style=\"display:none;\">\n",
              "\n",
              "<svg xmlns=\"http://www.w3.org/2000/svg\" height=\"24px\"viewBox=\"0 0 24 24\"\n",
              "     width=\"24px\">\n",
              "    <g>\n",
              "        <path d=\"M19 3H5c-1.1 0-2 .9-2 2v14c0 1.1.9 2 2 2h14c1.1 0 2-.9 2-2V5c0-1.1-.9-2-2-2zM9 17H7v-7h2v7zm4 0h-2V7h2v10zm4 0h-2v-4h2v4z\"/>\n",
              "    </g>\n",
              "</svg>\n",
              "  </button>\n",
              "\n",
              "<style>\n",
              "  .colab-df-quickchart {\n",
              "      --bg-color: #E8F0FE;\n",
              "      --fill-color: #1967D2;\n",
              "      --hover-bg-color: #E2EBFA;\n",
              "      --hover-fill-color: #174EA6;\n",
              "      --disabled-fill-color: #AAA;\n",
              "      --disabled-bg-color: #DDD;\n",
              "  }\n",
              "\n",
              "  [theme=dark] .colab-df-quickchart {\n",
              "      --bg-color: #3B4455;\n",
              "      --fill-color: #D2E3FC;\n",
              "      --hover-bg-color: #434B5C;\n",
              "      --hover-fill-color: #FFFFFF;\n",
              "      --disabled-bg-color: #3B4455;\n",
              "      --disabled-fill-color: #666;\n",
              "  }\n",
              "\n",
              "  .colab-df-quickchart {\n",
              "    background-color: var(--bg-color);\n",
              "    border: none;\n",
              "    border-radius: 50%;\n",
              "    cursor: pointer;\n",
              "    display: none;\n",
              "    fill: var(--fill-color);\n",
              "    height: 32px;\n",
              "    padding: 0;\n",
              "    width: 32px;\n",
              "  }\n",
              "\n",
              "  .colab-df-quickchart:hover {\n",
              "    background-color: var(--hover-bg-color);\n",
              "    box-shadow: 0 1px 2px rgba(60, 64, 67, 0.3), 0 1px 3px 1px rgba(60, 64, 67, 0.15);\n",
              "    fill: var(--button-hover-fill-color);\n",
              "  }\n",
              "\n",
              "  .colab-df-quickchart-complete:disabled,\n",
              "  .colab-df-quickchart-complete:disabled:hover {\n",
              "    background-color: var(--disabled-bg-color);\n",
              "    fill: var(--disabled-fill-color);\n",
              "    box-shadow: none;\n",
              "  }\n",
              "\n",
              "  .colab-df-spinner {\n",
              "    border: 2px solid var(--fill-color);\n",
              "    border-color: transparent;\n",
              "    border-bottom-color: var(--fill-color);\n",
              "    animation:\n",
              "      spin 1s steps(1) infinite;\n",
              "  }\n",
              "\n",
              "  @keyframes spin {\n",
              "    0% {\n",
              "      border-color: transparent;\n",
              "      border-bottom-color: var(--fill-color);\n",
              "      border-left-color: var(--fill-color);\n",
              "    }\n",
              "    20% {\n",
              "      border-color: transparent;\n",
              "      border-left-color: var(--fill-color);\n",
              "      border-top-color: var(--fill-color);\n",
              "    }\n",
              "    30% {\n",
              "      border-color: transparent;\n",
              "      border-left-color: var(--fill-color);\n",
              "      border-top-color: var(--fill-color);\n",
              "      border-right-color: var(--fill-color);\n",
              "    }\n",
              "    40% {\n",
              "      border-color: transparent;\n",
              "      border-right-color: var(--fill-color);\n",
              "      border-top-color: var(--fill-color);\n",
              "    }\n",
              "    60% {\n",
              "      border-color: transparent;\n",
              "      border-right-color: var(--fill-color);\n",
              "    }\n",
              "    80% {\n",
              "      border-color: transparent;\n",
              "      border-right-color: var(--fill-color);\n",
              "      border-bottom-color: var(--fill-color);\n",
              "    }\n",
              "    90% {\n",
              "      border-color: transparent;\n",
              "      border-bottom-color: var(--fill-color);\n",
              "    }\n",
              "  }\n",
              "</style>\n",
              "\n",
              "  <script>\n",
              "    async function quickchart(key) {\n",
              "      const quickchartButtonEl =\n",
              "        document.querySelector('#' + key + ' button');\n",
              "      quickchartButtonEl.disabled = true;  // To prevent multiple clicks.\n",
              "      quickchartButtonEl.classList.add('colab-df-spinner');\n",
              "      try {\n",
              "        const charts = await google.colab.kernel.invokeFunction(\n",
              "            'suggestCharts', [key], {});\n",
              "      } catch (error) {\n",
              "        console.error('Error during call to suggestCharts:', error);\n",
              "      }\n",
              "      quickchartButtonEl.classList.remove('colab-df-spinner');\n",
              "      quickchartButtonEl.classList.add('colab-df-quickchart-complete');\n",
              "    }\n",
              "    (() => {\n",
              "      let quickchartButtonEl =\n",
              "        document.querySelector('#df-e0d4fbc5-965c-49ad-852d-4ff666ab3a90 button');\n",
              "      quickchartButtonEl.style.display =\n",
              "        google.colab.kernel.accessAllowed ? 'block' : 'none';\n",
              "    })();\n",
              "  </script>\n",
              "</div>\n",
              "    </div>\n",
              "  </div>\n"
            ]
          },
          "metadata": {},
          "execution_count": 28
        }
      ]
    },
    {
      "cell_type": "code",
      "execution_count": null,
      "metadata": {
        "id": "R1k7OGPDlYmu"
      },
      "outputs": [],
      "source": [
        "# Splitting the dataset in to training, validation and test sets\n",
        "\n",
        "y_for_df_stratification = df_final['y']\n",
        "train_old, test = train_test_split (df_final, test_size=0.2, random_state=10, stratify = y_for_df_stratification, shuffle = True)\n",
        "\n",
        "y_to_stratify_train = train_old['y']\n",
        "train, val = train_test_split (train_old, test_size=0.2, random_state=10, stratify = y_to_stratify_train, shuffle = True)"
      ]
    },
    {
      "cell_type": "code",
      "source": [
        "df['job_type'].value_counts()"
      ],
      "metadata": {
        "colab": {
          "base_uri": "https://localhost:8080/"
        },
        "id": "0wP93o88Ndty",
        "outputId": "d775343b-85f5-406a-a452-7bc67f9755a4"
      },
      "execution_count": null,
      "outputs": [
        {
          "output_type": "execute_result",
          "data": {
            "text/plain": [
              "0    15777\n",
              "1     1414\n",
              "2      305\n",
              "3      113\n",
              "4       25\n",
              "5       23\n",
              "Name: job_type, dtype: int64"
            ]
          },
          "metadata": {},
          "execution_count": 30
        }
      ]
    },
    {
      "cell_type": "code",
      "source": [
        "class_0 = 15777\n",
        "class_1 = 1414\n",
        "class_2 = 305\n",
        "class_3 = 113\n",
        "class_4 = 25\n",
        "class_5 = 23\n",
        "\n",
        "print (class_0, class_1, class_2, class_3, class_4, class_5)"
      ],
      "metadata": {
        "colab": {
          "base_uri": "https://localhost:8080/"
        },
        "id": "os-E0FVNJw40",
        "outputId": "4f27cc6b-40d9-45e4-a9ad-66c1464707a5"
      },
      "execution_count": null,
      "outputs": [
        {
          "output_type": "stream",
          "name": "stdout",
          "text": [
            "15777 1414 305 113 25 23\n"
          ]
        }
      ]
    },
    {
      "cell_type": "code",
      "source": [
        "x_train = train.drop('y', axis =1)\n",
        "y_train = train['y']\n",
        "\n",
        "x_val = val.drop('y', axis =1)\n",
        "y_val = val['y']\n",
        "\n",
        "x_test = test.drop('y', axis =1)\n",
        "y_test = test['y']"
      ],
      "metadata": {
        "id": "RBHRhpKRK4um"
      },
      "execution_count": null,
      "outputs": []
    },
    {
      "cell_type": "markdown",
      "source": [
        "**Converting the data types of dependent and indpendent features back to numpy array**"
      ],
      "metadata": {
        "id": "WyaNV03DvdiV"
      }
    },
    {
      "cell_type": "code",
      "source": [
        "x_train = np.array (x_train)\n",
        "x_val = np.array (x_val)\n",
        "x_test = np.array (x_test)\n",
        "y_train = np.array (y_train)\n",
        "y_val = np.array (y_val)\n",
        "y_test = np.array (y_test)"
      ],
      "metadata": {
        "id": "7QsOmlrrP2sJ"
      },
      "execution_count": null,
      "outputs": []
    },
    {
      "cell_type": "markdown",
      "source": [
        "**Introducing early stopping to avoid overfitting**"
      ],
      "metadata": {
        "id": "ZQFrmjS7vjIv"
      }
    },
    {
      "cell_type": "code",
      "execution_count": null,
      "metadata": {
        "id": "mHHGGuXlnPnf"
      },
      "outputs": [],
      "source": [
        "early_stopping = tensorflow.keras.callbacks.EarlyStopping(\n",
        "    monitor=\"val_loss\",\n",
        "    min_delta=0.0001,\n",
        "    patience=20,\n",
        "    verbose=1,\n",
        "    mode=\"auto\",\n",
        "    baseline=None,\n",
        "    restore_best_weights=False,\n",
        "    start_from_epoch=0,\n",
        ")"
      ]
    },
    {
      "cell_type": "code",
      "source": [
        "print (class_0, class_1, class_2, class_3, class_4, class_5)"
      ],
      "metadata": {
        "colab": {
          "base_uri": "https://localhost:8080/"
        },
        "id": "V7454L8AEvs2",
        "outputId": "5e90bcb7-cc9e-4a09-a610-73bbe2d09123"
      },
      "execution_count": null,
      "outputs": [
        {
          "output_type": "stream",
          "name": "stdout",
          "text": [
            "15777 1414 305 113 25 23\n"
          ]
        }
      ]
    },
    {
      "cell_type": "code",
      "source": [
        "15777/23"
      ],
      "metadata": {
        "colab": {
          "base_uri": "https://localhost:8080/"
        },
        "id": "lEHU7MGSLjhV",
        "outputId": "b2b8cbd5-8513-4b97-9f88-b62ba0bf2256"
      },
      "execution_count": null,
      "outputs": [
        {
          "output_type": "execute_result",
          "data": {
            "text/plain": [
              "685.9565217391304"
            ]
          },
          "metadata": {},
          "execution_count": 36
        }
      ]
    },
    {
      "cell_type": "code",
      "source": [
        "# finding and assigning weights to different classes in order to account for the imbalanced classes\n",
        "\n",
        "weights_assigned = {0 : 1, 1 : 11.157708628005658, 2 : 51.72786885245902,\n",
        "                    3 : 139.61946902654867, 4 : 631.08, 5 : 685.9565217391304}"
      ],
      "metadata": {
        "id": "tNKRcY9JEQnc"
      },
      "execution_count": null,
      "outputs": []
    },
    {
      "cell_type": "code",
      "source": [
        "## Creating model\n",
        "embedding_vector_features = 40\n",
        "model=Sequential()\n",
        "model.add(Embedding(vocabulary_size, embedding_vector_features, input_length = max_sentence_length))\n",
        "model.add(Dropout(0.3))\n",
        "model.add(Bidirectional(LSTM(200)))\n",
        "model.add(Dropout(0.3))\n",
        "model.add(Dense(units = 6, activation='softmax'))\n",
        "model.compile(loss = 'sparse_categorical_crossentropy', optimizer='adam', metrics = ['accuracy'])\n",
        "print(model.summary())"
      ],
      "metadata": {
        "colab": {
          "base_uri": "https://localhost:8080/"
        },
        "id": "WDfj-MajNLBe",
        "outputId": "f479d54d-5db6-4781-9848-d1cf2491f7df"
      },
      "execution_count": null,
      "outputs": [
        {
          "output_type": "stream",
          "name": "stdout",
          "text": [
            "Model: \"sequential\"\n",
            "_________________________________________________________________\n",
            " Layer (type)                Output Shape              Param #   \n",
            "=================================================================\n",
            " embedding (Embedding)       (None, 964, 40)           1653640   \n",
            "                                                                 \n",
            " dropout (Dropout)           (None, 964, 40)           0         \n",
            "                                                                 \n",
            " bidirectional (Bidirection  (None, 400)               385600    \n",
            " al)                                                             \n",
            "                                                                 \n",
            " dropout_1 (Dropout)         (None, 400)               0         \n",
            "                                                                 \n",
            " dense (Dense)               (None, 6)                 2406      \n",
            "                                                                 \n",
            "=================================================================\n",
            "Total params: 2041646 (7.79 MB)\n",
            "Trainable params: 2041646 (7.79 MB)\n",
            "Non-trainable params: 0 (0.00 Byte)\n",
            "_________________________________________________________________\n",
            "None\n"
          ]
        }
      ]
    },
    {
      "cell_type": "code",
      "execution_count": null,
      "metadata": {
        "colab": {
          "base_uri": "https://localhost:8080/"
        },
        "id": "43cd-HYyldRM",
        "outputId": "1a548911-dc06-4b2a-8cfa-04800829527c"
      },
      "outputs": [
        {
          "output_type": "stream",
          "name": "stdout",
          "text": [
            "Epoch 1/1000\n",
            "113/113 [==============================] - 50s 370ms/step - loss: 10.7477 - accuracy: 0.3854 - val_loss: 1.4135 - val_accuracy: 0.8598\n",
            "Epoch 2/1000\n",
            "113/113 [==============================] - 40s 352ms/step - loss: 8.9045 - accuracy: 0.4497 - val_loss: 0.8032 - val_accuracy: 0.9087\n",
            "Epoch 3/1000\n",
            "113/113 [==============================] - 37s 329ms/step - loss: 5.3886 - accuracy: 0.7346 - val_loss: 0.7442 - val_accuracy: 0.7437\n",
            "Epoch 4/1000\n",
            "113/113 [==============================] - 36s 322ms/step - loss: 3.1548 - accuracy: 0.8498 - val_loss: 0.7732 - val_accuracy: 0.7359\n",
            "Epoch 5/1000\n",
            "113/113 [==============================] - 31s 277ms/step - loss: 1.9258 - accuracy: 0.8799 - val_loss: 0.2802 - val_accuracy: 0.9381\n",
            "Epoch 6/1000\n",
            "113/113 [==============================] - 31s 275ms/step - loss: 1.1933 - accuracy: 0.9160 - val_loss: 0.2701 - val_accuracy: 0.9076\n",
            "Epoch 7/1000\n",
            "113/113 [==============================] - 35s 312ms/step - loss: 0.9795 - accuracy: 0.9458 - val_loss: 0.2208 - val_accuracy: 0.9409\n",
            "Epoch 8/1000\n",
            "113/113 [==============================] - 31s 277ms/step - loss: 0.8013 - accuracy: 0.8804 - val_loss: 0.2287 - val_accuracy: 0.9288\n",
            "Epoch 9/1000\n",
            "113/113 [==============================] - 29s 253ms/step - loss: 0.3171 - accuracy: 0.9594 - val_loss: 0.1616 - val_accuracy: 0.9519\n",
            "Epoch 10/1000\n",
            "113/113 [==============================] - 29s 258ms/step - loss: 0.1984 - accuracy: 0.9732 - val_loss: 0.1217 - val_accuracy: 0.9692\n",
            "Epoch 11/1000\n",
            "113/113 [==============================] - 27s 240ms/step - loss: 0.2233 - accuracy: 0.9655 - val_loss: 0.2082 - val_accuracy: 0.9476\n",
            "Epoch 12/1000\n",
            "113/113 [==============================] - 28s 250ms/step - loss: 0.1616 - accuracy: 0.9765 - val_loss: 0.1852 - val_accuracy: 0.9515\n",
            "Epoch 13/1000\n",
            "113/113 [==============================] - 27s 237ms/step - loss: 0.1392 - accuracy: 0.9813 - val_loss: 0.1622 - val_accuracy: 0.9646\n",
            "Epoch 14/1000\n",
            "113/113 [==============================] - 28s 247ms/step - loss: 0.1619 - accuracy: 0.9750 - val_loss: 0.1322 - val_accuracy: 0.9674\n",
            "Epoch 15/1000\n",
            "113/113 [==============================] - 25s 226ms/step - loss: 0.1012 - accuracy: 0.9868 - val_loss: 0.1224 - val_accuracy: 0.9671\n",
            "Epoch 16/1000\n",
            "113/113 [==============================] - 27s 239ms/step - loss: 0.1132 - accuracy: 0.9862 - val_loss: 0.1730 - val_accuracy: 0.9621\n",
            "Epoch 17/1000\n",
            "113/113 [==============================] - 23s 207ms/step - loss: 0.1033 - accuracy: 0.9873 - val_loss: 0.1346 - val_accuracy: 0.9692\n",
            "Epoch 18/1000\n",
            "113/113 [==============================] - 25s 221ms/step - loss: 0.1560 - accuracy: 0.9755 - val_loss: 0.1477 - val_accuracy: 0.9674\n",
            "Epoch 19/1000\n",
            "113/113 [==============================] - 25s 218ms/step - loss: 0.0950 - accuracy: 0.9885 - val_loss: 0.1342 - val_accuracy: 0.9671\n",
            "Epoch 20/1000\n",
            "113/113 [==============================] - 24s 214ms/step - loss: 0.0771 - accuracy: 0.9897 - val_loss: 0.1447 - val_accuracy: 0.9685\n",
            "Epoch 21/1000\n",
            "113/113 [==============================] - 24s 213ms/step - loss: 0.0752 - accuracy: 0.9902 - val_loss: 0.1318 - val_accuracy: 0.9681\n",
            "Epoch 22/1000\n",
            "113/113 [==============================] - 24s 215ms/step - loss: 0.0773 - accuracy: 0.9914 - val_loss: 0.1562 - val_accuracy: 0.9685\n",
            "Epoch 23/1000\n",
            "113/113 [==============================] - 24s 215ms/step - loss: 0.0992 - accuracy: 0.9866 - val_loss: 0.1385 - val_accuracy: 0.9696\n",
            "Epoch 24/1000\n",
            "113/113 [==============================] - 24s 215ms/step - loss: 0.0784 - accuracy: 0.9890 - val_loss: 0.1330 - val_accuracy: 0.9696\n",
            "Epoch 25/1000\n",
            "113/113 [==============================] - 24s 212ms/step - loss: 0.1112 - accuracy: 0.9863 - val_loss: 0.1321 - val_accuracy: 0.9706\n",
            "Epoch 26/1000\n",
            "113/113 [==============================] - 22s 196ms/step - loss: 0.0812 - accuracy: 0.9912 - val_loss: 0.1424 - val_accuracy: 0.9688\n",
            "Epoch 27/1000\n",
            "113/113 [==============================] - 22s 198ms/step - loss: 0.0634 - accuracy: 0.9904 - val_loss: 0.1272 - val_accuracy: 0.9706\n",
            "Epoch 28/1000\n",
            "113/113 [==============================] - 23s 207ms/step - loss: 0.0726 - accuracy: 0.9917 - val_loss: 0.1480 - val_accuracy: 0.9710\n",
            "Epoch 29/1000\n",
            "113/113 [==============================] - 23s 204ms/step - loss: 0.0733 - accuracy: 0.9915 - val_loss: 0.1561 - val_accuracy: 0.9706\n",
            "Epoch 30/1000\n",
            "113/113 [==============================] - 23s 199ms/step - loss: 0.0750 - accuracy: 0.9911 - val_loss: 0.1291 - val_accuracy: 0.9720\n",
            "Epoch 30: early stopping\n"
          ]
        }
      ],
      "source": [
        "# Model Training\n",
        "model_history = model.fit(x_train, y_train, validation_data = (x_val, y_val), epochs=1000, batch_size=100, callbacks=early_stopping,\n",
        "                          class_weight = weights_assigned)"
      ]
    },
    {
      "cell_type": "code",
      "execution_count": null,
      "metadata": {
        "id": "MMOyiwzgBlLY",
        "colab": {
          "base_uri": "https://localhost:8080/",
          "height": 472
        },
        "outputId": "1d26c385-d7ee-4a09-883a-4f0fa0f70e85"
      },
      "outputs": [
        {
          "output_type": "display_data",
          "data": {
            "text/plain": [
              "<Figure size 640x480 with 1 Axes>"
            ],
            "image/png": "[encoded data removed]"
          },
          "metadata": {}
        }
      ],
      "source": [
        "# Plotting Model's Accuracy\n",
        "plt.plot(model_history.history['accuracy'])\n",
        "plt.plot(model_history.history['val_accuracy'])\n",
        "plt.title(\"Model's Accuracy\")\n",
        "plt.ylabel('Accuracy')\n",
        "plt.xlabel('Epoch')\n",
        "plt.legend(['Train', 'Validation'], loc='upper left')\n",
        "plt.show()"
      ]
    },
    {
      "cell_type": "code",
      "execution_count": null,
      "metadata": {
        "id": "QH141RsQCEr0",
        "colab": {
          "base_uri": "https://localhost:8080/",
          "height": 472
        },
        "outputId": "2c00afad-c734-4ead-d3ec-84ef6650235d"
      },
      "outputs": [
        {
          "output_type": "display_data",
          "data": {
            "text/plain": [
              "<Figure size 640x480 with 1 Axes>"
            ],
            "image/png": "[encoded data removed]"
          },
          "metadata": {}
        }
      ],
      "source": [
        "# Plotting Model's Loss\n",
        "plt.plot(model_history.history['loss'])\n",
        "plt.plot(model_history.history['val_loss'])\n",
        "plt.title(\"Model's Loss\")\n",
        "plt.ylabel('Loss')\n",
        "plt.xlabel('Epoch')\n",
        "plt.legend(['Train', 'Validation'], loc='upper left')\n",
        "plt.show()"
      ]
    },
    {
      "cell_type": "code",
      "execution_count": null,
      "metadata": {
        "colab": {
          "base_uri": "https://localhost:8080/"
        },
        "id": "OYqCIIkDCd8S",
        "outputId": "4b7b9e5e-ceee-4da0-979e-f4ddb760d795"
      },
      "outputs": [
        {
          "output_type": "stream",
          "name": "stdout",
          "text": [
            "354/354 [==============================] - 12s 31ms/step\n",
            "111/111 [==============================] - 3s 31ms/step\n"
          ]
        }
      ],
      "source": [
        "# Making prediction on training and test sets\n",
        "\n",
        "y_pred_train = model.predict(x_train)\n",
        "y_pred_train = np.argmax(y_pred_train, axis=1)\n",
        "\n",
        "y_pred_test = model.predict(x_test)\n",
        "y_pred_test = np.argmax(y_pred_test, axis=1)"
      ]
    },
    {
      "cell_type": "code",
      "execution_count": null,
      "metadata": {
        "id": "FgfRKzzOClmP",
        "colab": {
          "base_uri": "https://localhost:8080/"
        },
        "outputId": "a969dd1c-a3a7-43dd-eecd-4795e6f8d7c8"
      },
      "outputs": [
        {
          "output_type": "stream",
          "name": "stdout",
          "text": [
            "training accuracy: 0.991858407079646\n",
            "test accuracy: 0.9818799546998868\n"
          ]
        }
      ],
      "source": [
        "# Calculating and printing accuracy on training and test sets\n",
        "\n",
        "training_accuracy = accuracy_score (y_pred_train, y_train)\n",
        "test_accuracy = accuracy_score (y_pred_test, y_test)\n",
        "\n",
        "print ('training accuracy:', training_accuracy)\n",
        "print ('test accuracy:', test_accuracy)"
      ]
    },
    {
      "cell_type": "code",
      "execution_count": null,
      "metadata": {
        "id": "p3ekz5WNv8Ci",
        "colab": {
          "base_uri": "https://localhost:8080/"
        },
        "outputId": "fe376984-ac2e-4a7d-e9bc-31b4464d5295"
      },
      "outputs": [
        {
          "output_type": "stream",
          "name": "stdout",
          "text": [
            "CM Train:\n",
            " [[10007    24     1    62     0     3]\n",
            " [    1   904     0     0     0     0]\n",
            " [    0     0   194     1     0     0]\n",
            " [    0     0     0    72     0     0]\n",
            " [    0     0     0     0    16     0]\n",
            " [    0     0     0     0     0    15]]\n",
            "CM Test:\n",
            " [[3130   14    3    9    0    0]\n",
            " [  28  254    0    1    0    0]\n",
            " [   7    0   54    0    0    0]\n",
            " [   2    0    0   21    0    0]\n",
            " [   0    0    0    0    5    0]\n",
            " [   0    0    0    0    0    4]]\n"
          ]
        }
      ],
      "source": [
        "# Constructing and printing the confusion matrices on training and test sets\n",
        "\n",
        "cm_train = confusion_matrix (y_train, y_pred_train)\n",
        "cm_test = confusion_matrix (y_test, y_pred_test)\n",
        "\n",
        "print ('CM Train:\\n', cm_train)\n",
        "print ('CM Test:\\n', cm_test)"
      ]
    },
    {
      "cell_type": "code",
      "source": [
        "# Calculating the number of correct predictions, number of incorrect predictions, & precision, recall &\n",
        "# f1 score on the training set\n",
        "\n",
        "print (\"Correct predictions on training data:\", sum (y_train == y_pred_train))\n",
        "print (\"Incorrect predictions on training data:\", sum (y_train != y_pred_train))\n",
        "print (\"F1 Score on training data:\", f1_score(y_train, y_pred_train, average='macro'))\n",
        "print ('Precision on training data: %.3f' % precision_score(y_train, y_pred_train, average='macro'))\n",
        "print ('Recall on training data: %.3f' % recall_score(y_train, y_pred_train, average='macro'))"
      ],
      "metadata": {
        "colab": {
          "base_uri": "https://localhost:8080/"
        },
        "id": "GOXsKQmnAlMq",
        "outputId": "08bbbb69-f873-486d-bf03-3ea19c898bd8"
      },
      "execution_count": null,
      "outputs": [
        {
          "output_type": "stream",
          "name": "stdout",
          "text": [
            "Correct predictions on training data: 11208\n",
            "Incorrect predictions on training data: 92\n",
            "F1 Score on training data: 0.9302416328658759\n",
            "Precision on training data: 0.889\n",
            "Recall on training data: 0.997\n"
          ]
        }
      ]
    },
    {
      "cell_type": "code",
      "execution_count": null,
      "metadata": {
        "colab": {
          "base_uri": "https://localhost:8080/"
        },
        "id": "t0OxSYL3wh9d",
        "outputId": "3ea4b94e-bbc3-48df-a8d5-4e9d91827571"
      },
      "outputs": [
        {
          "output_type": "stream",
          "name": "stdout",
          "text": [
            "Correct predictions on test data: 3468\n",
            "Incorrect predictions on test data: 64\n",
            "F1 Score on test data: 0.9341714104665964\n",
            "Precision on test data: 0.927\n",
            "Recall on test data: 0.948\n"
          ]
        }
      ],
      "source": [
        "# Calculating the number of correct predictions, number of incorrect predictions, & precision, recall &\n",
        "# f1 score on the test set\n",
        "\n",
        "print (\"Correct predictions on test data:\", sum (y_test == y_pred_test))\n",
        "print (\"Incorrect predictions on test data:\", sum (y_test != y_pred_test))\n",
        "print (\"F1 Score on test data:\", f1_score(y_test, y_pred_test, average='macro'))\n",
        "print ('Precision on test data: %.3f' % precision_score(y_test, y_pred_test, average='macro'))\n",
        "print ('Recall on test data: %.3f' % recall_score(y_test, y_pred_test, average='macro'))"
      ]
    },
    {
      "cell_type": "code",
      "execution_count": null,
      "metadata": {
        "colab": {
          "base_uri": "https://localhost:8080/"
        },
        "id": "TGLiZIwmxFYn",
        "outputId": "c99e4245-5c7c-4a3f-f561-04e5b1fb806c"
      },
      "outputs": [
        {
          "output_type": "stream",
          "name": "stdout",
          "text": [
            "Classification report of training data:\n",
            "               precision    recall  f1-score   support\n",
            "\n",
            "           0     0.9999    0.9911    0.9955     10097\n",
            "           1     0.9741    0.9989    0.9864       905\n",
            "           2     0.9949    0.9949    0.9949       195\n",
            "           3     0.5333    1.0000    0.6957        72\n",
            "           4     1.0000    1.0000    1.0000        16\n",
            "           5     0.8333    1.0000    0.9091        15\n",
            "\n",
            "    accuracy                         0.9919     11300\n",
            "   macro avg     0.8893    0.9975    0.9302     11300\n",
            "weighted avg     0.9946    0.9919    0.9927     11300\n",
            "\n",
            "Classification report of test data:\n",
            "               precision    recall  f1-score   support\n",
            "\n",
            "           0     0.9883    0.9918    0.9900      3156\n",
            "           1     0.9478    0.8975    0.9220       283\n",
            "           2     0.9474    0.8852    0.9153        61\n",
            "           3     0.6774    0.9130    0.7778        23\n",
            "           4     1.0000    1.0000    1.0000         5\n",
            "           5     1.0000    1.0000    1.0000         4\n",
            "\n",
            "    accuracy                         0.9819      3532\n",
            "   macro avg     0.9268    0.9479    0.9342      3532\n",
            "weighted avg     0.9824    0.9819    0.9819      3532\n",
            "\n"
          ]
        }
      ],
      "source": [
        "# Printing the classification reports on training and test sets\n",
        "\n",
        "print (\"Classification report of training data:\\n\", classification_report (y_train, y_pred_train, digits = 4))\n",
        "print (\"Classification report of test data:\\n\", classification_report (y_test, y_pred_test, digits = 4))"
      ]
    },
    {
      "cell_type": "code",
      "source": [
        "# making predictions from the trained model based on user input\n",
        "\n",
        "prediction = input(\"Enter the text you want to predict: \")\n",
        "\n",
        "corpus_prediction = []\n",
        "\n",
        "review_prediction = re.sub('[^a-zA-Z]', ' ', prediction)\n",
        "review_prediction = review_prediction.lower()\n",
        "review_prediction = review_prediction.split()\n",
        "review_prediction = [lem.lemmatize(word) for word in review_prediction if not word in stopwords.words('english')]\n",
        "review_prediction = ' '.join(review_prediction)\n",
        "corpus_prediction.append(review_prediction)\n",
        "\n",
        "onehot_repr_prediction = [one_hot(words, vocabulary_size) for words in corpus_prediction]\n",
        "\n",
        "embedded_docs_prediction = pad_sequences(onehot_repr_prediction, padding='post', maxlen=max_sentence_length)\n",
        "\n",
        "x_prediction = np.array(embedded_docs_prediction)\n",
        "\n",
        "y_pred_prediction = model.predict(x_prediction)\n",
        "\n",
        "y_pred_prediction = np.argmax(y_pred_prediction, axis=1)\n",
        "\n",
        "if y_pred_prediction == 0:\n",
        "  print('The job type is permanent.')\n",
        "elif y_pred_prediction == 1:\n",
        "  print('The job type is interim.')\n",
        "elif y_pred_prediction == 2:\n",
        "  print('The job type is temporary.')\n",
        "elif y_pred_prediction == 3:\n",
        "  print('The job type is seasonal.')\n",
        "elif y_pred_prediction == 4:\n",
        "  print('The job type is any.')\n",
        "elif y_pred_prediction == 5:\n",
        "  print('The job type is part-time.')"
      ],
      "metadata": {
        "colab": {
          "base_uri": "https://localhost:8080/"
        },
        "id": "1tENuFRLSooR",
        "outputId": "2cb961ec-97b8-477d-cb85-2abde6b48b99"
      },
      "execution_count": null,
      "outputs": [
        {
          "output_type": "stream",
          "name": "stdout",
          "text": [
            "Enter the text you want to predict: We are currently recruiting for a market leading Pharmacy chain with an exciting new opportunity working as a Pharmacist Manager working in Abingdon. Our client are a forward thinking company with a heavy emphasis on training and support, as well as customer service.   Essential Requirements:    You will be a highly experienced Pharmacist with current valid GPHC registration and MUR accreditation.   You will have ProScript experience.   Ability to build good relationships with both customers and staff.   Possess exceptional leadership qualities.   Ability to lead and motivate a team.   Outstanding attention to detail.   Role Responsibilities:   Managing a team, you will inspire and develop colleagues.   Ensuring all key targets are met and that excellent standards are consistently delivered will be crucial to your success.   You will build working relationships with Primary Care Organisations (PCOs) and GP surgeries    You will ensure payment claims are accurate for anything covered by the NHS   Proactively developing Pharmacy sales, services and profitability in a cost effective and safe manner, you will adhere to legal, ethical and company requirements/ systems.   Focus on the day to day business, as well as medium term operation, you will be expected to regularly audit staff, services, systems, records and standards   Role Specific Competencies:   IT literate with strong analytical skills   Flexible âcan doâ attitude    Self-accountability/motivation   Innovation, tenacity and drive to ensure success   Self-motivation, persuasiveness and competitiveness   Recruitment Process:   2 stage process   Package:   Flexible salary and benefits DOE   Evolve Selection is a leading UK recruitment and contract sales organisation (CSO), operating within the Pharmaceutical, Healthcare and Medical Device sectors. We offer a highly comprehensive range of permanent recruitment and flexible contract sales solutions. Please do not hesitate to get in contact with us on **************   Apply Now   Ref no: 198007-5901   Evolve Selection Ltd is an Employment Business and an Employment Agency as defined within The Conduct of Employment Agencies &amp; Employment Businesses Regulations 2003.\n",
            "1/1 [==============================] - 0s 48ms/step\n",
            "The job type is permanent.\n"
          ]
        }
      ]
    },
    {
      "cell_type": "code",
      "source": [],
      "metadata": {
        "id": "oNwqrQpIntaJ"
      },
      "execution_count": null,
      "outputs": []
    }
  ],
  "metadata": {
    "colab": {
      "provenance": [],
      "gpuType": "T4"
    },
    "kernelspec": {
      "display_name": "Python 3",
      "name": "python3"
    },
    "language_info": {
      "name": "python"
    },
    "accelerator": "GPU"
  },
  "nbformat": 4,
  "nbformat_minor": 0
}