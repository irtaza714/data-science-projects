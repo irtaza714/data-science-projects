{
  "nbformat": 4,
  "nbformat_minor": 0,
  "metadata": {
    "colab": {
      "provenance": []
    },
    "kernelspec": {
      "name": "python3",
      "display_name": "Python 3"
    },
    "language_info": {
      "name": "python"
    }
  },
  "cells": [
    {
      "cell_type": "markdown",
      "source": [
        "**Importing necessary libraries**"
      ],
      "metadata": {
        "id": "KN3TNA7NozE2"
      }
    },
    {
      "cell_type": "code",
      "execution_count": null,
      "metadata": {
        "id": "YsVGqIYManQM",
        "colab": {
          "base_uri": "https://localhost:8080/"
        },
        "outputId": "2b35595f-9183-48bf-9f02-25536ad33112"
      },
      "outputs": [
        {
          "output_type": "stream",
          "name": "stderr",
          "text": [
            "[nltk_data] Downloading package stopwords to /root/nltk_data...\n",
            "[nltk_data]   Unzipping corpora/stopwords.zip.\n"
          ]
        }
      ],
      "source": [
        "import numpy as np\n",
        "import pandas as pd\n",
        "from sklearn.model_selection import train_test_split\n",
        "from xgboost import XGBClassifier\n",
        "from sklearn.metrics import confusion_matrix, classification_report, accuracy_score, f1_score, precision_score, recall_score\n",
        "import nltk\n",
        "nltk.download(\"stopwords\")\n",
        "import re\n",
        "from nltk.corpus import stopwords\n",
        "from nltk.stem.porter import PorterStemmer\n",
        "from sklearn.feature_extraction.text import TfidfVectorizer"
      ]
    },
    {
      "cell_type": "markdown",
      "source": [
        "**Reading the dataset**"
      ],
      "metadata": {
        "id": "qr0Fc6iAo21w"
      }
    },
    {
      "cell_type": "code",
      "source": [
        "df = pd.read_csv (\"/content/drive/MyDrive/ecommerce.csv\", header=None)\n",
        "df.head(1)"
      ],
      "metadata": {
        "id": "dO6PIH7RDux2",
        "colab": {
          "base_uri": "https://localhost:8080/",
          "height": 81
        },
        "outputId": "e225c332-2cbf-4343-a7be-a8b5694b3166"
      },
      "execution_count": null,
      "outputs": [
        {
          "output_type": "execute_result",
          "data": {
            "text/plain": [
              "           0                                                  1\n",
              "0  Household  Paper Plane Design Framed Wall Hanging Motivat..."
            ],
            "text/html": [
              "\n",
              "  <div id=\"df-f0fdece9-fd91-4bcb-8ad5-c0ccfcc321e6\" class=\"colab-df-container\">\n",
              "    <div>\n",
              "<style scoped>\n",
              "    .dataframe tbody tr th:only-of-type {\n",
              "        vertical-align: middle;\n",
              "    }\n",
              "\n",
              "    .dataframe tbody tr th {\n",
              "        vertical-align: top;\n",
              "    }\n",
              "\n",
              "    .dataframe thead th {\n",
              "        text-align: right;\n",
              "    }\n",
              "</style>\n",
              "<table border=\"1\" class=\"dataframe\">\n",
              "  <thead>\n",
              "    <tr style=\"text-align: right;\">\n",
              "      <th></th>\n",
              "      <th>0</th>\n",
              "      <th>1</th>\n",
              "    </tr>\n",
              "  </thead>\n",
              "  <tbody>\n",
              "    <tr>\n",
              "      <th>0</th>\n",
              "      <td>Household</td>\n",
              "      <td>Paper Plane Design Framed Wall Hanging Motivat...</td>\n",
              "    </tr>\n",
              "  </tbody>\n",
              "</table>\n",
              "</div>\n",
              "    <div class=\"colab-df-buttons\">\n",
              "\n",
              "  <div class=\"colab-df-container\">\n",
              "    <button class=\"colab-df-convert\" onclick=\"convertToInteractive('df-f0fdece9-fd91-4bcb-8ad5-c0ccfcc321e6')\"\n",
              "            title=\"Convert this dataframe to an interactive table.\"\n",
              "            style=\"display:none;\">\n",
              "\n",
              "  <svg xmlns=\"http://www.w3.org/2000/svg\" height=\"24px\" viewBox=\"0 -960 960 960\">\n",
              "    <path d=\"M120-120v-720h720v720H120Zm60-500h600v-160H180v160Zm220 220h160v-160H400v160Zm0 220h160v-160H400v160ZM180-400h160v-160H180v160Zm440 0h160v-160H620v160ZM180-180h160v-160H180v160Zm440 0h160v-160H620v160Z\"/>\n",
              "  </svg>\n",
              "    </button>\n",
              "\n",
              "  <style>\n",
              "    .colab-df-container {\n",
              "      display:flex;\n",
              "      gap: 12px;\n",
              "    }\n",
              "\n",
              "    .colab-df-convert {\n",
              "      background-color: #E8F0FE;\n",
              "      border: none;\n",
              "      border-radius: 50%;\n",
              "      cursor: pointer;\n",
              "      display: none;\n",
              "      fill: #1967D2;\n",
              "      height: 32px;\n",
              "      padding: 0 0 0 0;\n",
              "      width: 32px;\n",
              "    }\n",
              "\n",
              "    .colab-df-convert:hover {\n",
              "      background-color: #E2EBFA;\n",
              "      box-shadow: 0px 1px 2px rgba(60, 64, 67, 0.3), 0px 1px 3px 1px rgba(60, 64, 67, 0.15);\n",
              "      fill: #174EA6;\n",
              "    }\n",
              "\n",
              "    .colab-df-buttons div {\n",
              "      margin-bottom: 4px;\n",
              "    }\n",
              "\n",
              "    [theme=dark] .colab-df-convert {\n",
              "      background-color: #3B4455;\n",
              "      fill: #D2E3FC;\n",
              "    }\n",
              "\n",
              "    [theme=dark] .colab-df-convert:hover {\n",
              "      background-color: #434B5C;\n",
              "      box-shadow: 0px 1px 3px 1px rgba(0, 0, 0, 0.15);\n",
              "      filter: drop-shadow(0px 1px 2px rgba(0, 0, 0, 0.3));\n",
              "      fill: #FFFFFF;\n",
              "    }\n",
              "  </style>\n",
              "\n",
              "    <script>\n",
              "      const buttonEl =\n",
              "        document.querySelector('#df-f0fdece9-fd91-4bcb-8ad5-c0ccfcc321e6 button.colab-df-convert');\n",
              "      buttonEl.style.display =\n",
              "        google.colab.kernel.accessAllowed ? 'block' : 'none';\n",
              "\n",
              "      async function convertToInteractive(key) {\n",
              "        const element = document.querySelector('#df-f0fdece9-fd91-4bcb-8ad5-c0ccfcc321e6');\n",
              "        const dataTable =\n",
              "          await google.colab.kernel.invokeFunction('convertToInteractive',\n",
              "                                                    [key], {});\n",
              "        if (!dataTable) return;\n",
              "\n",
              "        const docLinkHtml = 'Like what you see? Visit the ' +\n",
              "          '<a target=\"_blank\" href=https://colab.research.google.com/notebooks/data_table.ipynb>data table notebook</a>'\n",
              "          + ' to learn more about interactive tables.';\n",
              "        element.innerHTML = '';\n",
              "        dataTable['output_type'] = 'display_data';\n",
              "        await google.colab.output.renderOutput(dataTable, element);\n",
              "        const docLink = document.createElement('div');\n",
              "        docLink.innerHTML = docLinkHtml;\n",
              "        element.appendChild(docLink);\n",
              "      }\n",
              "    </script>\n",
              "  </div>\n",
              "\n",
              "    </div>\n",
              "  </div>\n"
            ]
          },
          "metadata": {},
          "execution_count": 2
        }
      ]
    },
    {
      "cell_type": "markdown",
      "source": [
        "**Renaming columns**"
      ],
      "metadata": {
        "id": "vjCTMupBo7a7"
      }
    },
    {
      "cell_type": "code",
      "source": [
        "df.rename(columns = {0:'class', 1:'text'}, inplace = True)\n",
        "df.head(1)"
      ],
      "metadata": {
        "colab": {
          "base_uri": "https://localhost:8080/",
          "height": 81
        },
        "id": "g2my1R-EVtWN",
        "outputId": "1d00e2b5-8791-479d-ec49-e34660e4441c"
      },
      "execution_count": null,
      "outputs": [
        {
          "output_type": "execute_result",
          "data": {
            "text/plain": [
              "       class                                               text\n",
              "0  Household  Paper Plane Design Framed Wall Hanging Motivat..."
            ],
            "text/html": [
              "\n",
              "  <div id=\"df-c7474719-22f2-4b26-b8f5-c5acabe35832\" class=\"colab-df-container\">\n",
              "    <div>\n",
              "<style scoped>\n",
              "    .dataframe tbody tr th:only-of-type {\n",
              "        vertical-align: middle;\n",
              "    }\n",
              "\n",
              "    .dataframe tbody tr th {\n",
              "        vertical-align: top;\n",
              "    }\n",
              "\n",
              "    .dataframe thead th {\n",
              "        text-align: right;\n",
              "    }\n",
              "</style>\n",
              "<table border=\"1\" class=\"dataframe\">\n",
              "  <thead>\n",
              "    <tr style=\"text-align: right;\">\n",
              "      <th></th>\n",
              "      <th>class</th>\n",
              "      <th>text</th>\n",
              "    </tr>\n",
              "  </thead>\n",
              "  <tbody>\n",
              "    <tr>\n",
              "      <th>0</th>\n",
              "      <td>Household</td>\n",
              "      <td>Paper Plane Design Framed Wall Hanging Motivat...</td>\n",
              "    </tr>\n",
              "  </tbody>\n",
              "</table>\n",
              "</div>\n",
              "    <div class=\"colab-df-buttons\">\n",
              "\n",
              "  <div class=\"colab-df-container\">\n",
              "    <button class=\"colab-df-convert\" onclick=\"convertToInteractive('df-c7474719-22f2-4b26-b8f5-c5acabe35832')\"\n",
              "            title=\"Convert this dataframe to an interactive table.\"\n",
              "            style=\"display:none;\">\n",
              "\n",
              "  <svg xmlns=\"http://www.w3.org/2000/svg\" height=\"24px\" viewBox=\"0 -960 960 960\">\n",
              "    <path d=\"M120-120v-720h720v720H120Zm60-500h600v-160H180v160Zm220 220h160v-160H400v160Zm0 220h160v-160H400v160ZM180-400h160v-160H180v160Zm440 0h160v-160H620v160ZM180-180h160v-160H180v160Zm440 0h160v-160H620v160Z\"/>\n",
              "  </svg>\n",
              "    </button>\n",
              "\n",
              "  <style>\n",
              "    .colab-df-container {\n",
              "      display:flex;\n",
              "      gap: 12px;\n",
              "    }\n",
              "\n",
              "    .colab-df-convert {\n",
              "      background-color: #E8F0FE;\n",
              "      border: none;\n",
              "      border-radius: 50%;\n",
              "      cursor: pointer;\n",
              "      display: none;\n",
              "      fill: #1967D2;\n",
              "      height: 32px;\n",
              "      padding: 0 0 0 0;\n",
              "      width: 32px;\n",
              "    }\n",
              "\n",
              "    .colab-df-convert:hover {\n",
              "      background-color: #E2EBFA;\n",
              "      box-shadow: 0px 1px 2px rgba(60, 64, 67, 0.3), 0px 1px 3px 1px rgba(60, 64, 67, 0.15);\n",
              "      fill: #174EA6;\n",
              "    }\n",
              "\n",
              "    .colab-df-buttons div {\n",
              "      margin-bottom: 4px;\n",
              "    }\n",
              "\n",
              "    [theme=dark] .colab-df-convert {\n",
              "      background-color: #3B4455;\n",
              "      fill: #D2E3FC;\n",
              "    }\n",
              "\n",
              "    [theme=dark] .colab-df-convert:hover {\n",
              "      background-color: #434B5C;\n",
              "      box-shadow: 0px 1px 3px 1px rgba(0, 0, 0, 0.15);\n",
              "      filter: drop-shadow(0px 1px 2px rgba(0, 0, 0, 0.3));\n",
              "      fill: #FFFFFF;\n",
              "    }\n",
              "  </style>\n",
              "\n",
              "    <script>\n",
              "      const buttonEl =\n",
              "        document.querySelector('#df-c7474719-22f2-4b26-b8f5-c5acabe35832 button.colab-df-convert');\n",
              "      buttonEl.style.display =\n",
              "        google.colab.kernel.accessAllowed ? 'block' : 'none';\n",
              "\n",
              "      async function convertToInteractive(key) {\n",
              "        const element = document.querySelector('#df-c7474719-22f2-4b26-b8f5-c5acabe35832');\n",
              "        const dataTable =\n",
              "          await google.colab.kernel.invokeFunction('convertToInteractive',\n",
              "                                                    [key], {});\n",
              "        if (!dataTable) return;\n",
              "\n",
              "        const docLinkHtml = 'Like what you see? Visit the ' +\n",
              "          '<a target=\"_blank\" href=https://colab.research.google.com/notebooks/data_table.ipynb>data table notebook</a>'\n",
              "          + ' to learn more about interactive tables.';\n",
              "        element.innerHTML = '';\n",
              "        dataTable['output_type'] = 'display_data';\n",
              "        await google.colab.output.renderOutput(dataTable, element);\n",
              "        const docLink = document.createElement('div');\n",
              "        docLink.innerHTML = docLinkHtml;\n",
              "        element.appendChild(docLink);\n",
              "      }\n",
              "    </script>\n",
              "  </div>\n",
              "\n",
              "    </div>\n",
              "  </div>\n"
            ]
          },
          "metadata": {},
          "execution_count": 3
        }
      ]
    },
    {
      "cell_type": "markdown",
      "source": [
        "**Looking for missing values**"
      ],
      "metadata": {
        "id": "iFLqftUAo-3j"
      }
    },
    {
      "cell_type": "code",
      "source": [
        "df.isnull().sum()"
      ],
      "metadata": {
        "colab": {
          "base_uri": "https://localhost:8080/"
        },
        "id": "bXoNnoYXIYMm",
        "outputId": "4fcb16c5-0815-4840-97b8-c6a31a2aab7f"
      },
      "execution_count": null,
      "outputs": [
        {
          "output_type": "execute_result",
          "data": {
            "text/plain": [
              "class    0\n",
              "text     1\n",
              "dtype: int64"
            ]
          },
          "metadata": {},
          "execution_count": 4
        }
      ]
    },
    {
      "cell_type": "markdown",
      "source": [
        "**Dropping the only missing value found**"
      ],
      "metadata": {
        "id": "XqzSEhpCpCFV"
      }
    },
    {
      "cell_type": "code",
      "source": [
        "df = df.dropna()"
      ],
      "metadata": {
        "id": "rx2lztjcV_sw"
      },
      "execution_count": null,
      "outputs": []
    },
    {
      "cell_type": "markdown",
      "source": [
        "**Checking for and removing duplicates**"
      ],
      "metadata": {
        "id": "DHu9zRHopHGF"
      }
    },
    {
      "cell_type": "code",
      "source": [
        "print (df.shape)\n",
        "df = df.drop_duplicates()\n",
        "print (df.shape)"
      ],
      "metadata": {
        "colab": {
          "base_uri": "https://localhost:8080/"
        },
        "id": "WFPeNm0TIcn4",
        "outputId": "0fc75e37-fadb-40e2-fe81-40d19a1bec9e"
      },
      "execution_count": null,
      "outputs": [
        {
          "output_type": "stream",
          "name": "stdout",
          "text": [
            "(50424, 2)\n",
            "(27802, 2)\n"
          ]
        }
      ]
    },
    {
      "cell_type": "markdown",
      "source": [
        "**Seems there were a lot of duplicates**"
      ],
      "metadata": {
        "id": "Z1VTKP4UpNMY"
      }
    },
    {
      "cell_type": "markdown",
      "source": [
        "**Checking for class distribution**"
      ],
      "metadata": {
        "id": "0oALWf3cpUrA"
      }
    },
    {
      "cell_type": "code",
      "source": [
        "df['class'].value_counts(normalize=True)"
      ],
      "metadata": {
        "colab": {
          "base_uri": "https://localhost:8080/"
        },
        "id": "qN-pJ5BDItBT",
        "outputId": "3ce10929-627e-4548-a488-95e7a713fc6a"
      },
      "execution_count": null,
      "outputs": [
        {
          "output_type": "execute_result",
          "data": {
            "text/plain": [
              "Household                 0.379973\n",
              "Books                     0.225020\n",
              "Clothing & Accessories    0.204086\n",
              "Electronics               0.190922\n",
              "Name: class, dtype: float64"
            ]
          },
          "metadata": {},
          "execution_count": 7
        }
      ]
    },
    {
      "cell_type": "markdown",
      "source": [
        "**The dataset is not exactly balanced but it's not imbalanced either.**"
      ],
      "metadata": {
        "id": "YW6VPiVGWsvh"
      }
    },
    {
      "cell_type": "markdown",
      "source": [
        "**Encoding the classes**"
      ],
      "metadata": {
        "id": "iCyLcfS8pYfb"
      }
    },
    {
      "cell_type": "code",
      "source": [
        "df.replace ({\"class\": {'Household':0, 'Books':1, \"Clothing & Accessories\": 2, \"Electronics\": 3}}, inplace = True)"
      ],
      "metadata": {
        "id": "L9Q6f8b2SXTL"
      },
      "execution_count": null,
      "outputs": []
    },
    {
      "cell_type": "markdown",
      "source": [
        "**Initializing porter stemmer**"
      ],
      "metadata": {
        "id": "oi8aoXjnpmOx"
      }
    },
    {
      "cell_type": "code",
      "source": [
        "port_stem = PorterStemmer()"
      ],
      "metadata": {
        "id": "Jqr-U3vEJjNW"
      },
      "execution_count": null,
      "outputs": []
    },
    {
      "cell_type": "markdown",
      "source": [
        "**Creating a function for stemming the text**"
      ],
      "metadata": {
        "id": "b9osTPZLpsYz"
      }
    },
    {
      "cell_type": "code",
      "source": [
        "def stemming (content):\n",
        "    stemmed_content = re.sub('[^a-zA-Z]', ' ', content)\n",
        "    stemmed_content = stemmed_content.lower()\n",
        "    stemmed_content = stemmed_content.split()\n",
        "    stemmed_content = [port_stem.stem(word) for word in stemmed_content if not word in stopwords.words('english')]\n",
        "    stemmed_content = ' '.join(stemmed_content)\n",
        "    return stemmed_content"
      ],
      "metadata": {
        "id": "TbNZDpqJJl7O"
      },
      "execution_count": null,
      "outputs": []
    },
    {
      "cell_type": "markdown",
      "source": [
        "**Applying stemming on the column and saving the results in another column**"
      ],
      "metadata": {
        "id": "FYTgFTChp31j"
      }
    },
    {
      "cell_type": "code",
      "source": [
        "df['content'] = df['text'].apply (stemming)"
      ],
      "metadata": {
        "id": "EkG4LywkJnnP"
      },
      "execution_count": null,
      "outputs": []
    },
    {
      "cell_type": "markdown",
      "source": [
        "**Separating independent and dependent features**"
      ],
      "metadata": {
        "id": "UFISTyotpg1r"
      }
    },
    {
      "cell_type": "code",
      "source": [
        "x = df['content'].values\n",
        "y = df['class'].values"
      ],
      "metadata": {
        "id": "y3u2IQ3MJuMF"
      },
      "execution_count": null,
      "outputs": []
    },
    {
      "cell_type": "markdown",
      "source": [
        "**Initializing TFIDF vectorizer and applying it on the independent feature**"
      ],
      "metadata": {
        "id": "4Ks94bDsqSQ3"
      }
    },
    {
      "cell_type": "code",
      "source": [
        "vectorizer = TfidfVectorizer()\n",
        "vectorizer.fit (x)\n",
        "x = vectorizer.transform(x)"
      ],
      "metadata": {
        "id": "7yiKtHbgJ2pN"
      },
      "execution_count": null,
      "outputs": []
    },
    {
      "cell_type": "markdown",
      "source": [
        "**Making train and test splits for model training**"
      ],
      "metadata": {
        "id": "l233yKpCqelP"
      }
    },
    {
      "cell_type": "code",
      "source": [
        "x_train, x_test, y_train, y_test = train_test_split(x, y, test_size = 0.2, stratify = y, random_state = 2, shuffle = True)"
      ],
      "metadata": {
        "id": "11YwjBIyJ6lj"
      },
      "execution_count": null,
      "outputs": []
    },
    {
      "cell_type": "markdown",
      "source": [
        "**Model training and results evaluation**"
      ],
      "metadata": {
        "id": "ZTTqpg7xqjqu"
      }
    },
    {
      "cell_type": "code",
      "source": [
        "xgb = XGBClassifier(n_estimators=80)\n",
        "xgb.fit (x_train, y_train)\n",
        "y_pred_train = xgb.predict (x_train)\n",
        "y_pred_test = xgb.predict (x_test)\n",
        "\n",
        "training_data_accuracy_xgb = accuracy_score(y_pred_train, y_train)\n",
        "print (\"Accuracy On Training Data:\", training_data_accuracy_xgb)\n",
        "\n",
        "test_data_accuracy_xgb = accuracy_score(y_pred_test, y_test)\n",
        "print (\"Accuracy On Test Data:\", test_data_accuracy_xgb)\n",
        "\n",
        "print (\"Correct predictions Training Data:\", sum (y_train == y_pred_train))\n",
        "print (\"Correct predictions On Test Data:\", sum (y_test == y_pred_test))\n",
        "\n",
        "print (\"Incorrect predictions On Training Data:\", sum (y_train != y_pred_train))\n",
        "print (\"Incorrect predictions On Test Data:\", sum (y_test != y_pred_test))\n",
        "\n",
        "print (\"F1 Score On Training Data:\", f1_score(y_train, y_pred_train, average='macro'))\n",
        "print (\"F1 Score On Test Data:\", f1_score(y_test, y_pred_test, average='macro'))\n",
        "\n",
        "print ('Precision On Training Data: %.3f' % precision_score(y_train, y_pred_train, average='macro'))\n",
        "print ('Precision On Test Data: %.3f' % precision_score(y_test, y_pred_test, average='macro'))\n",
        "\n",
        "\n",
        "print ('Recall On Training Data: %.3f' % recall_score(y_train, y_pred_train, average='macro'))\n",
        "print ('Recall On Test Data: %.3f' % recall_score(y_test, y_pred_test, average='macro'))"
      ],
      "metadata": {
        "colab": {
          "base_uri": "https://localhost:8080/"
        },
        "id": "5XAvevJAJ8nW",
        "outputId": "8ee0153b-c58a-411e-dbe1-09a303560304"
      },
      "execution_count": null,
      "outputs": [
        {
          "output_type": "stream",
          "name": "stdout",
          "text": [
            "Accuracy On Training Data: 0.9667730767501461\n",
            "Accuracy On Test Data: 0.935623089372415\n",
            "Correct predictions Training Data: 21502\n",
            "Correct predictions On Test Data: 5203\n",
            "Incorrect predictions On Training Data: 739\n",
            "Incorrect predictions On Test Data: 358\n",
            "F1 Score On Training Data: 0.9668610271023168\n",
            "F1 Score On Test Data: 0.9356760604154817\n",
            "Precision On Training Data: 0.969\n",
            "Precision On Test Data: 0.941\n",
            "Recall On Training Data: 0.965\n",
            "Recall On Test Data: 0.931\n"
          ]
        }
      ]
    },
    {
      "cell_type": "markdown",
      "source": [
        "**Confusion matrices of train and test data**"
      ],
      "metadata": {
        "id": "yU2Fl2l7qrDN"
      }
    },
    {
      "cell_type": "code",
      "source": [
        "cm_train = confusion_matrix (y_train, y_pred_train)\n",
        "cm_test = confusion_matrix (y_test, y_pred_test)\n",
        "\n",
        "print (\"Confusion matrix Of Test Data:\\n\", cm_train)\n",
        "print (\"Confusion matrix Of Test Data:\\n\", cm_test)"
      ],
      "metadata": {
        "colab": {
          "base_uri": "https://localhost:8080/"
        },
        "id": "uHzExuvFwCfD",
        "outputId": "afb4da50-c144-4fc3-b0dd-2c1ad8eae731"
      },
      "execution_count": null,
      "outputs": [
        {
          "output_type": "stream",
          "name": "stdout",
          "text": [
            "Confusion matrix Of Test Data:\n",
            " [[8226  127   42   56]\n",
            " [ 117 4843   20   25]\n",
            " [  39   28 4466    6]\n",
            " [ 197   77    5 3967]]\n",
            "Confusion matrix Of Test Data:\n",
            " [[2012   53   21   27]\n",
            " [  66 1159   11   15]\n",
            " [  25   12 1095    3]\n",
            " [  92   22   11  937]]\n"
          ]
        }
      ]
    },
    {
      "cell_type": "markdown",
      "source": [
        "**Taking user input and making predictions**"
      ],
      "metadata": {
        "id": "sd2p4qrWq2Bb"
      }
    },
    {
      "cell_type": "code",
      "source": [
        "user_input = input(\"Please enter the text: \")\n",
        "\n",
        "user_input_series = pd.Series([user_input], name='text')\n",
        "\n",
        "user_input_df = user_input_series.to_frame()\n",
        "\n",
        "user_input_df['content'] = user_input_df['text'].apply (stemming)\n",
        "\n",
        "input_x = user_input_df['content'].values\n",
        "\n",
        "input_x = vectorizer.transform(input_x)\n",
        "\n",
        "prediction = xgb.predict(input_x)\n",
        "\n",
        "if prediction == 0:\n",
        "    print('This text corresponds to the household category.')\n",
        "elif prediction == 1:\n",
        "    print('This text corresponds to the books category.')\n",
        "elif prediction == 2:\n",
        "    print('This text corresponds to the clothing & accessories category.')\n",
        "elif prediction == 3:\n",
        "    print('This text corresponds to the electronics category.')"
      ],
      "metadata": {
        "id": "IXt2QOjneZhi",
        "colab": {
          "base_uri": "https://localhost:8080/"
        },
        "outputId": "c5deb754-fe71-4164-f0bc-33b7fa5884f8"
      },
      "execution_count": null,
      "outputs": [
        {
          "output_type": "stream",
          "name": "stdout",
          "text": [
            "Please enter the text: Penguin Essentials My Family and Other Animals Review A bewitching book (Sunday Times)Durrell has an uncanny knack of discovering human as well as animal eccentricities (Sunday Telegraph) About the Author Gerald Durrell was born in Jamshedpur, India, in 1925. He returned to England in 1928 before settling on the island of Corfu with his family. In 1945 he joined the staff of Whipsnade Park as a student keeper, and in 1947 he led his first animal-collecting expedition to the Cameroons. He later undertook numerous further expeditions, visiting Paraguay, Argentina, Sierra Leone, Mexico, Mauritius, Assam and Madagascar. His first television programme, Two in the Bush¸ which documented his travels to New Zealand, Australia and Malaya was made in 1962; he went on to make seventy programmes about his trips around the world. In 1959 he founded the Jersey Zoological Park, and in 1964 he founded the Jersey Wildlife Preservation Trust. He was awarded the OBE in 1982. Encouraged to write about his life's work by his brother, Durrell published his first book, The Overloaded Ark, in 1953. It soon became a bestseller and he went on to write thirty-six other titles, including My Family and Other Animals, The Bafut Beagles, Encounters with Animals, The Drunken Forest, A Zoo in My Luggage, The Whispering Land, Menagerie Manor, The Amateur Naturalist and The Aye-Aye and I. Gerald Durrell died in 1995.\n",
            "This text corresponds to the books category.\n"
          ]
        }
      ]
    },
    {
      "cell_type": "code",
      "source": [],
      "metadata": {
        "id": "0i8tydJx0jIC"
      },
      "execution_count": null,
      "outputs": []
    }
  ]
}